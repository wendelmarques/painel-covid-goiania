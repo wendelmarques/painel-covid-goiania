{
  "nbformat": 4,
  "nbformat_minor": 0,
  "metadata": {
    "colab": {
      "name": "painel_covid_goiania-v2.ipynb",
      "provenance": []
    },
    "kernelspec": {
      "name": "python3",
      "display_name": "Python 3"
    }
  },
  "cells": [
    {
      "cell_type": "markdown",
      "metadata": {
        "id": "LB1NIW36rgzF",
        "colab_type": "text"
      },
      "source": [
        "#PAINEL COVID GYN\n",
        "\n",
        "\n",
        "```\n",
        "painel-covid-goiania.herokuapp.com\n",
        "github.com/wendelmarques/painel-covid-goiania\n",
        "```\n",
        "\n",
        "\n",
        "\n",
        "### Objetivo: Criar vizualizações com os dados sobre os casos confirmados da COVID-19 em Goiânia.\n",
        "\n",
        "##### Os dados utilizados para geração do mapa e dos gráficos, foram retirados dos Informes Epidemiológicos publicados (em PDFs) pela Prefeitura de Goiânia, por meio de uma técnica chamada Data Scraping (algoritmos que realizam a tarefa de extração). São divulgadas apenas informações sobre alguns bairros - os que possuem mais casos confirmados acumulados, por isso, foram extraídos dados de 111 bairros.\n",
        "\n",
        "#####Para mais informações, acesse: saude.goiania.go.gov.br\n",
        "\n",
        "\n",
        "<br>\n",
        "<br>\n",
        "\n",
        "#### Fontes/ créditos\n",
        "\n",
        "*    [Brasil.IO - O Brasil em dados libertos](https://brasil.io/dataset/covid19/caso/?search=&date=&state=&city=&place_type=&is_last=&city_ibge_code=5208707&order_for_place=)\n",
        "*    [Plotly - Repositório](https://github.com/plotly/dash-sample-apps/tree/master/apps)\n",
        "*   [How to create outstanding animated scatter maps with Plotly and Dash (Medium) - Lamothe Thibaud ](https://towardsdatascience.com/how-to-create-animated-scatter-maps-with-plotly-and-dash-f10bb82d357a)\n",
        "*    [Deploying Dash or Flask web application on Heroku. Easy CI/CD (Medium) - Lamothe Thibaud](https://towardsdatascience.com/deploying-dash-or-flask-web-application-on-heroku-easy-ci-cd-4111da3170b8)\n",
        "*    [Official Release of bar_chart_race (Medium) - Ted Petrou\n",
        "dexplo.org/bar_chart_race](https://medium.com/dunder-data/bar-chart-race-python-package-official-release-78a420e182a2)\n",
        "*    [Gráfico de Corrida de Barras | Dica Pandas #7 - Programação Dinâmica (YouTube)](https://www.youtube.com/watch?v=rIwxjCnvdcY)\n",
        "*    [Como utilizar a Google Geocoding API para obter endereços](https://www.devmedia.com.br/como-utilizar-a-google-geocoding-api-para-obter-enderecos/36751)\n",
        "*    [Python Client for Google Maps Services](https://github.com/googlemaps/google-maps-services-python)\n",
        "* [Como fazer um Web Scraping com Python](https://goomore.com/blog/web-scraping-python/)\n",
        "\n",
        "* [Official Release of bar_chart_race](https://medium.com/dunder-data/bar-chart-race-python-package-official-release-78a420e182a2)\n",
        "\n",
        "* [Corrida de CASOS de COVID no Brasil | Gráfico de Corrida de Barras (Bar Chart Race) | Dica Pandas #7](https://www.youtube.com/watch?v=rIwxjCnvdcY)\n",
        "\n",
        "* [ACESSANDO RECURSOS NA WEB COM PYTHON](https://pythonhelp.wordpress.com/2013/03/12/acessando-recursos-na-web-com-python/)\n",
        "\n",
        "* [Como usar o R para escolher um lugar para morar (3) - Converter CEP em coordenadas geográficas](https://sillasgonzaga.github.io/2016-11-18-olx3/#:~:text=Obter%20endere%C3%A7o%20a%20partir%20do%20CEP&text=Sabemos%20que%20quanto%20mais%20dados,%2C%20bairro%2C%20cidade%20e%20estado.&text=%C3%89%20necess%C3%A1rio%20juntar%20todas%20as,de%20endere%C3%A7os%20em%20uma%20s%C3%B3)\n",
        "\n",
        "\n",
        "\n",
        "\n",
        "\n",
        "---\n",
        "\n",
        "\n",
        "\n",
        "Criado por Wendel Marques\n",
        "\n",
        "*   [GitHub](https://www.github.com/WendelMarques)\n",
        "*   [LinkedIn](https://www.linkedin.com/in/wendelmarques/)\n",
        "*   [Medium](https://medium.com/@WendelMarques)\n"
      ]
    },
    {
      "cell_type": "markdown",
      "metadata": {
        "colab_type": "text",
        "id": "n-Yt0lg1p4VP"
      },
      "source": [
        "# Drive"
      ]
    },
    {
      "cell_type": "code",
      "metadata": {
        "id": "cWI9iaRNEA8V",
        "colab_type": "code",
        "colab": {
          "base_uri": "https://localhost:8080/",
          "height": 54
        },
        "outputId": "8871c180-7caa-4a3a-9a88-d8886ed78fe7"
      },
      "source": [
        "from google.colab import drive\n",
        "drive.mount('/content/drive')"
      ],
      "execution_count": null,
      "outputs": [
        {
          "output_type": "stream",
          "text": [
            "Drive already mounted at /content/drive; to attempt to forcibly remount, call drive.mount(\"/content/drive\", force_remount=True).\n"
          ],
          "name": "stdout"
        }
      ]
    },
    {
      "cell_type": "markdown",
      "metadata": {
        "id": "Kzt_F8ixhftF",
        "colab_type": "text"
      },
      "source": [
        "# Biblioteca e pacotes"
      ]
    },
    {
      "cell_type": "code",
      "metadata": {
        "id": "GUAdKb_5GXFn",
        "colab_type": "code",
        "colab": {}
      },
      "source": [
        "import pandas as pd\n",
        "import time\n",
        "import bs4\n",
        "import requests\n",
        "from datetime import datetime\n",
        "!pip install tika\n",
        "from tika import parser\n",
        "import numpy as np\n",
        "import urllib.request #biblioteca usada para consultar uma URL\n",
        "from bs4 import BeautifulSoup #funções BeautifulSoup para analisar os dados retornados do site\n",
        "!pip install googlemaps\n",
        "import googlemaps\n",
        "import math\n",
        "import numpy as np\n",
        "!pip install bar_chart_race\n",
        "!pip install ffmpeg\n",
        "import bar_chart_race as bcr\n",
        "import plotly.offline as py\n",
        "import plotly.graph_objs as go\n",
        "import plotly.express as px\n",
        "\n",
        "# #https://medium.com/dunder-data/bar-chart-race-python-package-official-release-78a420e182a2"
      ],
      "execution_count": null,
      "outputs": []
    },
    {
      "cell_type": "code",
      "metadata": {
        "id": "LlD7vjT3y5Tz",
        "colab_type": "code",
        "colab": {}
      },
      "source": [
        "#para salvar os graficos em png e svg\n",
        "!pip install plotly>=4.0.0\n",
        "!wget https://github.com/plotly/orca/releases/download/v1.2.1/orca-1.2.1-x86_64.AppImage -O /usr/local/bin/orca\n",
        "!chmod +x /usr/local/bin/orca\n",
        "!apt-get install xvfb libgtk2.0-0 libgconf-2-4\n",
        "from google.colab import files\n"
      ],
      "execution_count": null,
      "outputs": []
    },
    {
      "cell_type": "markdown",
      "metadata": {
        "id": "sXKqjcaOMv9b",
        "colab_type": "text"
      },
      "source": [
        "# Etapas a partir da extração do Informe Epidemiológico\n",
        "`Extração de dados dos Informes Epidemiológicos (PDFs) publicados no site da Prefeitura de Goiânia`\n",
        "\n",
        "\n",
        "\n",
        "*   Bar race (por bairro e por região)\n",
        "*   Mapa\n",
        "\n",
        "\n",
        "\n",
        "\n"
      ]
    },
    {
      "cell_type": "markdown",
      "metadata": {
        "id": "ZB4TSK7k5XZt",
        "colab_type": "text"
      },
      "source": [
        "## Data scraping - total de casos por bairro"
      ]
    },
    {
      "cell_type": "code",
      "metadata": {
        "id": "j-D1Rjb0hvVN",
        "colab_type": "code",
        "colab": {}
      },
      "source": [
        "#acessa a pagina de informes\n",
        "siteInformes = \"https://saude.goiania.go.gov.br/goiania-contra-o-coronavirus/informe-epidemiologico-covid-19/#antigos\"\n",
        "#Consulta o site e retorne o html para a variável 'page'\n",
        "page = urllib.request.urlopen(siteInformes)\n",
        "#Parse o html na variável 'page' e armazene-o no formato BeautifulSoup\n",
        "soup = BeautifulSoup(page, 'html5lib')"
      ],
      "execution_count": null,
      "outputs": []
    },
    {
      "cell_type": "code",
      "metadata": {
        "id": "ciyB7B3du5cT",
        "colab_type": "code",
        "colab": {
          "base_uri": "https://localhost:8080/",
          "height": 1000
        },
        "outputId": "b48dc10e-ce8c-46e5-dfcd-6c9d2a654e6d"
      },
      "source": [
        "#pecorre cada linha do html de siteInformes e pegar os links dos pdfs\n",
        "all_links = soup.find_all('a')\n",
        "urls_pdfs = []\n",
        "for link in all_links:\n",
        "    if link.get('href'):\n",
        "        if link.get('href')[-3:] == 'pdf':\n",
        "            urls_pdfs.append(link.get('href'))\n",
        "            \n",
        "urls_pdfs"
      ],
      "execution_count": null,
      "outputs": [
        {
          "output_type": "execute_result",
          "data": {
            "text/plain": [
              "['https://saude.goiania.go.gov.br/wp-uploads/sites/3/2020/09/Informe-COVID-19-no-169-18.09.2020.pdf',\n",
              " 'https://saude.goiania.go.gov.br/wp-uploads/sites/3/2020/09/Informe-COVID-19-no-168-17.09.2020.pdf',\n",
              " 'https://saude.goiania.go.gov.br/wp-uploads/sites/3/2020/09/Informe-COVID-19-no-167-16.09.2020.pdf',\n",
              " 'https://saude.goiania.go.gov.br/wp-uploads/sites/3/2020/09/Informe-COVID-19-no-166-15.09.2020.pdf',\n",
              " 'https://saude.goiania.go.gov.br/wp-uploads/sites/3/2020/09/Informe-COVID-19-no-165-14.09.2020.pdf',\n",
              " 'https://saude.goiania.go.gov.br/wp-uploads/sites/3/2020/09/Informe-COVID-19-no-162-11.09.2020.pdf',\n",
              " 'https://saude.goiania.go.gov.br/wp-uploads/sites/3/2020/09/Informe-COVID-19-no-161-10.09.2020.pdf',\n",
              " 'https://saude.goiania.go.gov.br/wp-uploads/sites/3/2020/09/Informe-COVID-19-no-160-09.09.2020.pdf',\n",
              " 'https://saude.goiania.go.gov.br/wp-uploads/sites/3/2020/09/Informe-COVID-19-no-159-08.09.2020.pdf',\n",
              " 'https://saude.goiania.go.gov.br/wp-uploads/sites/3/2020/09/Informe-COVID-19-no-158-07.09.2020-d.pdf',\n",
              " 'https://saude.goiania.go.gov.br/wp-uploads/sites/3/2020/09/Informe-COVID-19-no-157-06.09.2020-d.pdf',\n",
              " 'https://saude.goiania.go.gov.br/wp-uploads/sites/3/2020/09/Informe-COVID-19-no-156-05.09.2020.pdf',\n",
              " 'https://saude.goiania.go.gov.br/wp-uploads/sites/3/2020/09/Informe-COVID-19-no-155-04.09.2020.pdf',\n",
              " 'https://saude.goiania.go.gov.br/wp-uploads/sites/3/2020/09/Informe-COVID-19-no-154-03.09.2020.pdf',\n",
              " 'https://saude.goiania.go.gov.br/wp-uploads/sites/3/2020/09/Informe-COVID-19-no-153-02.09.2020.pdf',\n",
              " 'https://saude.goiania.go.gov.br/wp-uploads/sites/3/2020/09/Informe-COVID-19-no-152-01.09.2020-1.pdf',\n",
              " 'https://saude.goiania.go.gov.br/wp-uploads/sites/3/2020/08/Informe-COVID-19-no-151-31.08.2020.pdf',\n",
              " 'https://saude.goiania.go.gov.br/wp-uploads/sites/3/2020/08/Informe-COVID-19-no-150-30.08.2020-d.pdf',\n",
              " 'https://saude.goiania.go.gov.br/wp-uploads/sites/3/2020/08/Informe-COVID-19-no-149-29.08.2020-d.pdf',\n",
              " 'https://saude.goiania.go.gov.br/wp-uploads/sites/3/2020/08/Informe-COVID-19-no-148-28.08.2020.pdf',\n",
              " 'https://saude.goiania.go.gov.br/wp-uploads/sites/3/2020/08/Informe-COVID-19-no-147-27.08.2020.pdf',\n",
              " 'https://saude.goiania.go.gov.br/wp-uploads/sites/3/2020/08/Informe-COVID-19-no-146-26.08.2020.pdf',\n",
              " 'https://saude.goiania.go.gov.br/wp-uploads/sites/3/2020/08/Informe-COVID-19-no-145-25.08.2020-2.pdf',\n",
              " 'https://saude.goiania.go.gov.br/wp-uploads/sites/3/2020/08/Informe-COVID-19-nº-144-24.08.2020.pdf',\n",
              " 'https://saude.goiania.go.gov.br/wp-uploads/sites/3/2020/08/Informe-COVID-19-nº-143-23.08.2020.pdf',\n",
              " 'https://saude.goiania.go.gov.br/wp-uploads/sites/3/2020/08/Informe-COVID-19-nº-142-22.08.2020.pdf',\n",
              " 'https://saude.goiania.go.gov.br/wp-uploads/sites/3/2020/08/Informe-COVID-19-nº-141-21.08.2020.pdf',\n",
              " 'https://saude.goiania.go.gov.br/wp-uploads/sites/3/2020/08/Informe-COVID-19-nº-140-20.08.2020.pdf',\n",
              " 'https://saude.goiania.go.gov.br/wp-uploads/sites/3/2020/08/Informe-COVID-19-nº-139-19.08.2020.pdf',\n",
              " 'https://saude.goiania.go.gov.br/wp-uploads/sites/3/2020/08/Informe-COVID-19-nº-138-18.08.2020.pdf',\n",
              " 'https://saude.goiania.go.gov.br/wp-uploads/sites/3/2020/08/Informe-COVID-19-nº-137-17.08.2020.pdf',\n",
              " 'https://saude.goiania.go.gov.br/wp-uploads/sites/3/2020/08/Informe-COVID-19-nº-136-16.08.2020.pdf',\n",
              " 'https://saude.goiania.go.gov.br/wp-uploads/sites/3/2020/08/Informe-COVID-19-nº-135-15.08.2020.pdf',\n",
              " 'https://saude.goiania.go.gov.br/wp-uploads/sites/3/2020/08/Informe-COVID-19-nº-134-14.08.2020.pdf',\n",
              " 'https://saude.goiania.go.gov.br/wp-uploads/sites/3/2020/08/Informe-COVID-19-nº-133-13.08.2020.pdf',\n",
              " 'https://saude.goiania.go.gov.br/wp-uploads/sites/3/2020/08/Informe-COVID-19-nº-132-12.08.2020.pdf',\n",
              " 'https://saude.goiania.go.gov.br/wp-uploads/sites/3/2020/08/Informe-COVID-19-nº-131-11.08.2020.pdf',\n",
              " 'https://saude.goiania.go.gov.br/wp-uploads/sites/3/2020/08/Informe-COVID-19-nº-130-10.08.2020.pdf',\n",
              " 'https://saude.goiania.go.gov.br/wp-uploads/sites/3/2020/08/Informe-COVID-19-nº-129-09.08.2020.pdf',\n",
              " 'https://saude.goiania.go.gov.br/wp-uploads/sites/3/2020/08/Informe-COVID-19-nº-128-08.08.2020.pdf',\n",
              " 'https://saude.goiania.go.gov.br/wp-uploads/sites/3/2020/08/Informe-COVID-19-nº-127-07.08.2020.pdf',\n",
              " 'https://saude.goiania.go.gov.br/wp-uploads/sites/3/2020/08/Informe-COVID-19-nº-126-06.08.2020.pdf',\n",
              " 'https://saude.goiania.go.gov.br/wp-uploads/sites/3/2020/08/Informe-COVID-19-nº-125-05.08.2020.pdf',\n",
              " 'https://saude.goiania.go.gov.br/wp-uploads/sites/3/2020/08/Informe-COVID-19-nº-124-04.08.2020-1.pdf',\n",
              " 'https://saude.goiania.go.gov.br/wp-uploads/sites/3/2020/08/Informe-COVID-19-nº-123-03.08.2020.pdf',\n",
              " 'https://saude.goiania.go.gov.br/wp-uploads/sites/3/2020/08/Informe-COVID-19-nº-122-02.08.2020.pdf',\n",
              " 'https://saude.goiania.go.gov.br/wp-uploads/sites/3/2020/08/Informe-COVID-19-nº-121-01.08.2020.pdf',\n",
              " 'https://saude.goiania.go.gov.br/wp-uploads/sites/3/2020/07/Informe-COVID-19-nº-120-31.07.2020.pdf',\n",
              " 'https://saude.goiania.go.gov.br/wp-uploads/sites/3/2020/07/Informe-COVID-19-nº-119-30.07.2020-1.pdf',\n",
              " 'https://saude.goiania.go.gov.br/wp-uploads/sites/3/2020/07/Informe-COVID-19-nº-118-29.07.2020-d.pdf',\n",
              " 'https://saude.goiania.go.gov.br/wp-uploads/sites/3/2020/07/Informe-COVID-19-nº-117-28.07.2020.pdf',\n",
              " 'https://saude.goiania.go.gov.br/wp-uploads/sites/3/2020/07/Informe-COVID-19-nº-116-27.07.2020.pdf',\n",
              " 'https://saude.goiania.go.gov.br/wp-uploads/sites/3/2020/07/Informe-COVID-19-nº-115-26.07.2020-c.pdf',\n",
              " 'https://saude.goiania.go.gov.br/wp-uploads/sites/3/2020/07/Informe-COVID-19-nº-114-25.07.2020.pdf',\n",
              " 'https://saude.goiania.go.gov.br/wp-uploads/sites/3/2020/07/Informe-COVID-19-nº-113-24.07.2020.pdf',\n",
              " 'https://saude.goiania.go.gov.br/wp-uploads/sites/3/2020/07/Informe-COVID-19-nº-112-23.07.2020.pdf',\n",
              " 'https://saude.goiania.go.gov.br/wp-uploads/sites/3/2020/07/Informe-COVID-19-nº-111-22.07.2020d.pdf',\n",
              " 'https://saude.goiania.go.gov.br/wp-uploads/sites/3/2020/07/Informe-COVID-19-nº-110-21.07.2020.pdf',\n",
              " 'https://saude.goiania.go.gov.br/wp-uploads/sites/3/2020/07/Informe-COVID-19-nº-109-20.07.2020-c.pdf',\n",
              " 'https://saude.goiania.go.gov.br/wp-uploads/sites/3/2020/07/Informe-COVID-19-nº-108-19.07.2020-c.pdf',\n",
              " 'https://saude.goiania.go.gov.br/wp-uploads/sites/3/2020/07/Informe-COVID-19-nº-107-18.07.2020-b.pdf',\n",
              " 'https://saude.goiania.go.gov.br/wp-uploads/sites/3/2020/07/Informe-COVID-19-nº-106-17.07.2020-b.pdf',\n",
              " 'https://saude.goiania.go.gov.br/wp-uploads/sites/3/2020/07/Informe-COVID-19-nº-105-16.07.2020.pdf',\n",
              " 'https://saude.goiania.go.gov.br/wp-uploads/sites/3/2020/07/Informe-COVID-19-nº-104-15.07.2020.pdf',\n",
              " 'https://saude.goiania.go.gov.br/wp-uploads/sites/3/2020/07/Informe-COVID-19-nº-103-14.07.2020.pdf',\n",
              " 'https://saude.goiania.go.gov.br/wp-uploads/sites/3/2020/07/Informe-COVID-19-nº-102-13.07.2020.pdf',\n",
              " 'https://saude.goiania.go.gov.br/wp-uploads/sites/3/2020/07/Informe-COVID-19-nº-101-12.07.2020-1.pdf',\n",
              " 'https://saude.goiania.go.gov.br/wp-uploads/sites/3/2020/07/Informe-COVID-19-nº-100-11.07.2020-padrão-1.pdf',\n",
              " 'https://saude.goiania.go.gov.br/wp-uploads/sites/3/2020/07/Informe-COVID-19-nº-99-10.07.2020.pdf',\n",
              " 'https://saude.goiania.go.gov.br/wp-uploads/sites/3/2020/07/Informe-COVID-19-nº-98-09.07.2020.pdf',\n",
              " 'https://saude.goiania.go.gov.br/wp-uploads/sites/3/2020/07/Informe-COVID-19-nº-97-08.07.2020.pdf',\n",
              " 'https://saude.goiania.go.gov.br/wp-uploads/sites/3/2020/07/Informe-COVID-19-nº-96-07.07.2020.pdf',\n",
              " 'https://saude.goiania.go.gov.br/wp-uploads/sites/3/2020/07/Informe-COVID-19-nº-95-06.07.2020.pdf',\n",
              " 'https://saude.goiania.go.gov.br/wp-uploads/sites/3/2020/07/Informe-COVID-19-nº-94-05.07.2020-padrão.pdf',\n",
              " 'https://saude.goiania.go.gov.br/wp-uploads/sites/3/2020/07/Informe-COVID-19-nº-93-04.07.2020.pdf',\n",
              " 'https://saude.goiania.go.gov.br/wp-uploads/sites/3/2020/07/Informe-COVID-19-nº-92-03.07.2020.pdf',\n",
              " 'https://saude.goiania.go.gov.br/wp-uploads/sites/3/2020/07/Informe-COVID-19-nº-91-02.07.2020-1.pdf',\n",
              " 'https://saude.goiania.go.gov.br/wp-uploads/sites/3/2020/07/Informe-COVID-19-nº-90-01.07.2020.pdf',\n",
              " 'https://saude.goiania.go.gov.br/wp-uploads/sites/3/2020/06/Informe-COVID-19-nº-89-30.06.2020.pdf',\n",
              " 'https://saude.goiania.go.gov.br/wp-uploads/sites/3/2020/06/Informe-COVID-19-nº-88-29.06.2020.pdf',\n",
              " 'https://saude.goiania.go.gov.br/wp-uploads/sites/3/2020/06/Informe-COVID-19-nº-87-28.06.2020.pdf',\n",
              " 'https://saude.goiania.go.gov.br/wp-uploads/sites/3/2020/06/Informe-COVID-19-nº-86-27.06.2020-padrão.pdf',\n",
              " 'https://saude.goiania.go.gov.br/wp-uploads/sites/3/2020/06/Informe-COVID-19-nº-85-26.06.2020.pdf',\n",
              " 'https://saude.goiania.go.gov.br/wp-uploads/sites/3/2020/06/Informe-COVID-19-nº-84-25.06.2020.pdf',\n",
              " 'https://saude.goiania.go.gov.br/wp-uploads/sites/3/2020/06/Informe-COVID-19-nº-83-24.06.2020.pdf',\n",
              " 'https://saude.goiania.go.gov.br/wp-uploads/sites/3/2020/06/Informe-COVID-19-nº-82-23.06.2020.pdf',\n",
              " 'https://saude.goiania.go.gov.br/wp-uploads/sites/3/2020/06/Informe-COVID-19-nº-81-22.06.2020.pdf',\n",
              " 'https://saude.goiania.go.gov.br/wp-uploads/sites/3/2020/06/Informe-COVID-19-nº-80-21.06.2020-padrão.pdf',\n",
              " 'https://saude.goiania.go.gov.br/wp-uploads/sites/3/2020/06/Informe-COVID-19-nº-79-20.06.2020.pdf',\n",
              " 'https://saude.goiania.go.gov.br/wp-uploads/sites/3/2020/06/Informe-COVID-19-nº-78-19.06.2020.pdf',\n",
              " 'https://saude.goiania.go.gov.br/wp-uploads/sites/3/2020/06/Informe-COVID-19-nº-77-18.06.2020.pdf',\n",
              " 'https://saude.goiania.go.gov.br/wp-uploads/sites/3/2020/06/Informe-COVID-19-nº-76-17.06.2020-1.pdf',\n",
              " 'https://saude.goiania.go.gov.br/wp-uploads/sites/3/2020/06/Informe-COVID-19-nº-75-16.06.2020.pdf',\n",
              " 'https://saude.goiania.go.gov.br/wp-uploads/sites/3/2020/06/Informe-COVID-19-nº-74-15.06.2020-D4.pdf',\n",
              " 'https://saude.goiania.go.gov.br/wp-uploads/sites/3/2020/06/Informe-COVID-19-nº-73-14.06.2020-modelo.pdf',\n",
              " 'https://saude.goiania.go.gov.br/wp-uploads/sites/3/2020/06/Informe-COVID-19-nº-72-13.06.2020.pdf',\n",
              " 'https://saude.goiania.go.gov.br/wp-uploads/sites/3/2020/06/Informe-COVID-19-nº-71-12.06.2020.pdf',\n",
              " 'https://saude.goiania.go.gov.br/wp-uploads/sites/3/2020/06/Informe-COVID-19-nº-70-11.06.2020-C.pdf',\n",
              " 'https://saude.goiania.go.gov.br/wp-uploads/sites/3/2020/06/Informe-COVID-19-nº-69-10.06.2020.pdf',\n",
              " 'https://saude.goiania.go.gov.br/wp-uploads/sites/3/2020/06/Informe-COVID-19-nº-68-09.06.2020.pdf',\n",
              " 'https://saude.goiania.go.gov.br/wp-uploads/sites/3/2020/06/Informe-COVID-19-nº-67-08.06.2020.pdf',\n",
              " 'https://saude.goiania.go.gov.br/wp-uploads/sites/3/2020/06/Informe-COVID-19-nº-66-07.06.2020.pdf',\n",
              " 'https://saude.goiania.go.gov.br/wp-uploads/sites/3/2020/06/Informe-COVID-19-nº-65-06.06.2020-.pdf',\n",
              " 'https://saude.goiania.go.gov.br/wp-uploads/sites/3/2020/06/Informe-COVID-19-nº-64-05.06.2020.pdf',\n",
              " 'https://saude.goiania.go.gov.br/wp-uploads/sites/3/2020/06/Informe-COVID-19-nº-63-04.06.2020.pdf',\n",
              " 'https://saude.goiania.go.gov.br/wp-uploads/sites/3/2020/06/Informe-COVID-19-nº-62-03.06.2020-1.pdf',\n",
              " 'https://saude.goiania.go.gov.br/wp-uploads/sites/3/2020/06/Informe-COVID-19-nº-61-02.06.2020-1.pdf',\n",
              " 'https://saude.goiania.go.gov.br/wp-uploads/sites/3/2020/06/Informe-COVID-19-nº-60-01.06.2020.pdf',\n",
              " 'https://saude.goiania.go.gov.br/wp-uploads/sites/3/2020/05/Informe-COVID-19-nº-59-31.05.2020.pdf',\n",
              " 'https://saude.goiania.go.gov.br/wp-uploads/sites/3/2020/05/Informe-COVID-19-nº-58-30.05.2020.pdf',\n",
              " 'https://saude.goiania.go.gov.br/wp-uploads/sites/3/2020/05/Informe-COVID-19-nº-57-29.05.2020.pdf',\n",
              " 'https://saude.goiania.go.gov.br/wp-uploads/sites/3/2020/05/Informe-COVID-19-nº-56-28.05.2020.pdf',\n",
              " 'https://saude.goiania.go.gov.br/wp-uploads/sites/3/2020/05/Informe-COVID-19-nº-55-27.05.2020.pdf',\n",
              " 'https://saude.goiania.go.gov.br/wp-uploads/sites/3/2020/05/Informe-COVID-19-nº-54-26.05.2020-1.pdf',\n",
              " 'https://saude.goiania.go.gov.br/wp-uploads/sites/3/2020/05/Informe-COVID-19-nº-53-25.05.2020-1.pdf',\n",
              " 'https://saude.goiania.go.gov.br/wp-uploads/sites/3/2020/05/Informe-COVID-19-nº-52-24-05-2020.pdf',\n",
              " 'https://saude.goiania.go.gov.br/wp-uploads/sites/3/2020/05/Informe-COVID-19-nº-51-23-05-2020.pdf',\n",
              " 'https://saude.goiania.go.gov.br/wp-uploads/sites/3/2020/05/Informe-COVID-19-nº-51-23-05-2020.pdf',\n",
              " 'https://saude.goiania.go.gov.br/wp-uploads/sites/3/2020/05/Informe-COVID-19-nº-50-22.05.2020.pdf',\n",
              " 'https://saude.goiania.go.gov.br/wp-uploads/sites/3/2020/05/Informe-COVID-19-nº-50-22.05.2020.pdf',\n",
              " 'https://saude.goiania.go.gov.br/wp-uploads/sites/3/2020/05/Informe-COVID-19-n%C2%BA-49-21.05.2020.pdf',\n",
              " 'https://saude.goiania.go.gov.br/wp-uploads/sites/3/2020/05/Informe-COVID-19-n%C2%BA-49-21.05.2020.pdf',\n",
              " 'https://saude.goiania.go.gov.br/wp-uploads/sites/3/2020/05/Informe-COVID-19-nº-48-20.05.2020.pdf',\n",
              " 'https://saude.goiania.go.gov.br/wp-uploads/sites/3/2020/05/Informe-COVID-19-nº-48-20.05.2020.pdf',\n",
              " 'https://saude.goiania.go.gov.br/wp-uploads/sites/3/2020/05/Informe-COVID-19-nº-47-19.05.2020.pdf',\n",
              " 'https://saude.goiania.go.gov.br/wp-uploads/sites/3/2020/05/Informe-COVID-19-nº-47-19.05.2020.pdf',\n",
              " 'https://saude.goiania.go.gov.br/wp-uploads/sites/3/2020/05/Informe-COVID-19-n%C2%BA-46-18.05.2020.pdf',\n",
              " 'https://saude.goiania.go.gov.br/wp-uploads/sites/3/2020/05/Informe-COVID-19-n%C2%BA-46-18.05.2020.pdf',\n",
              " 'https://saude.goiania.go.gov.br/wp-uploads/sites/3/2020/05/Informe-COVID-19-n%C2%BA-45-17.05.2020.pdf',\n",
              " 'https://saude.goiania.go.gov.br/wp-uploads/sites/3/2020/05/Informe-COVID-19-n%C2%BA-45-17.05.2020.pdf',\n",
              " 'https://saude.goiania.go.gov.br/wp-uploads/sites/3/2020/05/Informe-COVID-19-n%C2%BA-44-16.05.2020.pdf',\n",
              " 'https://saude.goiania.go.gov.br/wp-uploads/sites/3/2020/05/Informe-COVID-19-n%C2%BA-44-16.05.2020.pdf',\n",
              " 'https://saude.goiania.go.gov.br/wp-uploads/sites/3/2020/05/Informe-COVID-19-nº-43-15.05.2020.pdf',\n",
              " 'https://saude.goiania.go.gov.br/wp-uploads/sites/3/2020/05/Informe-COVID-19-nº-43-15.05.2020.pdf',\n",
              " 'https://saude.goiania.go.gov.br/wp-uploads/sites/3/2020/05/Informe-COVID-19-nº-42-14.05.2020-1.pdf',\n",
              " 'https://saude.goiania.go.gov.br/wp-uploads/sites/3/2020/05/Informe-COVID-19-nº-42-14.05.2020-1.pdf',\n",
              " 'https://saude.goiania.go.gov.br/wp-uploads/sites/3/2020/05/Informe-COVID-19-nº-41-13.05.2020.pdf',\n",
              " 'https://saude.goiania.go.gov.br/wp-uploads/sites/3/2020/05/Informe-COVID-19-nº-41-13.05.2020.pdf',\n",
              " 'https://saude.goiania.go.gov.br/wp-uploads/sites/3/2020/05/Informe-COVID-19-nº-40-12.05.2020.pdf',\n",
              " 'https://saude.goiania.go.gov.br/wp-uploads/sites/3/2020/05/Informe-COVID-19-nº-40-12.05.2020.pdf',\n",
              " 'https://saude.goiania.go.gov.br/wp-uploads/sites/3/2020/05/Informe-COVID-19-n%C2%BA-39-11.05.2020.pdf',\n",
              " 'https://saude.goiania.go.gov.br/wp-uploads/sites/3/2020/05/Informe-COVID-19-n%C2%BA-39-11.05.2020.pdf',\n",
              " 'https://saude.goiania.go.gov.br/wp-uploads/sites/3/2020/05/Informe-COVID-19-nº-38-10.05.2020.pdf',\n",
              " 'https://saude.goiania.go.gov.br/wp-uploads/sites/3/2020/05/Informe-COVID-19-nº-38-10.05.2020.pdf',\n",
              " 'https://saude.goiania.go.gov.br/wp-uploads/sites/3/2020/05/Informe-COVID-19-nº-37-09.05.2020.pdf',\n",
              " 'https://saude.goiania.go.gov.br/wp-uploads/sites/3/2020/05/Informe-COVID-19-nº-37-09.05.2020.pdf',\n",
              " 'https://saude.goiania.go.gov.br/wp-uploads/sites/3/2020/05/Informe-COVID-19-nº-36-08.05.2020.pdf',\n",
              " 'https://saude.goiania.go.gov.br/wp-uploads/sites/3/2020/05/Informe-COVID-19-nº-36-08.05.2020.pdf',\n",
              " 'https://saude.goiania.go.gov.br/wp-uploads/sites/3/2020/05/Informe-COVID-19-nº-35-07.05.2020.pdf',\n",
              " 'https://saude.goiania.go.gov.br/wp-uploads/sites/3/2020/05/Informe-COVID-19-nº-35-07.05.2020.pdf',\n",
              " 'https://saude.goiania.go.gov.br/wp-uploads/sites/3/2020/05/Informe-COVID-19-nº-34-06.05.2020.pdf',\n",
              " 'https://saude.goiania.go.gov.br/wp-uploads/sites/3/2020/05/Informe-COVID-19-nº-34-06.05.2020.pdf',\n",
              " 'https://saude.goiania.go.gov.br/wp-uploads/sites/3/2020/05/Informe-COVID-19-nº-33-05.05.2020.pdf',\n",
              " 'https://saude.goiania.go.gov.br/wp-uploads/sites/3/2020/05/Informe-COVID-19-nº-33-05.05.2020.pdf',\n",
              " 'https://saude.goiania.go.gov.br/wp-uploads/sites/3/2020/05/Informe-COVID-19-nº-32-04.05.2020.pdf',\n",
              " 'https://saude.goiania.go.gov.br/wp-uploads/sites/3/2020/05/Informe-COVID-19-nº-32-04.05.2020.pdf',\n",
              " 'https://saude.goiania.go.gov.br/wp-uploads/sites/3/2020/05/Informe-COVID-19-n%C2%BA-31-03.05.2020.pdf',\n",
              " 'https://saude.goiania.go.gov.br/wp-uploads/sites/3/2020/05/Informe-COVID-19-n%C2%BA-31-03.05.2020.pdf',\n",
              " 'https://goiania.go.gov.br/sms/wp-uploads/sites/3/2020/05/Informe-COVID-19-n%C2%BA-30-02.05.2020.pdf',\n",
              " 'https://goiania.go.gov.br/sms/wp-uploads/sites/3/2020/05/Informe-COVID-19-n%C2%BA-30-02.05.2020.pdf',\n",
              " 'https://saude.goiania.go.gov.br/wp-uploads/sites/3/2020/05/Informe-COVID-19-nº-29-01.05.2020.pdf',\n",
              " 'https://saude.goiania.go.gov.br/wp-uploads/sites/3/2020/05/Informe-COVID-19-nº-29-01.05.2020.pdf',\n",
              " 'https://saude.goiania.go.gov.br/wp-uploads/sites/3/2020/04/Informe-COVID-19-nº-28-30.04.2020.pdf',\n",
              " 'https://saude.goiania.go.gov.br/wp-uploads/sites/3/2020/04/Informe-COVID-19-nº-28-30.04.2020.pdf',\n",
              " 'https://saude.goiania.go.gov.br/wp-uploads/sites/3/2020/04/Informe-COVID-19-nº-27-29.04.2020.pdf',\n",
              " 'https://saude.goiania.go.gov.br/wp-uploads/sites/3/2020/04/Informe-COVID-19-nº-27-29.04.2020.pdf',\n",
              " 'https://saude.goiania.go.gov.br/wp-uploads/sites/3/2020/04/Informe-COVID-19-nº-26-28.04.2020.pdf',\n",
              " 'https://saude.goiania.go.gov.br/wp-uploads/sites/3/2020/04/Informe-COVID-19-nº-26-28.04.2020.pdf',\n",
              " 'https://saude.goiania.go.gov.br/wp-uploads/sites/3/2020/04/Informe-COVID-19-nº-25-27.04.2020.pdf',\n",
              " 'https://saude.goiania.go.gov.br/wp-uploads/sites/3/2020/04/Informe-COVID-19-nº-25-27.04.2020.pdf',\n",
              " 'https://saude.goiania.go.gov.br/wp-uploads/sites/3/2020/04/Informe-COVID-19-nº-24-26.04.2020.pdf',\n",
              " 'https://saude.goiania.go.gov.br/wp-uploads/sites/3/2020/04/Informe-COVID-19-nº-24-26.04.2020.pdf',\n",
              " 'https://saude.goiania.go.gov.br/wp-uploads/sites/3/2020/04/Informe-COVID-19-nº-23-25.04.2020.pdf',\n",
              " 'https://saude.goiania.go.gov.br/wp-uploads/sites/3/2020/04/Informe-COVID-19-nº-23-25.04.2020.pdf',\n",
              " 'https://saude.goiania.go.gov.br/wp-uploads/sites/3/2020/04/Informe-COVID-19-nº-22-24.04.2020.pdf',\n",
              " 'https://saude.goiania.go.gov.br/wp-uploads/sites/3/2020/04/Informe-COVID-19-nº-22-24.04.2020.pdf',\n",
              " 'https://saude.goiania.go.gov.br/wp-uploads/sites/3/2020/04/Informe-COVID-19-nº-21-23.04.2020.pdf',\n",
              " 'https://saude.goiania.go.gov.br/wp-uploads/sites/3/2020/04/Informe-COVID-19-nº-21-23.04.2020.pdf',\n",
              " 'https://saude.goiania.go.gov.br/wp-uploads/sites/3/2020/04/Informe-COVID-19-nº-20-22.04.2020.pdf',\n",
              " 'https://saude.goiania.go.gov.br/wp-uploads/sites/3/2020/04/Informe-COVID-19-nº-20-22.04.2020.pdf',\n",
              " 'https://saude.goiania.go.gov.br/wp-uploads/sites/3/2020/04/Informe-COVID-19-nº-19-21.04.2020.pdf',\n",
              " 'https://saude.goiania.go.gov.br/wp-uploads/sites/3/2020/04/Informe-COVID-19-nº-19-21.04.2020.pdf',\n",
              " 'https://saude.goiania.go.gov.br/wp-uploads/sites/3/2020/04/Informe-COVID-19-nº-18-20.04.2020.pdf',\n",
              " 'https://saude.goiania.go.gov.br/wp-uploads/sites/3/2020/04/Informe-COVID-19-nº-18-20.04.2020.pdf',\n",
              " 'https://saude.goiania.go.gov.br/wp-uploads/sites/3/2020/04/Informe-COVID-19-nº-17-19.04.2020.pdf',\n",
              " 'https://saude.goiania.go.gov.br/wp-uploads/sites/3/2020/04/Informe-COVID-19-nº-17-19.04.2020.pdf',\n",
              " 'https://saude.goiania.go.gov.br/wp-uploads/sites/3/2020/04/Informe-COVID-19-nº-16-18.04.2020.pdf',\n",
              " 'https://saude.goiania.go.gov.br/wp-uploads/sites/3/2020/04/Informe-COVID-19-nº-16-18.04.2020.pdf',\n",
              " 'https://saude.goiania.go.gov.br/wp-uploads/sites/3/2020/04/Informe-COVID-19-nº-15-17.04.2020_2.pdf',\n",
              " 'https://saude.goiania.go.gov.br/wp-uploads/sites/3/2020/04/Informe-COVID-19-nº-15-17.04.2020_2.pdf',\n",
              " 'https://saude.goiania.go.gov.br/wp-uploads/sites/3/2020/04/Informe-COVID-19-nº-14-16.04.2020.pdf',\n",
              " 'https://saude.goiania.go.gov.br/wp-uploads/sites/3/2020/04/Informe-COVID-19-nº-14-16.04.2020.pdf',\n",
              " 'https://saude.goiania.go.gov.br/wp-uploads/sites/3/2020/04/Informe-COVID-19-nº-13-15.04.2020-2.pdf',\n",
              " 'https://saude.goiania.go.gov.br/wp-uploads/sites/3/2020/04/Informe-COVID-19-nº-13-15.04.2020-2.pdf',\n",
              " 'https://saude.goiania.go.gov.br/wp-uploads/sites/3/2020/04/Informe-COVID-19-nº-12-14.04.2020.pdf',\n",
              " 'https://saude.goiania.go.gov.br/wp-uploads/sites/3/2020/04/Informe-COVID-19-nº-12-14.04.2020.pdf',\n",
              " 'https://saude.goiania.go.gov.br/wp-uploads/sites/3/2020/04/Informe-COVID-19-nº-11-13.04.2020.pdf',\n",
              " 'https://saude.goiania.go.gov.br/wp-uploads/sites/3/2020/04/Informe-COVID-19-nº-11-13.04.2020.pdf',\n",
              " 'https://saude.goiania.go.gov.br/wp-uploads/sites/3/2020/04/Informe-COVID-19-nº-10-12.04.2020.pdf',\n",
              " 'https://saude.goiania.go.gov.br/wp-uploads/sites/3/2020/04/Informe-COVID-19-nº-10-12.04.2020.pdf',\n",
              " 'https://saude.goiania.go.gov.br/wp-uploads/sites/3/2020/04/Informe-COVID-19-nº-9-11.04.2020.pdf',\n",
              " 'https://saude.goiania.go.gov.br/wp-uploads/sites/3/2020/04/Informe-COVID-19-nº-9-11.04.2020.pdf',\n",
              " 'https://saude.goiania.go.gov.br/wp-uploads/sites/3/2020/04/Informe-COVID-19-nº-8-10.04.2020.pdf',\n",
              " 'https://saude.goiania.go.gov.br/wp-uploads/sites/3/2020/04/Informe-COVID-19-nº-8-10.04.2020.pdf',\n",
              " 'https://saude.goiania.go.gov.br/wp-uploads/sites/3/2020/04/Informe-COVID-19-nº-7-09.04.2020.pdf',\n",
              " 'https://saude.goiania.go.gov.br/wp-uploads/sites/3/2020/04/Informe-COVID-19-nº-7-09.04.2020.pdf',\n",
              " 'https://saude.goiania.go.gov.br/wp-uploads/sites/3/2020/04/Informe-COVID-19-nº-6-08.04.2020.pdf',\n",
              " 'https://saude.goiania.go.gov.br/wp-uploads/sites/3/2020/04/Informe-COVID-19-nº-6-08.04.2020.pdf',\n",
              " 'https://saude.goiania.go.gov.br/wp-uploads/sites/3/2020/04/Informe-COVID-19-nº-5-07.04.2020.pdf',\n",
              " 'https://saude.goiania.go.gov.br/wp-uploads/sites/3/2020/04/Informe-COVID-19-nº-5-07.04.2020.pdf',\n",
              " 'https://saude.goiania.go.gov.br/wp-uploads/sites/3/2020/04/Informe-COVID-19-nº-4-06.04.2020.pdf',\n",
              " 'https://saude.goiania.go.gov.br/wp-uploads/sites/3/2020/04/Informe-COVID-19-nº-4-06.04.2020.pdf',\n",
              " 'https://saude.goiania.go.gov.br/wp-uploads/sites/3/2020/04/Informe-COVID-19-nº-3-05.04.2020.pdf',\n",
              " 'https://saude.goiania.go.gov.br/wp-uploads/sites/3/2020/04/Informe-COVID-19-nº-3-05.04.2020.pdf',\n",
              " 'https://saude.goiania.go.gov.br/wp-uploads/sites/3/2020/04/Informe-COVID-19-nº-2-04.04.2020.pdf',\n",
              " 'https://saude.goiania.go.gov.br/wp-uploads/sites/3/2020/04/Informe-COVID-19-nº-2-04.04.2020.pdf',\n",
              " 'https://saude.goiania.go.gov.br/wp-uploads/sites/3/2020/04/Informe-COVID-19-nº-1-03-04-2020.pdf',\n",
              " 'https://saude.goiania.go.gov.br/wp-uploads/sites/3/2020/04/Informe-COVID-19-nº-1-03-04-2020.pdf']"
            ]
          },
          "metadata": {
            "tags": []
          },
          "execution_count": 4
        }
      ]
    },
    {
      "cell_type": "code",
      "metadata": {
        "id": "oY5lXdzTC5Bk",
        "colab_type": "code",
        "colab": {
          "base_uri": "https://localhost:8080/",
          "height": 34
        },
        "outputId": "e9245503-037b-449e-89d8-3391af86e6d5"
      },
      "source": [
        "len(urls_pdfs)"
      ],
      "execution_count": null,
      "outputs": [
        {
          "output_type": "execute_result",
          "data": {
            "text/plain": [
              "218"
            ]
          },
          "metadata": {
            "tags": []
          },
          "execution_count": 5
        }
      ]
    },
    {
      "cell_type": "code",
      "metadata": {
        "id": "h5kxzuttCuqi",
        "colab_type": "code",
        "colab": {
          "base_uri": "https://localhost:8080/",
          "height": 34
        },
        "outputId": "02fe520c-3374-44b5-bdbf-db1debe7a80a"
      },
      "source": [
        "len(np.unique(urls_pdfs)) #deve ser igual ao numero de informes publicados - 2"
      ],
      "execution_count": null,
      "outputs": [
        {
          "output_type": "execute_result",
          "data": {
            "text/plain": [
              "167"
            ]
          },
          "metadata": {
            "tags": []
          },
          "execution_count": 6
        }
      ]
    },
    {
      "cell_type": "code",
      "metadata": {
        "colab_type": "code",
        "id": "_RCshshlTkd4",
        "colab": {}
      },
      "source": [
        "#remove link duplicados\n",
        "urls_pdfs = np.unique(urls_pdfs)"
      ],
      "execution_count": null,
      "outputs": []
    },
    {
      "cell_type": "code",
      "metadata": {
        "colab_type": "code",
        "id": "cMHytwAVTkd0",
        "colab": {
          "base_uri": "https://localhost:8080/",
          "height": 34
        },
        "outputId": "4c8e3a36-5a37-4e43-bfe3-034092e289a1"
      },
      "source": [
        "len(urls_pdfs)"
      ],
      "execution_count": null,
      "outputs": [
        {
          "output_type": "execute_result",
          "data": {
            "text/plain": [
              "167"
            ]
          },
          "metadata": {
            "tags": []
          },
          "execution_count": 8
        }
      ]
    },
    {
      "cell_type": "code",
      "metadata": {
        "id": "VtXCNU-pxOLA",
        "colab_type": "code",
        "colab": {
          "base_uri": "https://localhost:8080/",
          "height": 1000
        },
        "outputId": "bab062ab-4f36-489f-caba-4d835094effc"
      },
      "source": [
        "#substitui alguns caracteres para evitar erros\n",
        "urls_pdfs_modificadas = []\n",
        "for url in urls_pdfs:\n",
        "    new_link = url.replace('º', '%C2%BA')\n",
        "    new_link1 = new_link.replace('padrão', 'padra%CC%83o')\n",
        "    urls_pdfs_modificadas.append(new_link1)\n",
        "\n",
        "\n",
        "i = 0\n",
        "for i in range(len(urls_pdfs_modificadas)):\n",
        "    print(i)\n",
        "    print(urls_pdfs_modificadas[i])  "
      ],
      "execution_count": null,
      "outputs": [
        {
          "output_type": "stream",
          "text": [
            "0\n",
            "https://goiania.go.gov.br/sms/wp-uploads/sites/3/2020/05/Informe-COVID-19-n%C2%BA-30-02.05.2020.pdf\n",
            "1\n",
            "https://saude.goiania.go.gov.br/wp-uploads/sites/3/2020/04/Informe-COVID-19-n%C2%BA-1-03-04-2020.pdf\n",
            "2\n",
            "https://saude.goiania.go.gov.br/wp-uploads/sites/3/2020/04/Informe-COVID-19-n%C2%BA-10-12.04.2020.pdf\n",
            "3\n",
            "https://saude.goiania.go.gov.br/wp-uploads/sites/3/2020/04/Informe-COVID-19-n%C2%BA-11-13.04.2020.pdf\n",
            "4\n",
            "https://saude.goiania.go.gov.br/wp-uploads/sites/3/2020/04/Informe-COVID-19-n%C2%BA-12-14.04.2020.pdf\n",
            "5\n",
            "https://saude.goiania.go.gov.br/wp-uploads/sites/3/2020/04/Informe-COVID-19-n%C2%BA-13-15.04.2020-2.pdf\n",
            "6\n",
            "https://saude.goiania.go.gov.br/wp-uploads/sites/3/2020/04/Informe-COVID-19-n%C2%BA-14-16.04.2020.pdf\n",
            "7\n",
            "https://saude.goiania.go.gov.br/wp-uploads/sites/3/2020/04/Informe-COVID-19-n%C2%BA-15-17.04.2020_2.pdf\n",
            "8\n",
            "https://saude.goiania.go.gov.br/wp-uploads/sites/3/2020/04/Informe-COVID-19-n%C2%BA-16-18.04.2020.pdf\n",
            "9\n",
            "https://saude.goiania.go.gov.br/wp-uploads/sites/3/2020/04/Informe-COVID-19-n%C2%BA-17-19.04.2020.pdf\n",
            "10\n",
            "https://saude.goiania.go.gov.br/wp-uploads/sites/3/2020/04/Informe-COVID-19-n%C2%BA-18-20.04.2020.pdf\n",
            "11\n",
            "https://saude.goiania.go.gov.br/wp-uploads/sites/3/2020/04/Informe-COVID-19-n%C2%BA-19-21.04.2020.pdf\n",
            "12\n",
            "https://saude.goiania.go.gov.br/wp-uploads/sites/3/2020/04/Informe-COVID-19-n%C2%BA-2-04.04.2020.pdf\n",
            "13\n",
            "https://saude.goiania.go.gov.br/wp-uploads/sites/3/2020/04/Informe-COVID-19-n%C2%BA-20-22.04.2020.pdf\n",
            "14\n",
            "https://saude.goiania.go.gov.br/wp-uploads/sites/3/2020/04/Informe-COVID-19-n%C2%BA-21-23.04.2020.pdf\n",
            "15\n",
            "https://saude.goiania.go.gov.br/wp-uploads/sites/3/2020/04/Informe-COVID-19-n%C2%BA-22-24.04.2020.pdf\n",
            "16\n",
            "https://saude.goiania.go.gov.br/wp-uploads/sites/3/2020/04/Informe-COVID-19-n%C2%BA-23-25.04.2020.pdf\n",
            "17\n",
            "https://saude.goiania.go.gov.br/wp-uploads/sites/3/2020/04/Informe-COVID-19-n%C2%BA-24-26.04.2020.pdf\n",
            "18\n",
            "https://saude.goiania.go.gov.br/wp-uploads/sites/3/2020/04/Informe-COVID-19-n%C2%BA-25-27.04.2020.pdf\n",
            "19\n",
            "https://saude.goiania.go.gov.br/wp-uploads/sites/3/2020/04/Informe-COVID-19-n%C2%BA-26-28.04.2020.pdf\n",
            "20\n",
            "https://saude.goiania.go.gov.br/wp-uploads/sites/3/2020/04/Informe-COVID-19-n%C2%BA-27-29.04.2020.pdf\n",
            "21\n",
            "https://saude.goiania.go.gov.br/wp-uploads/sites/3/2020/04/Informe-COVID-19-n%C2%BA-28-30.04.2020.pdf\n",
            "22\n",
            "https://saude.goiania.go.gov.br/wp-uploads/sites/3/2020/04/Informe-COVID-19-n%C2%BA-3-05.04.2020.pdf\n",
            "23\n",
            "https://saude.goiania.go.gov.br/wp-uploads/sites/3/2020/04/Informe-COVID-19-n%C2%BA-4-06.04.2020.pdf\n",
            "24\n",
            "https://saude.goiania.go.gov.br/wp-uploads/sites/3/2020/04/Informe-COVID-19-n%C2%BA-5-07.04.2020.pdf\n",
            "25\n",
            "https://saude.goiania.go.gov.br/wp-uploads/sites/3/2020/04/Informe-COVID-19-n%C2%BA-6-08.04.2020.pdf\n",
            "26\n",
            "https://saude.goiania.go.gov.br/wp-uploads/sites/3/2020/04/Informe-COVID-19-n%C2%BA-7-09.04.2020.pdf\n",
            "27\n",
            "https://saude.goiania.go.gov.br/wp-uploads/sites/3/2020/04/Informe-COVID-19-n%C2%BA-8-10.04.2020.pdf\n",
            "28\n",
            "https://saude.goiania.go.gov.br/wp-uploads/sites/3/2020/04/Informe-COVID-19-n%C2%BA-9-11.04.2020.pdf\n",
            "29\n",
            "https://saude.goiania.go.gov.br/wp-uploads/sites/3/2020/05/Informe-COVID-19-n%C2%BA-31-03.05.2020.pdf\n",
            "30\n",
            "https://saude.goiania.go.gov.br/wp-uploads/sites/3/2020/05/Informe-COVID-19-n%C2%BA-39-11.05.2020.pdf\n",
            "31\n",
            "https://saude.goiania.go.gov.br/wp-uploads/sites/3/2020/05/Informe-COVID-19-n%C2%BA-44-16.05.2020.pdf\n",
            "32\n",
            "https://saude.goiania.go.gov.br/wp-uploads/sites/3/2020/05/Informe-COVID-19-n%C2%BA-45-17.05.2020.pdf\n",
            "33\n",
            "https://saude.goiania.go.gov.br/wp-uploads/sites/3/2020/05/Informe-COVID-19-n%C2%BA-46-18.05.2020.pdf\n",
            "34\n",
            "https://saude.goiania.go.gov.br/wp-uploads/sites/3/2020/05/Informe-COVID-19-n%C2%BA-49-21.05.2020.pdf\n",
            "35\n",
            "https://saude.goiania.go.gov.br/wp-uploads/sites/3/2020/05/Informe-COVID-19-n%C2%BA-29-01.05.2020.pdf\n",
            "36\n",
            "https://saude.goiania.go.gov.br/wp-uploads/sites/3/2020/05/Informe-COVID-19-n%C2%BA-32-04.05.2020.pdf\n",
            "37\n",
            "https://saude.goiania.go.gov.br/wp-uploads/sites/3/2020/05/Informe-COVID-19-n%C2%BA-33-05.05.2020.pdf\n",
            "38\n",
            "https://saude.goiania.go.gov.br/wp-uploads/sites/3/2020/05/Informe-COVID-19-n%C2%BA-34-06.05.2020.pdf\n",
            "39\n",
            "https://saude.goiania.go.gov.br/wp-uploads/sites/3/2020/05/Informe-COVID-19-n%C2%BA-35-07.05.2020.pdf\n",
            "40\n",
            "https://saude.goiania.go.gov.br/wp-uploads/sites/3/2020/05/Informe-COVID-19-n%C2%BA-36-08.05.2020.pdf\n",
            "41\n",
            "https://saude.goiania.go.gov.br/wp-uploads/sites/3/2020/05/Informe-COVID-19-n%C2%BA-37-09.05.2020.pdf\n",
            "42\n",
            "https://saude.goiania.go.gov.br/wp-uploads/sites/3/2020/05/Informe-COVID-19-n%C2%BA-38-10.05.2020.pdf\n",
            "43\n",
            "https://saude.goiania.go.gov.br/wp-uploads/sites/3/2020/05/Informe-COVID-19-n%C2%BA-40-12.05.2020.pdf\n",
            "44\n",
            "https://saude.goiania.go.gov.br/wp-uploads/sites/3/2020/05/Informe-COVID-19-n%C2%BA-41-13.05.2020.pdf\n",
            "45\n",
            "https://saude.goiania.go.gov.br/wp-uploads/sites/3/2020/05/Informe-COVID-19-n%C2%BA-42-14.05.2020-1.pdf\n",
            "46\n",
            "https://saude.goiania.go.gov.br/wp-uploads/sites/3/2020/05/Informe-COVID-19-n%C2%BA-43-15.05.2020.pdf\n",
            "47\n",
            "https://saude.goiania.go.gov.br/wp-uploads/sites/3/2020/05/Informe-COVID-19-n%C2%BA-47-19.05.2020.pdf\n",
            "48\n",
            "https://saude.goiania.go.gov.br/wp-uploads/sites/3/2020/05/Informe-COVID-19-n%C2%BA-48-20.05.2020.pdf\n",
            "49\n",
            "https://saude.goiania.go.gov.br/wp-uploads/sites/3/2020/05/Informe-COVID-19-n%C2%BA-50-22.05.2020.pdf\n",
            "50\n",
            "https://saude.goiania.go.gov.br/wp-uploads/sites/3/2020/05/Informe-COVID-19-n%C2%BA-51-23-05-2020.pdf\n",
            "51\n",
            "https://saude.goiania.go.gov.br/wp-uploads/sites/3/2020/05/Informe-COVID-19-n%C2%BA-52-24-05-2020.pdf\n",
            "52\n",
            "https://saude.goiania.go.gov.br/wp-uploads/sites/3/2020/05/Informe-COVID-19-n%C2%BA-53-25.05.2020-1.pdf\n",
            "53\n",
            "https://saude.goiania.go.gov.br/wp-uploads/sites/3/2020/05/Informe-COVID-19-n%C2%BA-54-26.05.2020-1.pdf\n",
            "54\n",
            "https://saude.goiania.go.gov.br/wp-uploads/sites/3/2020/05/Informe-COVID-19-n%C2%BA-55-27.05.2020.pdf\n",
            "55\n",
            "https://saude.goiania.go.gov.br/wp-uploads/sites/3/2020/05/Informe-COVID-19-n%C2%BA-56-28.05.2020.pdf\n",
            "56\n",
            "https://saude.goiania.go.gov.br/wp-uploads/sites/3/2020/05/Informe-COVID-19-n%C2%BA-57-29.05.2020.pdf\n",
            "57\n",
            "https://saude.goiania.go.gov.br/wp-uploads/sites/3/2020/05/Informe-COVID-19-n%C2%BA-58-30.05.2020.pdf\n",
            "58\n",
            "https://saude.goiania.go.gov.br/wp-uploads/sites/3/2020/05/Informe-COVID-19-n%C2%BA-59-31.05.2020.pdf\n",
            "59\n",
            "https://saude.goiania.go.gov.br/wp-uploads/sites/3/2020/06/Informe-COVID-19-n%C2%BA-60-01.06.2020.pdf\n",
            "60\n",
            "https://saude.goiania.go.gov.br/wp-uploads/sites/3/2020/06/Informe-COVID-19-n%C2%BA-61-02.06.2020-1.pdf\n",
            "61\n",
            "https://saude.goiania.go.gov.br/wp-uploads/sites/3/2020/06/Informe-COVID-19-n%C2%BA-62-03.06.2020-1.pdf\n",
            "62\n",
            "https://saude.goiania.go.gov.br/wp-uploads/sites/3/2020/06/Informe-COVID-19-n%C2%BA-63-04.06.2020.pdf\n",
            "63\n",
            "https://saude.goiania.go.gov.br/wp-uploads/sites/3/2020/06/Informe-COVID-19-n%C2%BA-64-05.06.2020.pdf\n",
            "64\n",
            "https://saude.goiania.go.gov.br/wp-uploads/sites/3/2020/06/Informe-COVID-19-n%C2%BA-65-06.06.2020-.pdf\n",
            "65\n",
            "https://saude.goiania.go.gov.br/wp-uploads/sites/3/2020/06/Informe-COVID-19-n%C2%BA-66-07.06.2020.pdf\n",
            "66\n",
            "https://saude.goiania.go.gov.br/wp-uploads/sites/3/2020/06/Informe-COVID-19-n%C2%BA-67-08.06.2020.pdf\n",
            "67\n",
            "https://saude.goiania.go.gov.br/wp-uploads/sites/3/2020/06/Informe-COVID-19-n%C2%BA-68-09.06.2020.pdf\n",
            "68\n",
            "https://saude.goiania.go.gov.br/wp-uploads/sites/3/2020/06/Informe-COVID-19-n%C2%BA-69-10.06.2020.pdf\n",
            "69\n",
            "https://saude.goiania.go.gov.br/wp-uploads/sites/3/2020/06/Informe-COVID-19-n%C2%BA-70-11.06.2020-C.pdf\n",
            "70\n",
            "https://saude.goiania.go.gov.br/wp-uploads/sites/3/2020/06/Informe-COVID-19-n%C2%BA-71-12.06.2020.pdf\n",
            "71\n",
            "https://saude.goiania.go.gov.br/wp-uploads/sites/3/2020/06/Informe-COVID-19-n%C2%BA-72-13.06.2020.pdf\n",
            "72\n",
            "https://saude.goiania.go.gov.br/wp-uploads/sites/3/2020/06/Informe-COVID-19-n%C2%BA-73-14.06.2020-modelo.pdf\n",
            "73\n",
            "https://saude.goiania.go.gov.br/wp-uploads/sites/3/2020/06/Informe-COVID-19-n%C2%BA-74-15.06.2020-D4.pdf\n",
            "74\n",
            "https://saude.goiania.go.gov.br/wp-uploads/sites/3/2020/06/Informe-COVID-19-n%C2%BA-75-16.06.2020.pdf\n",
            "75\n",
            "https://saude.goiania.go.gov.br/wp-uploads/sites/3/2020/06/Informe-COVID-19-n%C2%BA-76-17.06.2020-1.pdf\n",
            "76\n",
            "https://saude.goiania.go.gov.br/wp-uploads/sites/3/2020/06/Informe-COVID-19-n%C2%BA-77-18.06.2020.pdf\n",
            "77\n",
            "https://saude.goiania.go.gov.br/wp-uploads/sites/3/2020/06/Informe-COVID-19-n%C2%BA-78-19.06.2020.pdf\n",
            "78\n",
            "https://saude.goiania.go.gov.br/wp-uploads/sites/3/2020/06/Informe-COVID-19-n%C2%BA-79-20.06.2020.pdf\n",
            "79\n",
            "https://saude.goiania.go.gov.br/wp-uploads/sites/3/2020/06/Informe-COVID-19-n%C2%BA-80-21.06.2020-padra%CC%83o.pdf\n",
            "80\n",
            "https://saude.goiania.go.gov.br/wp-uploads/sites/3/2020/06/Informe-COVID-19-n%C2%BA-81-22.06.2020.pdf\n",
            "81\n",
            "https://saude.goiania.go.gov.br/wp-uploads/sites/3/2020/06/Informe-COVID-19-n%C2%BA-82-23.06.2020.pdf\n",
            "82\n",
            "https://saude.goiania.go.gov.br/wp-uploads/sites/3/2020/06/Informe-COVID-19-n%C2%BA-83-24.06.2020.pdf\n",
            "83\n",
            "https://saude.goiania.go.gov.br/wp-uploads/sites/3/2020/06/Informe-COVID-19-n%C2%BA-84-25.06.2020.pdf\n",
            "84\n",
            "https://saude.goiania.go.gov.br/wp-uploads/sites/3/2020/06/Informe-COVID-19-n%C2%BA-85-26.06.2020.pdf\n",
            "85\n",
            "https://saude.goiania.go.gov.br/wp-uploads/sites/3/2020/06/Informe-COVID-19-n%C2%BA-86-27.06.2020-padra%CC%83o.pdf\n",
            "86\n",
            "https://saude.goiania.go.gov.br/wp-uploads/sites/3/2020/06/Informe-COVID-19-n%C2%BA-87-28.06.2020.pdf\n",
            "87\n",
            "https://saude.goiania.go.gov.br/wp-uploads/sites/3/2020/06/Informe-COVID-19-n%C2%BA-88-29.06.2020.pdf\n",
            "88\n",
            "https://saude.goiania.go.gov.br/wp-uploads/sites/3/2020/06/Informe-COVID-19-n%C2%BA-89-30.06.2020.pdf\n",
            "89\n",
            "https://saude.goiania.go.gov.br/wp-uploads/sites/3/2020/07/Informe-COVID-19-n%C2%BA-100-11.07.2020-padra%CC%83o-1.pdf\n",
            "90\n",
            "https://saude.goiania.go.gov.br/wp-uploads/sites/3/2020/07/Informe-COVID-19-n%C2%BA-101-12.07.2020-1.pdf\n",
            "91\n",
            "https://saude.goiania.go.gov.br/wp-uploads/sites/3/2020/07/Informe-COVID-19-n%C2%BA-102-13.07.2020.pdf\n",
            "92\n",
            "https://saude.goiania.go.gov.br/wp-uploads/sites/3/2020/07/Informe-COVID-19-n%C2%BA-103-14.07.2020.pdf\n",
            "93\n",
            "https://saude.goiania.go.gov.br/wp-uploads/sites/3/2020/07/Informe-COVID-19-n%C2%BA-104-15.07.2020.pdf\n",
            "94\n",
            "https://saude.goiania.go.gov.br/wp-uploads/sites/3/2020/07/Informe-COVID-19-n%C2%BA-105-16.07.2020.pdf\n",
            "95\n",
            "https://saude.goiania.go.gov.br/wp-uploads/sites/3/2020/07/Informe-COVID-19-n%C2%BA-106-17.07.2020-b.pdf\n",
            "96\n",
            "https://saude.goiania.go.gov.br/wp-uploads/sites/3/2020/07/Informe-COVID-19-n%C2%BA-107-18.07.2020-b.pdf\n",
            "97\n",
            "https://saude.goiania.go.gov.br/wp-uploads/sites/3/2020/07/Informe-COVID-19-n%C2%BA-108-19.07.2020-c.pdf\n",
            "98\n",
            "https://saude.goiania.go.gov.br/wp-uploads/sites/3/2020/07/Informe-COVID-19-n%C2%BA-109-20.07.2020-c.pdf\n",
            "99\n",
            "https://saude.goiania.go.gov.br/wp-uploads/sites/3/2020/07/Informe-COVID-19-n%C2%BA-110-21.07.2020.pdf\n",
            "100\n",
            "https://saude.goiania.go.gov.br/wp-uploads/sites/3/2020/07/Informe-COVID-19-n%C2%BA-111-22.07.2020d.pdf\n",
            "101\n",
            "https://saude.goiania.go.gov.br/wp-uploads/sites/3/2020/07/Informe-COVID-19-n%C2%BA-112-23.07.2020.pdf\n",
            "102\n",
            "https://saude.goiania.go.gov.br/wp-uploads/sites/3/2020/07/Informe-COVID-19-n%C2%BA-113-24.07.2020.pdf\n",
            "103\n",
            "https://saude.goiania.go.gov.br/wp-uploads/sites/3/2020/07/Informe-COVID-19-n%C2%BA-114-25.07.2020.pdf\n",
            "104\n",
            "https://saude.goiania.go.gov.br/wp-uploads/sites/3/2020/07/Informe-COVID-19-n%C2%BA-115-26.07.2020-c.pdf\n",
            "105\n",
            "https://saude.goiania.go.gov.br/wp-uploads/sites/3/2020/07/Informe-COVID-19-n%C2%BA-116-27.07.2020.pdf\n",
            "106\n",
            "https://saude.goiania.go.gov.br/wp-uploads/sites/3/2020/07/Informe-COVID-19-n%C2%BA-117-28.07.2020.pdf\n",
            "107\n",
            "https://saude.goiania.go.gov.br/wp-uploads/sites/3/2020/07/Informe-COVID-19-n%C2%BA-118-29.07.2020-d.pdf\n",
            "108\n",
            "https://saude.goiania.go.gov.br/wp-uploads/sites/3/2020/07/Informe-COVID-19-n%C2%BA-119-30.07.2020-1.pdf\n",
            "109\n",
            "https://saude.goiania.go.gov.br/wp-uploads/sites/3/2020/07/Informe-COVID-19-n%C2%BA-120-31.07.2020.pdf\n",
            "110\n",
            "https://saude.goiania.go.gov.br/wp-uploads/sites/3/2020/07/Informe-COVID-19-n%C2%BA-90-01.07.2020.pdf\n",
            "111\n",
            "https://saude.goiania.go.gov.br/wp-uploads/sites/3/2020/07/Informe-COVID-19-n%C2%BA-91-02.07.2020-1.pdf\n",
            "112\n",
            "https://saude.goiania.go.gov.br/wp-uploads/sites/3/2020/07/Informe-COVID-19-n%C2%BA-92-03.07.2020.pdf\n",
            "113\n",
            "https://saude.goiania.go.gov.br/wp-uploads/sites/3/2020/07/Informe-COVID-19-n%C2%BA-93-04.07.2020.pdf\n",
            "114\n",
            "https://saude.goiania.go.gov.br/wp-uploads/sites/3/2020/07/Informe-COVID-19-n%C2%BA-94-05.07.2020-padra%CC%83o.pdf\n",
            "115\n",
            "https://saude.goiania.go.gov.br/wp-uploads/sites/3/2020/07/Informe-COVID-19-n%C2%BA-95-06.07.2020.pdf\n",
            "116\n",
            "https://saude.goiania.go.gov.br/wp-uploads/sites/3/2020/07/Informe-COVID-19-n%C2%BA-96-07.07.2020.pdf\n",
            "117\n",
            "https://saude.goiania.go.gov.br/wp-uploads/sites/3/2020/07/Informe-COVID-19-n%C2%BA-97-08.07.2020.pdf\n",
            "118\n",
            "https://saude.goiania.go.gov.br/wp-uploads/sites/3/2020/07/Informe-COVID-19-n%C2%BA-98-09.07.2020.pdf\n",
            "119\n",
            "https://saude.goiania.go.gov.br/wp-uploads/sites/3/2020/07/Informe-COVID-19-n%C2%BA-99-10.07.2020.pdf\n",
            "120\n",
            "https://saude.goiania.go.gov.br/wp-uploads/sites/3/2020/08/Informe-COVID-19-no-145-25.08.2020-2.pdf\n",
            "121\n",
            "https://saude.goiania.go.gov.br/wp-uploads/sites/3/2020/08/Informe-COVID-19-no-146-26.08.2020.pdf\n",
            "122\n",
            "https://saude.goiania.go.gov.br/wp-uploads/sites/3/2020/08/Informe-COVID-19-no-147-27.08.2020.pdf\n",
            "123\n",
            "https://saude.goiania.go.gov.br/wp-uploads/sites/3/2020/08/Informe-COVID-19-no-148-28.08.2020.pdf\n",
            "124\n",
            "https://saude.goiania.go.gov.br/wp-uploads/sites/3/2020/08/Informe-COVID-19-no-149-29.08.2020-d.pdf\n",
            "125\n",
            "https://saude.goiania.go.gov.br/wp-uploads/sites/3/2020/08/Informe-COVID-19-no-150-30.08.2020-d.pdf\n",
            "126\n",
            "https://saude.goiania.go.gov.br/wp-uploads/sites/3/2020/08/Informe-COVID-19-no-151-31.08.2020.pdf\n",
            "127\n",
            "https://saude.goiania.go.gov.br/wp-uploads/sites/3/2020/08/Informe-COVID-19-n%C2%BA-121-01.08.2020.pdf\n",
            "128\n",
            "https://saude.goiania.go.gov.br/wp-uploads/sites/3/2020/08/Informe-COVID-19-n%C2%BA-122-02.08.2020.pdf\n",
            "129\n",
            "https://saude.goiania.go.gov.br/wp-uploads/sites/3/2020/08/Informe-COVID-19-n%C2%BA-123-03.08.2020.pdf\n",
            "130\n",
            "https://saude.goiania.go.gov.br/wp-uploads/sites/3/2020/08/Informe-COVID-19-n%C2%BA-124-04.08.2020-1.pdf\n",
            "131\n",
            "https://saude.goiania.go.gov.br/wp-uploads/sites/3/2020/08/Informe-COVID-19-n%C2%BA-125-05.08.2020.pdf\n",
            "132\n",
            "https://saude.goiania.go.gov.br/wp-uploads/sites/3/2020/08/Informe-COVID-19-n%C2%BA-126-06.08.2020.pdf\n",
            "133\n",
            "https://saude.goiania.go.gov.br/wp-uploads/sites/3/2020/08/Informe-COVID-19-n%C2%BA-127-07.08.2020.pdf\n",
            "134\n",
            "https://saude.goiania.go.gov.br/wp-uploads/sites/3/2020/08/Informe-COVID-19-n%C2%BA-128-08.08.2020.pdf\n",
            "135\n",
            "https://saude.goiania.go.gov.br/wp-uploads/sites/3/2020/08/Informe-COVID-19-n%C2%BA-129-09.08.2020.pdf\n",
            "136\n",
            "https://saude.goiania.go.gov.br/wp-uploads/sites/3/2020/08/Informe-COVID-19-n%C2%BA-130-10.08.2020.pdf\n",
            "137\n",
            "https://saude.goiania.go.gov.br/wp-uploads/sites/3/2020/08/Informe-COVID-19-n%C2%BA-131-11.08.2020.pdf\n",
            "138\n",
            "https://saude.goiania.go.gov.br/wp-uploads/sites/3/2020/08/Informe-COVID-19-n%C2%BA-132-12.08.2020.pdf\n",
            "139\n",
            "https://saude.goiania.go.gov.br/wp-uploads/sites/3/2020/08/Informe-COVID-19-n%C2%BA-133-13.08.2020.pdf\n",
            "140\n",
            "https://saude.goiania.go.gov.br/wp-uploads/sites/3/2020/08/Informe-COVID-19-n%C2%BA-134-14.08.2020.pdf\n",
            "141\n",
            "https://saude.goiania.go.gov.br/wp-uploads/sites/3/2020/08/Informe-COVID-19-n%C2%BA-135-15.08.2020.pdf\n",
            "142\n",
            "https://saude.goiania.go.gov.br/wp-uploads/sites/3/2020/08/Informe-COVID-19-n%C2%BA-136-16.08.2020.pdf\n",
            "143\n",
            "https://saude.goiania.go.gov.br/wp-uploads/sites/3/2020/08/Informe-COVID-19-n%C2%BA-137-17.08.2020.pdf\n",
            "144\n",
            "https://saude.goiania.go.gov.br/wp-uploads/sites/3/2020/08/Informe-COVID-19-n%C2%BA-138-18.08.2020.pdf\n",
            "145\n",
            "https://saude.goiania.go.gov.br/wp-uploads/sites/3/2020/08/Informe-COVID-19-n%C2%BA-139-19.08.2020.pdf\n",
            "146\n",
            "https://saude.goiania.go.gov.br/wp-uploads/sites/3/2020/08/Informe-COVID-19-n%C2%BA-140-20.08.2020.pdf\n",
            "147\n",
            "https://saude.goiania.go.gov.br/wp-uploads/sites/3/2020/08/Informe-COVID-19-n%C2%BA-141-21.08.2020.pdf\n",
            "148\n",
            "https://saude.goiania.go.gov.br/wp-uploads/sites/3/2020/08/Informe-COVID-19-n%C2%BA-142-22.08.2020.pdf\n",
            "149\n",
            "https://saude.goiania.go.gov.br/wp-uploads/sites/3/2020/08/Informe-COVID-19-n%C2%BA-143-23.08.2020.pdf\n",
            "150\n",
            "https://saude.goiania.go.gov.br/wp-uploads/sites/3/2020/08/Informe-COVID-19-n%C2%BA-144-24.08.2020.pdf\n",
            "151\n",
            "https://saude.goiania.go.gov.br/wp-uploads/sites/3/2020/09/Informe-COVID-19-no-152-01.09.2020-1.pdf\n",
            "152\n",
            "https://saude.goiania.go.gov.br/wp-uploads/sites/3/2020/09/Informe-COVID-19-no-153-02.09.2020.pdf\n",
            "153\n",
            "https://saude.goiania.go.gov.br/wp-uploads/sites/3/2020/09/Informe-COVID-19-no-154-03.09.2020.pdf\n",
            "154\n",
            "https://saude.goiania.go.gov.br/wp-uploads/sites/3/2020/09/Informe-COVID-19-no-155-04.09.2020.pdf\n",
            "155\n",
            "https://saude.goiania.go.gov.br/wp-uploads/sites/3/2020/09/Informe-COVID-19-no-156-05.09.2020.pdf\n",
            "156\n",
            "https://saude.goiania.go.gov.br/wp-uploads/sites/3/2020/09/Informe-COVID-19-no-157-06.09.2020-d.pdf\n",
            "157\n",
            "https://saude.goiania.go.gov.br/wp-uploads/sites/3/2020/09/Informe-COVID-19-no-158-07.09.2020-d.pdf\n",
            "158\n",
            "https://saude.goiania.go.gov.br/wp-uploads/sites/3/2020/09/Informe-COVID-19-no-159-08.09.2020.pdf\n",
            "159\n",
            "https://saude.goiania.go.gov.br/wp-uploads/sites/3/2020/09/Informe-COVID-19-no-160-09.09.2020.pdf\n",
            "160\n",
            "https://saude.goiania.go.gov.br/wp-uploads/sites/3/2020/09/Informe-COVID-19-no-161-10.09.2020.pdf\n",
            "161\n",
            "https://saude.goiania.go.gov.br/wp-uploads/sites/3/2020/09/Informe-COVID-19-no-162-11.09.2020.pdf\n",
            "162\n",
            "https://saude.goiania.go.gov.br/wp-uploads/sites/3/2020/09/Informe-COVID-19-no-165-14.09.2020.pdf\n",
            "163\n",
            "https://saude.goiania.go.gov.br/wp-uploads/sites/3/2020/09/Informe-COVID-19-no-166-15.09.2020.pdf\n",
            "164\n",
            "https://saude.goiania.go.gov.br/wp-uploads/sites/3/2020/09/Informe-COVID-19-no-167-16.09.2020.pdf\n",
            "165\n",
            "https://saude.goiania.go.gov.br/wp-uploads/sites/3/2020/09/Informe-COVID-19-no-168-17.09.2020.pdf\n",
            "166\n",
            "https://saude.goiania.go.gov.br/wp-uploads/sites/3/2020/09/Informe-COVID-19-no-169-18.09.2020.pdf\n"
          ],
          "name": "stdout"
        }
      ]
    },
    {
      "cell_type": "code",
      "metadata": {
        "colab_type": "code",
        "id": "3Jlot5e1uGU5",
        "colab": {
          "base_uri": "https://localhost:8080/",
          "height": 1000
        },
        "outputId": "007c0e96-94ef-4918-a24d-271ad337ce20"
      },
      "source": [
        "###############################################################\n",
        "######### OBJETIVO: LER O HTML E EXTRAIR OS DADOS #############\n",
        "###############################################################\n",
        "\n",
        "num_informes = len(urls_pdfs) #quantidades de informes publicados\n",
        "i = 0\n",
        "j = 0\n",
        "conteudos = []\n",
        "dataset = {}\n",
        "\n",
        "def pega_data(url):\n",
        "    indice = 0\n",
        "    while indice < len(url):\n",
        "        if url[indice] == '2':\n",
        "            if url[indice+1] == '0':\n",
        "                if url[indice+2] == '2':\n",
        "                    if url[indice+3] == '0':\n",
        "                        if url[indice+4] != '/':\n",
        "                            data = url[indice] + url[indice+1]+url[indice+2]+url[indice+3]+'-'+url[indice-3]+url[indice-2]+'-'+url[indice-6]+url[indice-5]\n",
        "                            # print(data)\n",
        "                            return data\n",
        "                \n",
        "        \n",
        "        indice+=1\n",
        "\n",
        "    return '0000-00-00'        \n",
        "\n",
        "\n",
        "\n",
        "def cria_lista_bairros_e_casos(bairro_casos):\n",
        "    try:\n",
        "        num_casos = bairro_casos.split(' ')[-1]\n",
        "        num_casos = int(num_casos)\n",
        "        qdt_dig_casos = int (math.log10 (num_casos))+2\n",
        "        bairro = bairro_casos[:len(bairro_casos)-qdt_dig_casos]\n",
        "        return [bairro, num_casos]\n",
        "\n",
        "    except ValueError as e:\n",
        "        return [0, 0]\n",
        "\n",
        "\n",
        "for url in urls_pdfs_modificadas:\n",
        "\n",
        "    if i <= num_informes:\n",
        "        print(i)\n",
        "        i+=1\n",
        "        conteudos.clear()\n",
        "        conteudos.append(parser.from_file(url))\n",
        "        time.sleep(8)\n",
        "\n",
        "        #armazena o conteudo do pdf em conteudos_pdfs.txt (um pdf por vez)\n",
        "        #repare no conteudos.clear() linhas acima\n",
        "        arquivo = open('conteudos-pdfs.txt', 'w')\n",
        "        for linha in conteudos:\n",
        "            arquivo.write(linha['content']) \n",
        "        arquivo.close()\n",
        "\n",
        "        #pega a data do informe\n",
        "        data = pega_data(url)\n",
        "        data = data[:10]\n",
        "        print(data)\n",
        "\n",
        "        #abre o arquivo e captura a data em que foi criado\n",
        "        arquivo = open('conteudos-pdfs.txt', 'r')\n",
        "        lista = arquivo.readlines()\n",
        "        arquivo.close()\n",
        "\n",
        "        df = pd.DataFrame(lista)\n",
        "        delete_row = df[df[0]=='\\n'].index\n",
        "        df = df.drop(delete_row)\n",
        "        df.reset_index(inplace=True)\n",
        "        df.drop(columns=['index'], axis=1, inplace=True)\n",
        "\n",
        "        row_iterator = df.iterrows()\n",
        "\n",
        "        while 1:\n",
        "            try:\n",
        "                for aux in range(len(df)):\n",
        "                    linha_atual = next(row_iterator)\n",
        "                    \n",
        "                    if 'Setor Bueno' in linha_atual[1][0]:\n",
        "                        while 1:\n",
        "                            #cria um dicionario no formato bairro: num_casos\n",
        "                            ret = cria_lista_bairros_e_casos(linha_atual[1][0])\n",
        "                            if (ret[0] != 0 and ret[0] != 0):\n",
        "                                dataset[j] = {'data': data, 'bairro': ret[0], 'num_casos': ret[1]}\n",
        "                                j+=1\n",
        "                            #\"outros\" é a flag usada para parar o loop\n",
        "                            if 'Outros' in linha_atual[1][0]:                        \n",
        "                                break  \n",
        "                            linha_atual = next(row_iterator)            \n",
        "\n",
        "            except StopIteration as e:\n",
        "                    print(e)\n",
        "                    break\n",
        "    else:\n",
        "        i+=1\n",
        "\n",
        "\n"
      ],
      "execution_count": null,
      "outputs": [
        {
          "output_type": "stream",
          "text": [
            "2020-09-19 13:58:15,554 [MainThread  ] [INFO ]  Retrieving https://goiania.go.gov.br/sms/wp-uploads/sites/3/2020/05/Informe-COVID-19-n%C2%BA-30-02.05.2020.pdf to /tmp/sms-wp-uploads-sites-3-2020-05-informe-covid-19-n-c2-ba-30-02.05.2020.pdf.\n"
          ],
          "name": "stderr"
        },
        {
          "output_type": "stream",
          "text": [
            "0\n"
          ],
          "name": "stdout"
        },
        {
          "output_type": "stream",
          "text": [
            "2020-09-19 13:58:18,974 [MainThread  ] [INFO ]  Retrieving http://search.maven.org/remotecontent?filepath=org/apache/tika/tika-server/1.24/tika-server-1.24.jar to /tmp/tika-server.jar.\n",
            "2020-09-19 13:58:19,937 [MainThread  ] [INFO ]  Retrieving http://search.maven.org/remotecontent?filepath=org/apache/tika/tika-server/1.24/tika-server-1.24.jar.md5 to /tmp/tika-server.jar.md5.\n",
            "2020-09-19 13:58:20,380 [MainThread  ] [WARNI]  Failed to see startup log message; retrying...\n",
            "2020-09-19 13:58:45,171 [MainThread  ] [INFO ]  Retrieving https://saude.goiania.go.gov.br/wp-uploads/sites/3/2020/04/Informe-COVID-19-n%C2%BA-1-03-04-2020.pdf to /tmp/wp-uploads-sites-3-2020-04-informe-covid-19-n-c2-ba-1-03-04-2020.pdf.\n"
          ],
          "name": "stderr"
        },
        {
          "output_type": "stream",
          "text": [
            "2020-05-02\n",
            "\n",
            "1\n"
          ],
          "name": "stdout"
        },
        {
          "output_type": "stream",
          "text": [
            "2020-09-19 13:58:54,962 [MainThread  ] [INFO ]  Retrieving https://saude.goiania.go.gov.br/wp-uploads/sites/3/2020/04/Informe-COVID-19-n%C2%BA-10-12.04.2020.pdf to /tmp/wp-uploads-sites-3-2020-04-informe-covid-19-n-c2-ba-10-12.04.2020.pdf.\n"
          ],
          "name": "stderr"
        },
        {
          "output_type": "stream",
          "text": [
            "2020-04-03\n",
            "\n",
            "2\n"
          ],
          "name": "stdout"
        },
        {
          "output_type": "stream",
          "text": [
            "2020-09-19 13:59:05,047 [MainThread  ] [INFO ]  Retrieving https://saude.goiania.go.gov.br/wp-uploads/sites/3/2020/04/Informe-COVID-19-n%C2%BA-11-13.04.2020.pdf to /tmp/wp-uploads-sites-3-2020-04-informe-covid-19-n-c2-ba-11-13.04.2020.pdf.\n"
          ],
          "name": "stderr"
        },
        {
          "output_type": "stream",
          "text": [
            "2020-04-12\n",
            "\n",
            "3\n"
          ],
          "name": "stdout"
        },
        {
          "output_type": "stream",
          "text": [
            "2020-09-19 13:59:15,391 [MainThread  ] [INFO ]  Retrieving https://saude.goiania.go.gov.br/wp-uploads/sites/3/2020/04/Informe-COVID-19-n%C2%BA-12-14.04.2020.pdf to /tmp/wp-uploads-sites-3-2020-04-informe-covid-19-n-c2-ba-12-14.04.2020.pdf.\n"
          ],
          "name": "stderr"
        },
        {
          "output_type": "stream",
          "text": [
            "2020-04-13\n",
            "\n",
            "4\n"
          ],
          "name": "stdout"
        },
        {
          "output_type": "stream",
          "text": [
            "2020-09-19 13:59:24,929 [MainThread  ] [INFO ]  Retrieving https://saude.goiania.go.gov.br/wp-uploads/sites/3/2020/04/Informe-COVID-19-n%C2%BA-13-15.04.2020-2.pdf to /tmp/wp-uploads-sites-3-2020-04-informe-covid-19-n-c2-ba-13-15.04.2020-2.pdf.\n"
          ],
          "name": "stderr"
        },
        {
          "output_type": "stream",
          "text": [
            "2020-04-14\n",
            "\n",
            "5\n"
          ],
          "name": "stdout"
        },
        {
          "output_type": "stream",
          "text": [
            "2020-09-19 13:59:34,465 [MainThread  ] [INFO ]  Retrieving https://saude.goiania.go.gov.br/wp-uploads/sites/3/2020/04/Informe-COVID-19-n%C2%BA-14-16.04.2020.pdf to /tmp/wp-uploads-sites-3-2020-04-informe-covid-19-n-c2-ba-14-16.04.2020.pdf.\n"
          ],
          "name": "stderr"
        },
        {
          "output_type": "stream",
          "text": [
            "2020-04-15\n",
            "\n",
            "6\n"
          ],
          "name": "stdout"
        },
        {
          "output_type": "stream",
          "text": [
            "2020-09-19 13:59:44,402 [MainThread  ] [INFO ]  Retrieving https://saude.goiania.go.gov.br/wp-uploads/sites/3/2020/04/Informe-COVID-19-n%C2%BA-15-17.04.2020_2.pdf to /tmp/wp-uploads-sites-3-2020-04-informe-covid-19-n-c2-ba-15-17.04.2020_2.pdf.\n"
          ],
          "name": "stderr"
        },
        {
          "output_type": "stream",
          "text": [
            "2020-04-16\n",
            "\n",
            "7\n"
          ],
          "name": "stdout"
        },
        {
          "output_type": "stream",
          "text": [
            "2020-09-19 13:59:54,183 [MainThread  ] [INFO ]  Retrieving https://saude.goiania.go.gov.br/wp-uploads/sites/3/2020/04/Informe-COVID-19-n%C2%BA-16-18.04.2020.pdf to /tmp/wp-uploads-sites-3-2020-04-informe-covid-19-n-c2-ba-16-18.04.2020.pdf.\n"
          ],
          "name": "stderr"
        },
        {
          "output_type": "stream",
          "text": [
            "2020-04-17\n",
            "\n",
            "8\n"
          ],
          "name": "stdout"
        },
        {
          "output_type": "stream",
          "text": [
            "2020-09-19 14:00:04,223 [MainThread  ] [INFO ]  Retrieving https://saude.goiania.go.gov.br/wp-uploads/sites/3/2020/04/Informe-COVID-19-n%C2%BA-17-19.04.2020.pdf to /tmp/wp-uploads-sites-3-2020-04-informe-covid-19-n-c2-ba-17-19.04.2020.pdf.\n"
          ],
          "name": "stderr"
        },
        {
          "output_type": "stream",
          "text": [
            "2020-04-18\n",
            "\n",
            "9\n"
          ],
          "name": "stdout"
        },
        {
          "output_type": "stream",
          "text": [
            "2020-09-19 14:00:13,755 [MainThread  ] [INFO ]  Retrieving https://saude.goiania.go.gov.br/wp-uploads/sites/3/2020/04/Informe-COVID-19-n%C2%BA-18-20.04.2020.pdf to /tmp/wp-uploads-sites-3-2020-04-informe-covid-19-n-c2-ba-18-20.04.2020.pdf.\n"
          ],
          "name": "stderr"
        },
        {
          "output_type": "stream",
          "text": [
            "2020-04-19\n",
            "\n",
            "10\n"
          ],
          "name": "stdout"
        },
        {
          "output_type": "stream",
          "text": [
            "2020-09-19 14:00:23,473 [MainThread  ] [INFO ]  Retrieving https://saude.goiania.go.gov.br/wp-uploads/sites/3/2020/04/Informe-COVID-19-n%C2%BA-19-21.04.2020.pdf to /tmp/wp-uploads-sites-3-2020-04-informe-covid-19-n-c2-ba-19-21.04.2020.pdf.\n"
          ],
          "name": "stderr"
        },
        {
          "output_type": "stream",
          "text": [
            "2020-04-20\n",
            "\n",
            "11\n"
          ],
          "name": "stdout"
        },
        {
          "output_type": "stream",
          "text": [
            "2020-09-19 14:00:33,658 [MainThread  ] [INFO ]  Retrieving https://saude.goiania.go.gov.br/wp-uploads/sites/3/2020/04/Informe-COVID-19-n%C2%BA-2-04.04.2020.pdf to /tmp/wp-uploads-sites-3-2020-04-informe-covid-19-n-c2-ba-2-04.04.2020.pdf.\n"
          ],
          "name": "stderr"
        },
        {
          "output_type": "stream",
          "text": [
            "2020-04-21\n",
            "\n",
            "12\n"
          ],
          "name": "stdout"
        },
        {
          "output_type": "stream",
          "text": [
            "2020-09-19 14:00:43,343 [MainThread  ] [INFO ]  Retrieving https://saude.goiania.go.gov.br/wp-uploads/sites/3/2020/04/Informe-COVID-19-n%C2%BA-20-22.04.2020.pdf to /tmp/wp-uploads-sites-3-2020-04-informe-covid-19-n-c2-ba-20-22.04.2020.pdf.\n"
          ],
          "name": "stderr"
        },
        {
          "output_type": "stream",
          "text": [
            "2020-04-04\n",
            "\n",
            "13\n"
          ],
          "name": "stdout"
        },
        {
          "output_type": "stream",
          "text": [
            "2020-09-19 14:00:52,844 [MainThread  ] [INFO ]  Retrieving https://saude.goiania.go.gov.br/wp-uploads/sites/3/2020/04/Informe-COVID-19-n%C2%BA-21-23.04.2020.pdf to /tmp/wp-uploads-sites-3-2020-04-informe-covid-19-n-c2-ba-21-23.04.2020.pdf.\n"
          ],
          "name": "stderr"
        },
        {
          "output_type": "stream",
          "text": [
            "2020-04-22\n",
            "\n",
            "14\n"
          ],
          "name": "stdout"
        },
        {
          "output_type": "stream",
          "text": [
            "2020-09-19 14:01:02,727 [MainThread  ] [INFO ]  Retrieving https://saude.goiania.go.gov.br/wp-uploads/sites/3/2020/04/Informe-COVID-19-n%C2%BA-22-24.04.2020.pdf to /tmp/wp-uploads-sites-3-2020-04-informe-covid-19-n-c2-ba-22-24.04.2020.pdf.\n"
          ],
          "name": "stderr"
        },
        {
          "output_type": "stream",
          "text": [
            "2020-04-23\n",
            "\n",
            "15\n"
          ],
          "name": "stdout"
        },
        {
          "output_type": "stream",
          "text": [
            "2020-09-19 14:01:12,728 [MainThread  ] [INFO ]  Retrieving https://saude.goiania.go.gov.br/wp-uploads/sites/3/2020/04/Informe-COVID-19-n%C2%BA-23-25.04.2020.pdf to /tmp/wp-uploads-sites-3-2020-04-informe-covid-19-n-c2-ba-23-25.04.2020.pdf.\n"
          ],
          "name": "stderr"
        },
        {
          "output_type": "stream",
          "text": [
            "2020-04-24\n",
            "\n",
            "16\n"
          ],
          "name": "stdout"
        },
        {
          "output_type": "stream",
          "text": [
            "2020-09-19 14:01:22,656 [MainThread  ] [INFO ]  Retrieving https://saude.goiania.go.gov.br/wp-uploads/sites/3/2020/04/Informe-COVID-19-n%C2%BA-24-26.04.2020.pdf to /tmp/wp-uploads-sites-3-2020-04-informe-covid-19-n-c2-ba-24-26.04.2020.pdf.\n"
          ],
          "name": "stderr"
        },
        {
          "output_type": "stream",
          "text": [
            "2020-04-25\n",
            "\n",
            "17\n"
          ],
          "name": "stdout"
        },
        {
          "output_type": "stream",
          "text": [
            "2020-09-19 14:01:32,574 [MainThread  ] [INFO ]  Retrieving https://saude.goiania.go.gov.br/wp-uploads/sites/3/2020/04/Informe-COVID-19-n%C2%BA-25-27.04.2020.pdf to /tmp/wp-uploads-sites-3-2020-04-informe-covid-19-n-c2-ba-25-27.04.2020.pdf.\n"
          ],
          "name": "stderr"
        },
        {
          "output_type": "stream",
          "text": [
            "2020-04-26\n",
            "\n",
            "18\n"
          ],
          "name": "stdout"
        },
        {
          "output_type": "stream",
          "text": [
            "2020-09-19 14:01:42,474 [MainThread  ] [INFO ]  Retrieving https://saude.goiania.go.gov.br/wp-uploads/sites/3/2020/04/Informe-COVID-19-n%C2%BA-26-28.04.2020.pdf to /tmp/wp-uploads-sites-3-2020-04-informe-covid-19-n-c2-ba-26-28.04.2020.pdf.\n"
          ],
          "name": "stderr"
        },
        {
          "output_type": "stream",
          "text": [
            "2020-04-27\n",
            "\n",
            "19\n"
          ],
          "name": "stdout"
        },
        {
          "output_type": "stream",
          "text": [
            "2020-09-19 14:01:52,223 [MainThread  ] [INFO ]  Retrieving https://saude.goiania.go.gov.br/wp-uploads/sites/3/2020/04/Informe-COVID-19-n%C2%BA-27-29.04.2020.pdf to /tmp/wp-uploads-sites-3-2020-04-informe-covid-19-n-c2-ba-27-29.04.2020.pdf.\n"
          ],
          "name": "stderr"
        },
        {
          "output_type": "stream",
          "text": [
            "2020-04-28\n",
            "\n",
            "20\n"
          ],
          "name": "stdout"
        },
        {
          "output_type": "stream",
          "text": [
            "2020-09-19 14:02:01,948 [MainThread  ] [INFO ]  Retrieving https://saude.goiania.go.gov.br/wp-uploads/sites/3/2020/04/Informe-COVID-19-n%C2%BA-28-30.04.2020.pdf to /tmp/wp-uploads-sites-3-2020-04-informe-covid-19-n-c2-ba-28-30.04.2020.pdf.\n"
          ],
          "name": "stderr"
        },
        {
          "output_type": "stream",
          "text": [
            "2020-04-29\n",
            "\n",
            "21\n"
          ],
          "name": "stdout"
        },
        {
          "output_type": "stream",
          "text": [
            "2020-09-19 14:02:11,655 [MainThread  ] [INFO ]  Retrieving https://saude.goiania.go.gov.br/wp-uploads/sites/3/2020/04/Informe-COVID-19-n%C2%BA-3-05.04.2020.pdf to /tmp/wp-uploads-sites-3-2020-04-informe-covid-19-n-c2-ba-3-05.04.2020.pdf.\n"
          ],
          "name": "stderr"
        },
        {
          "output_type": "stream",
          "text": [
            "2020-04-30\n",
            "\n",
            "22\n"
          ],
          "name": "stdout"
        },
        {
          "output_type": "stream",
          "text": [
            "2020-09-19 14:02:21,331 [MainThread  ] [INFO ]  Retrieving https://saude.goiania.go.gov.br/wp-uploads/sites/3/2020/04/Informe-COVID-19-n%C2%BA-4-06.04.2020.pdf to /tmp/wp-uploads-sites-3-2020-04-informe-covid-19-n-c2-ba-4-06.04.2020.pdf.\n"
          ],
          "name": "stderr"
        },
        {
          "output_type": "stream",
          "text": [
            "2020-04-05\n",
            "\n",
            "23\n"
          ],
          "name": "stdout"
        },
        {
          "output_type": "stream",
          "text": [
            "2020-09-19 14:02:30,847 [MainThread  ] [INFO ]  Retrieving https://saude.goiania.go.gov.br/wp-uploads/sites/3/2020/04/Informe-COVID-19-n%C2%BA-5-07.04.2020.pdf to /tmp/wp-uploads-sites-3-2020-04-informe-covid-19-n-c2-ba-5-07.04.2020.pdf.\n"
          ],
          "name": "stderr"
        },
        {
          "output_type": "stream",
          "text": [
            "2020-04-06\n",
            "\n",
            "24\n"
          ],
          "name": "stdout"
        },
        {
          "output_type": "stream",
          "text": [
            "2020-09-19 14:02:40,314 [MainThread  ] [INFO ]  Retrieving https://saude.goiania.go.gov.br/wp-uploads/sites/3/2020/04/Informe-COVID-19-n%C2%BA-6-08.04.2020.pdf to /tmp/wp-uploads-sites-3-2020-04-informe-covid-19-n-c2-ba-6-08.04.2020.pdf.\n"
          ],
          "name": "stderr"
        },
        {
          "output_type": "stream",
          "text": [
            "2020-04-07\n",
            "\n",
            "25\n"
          ],
          "name": "stdout"
        },
        {
          "output_type": "stream",
          "text": [
            "2020-09-19 14:02:49,768 [MainThread  ] [INFO ]  Retrieving https://saude.goiania.go.gov.br/wp-uploads/sites/3/2020/04/Informe-COVID-19-n%C2%BA-7-09.04.2020.pdf to /tmp/wp-uploads-sites-3-2020-04-informe-covid-19-n-c2-ba-7-09.04.2020.pdf.\n"
          ],
          "name": "stderr"
        },
        {
          "output_type": "stream",
          "text": [
            "2020-04-08\n",
            "\n",
            "26\n"
          ],
          "name": "stdout"
        },
        {
          "output_type": "stream",
          "text": [
            "2020-09-19 14:02:59,415 [MainThread  ] [INFO ]  Retrieving https://saude.goiania.go.gov.br/wp-uploads/sites/3/2020/04/Informe-COVID-19-n%C2%BA-8-10.04.2020.pdf to /tmp/wp-uploads-sites-3-2020-04-informe-covid-19-n-c2-ba-8-10.04.2020.pdf.\n"
          ],
          "name": "stderr"
        },
        {
          "output_type": "stream",
          "text": [
            "2020-04-09\n",
            "\n",
            "27\n"
          ],
          "name": "stdout"
        },
        {
          "output_type": "stream",
          "text": [
            "2020-09-19 14:03:09,067 [MainThread  ] [INFO ]  Retrieving https://saude.goiania.go.gov.br/wp-uploads/sites/3/2020/04/Informe-COVID-19-n%C2%BA-9-11.04.2020.pdf to /tmp/wp-uploads-sites-3-2020-04-informe-covid-19-n-c2-ba-9-11.04.2020.pdf.\n"
          ],
          "name": "stderr"
        },
        {
          "output_type": "stream",
          "text": [
            "2020-04-10\n",
            "\n",
            "28\n"
          ],
          "name": "stdout"
        },
        {
          "output_type": "stream",
          "text": [
            "2020-09-19 14:03:18,739 [MainThread  ] [INFO ]  Retrieving https://saude.goiania.go.gov.br/wp-uploads/sites/3/2020/05/Informe-COVID-19-n%C2%BA-31-03.05.2020.pdf to /tmp/wp-uploads-sites-3-2020-05-informe-covid-19-n-c2-ba-31-03.05.2020.pdf.\n"
          ],
          "name": "stderr"
        },
        {
          "output_type": "stream",
          "text": [
            "2020-04-11\n",
            "\n",
            "29\n"
          ],
          "name": "stdout"
        },
        {
          "output_type": "stream",
          "text": [
            "2020-09-19 14:03:28,646 [MainThread  ] [INFO ]  Retrieving https://saude.goiania.go.gov.br/wp-uploads/sites/3/2020/05/Informe-COVID-19-n%C2%BA-39-11.05.2020.pdf to /tmp/wp-uploads-sites-3-2020-05-informe-covid-19-n-c2-ba-39-11.05.2020.pdf.\n"
          ],
          "name": "stderr"
        },
        {
          "output_type": "stream",
          "text": [
            "2020-05-03\n",
            "\n",
            "30\n"
          ],
          "name": "stdout"
        },
        {
          "output_type": "stream",
          "text": [
            "2020-09-19 14:03:38,353 [MainThread  ] [INFO ]  Retrieving https://saude.goiania.go.gov.br/wp-uploads/sites/3/2020/05/Informe-COVID-19-n%C2%BA-44-16.05.2020.pdf to /tmp/wp-uploads-sites-3-2020-05-informe-covid-19-n-c2-ba-44-16.05.2020.pdf.\n"
          ],
          "name": "stderr"
        },
        {
          "output_type": "stream",
          "text": [
            "2020-05-11\n",
            "\n",
            "31\n"
          ],
          "name": "stdout"
        },
        {
          "output_type": "stream",
          "text": [
            "2020-09-19 14:03:48,480 [MainThread  ] [INFO ]  Retrieving https://saude.goiania.go.gov.br/wp-uploads/sites/3/2020/05/Informe-COVID-19-n%C2%BA-45-17.05.2020.pdf to /tmp/wp-uploads-sites-3-2020-05-informe-covid-19-n-c2-ba-45-17.05.2020.pdf.\n"
          ],
          "name": "stderr"
        },
        {
          "output_type": "stream",
          "text": [
            "2020-05-16\n",
            "\n",
            "32\n"
          ],
          "name": "stdout"
        },
        {
          "output_type": "stream",
          "text": [
            "2020-09-19 14:03:58,389 [MainThread  ] [INFO ]  Retrieving https://saude.goiania.go.gov.br/wp-uploads/sites/3/2020/05/Informe-COVID-19-n%C2%BA-46-18.05.2020.pdf to /tmp/wp-uploads-sites-3-2020-05-informe-covid-19-n-c2-ba-46-18.05.2020.pdf.\n"
          ],
          "name": "stderr"
        },
        {
          "output_type": "stream",
          "text": [
            "2020-05-17\n",
            "\n",
            "33\n"
          ],
          "name": "stdout"
        },
        {
          "output_type": "stream",
          "text": [
            "2020-09-19 14:04:08,503 [MainThread  ] [INFO ]  Retrieving https://saude.goiania.go.gov.br/wp-uploads/sites/3/2020/05/Informe-COVID-19-n%C2%BA-49-21.05.2020.pdf to /tmp/wp-uploads-sites-3-2020-05-informe-covid-19-n-c2-ba-49-21.05.2020.pdf.\n"
          ],
          "name": "stderr"
        },
        {
          "output_type": "stream",
          "text": [
            "2020-05-18\n",
            "\n",
            "34\n"
          ],
          "name": "stdout"
        },
        {
          "output_type": "stream",
          "text": [
            "2020-09-19 14:04:18,198 [MainThread  ] [INFO ]  Retrieving https://saude.goiania.go.gov.br/wp-uploads/sites/3/2020/05/Informe-COVID-19-n%C2%BA-29-01.05.2020.pdf to /tmp/wp-uploads-sites-3-2020-05-informe-covid-19-n-c2-ba-29-01.05.2020.pdf.\n"
          ],
          "name": "stderr"
        },
        {
          "output_type": "stream",
          "text": [
            "2020-05-21\n",
            "\n",
            "35\n"
          ],
          "name": "stdout"
        },
        {
          "output_type": "stream",
          "text": [
            "2020-09-19 14:04:28,310 [MainThread  ] [INFO ]  Retrieving https://saude.goiania.go.gov.br/wp-uploads/sites/3/2020/05/Informe-COVID-19-n%C2%BA-32-04.05.2020.pdf to /tmp/wp-uploads-sites-3-2020-05-informe-covid-19-n-c2-ba-32-04.05.2020.pdf.\n"
          ],
          "name": "stderr"
        },
        {
          "output_type": "stream",
          "text": [
            "2020-05-01\n",
            "\n",
            "36\n"
          ],
          "name": "stdout"
        },
        {
          "output_type": "stream",
          "text": [
            "2020-09-19 14:04:38,027 [MainThread  ] [INFO ]  Retrieving https://saude.goiania.go.gov.br/wp-uploads/sites/3/2020/05/Informe-COVID-19-n%C2%BA-33-05.05.2020.pdf to /tmp/wp-uploads-sites-3-2020-05-informe-covid-19-n-c2-ba-33-05.05.2020.pdf.\n"
          ],
          "name": "stderr"
        },
        {
          "output_type": "stream",
          "text": [
            "2020-05-04\n",
            "\n",
            "37\n"
          ],
          "name": "stdout"
        },
        {
          "output_type": "stream",
          "text": [
            "2020-09-19 14:04:48,000 [MainThread  ] [INFO ]  Retrieving https://saude.goiania.go.gov.br/wp-uploads/sites/3/2020/05/Informe-COVID-19-n%C2%BA-34-06.05.2020.pdf to /tmp/wp-uploads-sites-3-2020-05-informe-covid-19-n-c2-ba-34-06.05.2020.pdf.\n"
          ],
          "name": "stderr"
        },
        {
          "output_type": "stream",
          "text": [
            "2020-05-05\n",
            "\n",
            "38\n"
          ],
          "name": "stdout"
        },
        {
          "output_type": "stream",
          "text": [
            "2020-09-19 14:04:57,895 [MainThread  ] [INFO ]  Retrieving https://saude.goiania.go.gov.br/wp-uploads/sites/3/2020/05/Informe-COVID-19-n%C2%BA-35-07.05.2020.pdf to /tmp/wp-uploads-sites-3-2020-05-informe-covid-19-n-c2-ba-35-07.05.2020.pdf.\n"
          ],
          "name": "stderr"
        },
        {
          "output_type": "stream",
          "text": [
            "2020-05-06\n",
            "\n",
            "39\n"
          ],
          "name": "stdout"
        },
        {
          "output_type": "stream",
          "text": [
            "2020-09-19 14:05:07,983 [MainThread  ] [INFO ]  Retrieving https://saude.goiania.go.gov.br/wp-uploads/sites/3/2020/05/Informe-COVID-19-n%C2%BA-36-08.05.2020.pdf to /tmp/wp-uploads-sites-3-2020-05-informe-covid-19-n-c2-ba-36-08.05.2020.pdf.\n"
          ],
          "name": "stderr"
        },
        {
          "output_type": "stream",
          "text": [
            "2020-05-07\n",
            "\n",
            "40\n"
          ],
          "name": "stdout"
        },
        {
          "output_type": "stream",
          "text": [
            "2020-09-19 14:05:17,936 [MainThread  ] [INFO ]  Retrieving https://saude.goiania.go.gov.br/wp-uploads/sites/3/2020/05/Informe-COVID-19-n%C2%BA-37-09.05.2020.pdf to /tmp/wp-uploads-sites-3-2020-05-informe-covid-19-n-c2-ba-37-09.05.2020.pdf.\n"
          ],
          "name": "stderr"
        },
        {
          "output_type": "stream",
          "text": [
            "2020-05-08\n",
            "\n",
            "41\n"
          ],
          "name": "stdout"
        },
        {
          "output_type": "stream",
          "text": [
            "2020-09-19 14:05:27,880 [MainThread  ] [INFO ]  Retrieving https://saude.goiania.go.gov.br/wp-uploads/sites/3/2020/05/Informe-COVID-19-n%C2%BA-38-10.05.2020.pdf to /tmp/wp-uploads-sites-3-2020-05-informe-covid-19-n-c2-ba-38-10.05.2020.pdf.\n"
          ],
          "name": "stderr"
        },
        {
          "output_type": "stream",
          "text": [
            "2020-05-09\n",
            "\n",
            "42\n"
          ],
          "name": "stdout"
        },
        {
          "output_type": "stream",
          "text": [
            "2020-09-19 14:05:37,577 [MainThread  ] [INFO ]  Retrieving https://saude.goiania.go.gov.br/wp-uploads/sites/3/2020/05/Informe-COVID-19-n%C2%BA-40-12.05.2020.pdf to /tmp/wp-uploads-sites-3-2020-05-informe-covid-19-n-c2-ba-40-12.05.2020.pdf.\n"
          ],
          "name": "stderr"
        },
        {
          "output_type": "stream",
          "text": [
            "2020-05-10\n",
            "\n",
            "43\n"
          ],
          "name": "stdout"
        },
        {
          "output_type": "stream",
          "text": [
            "2020-09-19 14:05:47,338 [MainThread  ] [INFO ]  Retrieving https://saude.goiania.go.gov.br/wp-uploads/sites/3/2020/05/Informe-COVID-19-n%C2%BA-41-13.05.2020.pdf to /tmp/wp-uploads-sites-3-2020-05-informe-covid-19-n-c2-ba-41-13.05.2020.pdf.\n"
          ],
          "name": "stderr"
        },
        {
          "output_type": "stream",
          "text": [
            "2020-05-12\n",
            "\n",
            "44\n"
          ],
          "name": "stdout"
        },
        {
          "output_type": "stream",
          "text": [
            "2020-09-19 14:05:57,013 [MainThread  ] [INFO ]  Retrieving https://saude.goiania.go.gov.br/wp-uploads/sites/3/2020/05/Informe-COVID-19-n%C2%BA-42-14.05.2020-1.pdf to /tmp/wp-uploads-sites-3-2020-05-informe-covid-19-n-c2-ba-42-14.05.2020-1.pdf.\n"
          ],
          "name": "stderr"
        },
        {
          "output_type": "stream",
          "text": [
            "2020-05-13\n",
            "\n",
            "45\n"
          ],
          "name": "stdout"
        },
        {
          "output_type": "stream",
          "text": [
            "2020-09-19 14:06:07,095 [MainThread  ] [INFO ]  Retrieving https://saude.goiania.go.gov.br/wp-uploads/sites/3/2020/05/Informe-COVID-19-n%C2%BA-43-15.05.2020.pdf to /tmp/wp-uploads-sites-3-2020-05-informe-covid-19-n-c2-ba-43-15.05.2020.pdf.\n"
          ],
          "name": "stderr"
        },
        {
          "output_type": "stream",
          "text": [
            "2020-05-14\n",
            "\n",
            "46\n"
          ],
          "name": "stdout"
        },
        {
          "output_type": "stream",
          "text": [
            "2020-09-19 14:06:16,975 [MainThread  ] [INFO ]  Retrieving https://saude.goiania.go.gov.br/wp-uploads/sites/3/2020/05/Informe-COVID-19-n%C2%BA-47-19.05.2020.pdf to /tmp/wp-uploads-sites-3-2020-05-informe-covid-19-n-c2-ba-47-19.05.2020.pdf.\n"
          ],
          "name": "stderr"
        },
        {
          "output_type": "stream",
          "text": [
            "2020-05-15\n",
            "\n",
            "47\n"
          ],
          "name": "stdout"
        },
        {
          "output_type": "stream",
          "text": [
            "2020-09-19 14:06:26,656 [MainThread  ] [INFO ]  Retrieving https://saude.goiania.go.gov.br/wp-uploads/sites/3/2020/05/Informe-COVID-19-n%C2%BA-48-20.05.2020.pdf to /tmp/wp-uploads-sites-3-2020-05-informe-covid-19-n-c2-ba-48-20.05.2020.pdf.\n"
          ],
          "name": "stderr"
        },
        {
          "output_type": "stream",
          "text": [
            "2020-05-19\n",
            "\n",
            "48\n"
          ],
          "name": "stdout"
        },
        {
          "output_type": "stream",
          "text": [
            "2020-09-19 14:06:36,365 [MainThread  ] [INFO ]  Retrieving https://saude.goiania.go.gov.br/wp-uploads/sites/3/2020/05/Informe-COVID-19-n%C2%BA-50-22.05.2020.pdf to /tmp/wp-uploads-sites-3-2020-05-informe-covid-19-n-c2-ba-50-22.05.2020.pdf.\n"
          ],
          "name": "stderr"
        },
        {
          "output_type": "stream",
          "text": [
            "2020-05-20\n",
            "\n",
            "49\n"
          ],
          "name": "stdout"
        },
        {
          "output_type": "stream",
          "text": [
            "2020-09-19 14:06:46,450 [MainThread  ] [INFO ]  Retrieving https://saude.goiania.go.gov.br/wp-uploads/sites/3/2020/05/Informe-COVID-19-n%C2%BA-51-23-05-2020.pdf to /tmp/wp-uploads-sites-3-2020-05-informe-covid-19-n-c2-ba-51-23-05-2020.pdf.\n"
          ],
          "name": "stderr"
        },
        {
          "output_type": "stream",
          "text": [
            "2020-05-22\n",
            "\n",
            "50\n"
          ],
          "name": "stdout"
        },
        {
          "output_type": "stream",
          "text": [
            "2020-09-19 14:06:56,168 [MainThread  ] [INFO ]  Retrieving https://saude.goiania.go.gov.br/wp-uploads/sites/3/2020/05/Informe-COVID-19-n%C2%BA-52-24-05-2020.pdf to /tmp/wp-uploads-sites-3-2020-05-informe-covid-19-n-c2-ba-52-24-05-2020.pdf.\n"
          ],
          "name": "stderr"
        },
        {
          "output_type": "stream",
          "text": [
            "2020-05-23\n",
            "\n",
            "51\n"
          ],
          "name": "stdout"
        },
        {
          "output_type": "stream",
          "text": [
            "2020-09-19 14:07:06,061 [MainThread  ] [INFO ]  Retrieving https://saude.goiania.go.gov.br/wp-uploads/sites/3/2020/05/Informe-COVID-19-n%C2%BA-53-25.05.2020-1.pdf to /tmp/wp-uploads-sites-3-2020-05-informe-covid-19-n-c2-ba-53-25.05.2020-1.pdf.\n"
          ],
          "name": "stderr"
        },
        {
          "output_type": "stream",
          "text": [
            "2020-05-24\n",
            "\n",
            "52\n"
          ],
          "name": "stdout"
        },
        {
          "output_type": "stream",
          "text": [
            "2020-09-19 14:07:15,802 [MainThread  ] [INFO ]  Retrieving https://saude.goiania.go.gov.br/wp-uploads/sites/3/2020/05/Informe-COVID-19-n%C2%BA-54-26.05.2020-1.pdf to /tmp/wp-uploads-sites-3-2020-05-informe-covid-19-n-c2-ba-54-26.05.2020-1.pdf.\n"
          ],
          "name": "stderr"
        },
        {
          "output_type": "stream",
          "text": [
            "2020-05-25\n",
            "\n",
            "53\n"
          ],
          "name": "stdout"
        },
        {
          "output_type": "stream",
          "text": [
            "2020-09-19 14:07:25,714 [MainThread  ] [INFO ]  Retrieving https://saude.goiania.go.gov.br/wp-uploads/sites/3/2020/05/Informe-COVID-19-n%C2%BA-55-27.05.2020.pdf to /tmp/wp-uploads-sites-3-2020-05-informe-covid-19-n-c2-ba-55-27.05.2020.pdf.\n"
          ],
          "name": "stderr"
        },
        {
          "output_type": "stream",
          "text": [
            "2020-05-26\n",
            "\n",
            "54\n"
          ],
          "name": "stdout"
        },
        {
          "output_type": "stream",
          "text": [
            "2020-09-19 14:07:35,799 [MainThread  ] [INFO ]  Retrieving https://saude.goiania.go.gov.br/wp-uploads/sites/3/2020/05/Informe-COVID-19-n%C2%BA-56-28.05.2020.pdf to /tmp/wp-uploads-sites-3-2020-05-informe-covid-19-n-c2-ba-56-28.05.2020.pdf.\n"
          ],
          "name": "stderr"
        },
        {
          "output_type": "stream",
          "text": [
            "2020-05-27\n",
            "\n",
            "55\n"
          ],
          "name": "stdout"
        },
        {
          "output_type": "stream",
          "text": [
            "2020-09-19 14:07:45,494 [MainThread  ] [INFO ]  Retrieving https://saude.goiania.go.gov.br/wp-uploads/sites/3/2020/05/Informe-COVID-19-n%C2%BA-57-29.05.2020.pdf to /tmp/wp-uploads-sites-3-2020-05-informe-covid-19-n-c2-ba-57-29.05.2020.pdf.\n"
          ],
          "name": "stderr"
        },
        {
          "output_type": "stream",
          "text": [
            "2020-05-28\n",
            "\n",
            "56\n"
          ],
          "name": "stdout"
        },
        {
          "output_type": "stream",
          "text": [
            "2020-09-19 14:07:56,031 [MainThread  ] [INFO ]  Retrieving https://saude.goiania.go.gov.br/wp-uploads/sites/3/2020/05/Informe-COVID-19-n%C2%BA-58-30.05.2020.pdf to /tmp/wp-uploads-sites-3-2020-05-informe-covid-19-n-c2-ba-58-30.05.2020.pdf.\n"
          ],
          "name": "stderr"
        },
        {
          "output_type": "stream",
          "text": [
            "2020-05-29\n",
            "\n",
            "57\n"
          ],
          "name": "stdout"
        },
        {
          "output_type": "stream",
          "text": [
            "2020-09-19 14:08:06,260 [MainThread  ] [INFO ]  Retrieving https://saude.goiania.go.gov.br/wp-uploads/sites/3/2020/05/Informe-COVID-19-n%C2%BA-59-31.05.2020.pdf to /tmp/wp-uploads-sites-3-2020-05-informe-covid-19-n-c2-ba-59-31.05.2020.pdf.\n"
          ],
          "name": "stderr"
        },
        {
          "output_type": "stream",
          "text": [
            "2020-05-30\n",
            "\n",
            "58\n"
          ],
          "name": "stdout"
        },
        {
          "output_type": "stream",
          "text": [
            "2020-09-19 14:08:16,571 [MainThread  ] [INFO ]  Retrieving https://saude.goiania.go.gov.br/wp-uploads/sites/3/2020/06/Informe-COVID-19-n%C2%BA-60-01.06.2020.pdf to /tmp/wp-uploads-sites-3-2020-06-informe-covid-19-n-c2-ba-60-01.06.2020.pdf.\n"
          ],
          "name": "stderr"
        },
        {
          "output_type": "stream",
          "text": [
            "2020-05-31\n",
            "\n",
            "59\n"
          ],
          "name": "stdout"
        },
        {
          "output_type": "stream",
          "text": [
            "2020-09-19 14:08:26,480 [MainThread  ] [INFO ]  Retrieving https://saude.goiania.go.gov.br/wp-uploads/sites/3/2020/06/Informe-COVID-19-n%C2%BA-61-02.06.2020-1.pdf to /tmp/wp-uploads-sites-3-2020-06-informe-covid-19-n-c2-ba-61-02.06.2020-1.pdf.\n"
          ],
          "name": "stderr"
        },
        {
          "output_type": "stream",
          "text": [
            "2020-06-01\n",
            "\n",
            "60\n"
          ],
          "name": "stdout"
        },
        {
          "output_type": "stream",
          "text": [
            "2020-09-19 14:08:36,640 [MainThread  ] [INFO ]  Retrieving https://saude.goiania.go.gov.br/wp-uploads/sites/3/2020/06/Informe-COVID-19-n%C2%BA-62-03.06.2020-1.pdf to /tmp/wp-uploads-sites-3-2020-06-informe-covid-19-n-c2-ba-62-03.06.2020-1.pdf.\n"
          ],
          "name": "stderr"
        },
        {
          "output_type": "stream",
          "text": [
            "2020-06-02\n",
            "\n",
            "61\n"
          ],
          "name": "stdout"
        },
        {
          "output_type": "stream",
          "text": [
            "2020-09-19 14:08:46,765 [MainThread  ] [INFO ]  Retrieving https://saude.goiania.go.gov.br/wp-uploads/sites/3/2020/06/Informe-COVID-19-n%C2%BA-63-04.06.2020.pdf to /tmp/wp-uploads-sites-3-2020-06-informe-covid-19-n-c2-ba-63-04.06.2020.pdf.\n"
          ],
          "name": "stderr"
        },
        {
          "output_type": "stream",
          "text": [
            "2020-06-03\n",
            "\n",
            "62\n"
          ],
          "name": "stdout"
        },
        {
          "output_type": "stream",
          "text": [
            "2020-09-19 14:08:56,862 [MainThread  ] [INFO ]  Retrieving https://saude.goiania.go.gov.br/wp-uploads/sites/3/2020/06/Informe-COVID-19-n%C2%BA-64-05.06.2020.pdf to /tmp/wp-uploads-sites-3-2020-06-informe-covid-19-n-c2-ba-64-05.06.2020.pdf.\n"
          ],
          "name": "stderr"
        },
        {
          "output_type": "stream",
          "text": [
            "2020-06-04\n",
            "\n",
            "63\n"
          ],
          "name": "stdout"
        },
        {
          "output_type": "stream",
          "text": [
            "2020-09-19 14:09:07,023 [MainThread  ] [INFO ]  Retrieving https://saude.goiania.go.gov.br/wp-uploads/sites/3/2020/06/Informe-COVID-19-n%C2%BA-65-06.06.2020-.pdf to /tmp/wp-uploads-sites-3-2020-06-informe-covid-19-n-c2-ba-65-06.06.2020-.pdf.\n"
          ],
          "name": "stderr"
        },
        {
          "output_type": "stream",
          "text": [
            "2020-06-05\n",
            "\n",
            "64\n"
          ],
          "name": "stdout"
        },
        {
          "output_type": "stream",
          "text": [
            "2020-09-19 14:09:17,007 [MainThread  ] [INFO ]  Retrieving https://saude.goiania.go.gov.br/wp-uploads/sites/3/2020/06/Informe-COVID-19-n%C2%BA-66-07.06.2020.pdf to /tmp/wp-uploads-sites-3-2020-06-informe-covid-19-n-c2-ba-66-07.06.2020.pdf.\n"
          ],
          "name": "stderr"
        },
        {
          "output_type": "stream",
          "text": [
            "2020-06-06\n",
            "\n",
            "65\n"
          ],
          "name": "stdout"
        },
        {
          "output_type": "stream",
          "text": [
            "2020-09-19 14:09:26,889 [MainThread  ] [INFO ]  Retrieving https://saude.goiania.go.gov.br/wp-uploads/sites/3/2020/06/Informe-COVID-19-n%C2%BA-67-08.06.2020.pdf to /tmp/wp-uploads-sites-3-2020-06-informe-covid-19-n-c2-ba-67-08.06.2020.pdf.\n"
          ],
          "name": "stderr"
        },
        {
          "output_type": "stream",
          "text": [
            "2020-06-07\n",
            "\n",
            "66\n"
          ],
          "name": "stdout"
        },
        {
          "output_type": "stream",
          "text": [
            "2020-09-19 14:09:37,204 [MainThread  ] [INFO ]  Retrieving https://saude.goiania.go.gov.br/wp-uploads/sites/3/2020/06/Informe-COVID-19-n%C2%BA-68-09.06.2020.pdf to /tmp/wp-uploads-sites-3-2020-06-informe-covid-19-n-c2-ba-68-09.06.2020.pdf.\n"
          ],
          "name": "stderr"
        },
        {
          "output_type": "stream",
          "text": [
            "2020-06-08\n",
            "\n",
            "67\n"
          ],
          "name": "stdout"
        },
        {
          "output_type": "stream",
          "text": [
            "2020-09-19 14:09:47,108 [MainThread  ] [INFO ]  Retrieving https://saude.goiania.go.gov.br/wp-uploads/sites/3/2020/06/Informe-COVID-19-n%C2%BA-69-10.06.2020.pdf to /tmp/wp-uploads-sites-3-2020-06-informe-covid-19-n-c2-ba-69-10.06.2020.pdf.\n"
          ],
          "name": "stderr"
        },
        {
          "output_type": "stream",
          "text": [
            "2020-06-09\n",
            "\n",
            "68\n"
          ],
          "name": "stdout"
        },
        {
          "output_type": "stream",
          "text": [
            "2020-09-19 14:09:57,218 [MainThread  ] [INFO ]  Retrieving https://saude.goiania.go.gov.br/wp-uploads/sites/3/2020/06/Informe-COVID-19-n%C2%BA-70-11.06.2020-C.pdf to /tmp/wp-uploads-sites-3-2020-06-informe-covid-19-n-c2-ba-70-11.06.2020-c.pdf.\n"
          ],
          "name": "stderr"
        },
        {
          "output_type": "stream",
          "text": [
            "2020-06-10\n",
            "\n",
            "69\n"
          ],
          "name": "stdout"
        },
        {
          "output_type": "stream",
          "text": [
            "2020-09-19 14:10:07,554 [MainThread  ] [INFO ]  Retrieving https://saude.goiania.go.gov.br/wp-uploads/sites/3/2020/06/Informe-COVID-19-n%C2%BA-71-12.06.2020.pdf to /tmp/wp-uploads-sites-3-2020-06-informe-covid-19-n-c2-ba-71-12.06.2020.pdf.\n"
          ],
          "name": "stderr"
        },
        {
          "output_type": "stream",
          "text": [
            "2020-06-11\n",
            "\n",
            "70\n"
          ],
          "name": "stdout"
        },
        {
          "output_type": "stream",
          "text": [
            "2020-09-19 14:10:17,721 [MainThread  ] [INFO ]  Retrieving https://saude.goiania.go.gov.br/wp-uploads/sites/3/2020/06/Informe-COVID-19-n%C2%BA-72-13.06.2020.pdf to /tmp/wp-uploads-sites-3-2020-06-informe-covid-19-n-c2-ba-72-13.06.2020.pdf.\n"
          ],
          "name": "stderr"
        },
        {
          "output_type": "stream",
          "text": [
            "2020-06-12\n",
            "\n",
            "71\n"
          ],
          "name": "stdout"
        },
        {
          "output_type": "stream",
          "text": [
            "2020-09-19 14:10:27,840 [MainThread  ] [INFO ]  Retrieving https://saude.goiania.go.gov.br/wp-uploads/sites/3/2020/06/Informe-COVID-19-n%C2%BA-73-14.06.2020-modelo.pdf to /tmp/wp-uploads-sites-3-2020-06-informe-covid-19-n-c2-ba-73-14.06.2020-modelo.pdf.\n"
          ],
          "name": "stderr"
        },
        {
          "output_type": "stream",
          "text": [
            "2020-06-13\n",
            "\n",
            "72\n"
          ],
          "name": "stdout"
        },
        {
          "output_type": "stream",
          "text": [
            "2020-09-19 14:10:39,538 [MainThread  ] [INFO ]  Retrieving https://saude.goiania.go.gov.br/wp-uploads/sites/3/2020/06/Informe-COVID-19-n%C2%BA-74-15.06.2020-D4.pdf to /tmp/wp-uploads-sites-3-2020-06-informe-covid-19-n-c2-ba-74-15.06.2020-d4.pdf.\n"
          ],
          "name": "stderr"
        },
        {
          "output_type": "stream",
          "text": [
            "2020-06-14\n",
            "\n",
            "73\n"
          ],
          "name": "stdout"
        },
        {
          "output_type": "stream",
          "text": [
            "2020-09-19 14:10:49,848 [MainThread  ] [INFO ]  Retrieving https://saude.goiania.go.gov.br/wp-uploads/sites/3/2020/06/Informe-COVID-19-n%C2%BA-75-16.06.2020.pdf to /tmp/wp-uploads-sites-3-2020-06-informe-covid-19-n-c2-ba-75-16.06.2020.pdf.\n"
          ],
          "name": "stderr"
        },
        {
          "output_type": "stream",
          "text": [
            "2020-06-15\n",
            "\n",
            "74\n"
          ],
          "name": "stdout"
        },
        {
          "output_type": "stream",
          "text": [
            "2020-09-19 14:10:59,942 [MainThread  ] [INFO ]  Retrieving https://saude.goiania.go.gov.br/wp-uploads/sites/3/2020/06/Informe-COVID-19-n%C2%BA-76-17.06.2020-1.pdf to /tmp/wp-uploads-sites-3-2020-06-informe-covid-19-n-c2-ba-76-17.06.2020-1.pdf.\n"
          ],
          "name": "stderr"
        },
        {
          "output_type": "stream",
          "text": [
            "2020-06-16\n",
            "\n",
            "75\n"
          ],
          "name": "stdout"
        },
        {
          "output_type": "stream",
          "text": [
            "2020-09-19 14:11:10,086 [MainThread  ] [INFO ]  Retrieving https://saude.goiania.go.gov.br/wp-uploads/sites/3/2020/06/Informe-COVID-19-n%C2%BA-77-18.06.2020.pdf to /tmp/wp-uploads-sites-3-2020-06-informe-covid-19-n-c2-ba-77-18.06.2020.pdf.\n"
          ],
          "name": "stderr"
        },
        {
          "output_type": "stream",
          "text": [
            "2020-06-17\n",
            "\n",
            "76\n"
          ],
          "name": "stdout"
        },
        {
          "output_type": "stream",
          "text": [
            "2020-09-19 14:11:20,002 [MainThread  ] [INFO ]  Retrieving https://saude.goiania.go.gov.br/wp-uploads/sites/3/2020/06/Informe-COVID-19-n%C2%BA-78-19.06.2020.pdf to /tmp/wp-uploads-sites-3-2020-06-informe-covid-19-n-c2-ba-78-19.06.2020.pdf.\n"
          ],
          "name": "stderr"
        },
        {
          "output_type": "stream",
          "text": [
            "2020-06-18\n",
            "\n",
            "77\n"
          ],
          "name": "stdout"
        },
        {
          "output_type": "stream",
          "text": [
            "2020-09-19 14:11:30,079 [MainThread  ] [INFO ]  Retrieving https://saude.goiania.go.gov.br/wp-uploads/sites/3/2020/06/Informe-COVID-19-n%C2%BA-79-20.06.2020.pdf to /tmp/wp-uploads-sites-3-2020-06-informe-covid-19-n-c2-ba-79-20.06.2020.pdf.\n"
          ],
          "name": "stderr"
        },
        {
          "output_type": "stream",
          "text": [
            "2020-06-19\n",
            "\n",
            "78\n"
          ],
          "name": "stdout"
        },
        {
          "output_type": "stream",
          "text": [
            "2020-09-19 14:11:39,962 [MainThread  ] [INFO ]  Retrieving https://saude.goiania.go.gov.br/wp-uploads/sites/3/2020/06/Informe-COVID-19-n%C2%BA-80-21.06.2020-padra%CC%83o.pdf to /tmp/wp-uploads-sites-3-2020-06-informe-covid-19-n-c2-ba-80-21.06.2020-padra-cc-83o.pdf.\n"
          ],
          "name": "stderr"
        },
        {
          "output_type": "stream",
          "text": [
            "2020-06-20\n",
            "\n",
            "79\n"
          ],
          "name": "stdout"
        },
        {
          "output_type": "stream",
          "text": [
            "2020-09-19 14:11:49,697 [MainThread  ] [INFO ]  Retrieving https://saude.goiania.go.gov.br/wp-uploads/sites/3/2020/06/Informe-COVID-19-n%C2%BA-81-22.06.2020.pdf to /tmp/wp-uploads-sites-3-2020-06-informe-covid-19-n-c2-ba-81-22.06.2020.pdf.\n"
          ],
          "name": "stderr"
        },
        {
          "output_type": "stream",
          "text": [
            "2020-06-21\n",
            "\n",
            "80\n"
          ],
          "name": "stdout"
        },
        {
          "output_type": "stream",
          "text": [
            "2020-09-19 14:12:00,019 [MainThread  ] [INFO ]  Retrieving https://saude.goiania.go.gov.br/wp-uploads/sites/3/2020/06/Informe-COVID-19-n%C2%BA-82-23.06.2020.pdf to /tmp/wp-uploads-sites-3-2020-06-informe-covid-19-n-c2-ba-82-23.06.2020.pdf.\n"
          ],
          "name": "stderr"
        },
        {
          "output_type": "stream",
          "text": [
            "2020-06-22\n",
            "\n",
            "81\n"
          ],
          "name": "stdout"
        },
        {
          "output_type": "stream",
          "text": [
            "2020-09-19 14:12:09,913 [MainThread  ] [INFO ]  Retrieving https://saude.goiania.go.gov.br/wp-uploads/sites/3/2020/06/Informe-COVID-19-n%C2%BA-83-24.06.2020.pdf to /tmp/wp-uploads-sites-3-2020-06-informe-covid-19-n-c2-ba-83-24.06.2020.pdf.\n"
          ],
          "name": "stderr"
        },
        {
          "output_type": "stream",
          "text": [
            "2020-06-23\n",
            "\n",
            "82\n"
          ],
          "name": "stdout"
        },
        {
          "output_type": "stream",
          "text": [
            "2020-09-19 14:12:20,214 [MainThread  ] [INFO ]  Retrieving https://saude.goiania.go.gov.br/wp-uploads/sites/3/2020/06/Informe-COVID-19-n%C2%BA-84-25.06.2020.pdf to /tmp/wp-uploads-sites-3-2020-06-informe-covid-19-n-c2-ba-84-25.06.2020.pdf.\n"
          ],
          "name": "stderr"
        },
        {
          "output_type": "stream",
          "text": [
            "2020-06-24\n",
            "\n",
            "83\n"
          ],
          "name": "stdout"
        },
        {
          "output_type": "stream",
          "text": [
            "2020-09-19 14:12:30,303 [MainThread  ] [INFO ]  Retrieving https://saude.goiania.go.gov.br/wp-uploads/sites/3/2020/06/Informe-COVID-19-n%C2%BA-85-26.06.2020.pdf to /tmp/wp-uploads-sites-3-2020-06-informe-covid-19-n-c2-ba-85-26.06.2020.pdf.\n"
          ],
          "name": "stderr"
        },
        {
          "output_type": "stream",
          "text": [
            "2020-06-25\n",
            "\n",
            "84\n"
          ],
          "name": "stdout"
        },
        {
          "output_type": "stream",
          "text": [
            "2020-09-19 14:12:40,394 [MainThread  ] [INFO ]  Retrieving https://saude.goiania.go.gov.br/wp-uploads/sites/3/2020/06/Informe-COVID-19-n%C2%BA-86-27.06.2020-padra%CC%83o.pdf to /tmp/wp-uploads-sites-3-2020-06-informe-covid-19-n-c2-ba-86-27.06.2020-padra-cc-83o.pdf.\n"
          ],
          "name": "stderr"
        },
        {
          "output_type": "stream",
          "text": [
            "2020-06-26\n",
            "\n",
            "85\n"
          ],
          "name": "stdout"
        },
        {
          "output_type": "stream",
          "text": [
            "2020-09-19 14:12:51,583 [MainThread  ] [INFO ]  Retrieving https://saude.goiania.go.gov.br/wp-uploads/sites/3/2020/06/Informe-COVID-19-n%C2%BA-87-28.06.2020.pdf to /tmp/wp-uploads-sites-3-2020-06-informe-covid-19-n-c2-ba-87-28.06.2020.pdf.\n"
          ],
          "name": "stderr"
        },
        {
          "output_type": "stream",
          "text": [
            "2020-06-27\n",
            "\n",
            "86\n"
          ],
          "name": "stdout"
        },
        {
          "output_type": "stream",
          "text": [
            "2020-09-19 14:13:01,464 [MainThread  ] [INFO ]  Retrieving https://saude.goiania.go.gov.br/wp-uploads/sites/3/2020/06/Informe-COVID-19-n%C2%BA-88-29.06.2020.pdf to /tmp/wp-uploads-sites-3-2020-06-informe-covid-19-n-c2-ba-88-29.06.2020.pdf.\n"
          ],
          "name": "stderr"
        },
        {
          "output_type": "stream",
          "text": [
            "2020-06-28\n",
            "\n",
            "87\n"
          ],
          "name": "stdout"
        },
        {
          "output_type": "stream",
          "text": [
            "2020-09-19 14:13:11,603 [MainThread  ] [INFO ]  Retrieving https://saude.goiania.go.gov.br/wp-uploads/sites/3/2020/06/Informe-COVID-19-n%C2%BA-89-30.06.2020.pdf to /tmp/wp-uploads-sites-3-2020-06-informe-covid-19-n-c2-ba-89-30.06.2020.pdf.\n"
          ],
          "name": "stderr"
        },
        {
          "output_type": "stream",
          "text": [
            "2020-06-29\n",
            "\n",
            "88\n"
          ],
          "name": "stdout"
        },
        {
          "output_type": "stream",
          "text": [
            "2020-09-19 14:13:21,541 [MainThread  ] [INFO ]  Retrieving https://saude.goiania.go.gov.br/wp-uploads/sites/3/2020/07/Informe-COVID-19-n%C2%BA-100-11.07.2020-padra%CC%83o-1.pdf to /tmp/wp-uploads-sites-3-2020-07-informe-covid-19-n-c2-ba-100-11.07.2020-padra-cc-83o-1.pdf.\n"
          ],
          "name": "stderr"
        },
        {
          "output_type": "stream",
          "text": [
            "2020-06-30\n",
            "\n",
            "89\n"
          ],
          "name": "stdout"
        },
        {
          "output_type": "stream",
          "text": [
            "2020-09-19 14:13:32,756 [MainThread  ] [INFO ]  Retrieving https://saude.goiania.go.gov.br/wp-uploads/sites/3/2020/07/Informe-COVID-19-n%C2%BA-101-12.07.2020-1.pdf to /tmp/wp-uploads-sites-3-2020-07-informe-covid-19-n-c2-ba-101-12.07.2020-1.pdf.\n"
          ],
          "name": "stderr"
        },
        {
          "output_type": "stream",
          "text": [
            "2020-07-11\n",
            "\n",
            "90\n"
          ],
          "name": "stdout"
        },
        {
          "output_type": "stream",
          "text": [
            "2020-09-19 14:13:44,113 [MainThread  ] [INFO ]  Retrieving https://saude.goiania.go.gov.br/wp-uploads/sites/3/2020/07/Informe-COVID-19-n%C2%BA-102-13.07.2020.pdf to /tmp/wp-uploads-sites-3-2020-07-informe-covid-19-n-c2-ba-102-13.07.2020.pdf.\n"
          ],
          "name": "stderr"
        },
        {
          "output_type": "stream",
          "text": [
            "2020-07-12\n",
            "\n",
            "91\n"
          ],
          "name": "stdout"
        },
        {
          "output_type": "stream",
          "text": [
            "2020-09-19 14:13:54,000 [MainThread  ] [INFO ]  Retrieving https://saude.goiania.go.gov.br/wp-uploads/sites/3/2020/07/Informe-COVID-19-n%C2%BA-103-14.07.2020.pdf to /tmp/wp-uploads-sites-3-2020-07-informe-covid-19-n-c2-ba-103-14.07.2020.pdf.\n"
          ],
          "name": "stderr"
        },
        {
          "output_type": "stream",
          "text": [
            "2020-07-13\n",
            "\n",
            "92\n"
          ],
          "name": "stdout"
        },
        {
          "output_type": "stream",
          "text": [
            "2020-09-19 14:14:03,900 [MainThread  ] [INFO ]  Retrieving https://saude.goiania.go.gov.br/wp-uploads/sites/3/2020/07/Informe-COVID-19-n%C2%BA-104-15.07.2020.pdf to /tmp/wp-uploads-sites-3-2020-07-informe-covid-19-n-c2-ba-104-15.07.2020.pdf.\n"
          ],
          "name": "stderr"
        },
        {
          "output_type": "stream",
          "text": [
            "2020-07-14\n",
            "\n",
            "93\n"
          ],
          "name": "stdout"
        },
        {
          "output_type": "stream",
          "text": [
            "2020-09-19 14:14:13,841 [MainThread  ] [INFO ]  Retrieving https://saude.goiania.go.gov.br/wp-uploads/sites/3/2020/07/Informe-COVID-19-n%C2%BA-105-16.07.2020.pdf to /tmp/wp-uploads-sites-3-2020-07-informe-covid-19-n-c2-ba-105-16.07.2020.pdf.\n"
          ],
          "name": "stderr"
        },
        {
          "output_type": "stream",
          "text": [
            "2020-07-15\n",
            "\n",
            "94\n"
          ],
          "name": "stdout"
        },
        {
          "output_type": "stream",
          "text": [
            "2020-09-19 14:14:23,737 [MainThread  ] [INFO ]  Retrieving https://saude.goiania.go.gov.br/wp-uploads/sites/3/2020/07/Informe-COVID-19-n%C2%BA-106-17.07.2020-b.pdf to /tmp/wp-uploads-sites-3-2020-07-informe-covid-19-n-c2-ba-106-17.07.2020-b.pdf.\n"
          ],
          "name": "stderr"
        },
        {
          "output_type": "stream",
          "text": [
            "2020-07-16\n",
            "\n",
            "95\n"
          ],
          "name": "stdout"
        },
        {
          "output_type": "stream",
          "text": [
            "2020-09-19 14:14:33,828 [MainThread  ] [INFO ]  Retrieving https://saude.goiania.go.gov.br/wp-uploads/sites/3/2020/07/Informe-COVID-19-n%C2%BA-107-18.07.2020-b.pdf to /tmp/wp-uploads-sites-3-2020-07-informe-covid-19-n-c2-ba-107-18.07.2020-b.pdf.\n"
          ],
          "name": "stderr"
        },
        {
          "output_type": "stream",
          "text": [
            "2020-07-17\n",
            "\n",
            "96\n"
          ],
          "name": "stdout"
        },
        {
          "output_type": "stream",
          "text": [
            "2020-09-19 14:14:44,005 [MainThread  ] [INFO ]  Retrieving https://saude.goiania.go.gov.br/wp-uploads/sites/3/2020/07/Informe-COVID-19-n%C2%BA-108-19.07.2020-c.pdf to /tmp/wp-uploads-sites-3-2020-07-informe-covid-19-n-c2-ba-108-19.07.2020-c.pdf.\n"
          ],
          "name": "stderr"
        },
        {
          "output_type": "stream",
          "text": [
            "2020-07-18\n",
            "\n",
            "97\n"
          ],
          "name": "stdout"
        },
        {
          "output_type": "stream",
          "text": [
            "2020-09-19 14:14:54,350 [MainThread  ] [INFO ]  Retrieving https://saude.goiania.go.gov.br/wp-uploads/sites/3/2020/07/Informe-COVID-19-n%C2%BA-109-20.07.2020-c.pdf to /tmp/wp-uploads-sites-3-2020-07-informe-covid-19-n-c2-ba-109-20.07.2020-c.pdf.\n"
          ],
          "name": "stderr"
        },
        {
          "output_type": "stream",
          "text": [
            "2020-07-19\n",
            "\n",
            "98\n"
          ],
          "name": "stdout"
        },
        {
          "output_type": "stream",
          "text": [
            "2020-09-19 14:15:04,240 [MainThread  ] [INFO ]  Retrieving https://saude.goiania.go.gov.br/wp-uploads/sites/3/2020/07/Informe-COVID-19-n%C2%BA-110-21.07.2020.pdf to /tmp/wp-uploads-sites-3-2020-07-informe-covid-19-n-c2-ba-110-21.07.2020.pdf.\n"
          ],
          "name": "stderr"
        },
        {
          "output_type": "stream",
          "text": [
            "2020-07-20\n",
            "\n",
            "99\n"
          ],
          "name": "stdout"
        },
        {
          "output_type": "stream",
          "text": [
            "2020-09-19 14:15:14,112 [MainThread  ] [INFO ]  Retrieving https://saude.goiania.go.gov.br/wp-uploads/sites/3/2020/07/Informe-COVID-19-n%C2%BA-111-22.07.2020d.pdf to /tmp/wp-uploads-sites-3-2020-07-informe-covid-19-n-c2-ba-111-22.07.2020d.pdf.\n"
          ],
          "name": "stderr"
        },
        {
          "output_type": "stream",
          "text": [
            "2020-07-21\n",
            "\n",
            "100\n"
          ],
          "name": "stdout"
        },
        {
          "output_type": "stream",
          "text": [
            "2020-09-19 14:15:24,378 [MainThread  ] [INFO ]  Retrieving https://saude.goiania.go.gov.br/wp-uploads/sites/3/2020/07/Informe-COVID-19-n%C2%BA-112-23.07.2020.pdf to /tmp/wp-uploads-sites-3-2020-07-informe-covid-19-n-c2-ba-112-23.07.2020.pdf.\n"
          ],
          "name": "stderr"
        },
        {
          "output_type": "stream",
          "text": [
            "2020-07-22\n",
            "\n",
            "101\n"
          ],
          "name": "stdout"
        },
        {
          "output_type": "stream",
          "text": [
            "2020-09-19 14:15:34,457 [MainThread  ] [INFO ]  Retrieving https://saude.goiania.go.gov.br/wp-uploads/sites/3/2020/07/Informe-COVID-19-n%C2%BA-113-24.07.2020.pdf to /tmp/wp-uploads-sites-3-2020-07-informe-covid-19-n-c2-ba-113-24.07.2020.pdf.\n"
          ],
          "name": "stderr"
        },
        {
          "output_type": "stream",
          "text": [
            "2020-07-23\n",
            "\n",
            "102\n"
          ],
          "name": "stdout"
        },
        {
          "output_type": "stream",
          "text": [
            "2020-09-19 14:15:44,754 [MainThread  ] [INFO ]  Retrieving https://saude.goiania.go.gov.br/wp-uploads/sites/3/2020/07/Informe-COVID-19-n%C2%BA-114-25.07.2020.pdf to /tmp/wp-uploads-sites-3-2020-07-informe-covid-19-n-c2-ba-114-25.07.2020.pdf.\n"
          ],
          "name": "stderr"
        },
        {
          "output_type": "stream",
          "text": [
            "2020-07-24\n",
            "\n",
            "103\n"
          ],
          "name": "stdout"
        },
        {
          "output_type": "stream",
          "text": [
            "2020-09-19 14:15:55,050 [MainThread  ] [INFO ]  Retrieving https://saude.goiania.go.gov.br/wp-uploads/sites/3/2020/07/Informe-COVID-19-n%C2%BA-115-26.07.2020-c.pdf to /tmp/wp-uploads-sites-3-2020-07-informe-covid-19-n-c2-ba-115-26.07.2020-c.pdf.\n"
          ],
          "name": "stderr"
        },
        {
          "output_type": "stream",
          "text": [
            "2020-07-25\n",
            "\n",
            "104\n"
          ],
          "name": "stdout"
        },
        {
          "output_type": "stream",
          "text": [
            "2020-09-19 14:16:07,097 [MainThread  ] [INFO ]  Retrieving https://saude.goiania.go.gov.br/wp-uploads/sites/3/2020/07/Informe-COVID-19-n%C2%BA-116-27.07.2020.pdf to /tmp/wp-uploads-sites-3-2020-07-informe-covid-19-n-c2-ba-116-27.07.2020.pdf.\n"
          ],
          "name": "stderr"
        },
        {
          "output_type": "stream",
          "text": [
            "2020-07-26\n",
            "\n",
            "105\n"
          ],
          "name": "stdout"
        },
        {
          "output_type": "stream",
          "text": [
            "2020-09-19 14:16:17,180 [MainThread  ] [INFO ]  Retrieving https://saude.goiania.go.gov.br/wp-uploads/sites/3/2020/07/Informe-COVID-19-n%C2%BA-117-28.07.2020.pdf to /tmp/wp-uploads-sites-3-2020-07-informe-covid-19-n-c2-ba-117-28.07.2020.pdf.\n"
          ],
          "name": "stderr"
        },
        {
          "output_type": "stream",
          "text": [
            "2020-07-27\n",
            "\n",
            "106\n"
          ],
          "name": "stdout"
        },
        {
          "output_type": "stream",
          "text": [
            "2020-09-19 14:16:27,258 [MainThread  ] [INFO ]  Retrieving https://saude.goiania.go.gov.br/wp-uploads/sites/3/2020/07/Informe-COVID-19-n%C2%BA-118-29.07.2020-d.pdf to /tmp/wp-uploads-sites-3-2020-07-informe-covid-19-n-c2-ba-118-29.07.2020-d.pdf.\n"
          ],
          "name": "stderr"
        },
        {
          "output_type": "stream",
          "text": [
            "2020-07-28\n",
            "\n",
            "107\n"
          ],
          "name": "stdout"
        },
        {
          "output_type": "stream",
          "text": [
            "2020-09-19 14:16:37,331 [MainThread  ] [INFO ]  Retrieving https://saude.goiania.go.gov.br/wp-uploads/sites/3/2020/07/Informe-COVID-19-n%C2%BA-119-30.07.2020-1.pdf to /tmp/wp-uploads-sites-3-2020-07-informe-covid-19-n-c2-ba-119-30.07.2020-1.pdf.\n"
          ],
          "name": "stderr"
        },
        {
          "output_type": "stream",
          "text": [
            "2020-07-29\n",
            "\n",
            "108\n"
          ],
          "name": "stdout"
        },
        {
          "output_type": "stream",
          "text": [
            "2020-09-19 14:16:47,264 [MainThread  ] [INFO ]  Retrieving https://saude.goiania.go.gov.br/wp-uploads/sites/3/2020/07/Informe-COVID-19-n%C2%BA-120-31.07.2020.pdf to /tmp/wp-uploads-sites-3-2020-07-informe-covid-19-n-c2-ba-120-31.07.2020.pdf.\n"
          ],
          "name": "stderr"
        },
        {
          "output_type": "stream",
          "text": [
            "2020-07-30\n",
            "\n",
            "109\n"
          ],
          "name": "stdout"
        },
        {
          "output_type": "stream",
          "text": [
            "2020-09-19 14:16:57,155 [MainThread  ] [INFO ]  Retrieving https://saude.goiania.go.gov.br/wp-uploads/sites/3/2020/07/Informe-COVID-19-n%C2%BA-90-01.07.2020.pdf to /tmp/wp-uploads-sites-3-2020-07-informe-covid-19-n-c2-ba-90-01.07.2020.pdf.\n"
          ],
          "name": "stderr"
        },
        {
          "output_type": "stream",
          "text": [
            "2020-07-31\n",
            "\n",
            "110\n"
          ],
          "name": "stdout"
        },
        {
          "output_type": "stream",
          "text": [
            "2020-09-19 14:17:07,249 [MainThread  ] [INFO ]  Retrieving https://saude.goiania.go.gov.br/wp-uploads/sites/3/2020/07/Informe-COVID-19-n%C2%BA-91-02.07.2020-1.pdf to /tmp/wp-uploads-sites-3-2020-07-informe-covid-19-n-c2-ba-91-02.07.2020-1.pdf.\n"
          ],
          "name": "stderr"
        },
        {
          "output_type": "stream",
          "text": [
            "2020-07-01\n",
            "\n",
            "111\n"
          ],
          "name": "stdout"
        },
        {
          "output_type": "stream",
          "text": [
            "2020-09-19 14:17:17,138 [MainThread  ] [INFO ]  Retrieving https://saude.goiania.go.gov.br/wp-uploads/sites/3/2020/07/Informe-COVID-19-n%C2%BA-92-03.07.2020.pdf to /tmp/wp-uploads-sites-3-2020-07-informe-covid-19-n-c2-ba-92-03.07.2020.pdf.\n"
          ],
          "name": "stderr"
        },
        {
          "output_type": "stream",
          "text": [
            "2020-07-02\n",
            "\n",
            "112\n"
          ],
          "name": "stdout"
        },
        {
          "output_type": "stream",
          "text": [
            "2020-09-19 14:17:27,038 [MainThread  ] [INFO ]  Retrieving https://saude.goiania.go.gov.br/wp-uploads/sites/3/2020/07/Informe-COVID-19-n%C2%BA-93-04.07.2020.pdf to /tmp/wp-uploads-sites-3-2020-07-informe-covid-19-n-c2-ba-93-04.07.2020.pdf.\n"
          ],
          "name": "stderr"
        },
        {
          "output_type": "stream",
          "text": [
            "2020-07-03\n",
            "\n",
            "113\n"
          ],
          "name": "stdout"
        },
        {
          "output_type": "stream",
          "text": [
            "2020-09-19 14:17:36,938 [MainThread  ] [INFO ]  Retrieving https://saude.goiania.go.gov.br/wp-uploads/sites/3/2020/07/Informe-COVID-19-n%C2%BA-94-05.07.2020-padra%CC%83o.pdf to /tmp/wp-uploads-sites-3-2020-07-informe-covid-19-n-c2-ba-94-05.07.2020-padra-cc-83o.pdf.\n"
          ],
          "name": "stderr"
        },
        {
          "output_type": "stream",
          "text": [
            "2020-07-04\n",
            "\n",
            "114\n"
          ],
          "name": "stdout"
        },
        {
          "output_type": "stream",
          "text": [
            "2020-09-19 14:17:48,104 [MainThread  ] [INFO ]  Retrieving https://saude.goiania.go.gov.br/wp-uploads/sites/3/2020/07/Informe-COVID-19-n%C2%BA-95-06.07.2020.pdf to /tmp/wp-uploads-sites-3-2020-07-informe-covid-19-n-c2-ba-95-06.07.2020.pdf.\n"
          ],
          "name": "stderr"
        },
        {
          "output_type": "stream",
          "text": [
            "2020-07-05\n",
            "\n",
            "115\n"
          ],
          "name": "stdout"
        },
        {
          "output_type": "stream",
          "text": [
            "2020-09-19 14:17:58,395 [MainThread  ] [INFO ]  Retrieving https://saude.goiania.go.gov.br/wp-uploads/sites/3/2020/07/Informe-COVID-19-n%C2%BA-96-07.07.2020.pdf to /tmp/wp-uploads-sites-3-2020-07-informe-covid-19-n-c2-ba-96-07.07.2020.pdf.\n"
          ],
          "name": "stderr"
        },
        {
          "output_type": "stream",
          "text": [
            "2020-07-06\n",
            "\n",
            "116\n"
          ],
          "name": "stdout"
        },
        {
          "output_type": "stream",
          "text": [
            "2020-09-19 14:18:08,279 [MainThread  ] [INFO ]  Retrieving https://saude.goiania.go.gov.br/wp-uploads/sites/3/2020/07/Informe-COVID-19-n%C2%BA-97-08.07.2020.pdf to /tmp/wp-uploads-sites-3-2020-07-informe-covid-19-n-c2-ba-97-08.07.2020.pdf.\n"
          ],
          "name": "stderr"
        },
        {
          "output_type": "stream",
          "text": [
            "2020-07-07\n",
            "\n",
            "117\n"
          ],
          "name": "stdout"
        },
        {
          "output_type": "stream",
          "text": [
            "2020-09-19 14:18:18,369 [MainThread  ] [INFO ]  Retrieving https://saude.goiania.go.gov.br/wp-uploads/sites/3/2020/07/Informe-COVID-19-n%C2%BA-98-09.07.2020.pdf to /tmp/wp-uploads-sites-3-2020-07-informe-covid-19-n-c2-ba-98-09.07.2020.pdf.\n"
          ],
          "name": "stderr"
        },
        {
          "output_type": "stream",
          "text": [
            "2020-07-08\n",
            "\n",
            "118\n"
          ],
          "name": "stdout"
        },
        {
          "output_type": "stream",
          "text": [
            "2020-09-19 14:18:28,483 [MainThread  ] [INFO ]  Retrieving https://saude.goiania.go.gov.br/wp-uploads/sites/3/2020/07/Informe-COVID-19-n%C2%BA-99-10.07.2020.pdf to /tmp/wp-uploads-sites-3-2020-07-informe-covid-19-n-c2-ba-99-10.07.2020.pdf.\n"
          ],
          "name": "stderr"
        },
        {
          "output_type": "stream",
          "text": [
            "2020-07-09\n",
            "\n",
            "119\n"
          ],
          "name": "stdout"
        },
        {
          "output_type": "stream",
          "text": [
            "2020-09-19 14:18:38,569 [MainThread  ] [INFO ]  Retrieving https://saude.goiania.go.gov.br/wp-uploads/sites/3/2020/08/Informe-COVID-19-no-145-25.08.2020-2.pdf to /tmp/wp-uploads-sites-3-2020-08-informe-covid-19-no-145-25.08.2020-2.pdf.\n"
          ],
          "name": "stderr"
        },
        {
          "output_type": "stream",
          "text": [
            "2020-07-10\n",
            "\n",
            "120\n"
          ],
          "name": "stdout"
        },
        {
          "output_type": "stream",
          "text": [
            "2020-09-19 14:18:48,466 [MainThread  ] [INFO ]  Retrieving https://saude.goiania.go.gov.br/wp-uploads/sites/3/2020/08/Informe-COVID-19-no-146-26.08.2020.pdf to /tmp/wp-uploads-sites-3-2020-08-informe-covid-19-no-146-26.08.2020.pdf.\n"
          ],
          "name": "stderr"
        },
        {
          "output_type": "stream",
          "text": [
            "2020-08-25\n",
            "\n",
            "121\n"
          ],
          "name": "stdout"
        },
        {
          "output_type": "stream",
          "text": [
            "2020-09-19 14:18:58,594 [MainThread  ] [INFO ]  Retrieving https://saude.goiania.go.gov.br/wp-uploads/sites/3/2020/08/Informe-COVID-19-no-147-27.08.2020.pdf to /tmp/wp-uploads-sites-3-2020-08-informe-covid-19-no-147-27.08.2020.pdf.\n"
          ],
          "name": "stderr"
        },
        {
          "output_type": "stream",
          "text": [
            "2020-08-26\n",
            "\n",
            "122\n"
          ],
          "name": "stdout"
        },
        {
          "output_type": "stream",
          "text": [
            "2020-09-19 14:19:08,704 [MainThread  ] [INFO ]  Retrieving https://saude.goiania.go.gov.br/wp-uploads/sites/3/2020/08/Informe-COVID-19-no-148-28.08.2020.pdf to /tmp/wp-uploads-sites-3-2020-08-informe-covid-19-no-148-28.08.2020.pdf.\n"
          ],
          "name": "stderr"
        },
        {
          "output_type": "stream",
          "text": [
            "2020-08-27\n",
            "\n",
            "123\n"
          ],
          "name": "stdout"
        },
        {
          "output_type": "stream",
          "text": [
            "2020-09-19 14:19:18,836 [MainThread  ] [INFO ]  Retrieving https://saude.goiania.go.gov.br/wp-uploads/sites/3/2020/08/Informe-COVID-19-no-149-29.08.2020-d.pdf to /tmp/wp-uploads-sites-3-2020-08-informe-covid-19-no-149-29.08.2020-d.pdf.\n"
          ],
          "name": "stderr"
        },
        {
          "output_type": "stream",
          "text": [
            "2020-08-28\n",
            "\n",
            "124\n"
          ],
          "name": "stdout"
        },
        {
          "output_type": "stream",
          "text": [
            "2020-09-19 14:19:31,192 [MainThread  ] [INFO ]  Retrieving https://saude.goiania.go.gov.br/wp-uploads/sites/3/2020/08/Informe-COVID-19-no-150-30.08.2020-d.pdf to /tmp/wp-uploads-sites-3-2020-08-informe-covid-19-no-150-30.08.2020-d.pdf.\n"
          ],
          "name": "stderr"
        },
        {
          "output_type": "stream",
          "text": [
            "2020-08-29\n",
            "\n",
            "125\n"
          ],
          "name": "stdout"
        },
        {
          "output_type": "stream",
          "text": [
            "2020-09-19 14:19:43,755 [MainThread  ] [INFO ]  Retrieving https://saude.goiania.go.gov.br/wp-uploads/sites/3/2020/08/Informe-COVID-19-no-151-31.08.2020.pdf to /tmp/wp-uploads-sites-3-2020-08-informe-covid-19-no-151-31.08.2020.pdf.\n"
          ],
          "name": "stderr"
        },
        {
          "output_type": "stream",
          "text": [
            "2020-08-30\n",
            "\n",
            "126\n"
          ],
          "name": "stdout"
        },
        {
          "output_type": "stream",
          "text": [
            "2020-09-19 14:19:53,642 [MainThread  ] [INFO ]  Retrieving https://saude.goiania.go.gov.br/wp-uploads/sites/3/2020/08/Informe-COVID-19-n%C2%BA-121-01.08.2020.pdf to /tmp/wp-uploads-sites-3-2020-08-informe-covid-19-n-c2-ba-121-01.08.2020.pdf.\n"
          ],
          "name": "stderr"
        },
        {
          "output_type": "stream",
          "text": [
            "2020-08-31\n",
            "\n",
            "127\n"
          ],
          "name": "stdout"
        },
        {
          "output_type": "stream",
          "text": [
            "2020-09-19 14:20:03,531 [MainThread  ] [INFO ]  Retrieving https://saude.goiania.go.gov.br/wp-uploads/sites/3/2020/08/Informe-COVID-19-n%C2%BA-122-02.08.2020.pdf to /tmp/wp-uploads-sites-3-2020-08-informe-covid-19-n-c2-ba-122-02.08.2020.pdf.\n"
          ],
          "name": "stderr"
        },
        {
          "output_type": "stream",
          "text": [
            "2020-08-01\n",
            "\n",
            "128\n"
          ],
          "name": "stdout"
        },
        {
          "output_type": "stream",
          "text": [
            "2020-09-19 14:20:13,602 [MainThread  ] [INFO ]  Retrieving https://saude.goiania.go.gov.br/wp-uploads/sites/3/2020/08/Informe-COVID-19-n%C2%BA-123-03.08.2020.pdf to /tmp/wp-uploads-sites-3-2020-08-informe-covid-19-n-c2-ba-123-03.08.2020.pdf.\n"
          ],
          "name": "stderr"
        },
        {
          "output_type": "stream",
          "text": [
            "2020-08-02\n",
            "\n",
            "129\n"
          ],
          "name": "stdout"
        },
        {
          "output_type": "stream",
          "text": [
            "2020-09-19 14:20:23,680 [MainThread  ] [INFO ]  Retrieving https://saude.goiania.go.gov.br/wp-uploads/sites/3/2020/08/Informe-COVID-19-n%C2%BA-124-04.08.2020-1.pdf to /tmp/wp-uploads-sites-3-2020-08-informe-covid-19-n-c2-ba-124-04.08.2020-1.pdf.\n"
          ],
          "name": "stderr"
        },
        {
          "output_type": "stream",
          "text": [
            "2020-08-03\n",
            "\n",
            "130\n"
          ],
          "name": "stdout"
        },
        {
          "output_type": "stream",
          "text": [
            "2020-09-19 14:20:33,582 [MainThread  ] [INFO ]  Retrieving https://saude.goiania.go.gov.br/wp-uploads/sites/3/2020/08/Informe-COVID-19-n%C2%BA-125-05.08.2020.pdf to /tmp/wp-uploads-sites-3-2020-08-informe-covid-19-n-c2-ba-125-05.08.2020.pdf.\n"
          ],
          "name": "stderr"
        },
        {
          "output_type": "stream",
          "text": [
            "2020-08-04\n",
            "\n",
            "131\n"
          ],
          "name": "stdout"
        },
        {
          "output_type": "stream",
          "text": [
            "2020-09-19 14:20:43,935 [MainThread  ] [INFO ]  Retrieving https://saude.goiania.go.gov.br/wp-uploads/sites/3/2020/08/Informe-COVID-19-n%C2%BA-126-06.08.2020.pdf to /tmp/wp-uploads-sites-3-2020-08-informe-covid-19-n-c2-ba-126-06.08.2020.pdf.\n"
          ],
          "name": "stderr"
        },
        {
          "output_type": "stream",
          "text": [
            "2020-08-05\n",
            "\n",
            "132\n"
          ],
          "name": "stdout"
        },
        {
          "output_type": "stream",
          "text": [
            "2020-09-19 14:20:54,057 [MainThread  ] [INFO ]  Retrieving https://saude.goiania.go.gov.br/wp-uploads/sites/3/2020/08/Informe-COVID-19-n%C2%BA-127-07.08.2020.pdf to /tmp/wp-uploads-sites-3-2020-08-informe-covid-19-n-c2-ba-127-07.08.2020.pdf.\n"
          ],
          "name": "stderr"
        },
        {
          "output_type": "stream",
          "text": [
            "2020-08-06\n",
            "\n",
            "133\n"
          ],
          "name": "stdout"
        },
        {
          "output_type": "stream",
          "text": [
            "2020-09-19 14:21:04,343 [MainThread  ] [INFO ]  Retrieving https://saude.goiania.go.gov.br/wp-uploads/sites/3/2020/08/Informe-COVID-19-n%C2%BA-128-08.08.2020.pdf to /tmp/wp-uploads-sites-3-2020-08-informe-covid-19-n-c2-ba-128-08.08.2020.pdf.\n"
          ],
          "name": "stderr"
        },
        {
          "output_type": "stream",
          "text": [
            "2020-08-07\n",
            "\n",
            "134\n"
          ],
          "name": "stdout"
        },
        {
          "output_type": "stream",
          "text": [
            "2020-09-19 14:21:14,429 [MainThread  ] [INFO ]  Retrieving https://saude.goiania.go.gov.br/wp-uploads/sites/3/2020/08/Informe-COVID-19-n%C2%BA-129-09.08.2020.pdf to /tmp/wp-uploads-sites-3-2020-08-informe-covid-19-n-c2-ba-129-09.08.2020.pdf.\n"
          ],
          "name": "stderr"
        },
        {
          "output_type": "stream",
          "text": [
            "2020-08-08\n",
            "\n",
            "135\n"
          ],
          "name": "stdout"
        },
        {
          "output_type": "stream",
          "text": [
            "2020-09-19 14:21:24,564 [MainThread  ] [INFO ]  Retrieving https://saude.goiania.go.gov.br/wp-uploads/sites/3/2020/08/Informe-COVID-19-n%C2%BA-130-10.08.2020.pdf to /tmp/wp-uploads-sites-3-2020-08-informe-covid-19-n-c2-ba-130-10.08.2020.pdf.\n"
          ],
          "name": "stderr"
        },
        {
          "output_type": "stream",
          "text": [
            "2020-08-09\n",
            "\n",
            "136\n"
          ],
          "name": "stdout"
        },
        {
          "output_type": "stream",
          "text": [
            "2020-09-19 14:21:34,859 [MainThread  ] [INFO ]  Retrieving https://saude.goiania.go.gov.br/wp-uploads/sites/3/2020/08/Informe-COVID-19-n%C2%BA-131-11.08.2020.pdf to /tmp/wp-uploads-sites-3-2020-08-informe-covid-19-n-c2-ba-131-11.08.2020.pdf.\n"
          ],
          "name": "stderr"
        },
        {
          "output_type": "stream",
          "text": [
            "2020-08-10\n",
            "\n",
            "137\n"
          ],
          "name": "stdout"
        },
        {
          "output_type": "stream",
          "text": [
            "2020-09-19 14:21:44,757 [MainThread  ] [INFO ]  Retrieving https://saude.goiania.go.gov.br/wp-uploads/sites/3/2020/08/Informe-COVID-19-n%C2%BA-132-12.08.2020.pdf to /tmp/wp-uploads-sites-3-2020-08-informe-covid-19-n-c2-ba-132-12.08.2020.pdf.\n"
          ],
          "name": "stderr"
        },
        {
          "output_type": "stream",
          "text": [
            "2020-08-11\n",
            "\n",
            "138\n"
          ],
          "name": "stdout"
        },
        {
          "output_type": "stream",
          "text": [
            "2020-09-19 14:21:55,059 [MainThread  ] [INFO ]  Retrieving https://saude.goiania.go.gov.br/wp-uploads/sites/3/2020/08/Informe-COVID-19-n%C2%BA-133-13.08.2020.pdf to /tmp/wp-uploads-sites-3-2020-08-informe-covid-19-n-c2-ba-133-13.08.2020.pdf.\n"
          ],
          "name": "stderr"
        },
        {
          "output_type": "stream",
          "text": [
            "2020-08-12\n",
            "\n",
            "139\n"
          ],
          "name": "stdout"
        },
        {
          "output_type": "stream",
          "text": [
            "2020-09-19 14:22:04,964 [MainThread  ] [INFO ]  Retrieving https://saude.goiania.go.gov.br/wp-uploads/sites/3/2020/08/Informe-COVID-19-n%C2%BA-134-14.08.2020.pdf to /tmp/wp-uploads-sites-3-2020-08-informe-covid-19-n-c2-ba-134-14.08.2020.pdf.\n"
          ],
          "name": "stderr"
        },
        {
          "output_type": "stream",
          "text": [
            "2020-08-13\n",
            "\n",
            "140\n"
          ],
          "name": "stdout"
        },
        {
          "output_type": "stream",
          "text": [
            "2020-09-19 14:22:14,885 [MainThread  ] [INFO ]  Retrieving https://saude.goiania.go.gov.br/wp-uploads/sites/3/2020/08/Informe-COVID-19-n%C2%BA-135-15.08.2020.pdf to /tmp/wp-uploads-sites-3-2020-08-informe-covid-19-n-c2-ba-135-15.08.2020.pdf.\n"
          ],
          "name": "stderr"
        },
        {
          "output_type": "stream",
          "text": [
            "2020-08-14\n",
            "\n",
            "141\n"
          ],
          "name": "stdout"
        },
        {
          "output_type": "stream",
          "text": [
            "2020-09-19 14:22:27,361 [MainThread  ] [INFO ]  Retrieving https://saude.goiania.go.gov.br/wp-uploads/sites/3/2020/08/Informe-COVID-19-n%C2%BA-136-16.08.2020.pdf to /tmp/wp-uploads-sites-3-2020-08-informe-covid-19-n-c2-ba-136-16.08.2020.pdf.\n"
          ],
          "name": "stderr"
        },
        {
          "output_type": "stream",
          "text": [
            "2020-08-15\n",
            "\n",
            "142\n"
          ],
          "name": "stdout"
        },
        {
          "output_type": "stream",
          "text": [
            "2020-09-19 14:22:39,920 [MainThread  ] [INFO ]  Retrieving https://saude.goiania.go.gov.br/wp-uploads/sites/3/2020/08/Informe-COVID-19-n%C2%BA-137-17.08.2020.pdf to /tmp/wp-uploads-sites-3-2020-08-informe-covid-19-n-c2-ba-137-17.08.2020.pdf.\n"
          ],
          "name": "stderr"
        },
        {
          "output_type": "stream",
          "text": [
            "2020-08-16\n",
            "\n",
            "143\n"
          ],
          "name": "stdout"
        },
        {
          "output_type": "stream",
          "text": [
            "2020-09-19 14:22:49,853 [MainThread  ] [INFO ]  Retrieving https://saude.goiania.go.gov.br/wp-uploads/sites/3/2020/08/Informe-COVID-19-n%C2%BA-138-18.08.2020.pdf to /tmp/wp-uploads-sites-3-2020-08-informe-covid-19-n-c2-ba-138-18.08.2020.pdf.\n"
          ],
          "name": "stderr"
        },
        {
          "output_type": "stream",
          "text": [
            "2020-08-17\n",
            "\n",
            "144\n"
          ],
          "name": "stdout"
        },
        {
          "output_type": "stream",
          "text": [
            "2020-09-19 14:23:00,123 [MainThread  ] [INFO ]  Retrieving https://saude.goiania.go.gov.br/wp-uploads/sites/3/2020/08/Informe-COVID-19-n%C2%BA-139-19.08.2020.pdf to /tmp/wp-uploads-sites-3-2020-08-informe-covid-19-n-c2-ba-139-19.08.2020.pdf.\n"
          ],
          "name": "stderr"
        },
        {
          "output_type": "stream",
          "text": [
            "2020-08-18\n",
            "\n",
            "145\n"
          ],
          "name": "stdout"
        },
        {
          "output_type": "stream",
          "text": [
            "2020-09-19 14:23:10,419 [MainThread  ] [INFO ]  Retrieving https://saude.goiania.go.gov.br/wp-uploads/sites/3/2020/08/Informe-COVID-19-n%C2%BA-140-20.08.2020.pdf to /tmp/wp-uploads-sites-3-2020-08-informe-covid-19-n-c2-ba-140-20.08.2020.pdf.\n"
          ],
          "name": "stderr"
        },
        {
          "output_type": "stream",
          "text": [
            "2020-08-19\n",
            "\n",
            "146\n"
          ],
          "name": "stdout"
        },
        {
          "output_type": "stream",
          "text": [
            "2020-09-19 14:23:20,701 [MainThread  ] [INFO ]  Retrieving https://saude.goiania.go.gov.br/wp-uploads/sites/3/2020/08/Informe-COVID-19-n%C2%BA-141-21.08.2020.pdf to /tmp/wp-uploads-sites-3-2020-08-informe-covid-19-n-c2-ba-141-21.08.2020.pdf.\n"
          ],
          "name": "stderr"
        },
        {
          "output_type": "stream",
          "text": [
            "2020-08-20\n",
            "\n",
            "147\n"
          ],
          "name": "stdout"
        },
        {
          "output_type": "stream",
          "text": [
            "2020-09-19 14:23:30,789 [MainThread  ] [INFO ]  Retrieving https://saude.goiania.go.gov.br/wp-uploads/sites/3/2020/08/Informe-COVID-19-n%C2%BA-142-22.08.2020.pdf to /tmp/wp-uploads-sites-3-2020-08-informe-covid-19-n-c2-ba-142-22.08.2020.pdf.\n"
          ],
          "name": "stderr"
        },
        {
          "output_type": "stream",
          "text": [
            "2020-08-21\n",
            "\n",
            "148\n"
          ],
          "name": "stdout"
        },
        {
          "output_type": "stream",
          "text": [
            "2020-09-19 14:23:40,695 [MainThread  ] [INFO ]  Retrieving https://saude.goiania.go.gov.br/wp-uploads/sites/3/2020/08/Informe-COVID-19-n%C2%BA-143-23.08.2020.pdf to /tmp/wp-uploads-sites-3-2020-08-informe-covid-19-n-c2-ba-143-23.08.2020.pdf.\n"
          ],
          "name": "stderr"
        },
        {
          "output_type": "stream",
          "text": [
            "2020-08-22\n",
            "\n",
            "149\n"
          ],
          "name": "stdout"
        },
        {
          "output_type": "stream",
          "text": [
            "2020-09-19 14:23:50,768 [MainThread  ] [INFO ]  Retrieving https://saude.goiania.go.gov.br/wp-uploads/sites/3/2020/08/Informe-COVID-19-n%C2%BA-144-24.08.2020.pdf to /tmp/wp-uploads-sites-3-2020-08-informe-covid-19-n-c2-ba-144-24.08.2020.pdf.\n"
          ],
          "name": "stderr"
        },
        {
          "output_type": "stream",
          "text": [
            "2020-08-23\n",
            "\n",
            "150\n"
          ],
          "name": "stdout"
        },
        {
          "output_type": "stream",
          "text": [
            "2020-09-19 14:24:00,658 [MainThread  ] [INFO ]  Retrieving https://saude.goiania.go.gov.br/wp-uploads/sites/3/2020/09/Informe-COVID-19-no-152-01.09.2020-1.pdf to /tmp/wp-uploads-sites-3-2020-09-informe-covid-19-no-152-01.09.2020-1.pdf.\n"
          ],
          "name": "stderr"
        },
        {
          "output_type": "stream",
          "text": [
            "2020-08-24\n",
            "\n",
            "151\n"
          ],
          "name": "stdout"
        },
        {
          "output_type": "stream",
          "text": [
            "2020-09-19 14:24:10,530 [MainThread  ] [INFO ]  Retrieving https://saude.goiania.go.gov.br/wp-uploads/sites/3/2020/09/Informe-COVID-19-no-153-02.09.2020.pdf to /tmp/wp-uploads-sites-3-2020-09-informe-covid-19-no-153-02.09.2020.pdf.\n"
          ],
          "name": "stderr"
        },
        {
          "output_type": "stream",
          "text": [
            "2020-09-01\n",
            "\n",
            "152\n"
          ],
          "name": "stdout"
        },
        {
          "output_type": "stream",
          "text": [
            "2020-09-19 14:24:20,844 [MainThread  ] [INFO ]  Retrieving https://saude.goiania.go.gov.br/wp-uploads/sites/3/2020/09/Informe-COVID-19-no-154-03.09.2020.pdf to /tmp/wp-uploads-sites-3-2020-09-informe-covid-19-no-154-03.09.2020.pdf.\n"
          ],
          "name": "stderr"
        },
        {
          "output_type": "stream",
          "text": [
            "2020-09-02\n",
            "\n",
            "153\n"
          ],
          "name": "stdout"
        },
        {
          "output_type": "stream",
          "text": [
            "2020-09-19 14:24:30,984 [MainThread  ] [INFO ]  Retrieving https://saude.goiania.go.gov.br/wp-uploads/sites/3/2020/09/Informe-COVID-19-no-155-04.09.2020.pdf to /tmp/wp-uploads-sites-3-2020-09-informe-covid-19-no-155-04.09.2020.pdf.\n"
          ],
          "name": "stderr"
        },
        {
          "output_type": "stream",
          "text": [
            "2020-09-03\n",
            "\n",
            "154\n"
          ],
          "name": "stdout"
        },
        {
          "output_type": "stream",
          "text": [
            "2020-09-19 14:24:41,094 [MainThread  ] [INFO ]  Retrieving https://saude.goiania.go.gov.br/wp-uploads/sites/3/2020/09/Informe-COVID-19-no-156-05.09.2020.pdf to /tmp/wp-uploads-sites-3-2020-09-informe-covid-19-no-156-05.09.2020.pdf.\n"
          ],
          "name": "stderr"
        },
        {
          "output_type": "stream",
          "text": [
            "2020-09-04\n",
            "\n",
            "155\n"
          ],
          "name": "stdout"
        },
        {
          "output_type": "stream",
          "text": [
            "2020-09-19 14:24:51,036 [MainThread  ] [INFO ]  Retrieving https://saude.goiania.go.gov.br/wp-uploads/sites/3/2020/09/Informe-COVID-19-no-157-06.09.2020-d.pdf to /tmp/wp-uploads-sites-3-2020-09-informe-covid-19-no-157-06.09.2020-d.pdf.\n"
          ],
          "name": "stderr"
        },
        {
          "output_type": "stream",
          "text": [
            "2020-09-05\n",
            "\n",
            "156\n"
          ],
          "name": "stdout"
        },
        {
          "output_type": "stream",
          "text": [
            "2020-09-19 14:25:00,925 [MainThread  ] [INFO ]  Retrieving https://saude.goiania.go.gov.br/wp-uploads/sites/3/2020/09/Informe-COVID-19-no-158-07.09.2020-d.pdf to /tmp/wp-uploads-sites-3-2020-09-informe-covid-19-no-158-07.09.2020-d.pdf.\n"
          ],
          "name": "stderr"
        },
        {
          "output_type": "stream",
          "text": [
            "2020-09-06\n",
            "\n",
            "157\n"
          ],
          "name": "stdout"
        },
        {
          "output_type": "stream",
          "text": [
            "2020-09-19 14:25:10,846 [MainThread  ] [INFO ]  Retrieving https://saude.goiania.go.gov.br/wp-uploads/sites/3/2020/09/Informe-COVID-19-no-159-08.09.2020.pdf to /tmp/wp-uploads-sites-3-2020-09-informe-covid-19-no-159-08.09.2020.pdf.\n"
          ],
          "name": "stderr"
        },
        {
          "output_type": "stream",
          "text": [
            "2020-09-07\n",
            "\n",
            "158\n"
          ],
          "name": "stdout"
        },
        {
          "output_type": "stream",
          "text": [
            "2020-09-19 14:25:20,995 [MainThread  ] [INFO ]  Retrieving https://saude.goiania.go.gov.br/wp-uploads/sites/3/2020/09/Informe-COVID-19-no-160-09.09.2020.pdf to /tmp/wp-uploads-sites-3-2020-09-informe-covid-19-no-160-09.09.2020.pdf.\n"
          ],
          "name": "stderr"
        },
        {
          "output_type": "stream",
          "text": [
            "2020-09-08\n",
            "\n",
            "159\n"
          ],
          "name": "stdout"
        },
        {
          "output_type": "stream",
          "text": [
            "2020-09-19 14:25:31,128 [MainThread  ] [INFO ]  Retrieving https://saude.goiania.go.gov.br/wp-uploads/sites/3/2020/09/Informe-COVID-19-no-161-10.09.2020.pdf to /tmp/wp-uploads-sites-3-2020-09-informe-covid-19-no-161-10.09.2020.pdf.\n"
          ],
          "name": "stderr"
        },
        {
          "output_type": "stream",
          "text": [
            "2020-09-09\n",
            "\n",
            "160\n"
          ],
          "name": "stdout"
        },
        {
          "output_type": "stream",
          "text": [
            "2020-09-19 14:25:41,307 [MainThread  ] [INFO ]  Retrieving https://saude.goiania.go.gov.br/wp-uploads/sites/3/2020/09/Informe-COVID-19-no-162-11.09.2020.pdf to /tmp/wp-uploads-sites-3-2020-09-informe-covid-19-no-162-11.09.2020.pdf.\n"
          ],
          "name": "stderr"
        },
        {
          "output_type": "stream",
          "text": [
            "2020-09-10\n",
            "\n",
            "161\n"
          ],
          "name": "stdout"
        },
        {
          "output_type": "stream",
          "text": [
            "2020-09-19 14:25:51,455 [MainThread  ] [INFO ]  Retrieving https://saude.goiania.go.gov.br/wp-uploads/sites/3/2020/09/Informe-COVID-19-no-165-14.09.2020.pdf to /tmp/wp-uploads-sites-3-2020-09-informe-covid-19-no-165-14.09.2020.pdf.\n"
          ],
          "name": "stderr"
        },
        {
          "output_type": "stream",
          "text": [
            "2020-09-11\n",
            "\n",
            "162\n"
          ],
          "name": "stdout"
        },
        {
          "output_type": "stream",
          "text": [
            "2020-09-19 14:26:01,415 [MainThread  ] [INFO ]  Retrieving https://saude.goiania.go.gov.br/wp-uploads/sites/3/2020/09/Informe-COVID-19-no-166-15.09.2020.pdf to /tmp/wp-uploads-sites-3-2020-09-informe-covid-19-no-166-15.09.2020.pdf.\n"
          ],
          "name": "stderr"
        },
        {
          "output_type": "stream",
          "text": [
            "2020-09-14\n",
            "\n",
            "163\n"
          ],
          "name": "stdout"
        },
        {
          "output_type": "stream",
          "text": [
            "2020-09-19 14:26:11,379 [MainThread  ] [INFO ]  Retrieving https://saude.goiania.go.gov.br/wp-uploads/sites/3/2020/09/Informe-COVID-19-no-167-16.09.2020.pdf to /tmp/wp-uploads-sites-3-2020-09-informe-covid-19-no-167-16.09.2020.pdf.\n"
          ],
          "name": "stderr"
        },
        {
          "output_type": "stream",
          "text": [
            "2020-09-15\n",
            "\n",
            "164\n"
          ],
          "name": "stdout"
        },
        {
          "output_type": "stream",
          "text": [
            "2020-09-19 14:26:21,322 [MainThread  ] [INFO ]  Retrieving https://saude.goiania.go.gov.br/wp-uploads/sites/3/2020/09/Informe-COVID-19-no-168-17.09.2020.pdf to /tmp/wp-uploads-sites-3-2020-09-informe-covid-19-no-168-17.09.2020.pdf.\n"
          ],
          "name": "stderr"
        },
        {
          "output_type": "stream",
          "text": [
            "2020-09-16\n",
            "\n",
            "165\n"
          ],
          "name": "stdout"
        },
        {
          "output_type": "stream",
          "text": [
            "2020-09-19 14:26:31,257 [MainThread  ] [INFO ]  Retrieving https://saude.goiania.go.gov.br/wp-uploads/sites/3/2020/09/Informe-COVID-19-no-169-18.09.2020.pdf to /tmp/wp-uploads-sites-3-2020-09-informe-covid-19-no-169-18.09.2020.pdf.\n"
          ],
          "name": "stderr"
        },
        {
          "output_type": "stream",
          "text": [
            "2020-09-17\n",
            "\n",
            "166\n",
            "2020-09-18\n",
            "\n"
          ],
          "name": "stdout"
        }
      ]
    },
    {
      "cell_type": "code",
      "metadata": {
        "id": "VpXK166YC-aI",
        "colab_type": "code",
        "colab": {}
      },
      "source": [
        "dataset"
      ],
      "execution_count": null,
      "outputs": []
    },
    {
      "cell_type": "code",
      "metadata": {
        "id": "fKQw0ezOBTcS",
        "colab_type": "code",
        "colab": {
          "base_uri": "https://localhost:8080/",
          "height": 419
        },
        "outputId": "b5dc7af4-5568-44f0-a00f-97ecc61d787a"
      },
      "source": [
        "covid_goiania_por_bairro = pd.DataFrame(dataset)\n",
        "covid_goiania_por_bairro = covid_goiania_por_bairro.T\n",
        "bairros_e_num_casos.to_csv('covid_goiania_por_bairro.csv', index=False)\n",
        "covid_goiania_por_bairro"
      ],
      "execution_count": null,
      "outputs": [
        {
          "output_type": "execute_result",
          "data": {
            "text/html": [
              "<div>\n",
              "<style scoped>\n",
              "    .dataframe tbody tr th:only-of-type {\n",
              "        vertical-align: middle;\n",
              "    }\n",
              "\n",
              "    .dataframe tbody tr th {\n",
              "        vertical-align: top;\n",
              "    }\n",
              "\n",
              "    .dataframe thead th {\n",
              "        text-align: right;\n",
              "    }\n",
              "</style>\n",
              "<table border=\"1\" class=\"dataframe\">\n",
              "  <thead>\n",
              "    <tr style=\"text-align: right;\">\n",
              "      <th></th>\n",
              "      <th>data</th>\n",
              "      <th>bairro</th>\n",
              "      <th>num_casos</th>\n",
              "    </tr>\n",
              "  </thead>\n",
              "  <tbody>\n",
              "    <tr>\n",
              "      <th>0</th>\n",
              "      <td>2020-05-02</td>\n",
              "      <td>Setor Bueno</td>\n",
              "      <td>48</td>\n",
              "    </tr>\n",
              "    <tr>\n",
              "      <th>1</th>\n",
              "      <td>2020-05-02</td>\n",
              "      <td>Setor Oeste</td>\n",
              "      <td>39</td>\n",
              "    </tr>\n",
              "    <tr>\n",
              "      <th>2</th>\n",
              "      <td>2020-05-02</td>\n",
              "      <td>Jd. Goiás</td>\n",
              "      <td>18</td>\n",
              "    </tr>\n",
              "    <tr>\n",
              "      <th>3</th>\n",
              "      <td>2020-05-02</td>\n",
              "      <td>Setor Marista</td>\n",
              "      <td>14</td>\n",
              "    </tr>\n",
              "    <tr>\n",
              "      <th>4</th>\n",
              "      <td>2020-05-02</td>\n",
              "      <td>Parque Amazônia</td>\n",
              "      <td>14</td>\n",
              "    </tr>\n",
              "    <tr>\n",
              "      <th>...</th>\n",
              "      <td>...</td>\n",
              "      <td>...</td>\n",
              "      <td>...</td>\n",
              "    </tr>\n",
              "    <tr>\n",
              "      <th>8549</th>\n",
              "      <td>2020-09-18</td>\n",
              "      <td>Res. Granville</td>\n",
              "      <td>132</td>\n",
              "    </tr>\n",
              "    <tr>\n",
              "      <th>8550</th>\n",
              "      <td>2020-09-18</td>\n",
              "      <td>Vila Mutirão I</td>\n",
              "      <td>132</td>\n",
              "    </tr>\n",
              "    <tr>\n",
              "      <th>8551</th>\n",
              "      <td>2020-09-18</td>\n",
              "      <td>Conjunto Habitacional Madre Germana 2</td>\n",
              "      <td>128</td>\n",
              "    </tr>\n",
              "    <tr>\n",
              "      <th>8552</th>\n",
              "      <td>2020-09-18</td>\n",
              "      <td>Vila Jardim Pompéia</td>\n",
              "      <td>128</td>\n",
              "    </tr>\n",
              "    <tr>\n",
              "      <th>8553</th>\n",
              "      <td>2020-09-18</td>\n",
              "      <td>Setor Rio Formoso</td>\n",
              "      <td>125</td>\n",
              "    </tr>\n",
              "  </tbody>\n",
              "</table>\n",
              "<p>8554 rows × 3 columns</p>\n",
              "</div>"
            ],
            "text/plain": [
              "            data                                  bairro num_casos\n",
              "0     2020-05-02                            Setor Bueno         48\n",
              "1     2020-05-02                            Setor Oeste         39\n",
              "2     2020-05-02                              Jd. Goiás         18\n",
              "3     2020-05-02                          Setor Marista         14\n",
              "4     2020-05-02                        Parque Amazônia         14\n",
              "...          ...                                     ...       ...\n",
              "8549  2020-09-18                         Res. Granville        132\n",
              "8550  2020-09-18                         Vila Mutirão I        132\n",
              "8551  2020-09-18  Conjunto Habitacional Madre Germana 2        128\n",
              "8552  2020-09-18                    Vila Jardim Pompéia        128\n",
              "8553  2020-09-18                      Setor Rio Formoso        125\n",
              "\n",
              "[8554 rows x 3 columns]"
            ]
          },
          "metadata": {
            "tags": []
          },
          "execution_count": 310
        }
      ]
    },
    {
      "cell_type": "code",
      "metadata": {
        "id": "SPSDLGCQDSvB",
        "colab_type": "code",
        "colab": {
          "base_uri": "https://localhost:8080/",
          "height": 34
        },
        "outputId": "bbf2ba1e-9209-412f-e2fc-48a96abaed2f"
      },
      "source": [
        "#quantidade de bairros\n",
        "# 2 = \"outros \" e \"outros bairros\"\n",
        "\n",
        "print(len(np.unique(covid_goiania_por_bairro['bairro'])) - 2)\n"
      ],
      "execution_count": null,
      "outputs": [
        {
          "output_type": "stream",
          "text": [
            "114\n"
          ],
          "name": "stdout"
        }
      ]
    },
    {
      "cell_type": "code",
      "metadata": {
        "id": "3MvgEvVNDe9m",
        "colab_type": "code",
        "colab": {}
      },
      "source": [
        "covid_goiania_por_bairro.to_csv('covid_goiania_por_bairro.csv', index=False)\n"
      ],
      "execution_count": null,
      "outputs": []
    },
    {
      "cell_type": "markdown",
      "metadata": {
        "id": "kOv4KXjSMz1B",
        "colab_type": "text"
      },
      "source": [
        "## Web scraping (CEPs) e obtenção de coordenadas\n"
      ]
    },
    {
      "cell_type": "code",
      "metadata": {
        "id": "vTDuhnTWNO27",
        "colab_type": "code",
        "colab": {}
      },
      "source": [
        "# extrair coordenadas"
      ],
      "execution_count": null,
      "outputs": []
    },
    {
      "cell_type": "code",
      "metadata": {
        "id": "iOybCtsWMzF-",
        "colab_type": "code",
        "colab": {
          "base_uri": "https://localhost:8080/",
          "height": 419
        },
        "outputId": "83871693-8357-45e7-eeb4-5f49c3845a07"
      },
      "source": [
        "# bairros_e_localizacao = pd.read_csv('bairros_e_localizacao.csv', sep=',')\n",
        "# bairros_e_localizacao.to_csv('bairros_e_localizacao.csv', index=False)\n",
        "bairros_e_localizacao"
      ],
      "execution_count": null,
      "outputs": [
        {
          "output_type": "execute_result",
          "data": {
            "text/html": [
              "<div>\n",
              "<style scoped>\n",
              "    .dataframe tbody tr th:only-of-type {\n",
              "        vertical-align: middle;\n",
              "    }\n",
              "\n",
              "    .dataframe tbody tr th {\n",
              "        vertical-align: top;\n",
              "    }\n",
              "\n",
              "    .dataframe thead th {\n",
              "        text-align: right;\n",
              "    }\n",
              "</style>\n",
              "<table border=\"1\" class=\"dataframe\">\n",
              "  <thead>\n",
              "    <tr style=\"text-align: right;\">\n",
              "      <th></th>\n",
              "      <th>bairro</th>\n",
              "      <th>cep</th>\n",
              "      <th>localizacao</th>\n",
              "    </tr>\n",
              "  </thead>\n",
              "  <tbody>\n",
              "    <tr>\n",
              "      <th>0</th>\n",
              "      <td>Alphaville Flamboyant</td>\n",
              "      <td>74884-534</td>\n",
              "      <td>[-16.7070932, -49.2122502]</td>\n",
              "    </tr>\n",
              "    <tr>\n",
              "      <th>1</th>\n",
              "      <td>Alto da Glória</td>\n",
              "      <td>74815-610</td>\n",
              "      <td>[-16.7206511, -49.2250865]</td>\n",
              "    </tr>\n",
              "    <tr>\n",
              "      <th>2</th>\n",
              "      <td>Capuava</td>\n",
              "      <td>74450-410</td>\n",
              "      <td>[-16.6645242, -49.316575]</td>\n",
              "    </tr>\n",
              "    <tr>\n",
              "      <th>3</th>\n",
              "      <td>Cidade Jardim</td>\n",
              "      <td>74425-250</td>\n",
              "      <td>[-16.6761304, -49.3121233]</td>\n",
              "    </tr>\n",
              "    <tr>\n",
              "      <th>4</th>\n",
              "      <td>Conjunto Primavera</td>\n",
              "      <td>74477-207</td>\n",
              "      <td>[-16.5878046, -49.37404129999999]</td>\n",
              "    </tr>\n",
              "    <tr>\n",
              "      <th>...</th>\n",
              "      <td>...</td>\n",
              "      <td>...</td>\n",
              "      <td>...</td>\n",
              "    </tr>\n",
              "    <tr>\n",
              "      <th>106</th>\n",
              "      <td>Vila São José - Extensão</td>\n",
              "      <td>70000-000</td>\n",
              "      <td>[-16.6551261,-49.3078991]</td>\n",
              "    </tr>\n",
              "    <tr>\n",
              "      <th>107</th>\n",
              "      <td>Setor Rio Formoso</td>\n",
              "      <td>74370-020</td>\n",
              "      <td>[-16.7211142,-49.3337986]</td>\n",
              "    </tr>\n",
              "    <tr>\n",
              "      <th>108</th>\n",
              "      <td>Residencial Jardim Florença</td>\n",
              "      <td>74351-008</td>\n",
              "      <td>[-16.725215,-49.3151065]</td>\n",
              "    </tr>\n",
              "    <tr>\n",
              "      <th>109</th>\n",
              "      <td>Setor Perim</td>\n",
              "      <td>74580-240</td>\n",
              "      <td>[-16.6448258,-49.2994181]</td>\n",
              "    </tr>\n",
              "    <tr>\n",
              "      <th>110</th>\n",
              "      <td>Residencial Orlando de Morais</td>\n",
              "      <td>74693-114</td>\n",
              "      <td>[-16.5497495,-49.2728893]</td>\n",
              "    </tr>\n",
              "  </tbody>\n",
              "</table>\n",
              "<p>111 rows × 3 columns</p>\n",
              "</div>"
            ],
            "text/plain": [
              "                             bairro  ...                        localizacao\n",
              "0            Alphaville Flamboyant   ...         [-16.7070932, -49.2122502]\n",
              "1                   Alto da Glória   ...         [-16.7206511, -49.2250865]\n",
              "2                          Capuava   ...          [-16.6645242, -49.316575]\n",
              "3                    Cidade Jardim   ...         [-16.6761304, -49.3121233]\n",
              "4               Conjunto Primavera   ...  [-16.5878046, -49.37404129999999]\n",
              "..                              ...  ...                                ...\n",
              "106       Vila São José - Extensão   ...          [-16.6551261,-49.3078991]\n",
              "107              Setor Rio Formoso   ...          [-16.7211142,-49.3337986]\n",
              "108    Residencial Jardim Florença   ...           [-16.725215,-49.3151065]\n",
              "109                    Setor Perim   ...          [-16.6448258,-49.2994181]\n",
              "110  Residencial Orlando de Morais   ...          [-16.5497495,-49.2728893]\n",
              "\n",
              "[111 rows x 3 columns]"
            ]
          },
          "metadata": {
            "tags": []
          },
          "execution_count": 308
        }
      ]
    },
    {
      "cell_type": "markdown",
      "metadata": {
        "id": "e7RBm9YQOPtD",
        "colab_type": "text"
      },
      "source": [
        "## Merge covid_goiania_por_bairro e bairros_e_localizacao"
      ]
    },
    {
      "cell_type": "code",
      "metadata": {
        "id": "N4k6tPNiO9XG",
        "colab_type": "code",
        "colab": {
          "base_uri": "https://localhost:8080/",
          "height": 419
        },
        "outputId": "48659748-22fe-4cec-ce4d-f5a7411027e3"
      },
      "source": [
        "covid_goiania_por_bairro = pd.merge(covid_goiania_por_bairro, bairros_e_localizacao, on='bairro')\n",
        "covid_goiania_por_bairro"
      ],
      "execution_count": null,
      "outputs": [
        {
          "output_type": "execute_result",
          "data": {
            "text/html": [
              "<div>\n",
              "<style scoped>\n",
              "    .dataframe tbody tr th:only-of-type {\n",
              "        vertical-align: middle;\n",
              "    }\n",
              "\n",
              "    .dataframe tbody tr th {\n",
              "        vertical-align: top;\n",
              "    }\n",
              "\n",
              "    .dataframe thead th {\n",
              "        text-align: right;\n",
              "    }\n",
              "</style>\n",
              "<table border=\"1\" class=\"dataframe\">\n",
              "  <thead>\n",
              "    <tr style=\"text-align: right;\">\n",
              "      <th></th>\n",
              "      <th>data</th>\n",
              "      <th>bairro</th>\n",
              "      <th>num_casos</th>\n",
              "      <th>cep</th>\n",
              "      <th>localizacao</th>\n",
              "    </tr>\n",
              "  </thead>\n",
              "  <tbody>\n",
              "    <tr>\n",
              "      <th>0</th>\n",
              "      <td>2020-05-02</td>\n",
              "      <td>Setor Bueno</td>\n",
              "      <td>48</td>\n",
              "      <td>74223-010</td>\n",
              "      <td>[-16.6956937, -49.2640252]</td>\n",
              "    </tr>\n",
              "    <tr>\n",
              "      <th>1</th>\n",
              "      <td>2020-04-29</td>\n",
              "      <td>Setor Bueno</td>\n",
              "      <td>45</td>\n",
              "      <td>74223-010</td>\n",
              "      <td>[-16.6956937, -49.2640252]</td>\n",
              "    </tr>\n",
              "    <tr>\n",
              "      <th>2</th>\n",
              "      <td>2020-04-30</td>\n",
              "      <td>Setor Bueno</td>\n",
              "      <td>48</td>\n",
              "      <td>74223-010</td>\n",
              "      <td>[-16.6956937, -49.2640252]</td>\n",
              "    </tr>\n",
              "    <tr>\n",
              "      <th>3</th>\n",
              "      <td>2020-05-03</td>\n",
              "      <td>Setor Bueno</td>\n",
              "      <td>52</td>\n",
              "      <td>74223-010</td>\n",
              "      <td>[-16.6956937, -49.2640252]</td>\n",
              "    </tr>\n",
              "    <tr>\n",
              "      <th>4</th>\n",
              "      <td>2020-05-11</td>\n",
              "      <td>Setor Bueno</td>\n",
              "      <td>73</td>\n",
              "      <td>74223-010</td>\n",
              "      <td>[-16.6956937, -49.2640252]</td>\n",
              "    </tr>\n",
              "    <tr>\n",
              "      <th>...</th>\n",
              "      <td>...</td>\n",
              "      <td>...</td>\n",
              "      <td>...</td>\n",
              "      <td>...</td>\n",
              "      <td>...</td>\n",
              "    </tr>\n",
              "    <tr>\n",
              "      <th>8251</th>\n",
              "      <td>2020-09-17</td>\n",
              "      <td>Conjunto Habitacional Madre Germana 2</td>\n",
              "      <td>128</td>\n",
              "      <td>74354-830</td>\n",
              "      <td>[-16.8154446,-49.3747038]</td>\n",
              "    </tr>\n",
              "    <tr>\n",
              "      <th>8252</th>\n",
              "      <td>2020-09-18</td>\n",
              "      <td>Conjunto Habitacional Madre Germana 2</td>\n",
              "      <td>128</td>\n",
              "      <td>74354-830</td>\n",
              "      <td>[-16.8154446,-49.3747038]</td>\n",
              "    </tr>\n",
              "    <tr>\n",
              "      <th>8253</th>\n",
              "      <td>2020-09-16</td>\n",
              "      <td>Setor Rio Formoso</td>\n",
              "      <td>125</td>\n",
              "      <td>74370-020</td>\n",
              "      <td>[-16.7211142,-49.3337986]</td>\n",
              "    </tr>\n",
              "    <tr>\n",
              "      <th>8254</th>\n",
              "      <td>2020-09-17</td>\n",
              "      <td>Setor Rio Formoso</td>\n",
              "      <td>125</td>\n",
              "      <td>74370-020</td>\n",
              "      <td>[-16.7211142,-49.3337986]</td>\n",
              "    </tr>\n",
              "    <tr>\n",
              "      <th>8255</th>\n",
              "      <td>2020-09-18</td>\n",
              "      <td>Setor Rio Formoso</td>\n",
              "      <td>125</td>\n",
              "      <td>74370-020</td>\n",
              "      <td>[-16.7211142,-49.3337986]</td>\n",
              "    </tr>\n",
              "  </tbody>\n",
              "</table>\n",
              "<p>8256 rows × 5 columns</p>\n",
              "</div>"
            ],
            "text/plain": [
              "            data  ...                 localizacao\n",
              "0     2020-05-02  ...  [-16.6956937, -49.2640252]\n",
              "1     2020-04-29  ...  [-16.6956937, -49.2640252]\n",
              "2     2020-04-30  ...  [-16.6956937, -49.2640252]\n",
              "3     2020-05-03  ...  [-16.6956937, -49.2640252]\n",
              "4     2020-05-11  ...  [-16.6956937, -49.2640252]\n",
              "...          ...  ...                         ...\n",
              "8251  2020-09-17  ...   [-16.8154446,-49.3747038]\n",
              "8252  2020-09-18  ...   [-16.8154446,-49.3747038]\n",
              "8253  2020-09-16  ...   [-16.7211142,-49.3337986]\n",
              "8254  2020-09-17  ...   [-16.7211142,-49.3337986]\n",
              "8255  2020-09-18  ...   [-16.7211142,-49.3337986]\n",
              "\n",
              "[8256 rows x 5 columns]"
            ]
          },
          "metadata": {
            "tags": []
          },
          "execution_count": 452
        }
      ]
    },
    {
      "cell_type": "markdown",
      "metadata": {
        "id": "cAaN7-76P7nx",
        "colab_type": "text"
      },
      "source": [
        "## Acrescentar regiao em covid_goiania_por_bairro"
      ]
    },
    {
      "cell_type": "code",
      "metadata": {
        "id": "w3w7LKPzP6ar",
        "colab_type": "code",
        "colab": {}
      },
      "source": [
        "#web scraping de http://www.sgc.goias.gov.br/upload/arquivos/2017-02/bairros-por-regiao-2017.pdf\n",
        "# ou do wikipedia (code disponivel na v1)"
      ],
      "execution_count": null,
      "outputs": []
    },
    {
      "cell_type": "code",
      "metadata": {
        "id": "Glnd-p76Q4FM",
        "colab_type": "code",
        "colab": {}
      },
      "source": [
        "bairros_por_regiao = pd.read_csv('bairros_por_regiao.csv', encoding = 'utf-8', sep=',')\n"
      ],
      "execution_count": null,
      "outputs": []
    },
    {
      "cell_type": "code",
      "metadata": {
        "id": "A__au2VZvbZ4",
        "colab_type": "code",
        "colab": {
          "base_uri": "https://localhost:8080/",
          "height": 419
        },
        "outputId": "0c30f300-5e06-4247-f03c-fc56f25e1d76"
      },
      "source": [
        "bairros_por_regiao"
      ],
      "execution_count": null,
      "outputs": [
        {
          "output_type": "execute_result",
          "data": {
            "text/html": [
              "<div>\n",
              "<style scoped>\n",
              "    .dataframe tbody tr th:only-of-type {\n",
              "        vertical-align: middle;\n",
              "    }\n",
              "\n",
              "    .dataframe tbody tr th {\n",
              "        vertical-align: top;\n",
              "    }\n",
              "\n",
              "    .dataframe thead th {\n",
              "        text-align: right;\n",
              "    }\n",
              "</style>\n",
              "<table border=\"1\" class=\"dataframe\">\n",
              "  <thead>\n",
              "    <tr style=\"text-align: right;\">\n",
              "      <th></th>\n",
              "      <th>bairro</th>\n",
              "      <th>regiao</th>\n",
              "    </tr>\n",
              "  </thead>\n",
              "  <tbody>\n",
              "    <tr>\n",
              "      <th>0</th>\n",
              "      <td>Alice Barbosa</td>\n",
              "      <td>Norte</td>\n",
              "    </tr>\n",
              "    <tr>\n",
              "      <th>1</th>\n",
              "      <td>Antônio Barbosa</td>\n",
              "      <td>Norte</td>\n",
              "    </tr>\n",
              "    <tr>\n",
              "      <th>2</th>\n",
              "      <td>Antônio Carlos Pires</td>\n",
              "      <td>Norte</td>\n",
              "    </tr>\n",
              "    <tr>\n",
              "      <th>3</th>\n",
              "      <td>Asa Branca</td>\n",
              "      <td>Norte</td>\n",
              "    </tr>\n",
              "    <tr>\n",
              "      <th>4</th>\n",
              "      <td>Atalaia</td>\n",
              "      <td>Norte</td>\n",
              "    </tr>\n",
              "    <tr>\n",
              "      <th>...</th>\n",
              "      <td>...</td>\n",
              "      <td>...</td>\n",
              "    </tr>\n",
              "    <tr>\n",
              "      <th>488</th>\n",
              "      <td>Vila São José - Extensão</td>\n",
              "      <td>Centro Oeste</td>\n",
              "    </tr>\n",
              "    <tr>\n",
              "      <th>489</th>\n",
              "      <td>Setor Rio Formoso</td>\n",
              "      <td>Sudoeste</td>\n",
              "    </tr>\n",
              "    <tr>\n",
              "      <th>490</th>\n",
              "      <td>Residencial Jardim Florença</td>\n",
              "      <td>Sudoeste</td>\n",
              "    </tr>\n",
              "    <tr>\n",
              "      <th>491</th>\n",
              "      <td>Setor Perim</td>\n",
              "      <td>Norte</td>\n",
              "    </tr>\n",
              "    <tr>\n",
              "      <th>492</th>\n",
              "      <td>Residencial Orlando de Morais</td>\n",
              "      <td>Norte</td>\n",
              "    </tr>\n",
              "  </tbody>\n",
              "</table>\n",
              "<p>493 rows × 2 columns</p>\n",
              "</div>"
            ],
            "text/plain": [
              "                            bairro        regiao\n",
              "0                    Alice Barbosa         Norte\n",
              "1                  Antônio Barbosa         Norte\n",
              "2             Antônio Carlos Pires         Norte\n",
              "3                       Asa Branca         Norte\n",
              "4                          Atalaia         Norte\n",
              "..                             ...           ...\n",
              "488       Vila São José - Extensão  Centro Oeste\n",
              "489              Setor Rio Formoso      Sudoeste\n",
              "490    Residencial Jardim Florença      Sudoeste\n",
              "491                    Setor Perim         Norte\n",
              "492  Residencial Orlando de Morais         Norte\n",
              "\n",
              "[493 rows x 2 columns]"
            ]
          },
          "metadata": {
            "tags": []
          },
          "execution_count": 448
        }
      ]
    },
    {
      "cell_type": "code",
      "metadata": {
        "id": "CEoE6nJ3RR0i",
        "colab_type": "code",
        "colab": {
          "base_uri": "https://localhost:8080/",
          "height": 419
        },
        "outputId": "bbc61306-5ed9-4ee0-b05c-e20e3d8c5b08"
      },
      "source": [
        "def normaliza_nomes_bairros(bairro):\n",
        "\n",
        "    if 'Res.' in bairro:\n",
        "        bairro = bairro.replace('Res.', 'Residencial')\n",
        "        # bairro = bairro.strip(' ')\n",
        "\n",
        "        return bairro\n",
        "    \n",
        "    if 'Jd.' in bairro:\n",
        "        bairro = bairro.replace('Jd.', 'Jardim')\n",
        "        # bairro = bairro.strip(' ')\n",
        "        return bairro\n",
        "    else:\n",
        "        return bairro \n",
        "\n",
        "covid_goiania_por_bairro['bairro'] = covid_goiania_por_bairro['bairro'].apply(lambda x: normaliza_nomes_bairros(x))\n",
        "covid_goiania_por_bairro['bairro'] = covid_goiania_por_bairro['bairro'].apply(lambda x: x.strip(' '))\n",
        "df_completo_com_regiao = pd.merge(covid_goiania_por_bairro,  bairros_por_regiao, on='bairro')\n",
        "df_completo_com_regiao = df_completo_com_regiao.drop_duplicates()\n",
        "df_completo_com_regiao\n"
      ],
      "execution_count": null,
      "outputs": [
        {
          "output_type": "execute_result",
          "data": {
            "text/html": [
              "<div>\n",
              "<style scoped>\n",
              "    .dataframe tbody tr th:only-of-type {\n",
              "        vertical-align: middle;\n",
              "    }\n",
              "\n",
              "    .dataframe tbody tr th {\n",
              "        vertical-align: top;\n",
              "    }\n",
              "\n",
              "    .dataframe thead th {\n",
              "        text-align: right;\n",
              "    }\n",
              "</style>\n",
              "<table border=\"1\" class=\"dataframe\">\n",
              "  <thead>\n",
              "    <tr style=\"text-align: right;\">\n",
              "      <th></th>\n",
              "      <th>data</th>\n",
              "      <th>bairro</th>\n",
              "      <th>num_casos</th>\n",
              "      <th>cep</th>\n",
              "      <th>localizacao</th>\n",
              "      <th>regiao</th>\n",
              "    </tr>\n",
              "  </thead>\n",
              "  <tbody>\n",
              "    <tr>\n",
              "      <th>0</th>\n",
              "      <td>2020-05-02</td>\n",
              "      <td>Setor Bueno</td>\n",
              "      <td>48</td>\n",
              "      <td>74223-010</td>\n",
              "      <td>[-16.6956937, -49.2640252]</td>\n",
              "      <td>Sul</td>\n",
              "    </tr>\n",
              "    <tr>\n",
              "      <th>1</th>\n",
              "      <td>2020-04-29</td>\n",
              "      <td>Setor Bueno</td>\n",
              "      <td>45</td>\n",
              "      <td>74223-010</td>\n",
              "      <td>[-16.6956937, -49.2640252]</td>\n",
              "      <td>Sul</td>\n",
              "    </tr>\n",
              "    <tr>\n",
              "      <th>2</th>\n",
              "      <td>2020-04-30</td>\n",
              "      <td>Setor Bueno</td>\n",
              "      <td>48</td>\n",
              "      <td>74223-010</td>\n",
              "      <td>[-16.6956937, -49.2640252]</td>\n",
              "      <td>Sul</td>\n",
              "    </tr>\n",
              "    <tr>\n",
              "      <th>3</th>\n",
              "      <td>2020-05-03</td>\n",
              "      <td>Setor Bueno</td>\n",
              "      <td>52</td>\n",
              "      <td>74223-010</td>\n",
              "      <td>[-16.6956937, -49.2640252]</td>\n",
              "      <td>Sul</td>\n",
              "    </tr>\n",
              "    <tr>\n",
              "      <th>4</th>\n",
              "      <td>2020-05-11</td>\n",
              "      <td>Setor Bueno</td>\n",
              "      <td>73</td>\n",
              "      <td>74223-010</td>\n",
              "      <td>[-16.6956937, -49.2640252]</td>\n",
              "      <td>Sul</td>\n",
              "    </tr>\n",
              "    <tr>\n",
              "      <th>...</th>\n",
              "      <td>...</td>\n",
              "      <td>...</td>\n",
              "      <td>...</td>\n",
              "      <td>...</td>\n",
              "      <td>...</td>\n",
              "      <td>...</td>\n",
              "    </tr>\n",
              "    <tr>\n",
              "      <th>11399</th>\n",
              "      <td>2020-09-17</td>\n",
              "      <td>Conjunto Habitacional Madre Germana 2</td>\n",
              "      <td>128</td>\n",
              "      <td>74354-830</td>\n",
              "      <td>[-16.8154446,-49.3747038]</td>\n",
              "      <td>Noroeste</td>\n",
              "    </tr>\n",
              "    <tr>\n",
              "      <th>11400</th>\n",
              "      <td>2020-09-18</td>\n",
              "      <td>Conjunto Habitacional Madre Germana 2</td>\n",
              "      <td>128</td>\n",
              "      <td>74354-830</td>\n",
              "      <td>[-16.8154446,-49.3747038]</td>\n",
              "      <td>Noroeste</td>\n",
              "    </tr>\n",
              "    <tr>\n",
              "      <th>11401</th>\n",
              "      <td>2020-09-16</td>\n",
              "      <td>Setor Rio Formoso</td>\n",
              "      <td>125</td>\n",
              "      <td>74370-020</td>\n",
              "      <td>[-16.7211142,-49.3337986]</td>\n",
              "      <td>Sudoeste</td>\n",
              "    </tr>\n",
              "    <tr>\n",
              "      <th>11402</th>\n",
              "      <td>2020-09-17</td>\n",
              "      <td>Setor Rio Formoso</td>\n",
              "      <td>125</td>\n",
              "      <td>74370-020</td>\n",
              "      <td>[-16.7211142,-49.3337986]</td>\n",
              "      <td>Sudoeste</td>\n",
              "    </tr>\n",
              "    <tr>\n",
              "      <th>11403</th>\n",
              "      <td>2020-09-18</td>\n",
              "      <td>Setor Rio Formoso</td>\n",
              "      <td>125</td>\n",
              "      <td>74370-020</td>\n",
              "      <td>[-16.7211142,-49.3337986]</td>\n",
              "      <td>Sudoeste</td>\n",
              "    </tr>\n",
              "  </tbody>\n",
              "</table>\n",
              "<p>8364 rows × 6 columns</p>\n",
              "</div>"
            ],
            "text/plain": [
              "             data  ...    regiao\n",
              "0      2020-05-02  ...       Sul\n",
              "1      2020-04-29  ...       Sul\n",
              "2      2020-04-30  ...       Sul\n",
              "3      2020-05-03  ...       Sul\n",
              "4      2020-05-11  ...       Sul\n",
              "...           ...  ...       ...\n",
              "11399  2020-09-17  ...  Noroeste\n",
              "11400  2020-09-18  ...  Noroeste\n",
              "11401  2020-09-16  ...  Sudoeste\n",
              "11402  2020-09-17  ...  Sudoeste\n",
              "11403  2020-09-18  ...  Sudoeste\n",
              "\n",
              "[8364 rows x 6 columns]"
            ]
          },
          "metadata": {
            "tags": []
          },
          "execution_count": 454
        }
      ]
    },
    {
      "cell_type": "code",
      "metadata": {
        "id": "6rWGuq0zTp4G",
        "colab_type": "code",
        "colab": {
          "base_uri": "https://localhost:8080/",
          "height": 34
        },
        "outputId": "6e55d794-8a93-41bb-b72c-399df1b9c66e"
      },
      "source": [
        "bairros_c_regiao = np.unique(df_completo_com_regiao['bairro'])\n",
        "bairros_covid = np.unique(covid_goiania_por_bairro['bairro'])\n",
        "\n",
        "faltantes = list(set(bairros_covid).difference(bairros_c_regiao))\n",
        "faltantes"
      ],
      "execution_count": null,
      "outputs": [
        {
          "output_type": "execute_result",
          "data": {
            "text/plain": [
              "[]"
            ]
          },
          "metadata": {
            "tags": []
          },
          "execution_count": 455
        }
      ]
    },
    {
      "cell_type": "code",
      "metadata": {
        "id": "D9QlOoRwTc3J",
        "colab_type": "code",
        "colab": {
          "base_uri": "https://localhost:8080/",
          "height": 34
        },
        "outputId": "fb3ee8c2-3699-48cd-e366-6baac444ad0d"
      },
      "source": [
        "len(np.unique(df_completo_com_regiao['bairro']))"
      ],
      "execution_count": null,
      "outputs": [
        {
          "output_type": "execute_result",
          "data": {
            "text/plain": [
              "109"
            ]
          },
          "metadata": {
            "tags": []
          },
          "execution_count": 456
        }
      ]
    },
    {
      "cell_type": "code",
      "metadata": {
        "id": "E6yNiPdjaoye",
        "colab_type": "code",
        "colab": {}
      },
      "source": [
        "df_completo_com_regiao.to_csv('covid_goiania_por_bairro.csv', index=False)\n",
        "covid_goiania_por_bairro = df_completo_com_regiao"
      ],
      "execution_count": null,
      "outputs": []
    },
    {
      "cell_type": "markdown",
      "metadata": {
        "id": "ReHWSJ6SbNNw",
        "colab_type": "text"
      },
      "source": [
        "## Bar race - região"
      ]
    },
    {
      "cell_type": "code",
      "metadata": {
        "id": "DD5Sf5XLbUzx",
        "colab_type": "code",
        "colab": {
          "base_uri": "https://localhost:8080/",
          "height": 34
        },
        "outputId": "61a64fd6-ad9d-4fb0-95ca-7c76b36811a0"
      },
      "source": [
        " df_bar_race = covid_goiania_por_bairro\n",
        " regioes = np.unique(df_bar_race['regiao'])\n",
        " lista_regioes = list(regioes)\n",
        " lista_regioes"
      ],
      "execution_count": null,
      "outputs": [
        {
          "output_type": "execute_result",
          "data": {
            "text/plain": [
              "['Centro Oeste', 'Leste', 'Noroeste', 'Norte', 'Oeste', 'Sudoeste', 'Sul']"
            ]
          },
          "metadata": {
            "tags": []
          },
          "execution_count": 458
        }
      ]
    },
    {
      "cell_type": "code",
      "metadata": {
        "id": "ampLncVJc10p",
        "colab_type": "code",
        "colab": {
          "base_uri": "https://localhost:8080/",
          "height": 419
        },
        "outputId": "0c3d5b43-86aa-4fef-f622-807fb4835cab"
      },
      "source": [
        "indices = []\n",
        "for i, linha in df_bar_race.iterrows():\n",
        "    if linha[1] in lista_regioes:\n",
        "        indices.append(i)\n",
        "\n",
        "df_bar_race = df_bar_race.drop(indices)\n",
        "df_bar_race"
      ],
      "execution_count": null,
      "outputs": [
        {
          "output_type": "execute_result",
          "data": {
            "text/html": [
              "<div>\n",
              "<style scoped>\n",
              "    .dataframe tbody tr th:only-of-type {\n",
              "        vertical-align: middle;\n",
              "    }\n",
              "\n",
              "    .dataframe tbody tr th {\n",
              "        vertical-align: top;\n",
              "    }\n",
              "\n",
              "    .dataframe thead th {\n",
              "        text-align: right;\n",
              "    }\n",
              "</style>\n",
              "<table border=\"1\" class=\"dataframe\">\n",
              "  <thead>\n",
              "    <tr style=\"text-align: right;\">\n",
              "      <th></th>\n",
              "      <th>data</th>\n",
              "      <th>bairro</th>\n",
              "      <th>num_casos</th>\n",
              "      <th>cep</th>\n",
              "      <th>localizacao</th>\n",
              "      <th>regiao</th>\n",
              "    </tr>\n",
              "  </thead>\n",
              "  <tbody>\n",
              "    <tr>\n",
              "      <th>0</th>\n",
              "      <td>2020-05-02</td>\n",
              "      <td>Setor Bueno</td>\n",
              "      <td>48</td>\n",
              "      <td>74223-010</td>\n",
              "      <td>[-16.6956937, -49.2640252]</td>\n",
              "      <td>Sul</td>\n",
              "    </tr>\n",
              "    <tr>\n",
              "      <th>1</th>\n",
              "      <td>2020-04-29</td>\n",
              "      <td>Setor Bueno</td>\n",
              "      <td>45</td>\n",
              "      <td>74223-010</td>\n",
              "      <td>[-16.6956937, -49.2640252]</td>\n",
              "      <td>Sul</td>\n",
              "    </tr>\n",
              "    <tr>\n",
              "      <th>2</th>\n",
              "      <td>2020-04-30</td>\n",
              "      <td>Setor Bueno</td>\n",
              "      <td>48</td>\n",
              "      <td>74223-010</td>\n",
              "      <td>[-16.6956937, -49.2640252]</td>\n",
              "      <td>Sul</td>\n",
              "    </tr>\n",
              "    <tr>\n",
              "      <th>3</th>\n",
              "      <td>2020-05-03</td>\n",
              "      <td>Setor Bueno</td>\n",
              "      <td>52</td>\n",
              "      <td>74223-010</td>\n",
              "      <td>[-16.6956937, -49.2640252]</td>\n",
              "      <td>Sul</td>\n",
              "    </tr>\n",
              "    <tr>\n",
              "      <th>4</th>\n",
              "      <td>2020-05-11</td>\n",
              "      <td>Setor Bueno</td>\n",
              "      <td>73</td>\n",
              "      <td>74223-010</td>\n",
              "      <td>[-16.6956937, -49.2640252]</td>\n",
              "      <td>Sul</td>\n",
              "    </tr>\n",
              "    <tr>\n",
              "      <th>...</th>\n",
              "      <td>...</td>\n",
              "      <td>...</td>\n",
              "      <td>...</td>\n",
              "      <td>...</td>\n",
              "      <td>...</td>\n",
              "      <td>...</td>\n",
              "    </tr>\n",
              "    <tr>\n",
              "      <th>11399</th>\n",
              "      <td>2020-09-17</td>\n",
              "      <td>Conjunto Habitacional Madre Germana 2</td>\n",
              "      <td>128</td>\n",
              "      <td>74354-830</td>\n",
              "      <td>[-16.8154446,-49.3747038]</td>\n",
              "      <td>Noroeste</td>\n",
              "    </tr>\n",
              "    <tr>\n",
              "      <th>11400</th>\n",
              "      <td>2020-09-18</td>\n",
              "      <td>Conjunto Habitacional Madre Germana 2</td>\n",
              "      <td>128</td>\n",
              "      <td>74354-830</td>\n",
              "      <td>[-16.8154446,-49.3747038]</td>\n",
              "      <td>Noroeste</td>\n",
              "    </tr>\n",
              "    <tr>\n",
              "      <th>11401</th>\n",
              "      <td>2020-09-16</td>\n",
              "      <td>Setor Rio Formoso</td>\n",
              "      <td>125</td>\n",
              "      <td>74370-020</td>\n",
              "      <td>[-16.7211142,-49.3337986]</td>\n",
              "      <td>Sudoeste</td>\n",
              "    </tr>\n",
              "    <tr>\n",
              "      <th>11402</th>\n",
              "      <td>2020-09-17</td>\n",
              "      <td>Setor Rio Formoso</td>\n",
              "      <td>125</td>\n",
              "      <td>74370-020</td>\n",
              "      <td>[-16.7211142,-49.3337986]</td>\n",
              "      <td>Sudoeste</td>\n",
              "    </tr>\n",
              "    <tr>\n",
              "      <th>11403</th>\n",
              "      <td>2020-09-18</td>\n",
              "      <td>Setor Rio Formoso</td>\n",
              "      <td>125</td>\n",
              "      <td>74370-020</td>\n",
              "      <td>[-16.7211142,-49.3337986]</td>\n",
              "      <td>Sudoeste</td>\n",
              "    </tr>\n",
              "  </tbody>\n",
              "</table>\n",
              "<p>8364 rows × 6 columns</p>\n",
              "</div>"
            ],
            "text/plain": [
              "             data  ...    regiao\n",
              "0      2020-05-02  ...       Sul\n",
              "1      2020-04-29  ...       Sul\n",
              "2      2020-04-30  ...       Sul\n",
              "3      2020-05-03  ...       Sul\n",
              "4      2020-05-11  ...       Sul\n",
              "...           ...  ...       ...\n",
              "11399  2020-09-17  ...  Noroeste\n",
              "11400  2020-09-18  ...  Noroeste\n",
              "11401  2020-09-16  ...  Sudoeste\n",
              "11402  2020-09-17  ...  Sudoeste\n",
              "11403  2020-09-18  ...  Sudoeste\n",
              "\n",
              "[8364 rows x 6 columns]"
            ]
          },
          "metadata": {
            "tags": []
          },
          "execution_count": 459
        }
      ]
    },
    {
      "cell_type": "code",
      "metadata": {
        "id": "K_J5-AGBc8-e",
        "colab_type": "code",
        "colab": {
          "base_uri": "https://localhost:8080/",
          "height": 238
        },
        "outputId": "35e2776f-cf27-4752-ef24-f4f7fd3ec2ca"
      },
      "source": [
        "df_bar_race.groupby(['regiao', 'data']).sum()['num_casos']"
      ],
      "execution_count": null,
      "outputs": [
        {
          "output_type": "execute_result",
          "data": {
            "text/plain": [
              "regiao        data      \n",
              "Centro Oeste  2020-04-29      44\n",
              "              2020-04-30      45\n",
              "              2020-05-01      45\n",
              "              2020-05-02      50\n",
              "              2020-05-03      47\n",
              "                            ... \n",
              "Sul           2020-09-14    7596\n",
              "              2020-09-15    7596\n",
              "              2020-09-16    8152\n",
              "              2020-09-17    8152\n",
              "              2020-09-18    8152\n",
              "Name: num_casos, Length: 914, dtype: int64"
            ]
          },
          "metadata": {
            "tags": []
          },
          "execution_count": 460
        }
      ]
    },
    {
      "cell_type": "code",
      "metadata": {
        "id": "Q9Hpk0srdFwg",
        "colab_type": "code",
        "colab": {}
      },
      "source": [
        "df_bar_race = pd.DataFrame(df_bar_race.groupby(['regiao', 'data']).sum()['num_casos']).unstack().T.droplevel(level=0)"
      ],
      "execution_count": null,
      "outputs": []
    },
    {
      "cell_type": "code",
      "metadata": {
        "id": "N6DLQYGndJOe",
        "colab_type": "code",
        "colab": {}
      },
      "source": [
        "df_bar_race.columns = ['Centro', 'Leste', 'Noroeste', 'Norte', 'Oeste', 'Sudoeste', 'Sul']\n",
        "bcr.bar_chart_race(df_bar_race, filename='bar_race_regiao.mp4')\n"
      ],
      "execution_count": null,
      "outputs": []
    },
    {
      "cell_type": "markdown",
      "metadata": {
        "colab_type": "text",
        "id": "C7wSisDElxFn"
      },
      "source": [
        "## Bar race - bairro"
      ]
    },
    {
      "cell_type": "code",
      "metadata": {
        "id": "AoqwChEjmElf",
        "colab_type": "code",
        "colab": {}
      },
      "source": [
        "df_bar_race = pd.read_csv('covid_goiania_por_bairro.csv', encoding = 'utf-8', sep=',')\n"
      ],
      "execution_count": null,
      "outputs": []
    },
    {
      "cell_type": "code",
      "metadata": {
        "colab_type": "code",
        "id": "45Iw8XBAlxFp",
        "colab": {
          "base_uri": "https://localhost:8080/",
          "height": 1000
        },
        "outputId": "05b20732-19d6-4aa3-ddfe-6cb5040c8450"
      },
      "source": [
        " bairros = np.unique(df_bar_race['bairro'])\n",
        " lista_bairros = list(bairros)\n",
        "lista_bairros\n"
      ],
      "execution_count": null,
      "outputs": [
        {
          "output_type": "execute_result",
          "data": {
            "text/plain": [
              "['Alphaville Flamboyant',\n",
              " 'Alto da Glória',\n",
              " 'Capuava',\n",
              " 'Cidade Jardim',\n",
              " 'Conjunto Habitacional Madre Germana 2',\n",
              " 'Conjunto Primavera',\n",
              " 'Conjunto Vera Cruz',\n",
              " 'Faicalville',\n",
              " 'Floresta',\n",
              " 'Goiá',\n",
              " 'Goiânia 2',\n",
              " 'Jardim América',\n",
              " 'Jardim Atlântico',\n",
              " 'Jardim Balneário Meia Ponte',\n",
              " 'Jardim Bela Vista',\n",
              " 'Jardim Curitiba',\n",
              " 'Jardim Europa',\n",
              " 'Jardim Goiás',\n",
              " 'Jardim Guanabara',\n",
              " 'Jardim Guanabara II',\n",
              " 'Jardim Guanabara III',\n",
              " 'Jardim Itaipu',\n",
              " 'Jardim Liberdade',\n",
              " 'Jardim Mariliza',\n",
              " 'Jardim Nova Esperanca',\n",
              " 'Jardim Novo Mundo',\n",
              " 'Jardim Petrópolis',\n",
              " 'Jardim Planalto',\n",
              " 'Jardim Presidente',\n",
              " 'Jardim Vila Boa',\n",
              " 'Jardim das Esmeraldas',\n",
              " 'Nova Suiça',\n",
              " 'Parque Amazônia',\n",
              " 'Parque Anhanguera',\n",
              " 'Parque Atheneu',\n",
              " 'Parque Industrial de Goiânia',\n",
              " 'Parque Oeste Industrial',\n",
              " 'Parque Santa Rita',\n",
              " 'Parque das Amendoeiras',\n",
              " 'Parque das Laranjeiras',\n",
              " 'Portal do Sol II',\n",
              " 'Residencial Aldeia do Vale',\n",
              " 'Residencial Brisas da Mata',\n",
              " 'Residencial Eldorado',\n",
              " 'Residencial Goiânia Viva',\n",
              " 'Residencial Granville',\n",
              " 'Residencial Itaipú',\n",
              " 'Residencial Petropolis',\n",
              " 'Residencial Recanto das Garças',\n",
              " 'Residencial Recanto do Bosque',\n",
              " 'Residencial Vale dos Sonhos I',\n",
              " 'Rodoviário',\n",
              " 'Santa Genoveva',\n",
              " 'Santo Hilário',\n",
              " 'Setor Aeroporto',\n",
              " 'Setor Bela Vista',\n",
              " 'Setor Bueno',\n",
              " 'Setor Campinas',\n",
              " 'Setor Candida de Morais',\n",
              " 'Setor Central',\n",
              " 'Setor Centro Oeste',\n",
              " 'Setor Coimbra',\n",
              " 'Setor Criméia Leste',\n",
              " 'Setor Criméia Oeste',\n",
              " 'Setor Estrela Dalva',\n",
              " 'Setor Garavelo',\n",
              " 'Setor Jaó',\n",
              " 'Setor Leste Universitário',\n",
              " 'Setor Leste Vila Nova',\n",
              " 'Setor Marechal Rondon',\n",
              " 'Setor Marista',\n",
              " 'Setor Morada do Sol',\n",
              " 'Setor Negrão de Lima',\n",
              " 'Setor Norte Ferroviário',\n",
              " 'Setor Novo Horizonte',\n",
              " 'Setor Novo Planalto',\n",
              " 'Setor Oeste',\n",
              " 'Setor Parque Tremendão',\n",
              " 'Setor Pedro Ludovico',\n",
              " 'Setor Perim',\n",
              " 'Setor Recanto das Minas Gerais',\n",
              " 'Setor Rio Formoso',\n",
              " 'Setor Santos Dumont',\n",
              " 'Setor Sudoeste',\n",
              " 'Setor Sul',\n",
              " 'Setor São Jose',\n",
              " 'Setor União',\n",
              " 'Setor Urias Magalhaes',\n",
              " 'Setor dos Funcionários',\n",
              " 'Solange Parque I',\n",
              " 'São Carlos',\n",
              " 'São Francisco',\n",
              " 'Vila Alpes',\n",
              " 'Vila Canaa',\n",
              " 'Vila Concórdia',\n",
              " 'Vila Finsocial',\n",
              " 'Vila Itatiaia',\n",
              " 'Vila Jardim Pompéia',\n",
              " 'Vila Jardim São Judas Tadeu',\n",
              " 'Vila João Vaz',\n",
              " 'Vila Maria José',\n",
              " 'Vila Mutirão I',\n",
              " 'Vila Pedroso',\n",
              " 'Vila Redenção',\n",
              " 'Vila Regina',\n",
              " 'Vila Rosa',\n",
              " 'Vila Santa Helena',\n",
              " 'Vila São José - Extensão',\n",
              " 'da Vitória']"
            ]
          },
          "metadata": {
            "tags": []
          },
          "execution_count": 472
        }
      ]
    },
    {
      "cell_type": "code",
      "metadata": {
        "id": "Gt0bo9nEmW8q",
        "colab_type": "code",
        "colab": {}
      },
      "source": [
        "#lista de bairros que não irão aparecer no bar race \n",
        "#bairros removidos da lista:\n",
        "\n",
        "lista_bairros = ['Alphaville Flamboyant',\n",
        " 'Alto da Glória',\n",
        " 'Capuava',\n",
        " 'Cidade Jardim',\n",
        " 'Conjunto Habitacional Madre Germana 2',\n",
        " 'Conjunto Primavera',\n",
        " 'Conjunto Vera Cruz',\n",
        " 'Faicalville',\n",
        " 'Floresta',\n",
        " 'Goiá',\n",
        " 'Jardim América',\n",
        " 'Jardim Atlântico',\n",
        " 'Jardim Balneário Meia Ponte',\n",
        " 'Jardim Bela Vista',\n",
        " 'Jardim Curitiba',\n",
        " 'Jardim Europa',\n",
        " 'Jardim Guanabara II',\n",
        " 'Jardim Guanabara III',\n",
        " 'Jardim Itaipu',\n",
        " 'Jardim Liberdade',\n",
        " 'Jardim Mariliza',\n",
        " 'Jardim Nova Esperanca',\n",
        " 'Jardim Novo Mundo',\n",
        " 'Jardim Petrópolis',\n",
        " 'Jardim Planalto',\n",
        " 'Jardim Presidente',\n",
        " 'Jardim São José',\n",
        " 'Jardim Valência',\n",
        " 'Jardim Vila Boa',\n",
        " 'Jardim das Esmeraldas',\n",
        " 'Nova Suiça',\n",
        " 'Parque Anhanguera',\n",
        " 'Parque Atheneu',\n",
        " 'Parque Industrial João Braz',\n",
        " 'Parque Industrial de Goiânia',\n",
        " 'Parque Oeste Industrial',\n",
        " 'Parque Santa Rita',\n",
        " 'Parque das Amendoeiras',\n",
        " 'Parque das Laranjeiras',\n",
        " 'Portal do Sol II',\n",
        " 'Residencial Aldeia do Vale',\n",
        " 'Residencial Brisas da Mata',\n",
        " 'Residencial Eldorado',\n",
        " 'Residencial Goiânia Viva',\n",
        " 'Residencial Granville',\n",
        " 'Residencial Itaipú',\n",
        " 'Residencial Jardim Florença',\n",
        " 'Residencial Orlando de Morais',\n",
        " 'Residencial Petropolis',\n",
        " 'Residencial Recanto das Garças',\n",
        " 'Residencial Vale dos Sonhos I',\n",
        " 'Rodoviário',\n",
        " 'Santa Genoveva',\n",
        " 'Santo Hilário',\n",
        " 'Setor Aeroporto',\n",
        " 'Setor Bela Vista',\n",
        " 'Setor Candida de Morais',\n",
        " 'Setor Centro Oeste',\n",
        " 'Setor Criméia Leste',\n",
        " 'Setor Criméia Oeste',\n",
        " 'Setor Estrela Dalva',\n",
        " 'Setor Garavelo',\n",
        " 'Setor Jaó',\n",
        " 'Setor Marechal Rondon',\n",
        " 'Setor Marista',\n",
        " 'Setor Morada do Sol',\n",
        " 'Setor Novo Horizonte',\n",
        " 'Setor Novo Planalto',\n",
        " 'Setor Parque Tremendão',\n",
        " 'Setor Perim',\n",
        " 'Setor Recanto das Minas Gerais',\n",
        " 'Setor Rio Formoso',\n",
        " 'Setor Santos Dumont',\n",
        " 'Setor Sudoeste',\n",
        " 'Setor Sul',\n",
        " 'Setor São Jose',\n",
        " 'Setor União',\n",
        " 'Setor Urias Magalhaes',\n",
        " 'Setor dos Funcionários',\n",
        " 'Solange Parque I',\n",
        " 'São Carlos',\n",
        " 'São Francisco',\n",
        " 'Vila Alpes',\n",
        " 'Vila Canaa',\n",
        " 'Vila Concórdia',\n",
        " 'Vila Finsocial',\n",
        " 'Vila Jardim São Judas Tadeu',\n",
        " 'Vila João Vaz',\n",
        " 'Vila Maria José',\n",
        " 'Vila Mutirão I',\n",
        " 'Vila Pedroso',\n",
        " 'Vila Redenção',\n",
        " 'Vila Regina',\n",
        " 'Vila Rosa',\n",
        " 'Vila Santa Helena',\n",
        " 'Vila São José - Extensão',\n",
        " 'da Vitória']"
      ],
      "execution_count": null,
      "outputs": []
    },
    {
      "cell_type": "code",
      "metadata": {
        "id": "D6o_Ee22mewA",
        "colab_type": "code",
        "colab": {
          "base_uri": "https://localhost:8080/",
          "height": 34
        },
        "outputId": "65db72c6-36b4-49da-de01-8555a8f35e29"
      },
      "source": [
        "len(lista_bairros)"
      ],
      "execution_count": null,
      "outputs": [
        {
          "output_type": "execute_result",
          "data": {
            "text/plain": [
              "97"
            ]
          },
          "metadata": {
            "tags": []
          },
          "execution_count": 474
        }
      ]
    },
    {
      "cell_type": "code",
      "metadata": {
        "colab_type": "code",
        "id": "x-WHArwjlxFu",
        "colab": {}
      },
      "source": [
        "#remove os bairros\n",
        "indices = []\n",
        "for i, linha in df_bar_race.iterrows():\n",
        "    if linha['bairro'] in lista_bairros:\n",
        "        indices.append(i)\n",
        "\n"
      ],
      "execution_count": null,
      "outputs": []
    },
    {
      "cell_type": "code",
      "metadata": {
        "id": "mp0Aq9Amnr37",
        "colab_type": "code",
        "colab": {
          "base_uri": "https://localhost:8080/",
          "height": 419
        },
        "outputId": "5e8a65f2-804e-44a6-8024-daef19371617"
      },
      "source": [
        "df_bar_race = df_bar_race.drop(indices)\n",
        "df_bar_race"
      ],
      "execution_count": null,
      "outputs": [
        {
          "output_type": "execute_result",
          "data": {
            "text/html": [
              "<div>\n",
              "<style scoped>\n",
              "    .dataframe tbody tr th:only-of-type {\n",
              "        vertical-align: middle;\n",
              "    }\n",
              "\n",
              "    .dataframe tbody tr th {\n",
              "        vertical-align: top;\n",
              "    }\n",
              "\n",
              "    .dataframe thead th {\n",
              "        text-align: right;\n",
              "    }\n",
              "</style>\n",
              "<table border=\"1\" class=\"dataframe\">\n",
              "  <thead>\n",
              "    <tr style=\"text-align: right;\">\n",
              "      <th></th>\n",
              "      <th>data</th>\n",
              "      <th>bairro</th>\n",
              "      <th>num_casos</th>\n",
              "      <th>cep</th>\n",
              "      <th>localizacao</th>\n",
              "      <th>regiao</th>\n",
              "    </tr>\n",
              "  </thead>\n",
              "  <tbody>\n",
              "    <tr>\n",
              "      <th>0</th>\n",
              "      <td>2020-05-02</td>\n",
              "      <td>Setor Bueno</td>\n",
              "      <td>48</td>\n",
              "      <td>74223-010</td>\n",
              "      <td>[-16.6956937, -49.2640252]</td>\n",
              "      <td>Sul</td>\n",
              "    </tr>\n",
              "    <tr>\n",
              "      <th>1</th>\n",
              "      <td>2020-04-29</td>\n",
              "      <td>Setor Bueno</td>\n",
              "      <td>45</td>\n",
              "      <td>74223-010</td>\n",
              "      <td>[-16.6956937, -49.2640252]</td>\n",
              "      <td>Sul</td>\n",
              "    </tr>\n",
              "    <tr>\n",
              "      <th>2</th>\n",
              "      <td>2020-04-30</td>\n",
              "      <td>Setor Bueno</td>\n",
              "      <td>48</td>\n",
              "      <td>74223-010</td>\n",
              "      <td>[-16.6956937, -49.2640252]</td>\n",
              "      <td>Sul</td>\n",
              "    </tr>\n",
              "    <tr>\n",
              "      <th>3</th>\n",
              "      <td>2020-05-03</td>\n",
              "      <td>Setor Bueno</td>\n",
              "      <td>52</td>\n",
              "      <td>74223-010</td>\n",
              "      <td>[-16.6956937, -49.2640252]</td>\n",
              "      <td>Sul</td>\n",
              "    </tr>\n",
              "    <tr>\n",
              "      <th>4</th>\n",
              "      <td>2020-05-11</td>\n",
              "      <td>Setor Bueno</td>\n",
              "      <td>73</td>\n",
              "      <td>74223-010</td>\n",
              "      <td>[-16.6956937, -49.2640252]</td>\n",
              "      <td>Sul</td>\n",
              "    </tr>\n",
              "    <tr>\n",
              "      <th>...</th>\n",
              "      <td>...</td>\n",
              "      <td>...</td>\n",
              "      <td>...</td>\n",
              "      <td>...</td>\n",
              "      <td>...</td>\n",
              "      <td>...</td>\n",
              "    </tr>\n",
              "    <tr>\n",
              "      <th>7975</th>\n",
              "      <td>2020-09-14</td>\n",
              "      <td>Vila Itatiaia</td>\n",
              "      <td>119</td>\n",
              "      <td>74690-505</td>\n",
              "      <td>[-16.5957572, -49.258295]</td>\n",
              "      <td>Norte</td>\n",
              "    </tr>\n",
              "    <tr>\n",
              "      <th>7976</th>\n",
              "      <td>2020-09-15</td>\n",
              "      <td>Vila Itatiaia</td>\n",
              "      <td>119</td>\n",
              "      <td>74690-505</td>\n",
              "      <td>[-16.5957572, -49.258295]</td>\n",
              "      <td>Norte</td>\n",
              "    </tr>\n",
              "    <tr>\n",
              "      <th>7977</th>\n",
              "      <td>2020-09-16</td>\n",
              "      <td>Vila Itatiaia</td>\n",
              "      <td>138</td>\n",
              "      <td>74690-505</td>\n",
              "      <td>[-16.5957572, -49.258295]</td>\n",
              "      <td>Norte</td>\n",
              "    </tr>\n",
              "    <tr>\n",
              "      <th>7978</th>\n",
              "      <td>2020-09-17</td>\n",
              "      <td>Vila Itatiaia</td>\n",
              "      <td>138</td>\n",
              "      <td>74690-505</td>\n",
              "      <td>[-16.5957572, -49.258295]</td>\n",
              "      <td>Norte</td>\n",
              "    </tr>\n",
              "    <tr>\n",
              "      <th>7979</th>\n",
              "      <td>2020-09-18</td>\n",
              "      <td>Vila Itatiaia</td>\n",
              "      <td>138</td>\n",
              "      <td>74690-505</td>\n",
              "      <td>[-16.5957572, -49.258295]</td>\n",
              "      <td>Norte</td>\n",
              "    </tr>\n",
              "  </tbody>\n",
              "</table>\n",
              "<p>1888 rows × 6 columns</p>\n",
              "</div>"
            ],
            "text/plain": [
              "            data         bairro  ...                 localizacao regiao\n",
              "0     2020-05-02    Setor Bueno  ...  [-16.6956937, -49.2640252]    Sul\n",
              "1     2020-04-29    Setor Bueno  ...  [-16.6956937, -49.2640252]    Sul\n",
              "2     2020-04-30    Setor Bueno  ...  [-16.6956937, -49.2640252]    Sul\n",
              "3     2020-05-03    Setor Bueno  ...  [-16.6956937, -49.2640252]    Sul\n",
              "4     2020-05-11    Setor Bueno  ...  [-16.6956937, -49.2640252]    Sul\n",
              "...          ...            ...  ...                         ...    ...\n",
              "7975  2020-09-14  Vila Itatiaia  ...   [-16.5957572, -49.258295]  Norte\n",
              "7976  2020-09-15  Vila Itatiaia  ...   [-16.5957572, -49.258295]  Norte\n",
              "7977  2020-09-16  Vila Itatiaia  ...   [-16.5957572, -49.258295]  Norte\n",
              "7978  2020-09-17  Vila Itatiaia  ...   [-16.5957572, -49.258295]  Norte\n",
              "7979  2020-09-18  Vila Itatiaia  ...   [-16.5957572, -49.258295]  Norte\n",
              "\n",
              "[1888 rows x 6 columns]"
            ]
          },
          "metadata": {
            "tags": []
          },
          "execution_count": 476
        }
      ]
    },
    {
      "cell_type": "code",
      "metadata": {
        "colab_type": "code",
        "id": "IYyLc-MflxFx",
        "colab": {
          "base_uri": "https://localhost:8080/",
          "height": 238
        },
        "outputId": "a3156933-71b6-427c-afd4-a7a26e0bce8a"
      },
      "source": [
        "df_bar_race.groupby(['bairro', 'data']).sum()['num_casos']"
      ],
      "execution_count": null,
      "outputs": [
        {
          "output_type": "execute_result",
          "data": {
            "text/plain": [
              "bairro               data      \n",
              "Goiânia 2            2020-05-11      5\n",
              "                     2020-05-12      5\n",
              "                     2020-05-14      6\n",
              "                     2020-05-15      7\n",
              "                     2020-05-16      7\n",
              "                                  ... \n",
              "Vila Jardim Pompéia  2020-09-14    118\n",
              "                     2020-09-15    118\n",
              "                     2020-09-16    128\n",
              "                     2020-09-17    128\n",
              "                     2020-09-18    128\n",
              "Name: num_casos, Length: 1888, dtype: int64"
            ]
          },
          "metadata": {
            "tags": []
          },
          "execution_count": 477
        }
      ]
    },
    {
      "cell_type": "code",
      "metadata": {
        "colab_type": "code",
        "id": "uuYklXNFlxF7",
        "colab": {}
      },
      "source": [
        "df_bar_race = pd.DataFrame(df_bar_race.groupby(['bairro', 'data']).sum()['num_casos']).unstack().T.droplevel(level=0)\n",
        "bcr.bar_chart_race(df_bar_race, filename='bar_race_bairro.mp4')\n"
      ],
      "execution_count": null,
      "outputs": []
    },
    {
      "cell_type": "markdown",
      "metadata": {
        "id": "99ibYXOtRuzh",
        "colab_type": "text"
      },
      "source": [
        "## Dataframe para plotagem do mapa"
      ]
    },
    {
      "cell_type": "code",
      "metadata": {
        "id": "SU9hyqMxQJtf",
        "colab_type": "code",
        "colab": {
          "base_uri": "https://localhost:8080/",
          "height": 419
        },
        "outputId": "c2b49f99-3e7f-4486-9fe4-22a48a29559d"
      },
      "source": [
        "covid_goiania_por_bairro.columns = ['Date', 'Zone', 'Count', 'CEP', 'Location', 'Region']\n",
        "covid_goiania_por_bairro['Category'] = 'Confirmed'\n",
        "covid_goiania_por_bairro[\"Count\"] = pd.to_numeric(covid_goiania_por_bairro[\"Count\"])\n",
        "\n",
        "covid_goiania_por_bairro['Location'] = covid_goiania_por_bairro['Location'].apply(lambda x: x[1:])\n",
        "covid_goiania_por_bairro['Location'] = covid_goiania_por_bairro['Location'].apply(lambda x: x[:-1])\n",
        "covid_goiania_por_bairro['Location'] = covid_goiania_por_bairro['Location'].apply(lambda x: x.replace(\" \", \"\"))\n",
        "\n",
        "# df_completo.to_csv('/content/drive/My Drive/Colab Notebooks/covid/covid-19-goiania-por-bairro-final.csv', index=False)\n",
        "covid_goiania_por_bairro.to_csv('covid-19-goiania-por-bairro-final.csv', index=False)\n",
        "covid_goiania_por_bairro"
      ],
      "execution_count": null,
      "outputs": [
        {
          "output_type": "execute_result",
          "data": {
            "text/html": [
              "<div>\n",
              "<style scoped>\n",
              "    .dataframe tbody tr th:only-of-type {\n",
              "        vertical-align: middle;\n",
              "    }\n",
              "\n",
              "    .dataframe tbody tr th {\n",
              "        vertical-align: top;\n",
              "    }\n",
              "\n",
              "    .dataframe thead th {\n",
              "        text-align: right;\n",
              "    }\n",
              "</style>\n",
              "<table border=\"1\" class=\"dataframe\">\n",
              "  <thead>\n",
              "    <tr style=\"text-align: right;\">\n",
              "      <th></th>\n",
              "      <th>Date</th>\n",
              "      <th>Zone</th>\n",
              "      <th>Count</th>\n",
              "      <th>CEP</th>\n",
              "      <th>Location</th>\n",
              "      <th>Region</th>\n",
              "      <th>Category</th>\n",
              "    </tr>\n",
              "  </thead>\n",
              "  <tbody>\n",
              "    <tr>\n",
              "      <th>0</th>\n",
              "      <td>2020-05-02</td>\n",
              "      <td>Setor Bueno</td>\n",
              "      <td>48</td>\n",
              "      <td>74223-010</td>\n",
              "      <td>-16.6956937,-49.2640252</td>\n",
              "      <td>Sul</td>\n",
              "      <td>Confirmed</td>\n",
              "    </tr>\n",
              "    <tr>\n",
              "      <th>1</th>\n",
              "      <td>2020-04-29</td>\n",
              "      <td>Setor Bueno</td>\n",
              "      <td>45</td>\n",
              "      <td>74223-010</td>\n",
              "      <td>-16.6956937,-49.2640252</td>\n",
              "      <td>Sul</td>\n",
              "      <td>Confirmed</td>\n",
              "    </tr>\n",
              "    <tr>\n",
              "      <th>2</th>\n",
              "      <td>2020-04-30</td>\n",
              "      <td>Setor Bueno</td>\n",
              "      <td>48</td>\n",
              "      <td>74223-010</td>\n",
              "      <td>-16.6956937,-49.2640252</td>\n",
              "      <td>Sul</td>\n",
              "      <td>Confirmed</td>\n",
              "    </tr>\n",
              "    <tr>\n",
              "      <th>3</th>\n",
              "      <td>2020-05-03</td>\n",
              "      <td>Setor Bueno</td>\n",
              "      <td>52</td>\n",
              "      <td>74223-010</td>\n",
              "      <td>-16.6956937,-49.2640252</td>\n",
              "      <td>Sul</td>\n",
              "      <td>Confirmed</td>\n",
              "    </tr>\n",
              "    <tr>\n",
              "      <th>4</th>\n",
              "      <td>2020-05-11</td>\n",
              "      <td>Setor Bueno</td>\n",
              "      <td>73</td>\n",
              "      <td>74223-010</td>\n",
              "      <td>-16.6956937,-49.2640252</td>\n",
              "      <td>Sul</td>\n",
              "      <td>Confirmed</td>\n",
              "    </tr>\n",
              "    <tr>\n",
              "      <th>...</th>\n",
              "      <td>...</td>\n",
              "      <td>...</td>\n",
              "      <td>...</td>\n",
              "      <td>...</td>\n",
              "      <td>...</td>\n",
              "      <td>...</td>\n",
              "      <td>...</td>\n",
              "    </tr>\n",
              "    <tr>\n",
              "      <th>11399</th>\n",
              "      <td>2020-09-17</td>\n",
              "      <td>Conjunto Habitacional Madre Germana 2</td>\n",
              "      <td>128</td>\n",
              "      <td>74354-830</td>\n",
              "      <td>-16.8154446,-49.3747038</td>\n",
              "      <td>Noroeste</td>\n",
              "      <td>Confirmed</td>\n",
              "    </tr>\n",
              "    <tr>\n",
              "      <th>11400</th>\n",
              "      <td>2020-09-18</td>\n",
              "      <td>Conjunto Habitacional Madre Germana 2</td>\n",
              "      <td>128</td>\n",
              "      <td>74354-830</td>\n",
              "      <td>-16.8154446,-49.3747038</td>\n",
              "      <td>Noroeste</td>\n",
              "      <td>Confirmed</td>\n",
              "    </tr>\n",
              "    <tr>\n",
              "      <th>11401</th>\n",
              "      <td>2020-09-16</td>\n",
              "      <td>Setor Rio Formoso</td>\n",
              "      <td>125</td>\n",
              "      <td>74370-020</td>\n",
              "      <td>-16.7211142,-49.3337986</td>\n",
              "      <td>Sudoeste</td>\n",
              "      <td>Confirmed</td>\n",
              "    </tr>\n",
              "    <tr>\n",
              "      <th>11402</th>\n",
              "      <td>2020-09-17</td>\n",
              "      <td>Setor Rio Formoso</td>\n",
              "      <td>125</td>\n",
              "      <td>74370-020</td>\n",
              "      <td>-16.7211142,-49.3337986</td>\n",
              "      <td>Sudoeste</td>\n",
              "      <td>Confirmed</td>\n",
              "    </tr>\n",
              "    <tr>\n",
              "      <th>11403</th>\n",
              "      <td>2020-09-18</td>\n",
              "      <td>Setor Rio Formoso</td>\n",
              "      <td>125</td>\n",
              "      <td>74370-020</td>\n",
              "      <td>-16.7211142,-49.3337986</td>\n",
              "      <td>Sudoeste</td>\n",
              "      <td>Confirmed</td>\n",
              "    </tr>\n",
              "  </tbody>\n",
              "</table>\n",
              "<p>8364 rows × 7 columns</p>\n",
              "</div>"
            ],
            "text/plain": [
              "             Date                                   Zone  ...    Region   Category\n",
              "0      2020-05-02                            Setor Bueno  ...       Sul  Confirmed\n",
              "1      2020-04-29                            Setor Bueno  ...       Sul  Confirmed\n",
              "2      2020-04-30                            Setor Bueno  ...       Sul  Confirmed\n",
              "3      2020-05-03                            Setor Bueno  ...       Sul  Confirmed\n",
              "4      2020-05-11                            Setor Bueno  ...       Sul  Confirmed\n",
              "...           ...                                    ...  ...       ...        ...\n",
              "11399  2020-09-17  Conjunto Habitacional Madre Germana 2  ...  Noroeste  Confirmed\n",
              "11400  2020-09-18  Conjunto Habitacional Madre Germana 2  ...  Noroeste  Confirmed\n",
              "11401  2020-09-16                      Setor Rio Formoso  ...  Sudoeste  Confirmed\n",
              "11402  2020-09-17                      Setor Rio Formoso  ...  Sudoeste  Confirmed\n",
              "11403  2020-09-18                      Setor Rio Formoso  ...  Sudoeste  Confirmed\n",
              "\n",
              "[8364 rows x 7 columns]"
            ]
          },
          "metadata": {
            "tags": []
          },
          "execution_count": 481
        }
      ]
    },
    {
      "cell_type": "markdown",
      "metadata": {
        "id": "bQISirNgDyM3",
        "colab_type": "text"
      },
      "source": [
        "## Gráfico de barras\n",
        "\n"
      ]
    },
    {
      "cell_type": "code",
      "metadata": {
        "id": "mJfZSzpSR0Ib",
        "colab_type": "code",
        "colab": {}
      },
      "source": [
        "#fonte dos dados: https://brasil.io/dataset/covid19/caso/?search=Goi%C3%A2nia&date=&state=GO&city=&place_type=&is_last=&city_ibge_code=5208707&order_for_place=\n",
        "\n",
        "\n",
        "\n",
        "bar_graph_dados = pd.read_csv('covid19-335f39aca2a64a1a99ef2e3e5eedbbc0.csv', sep=',')"
      ],
      "execution_count": null,
      "outputs": []
    },
    {
      "cell_type": "code",
      "metadata": {
        "id": "nRpSSq3kSFAq",
        "colab_type": "code",
        "colab": {
          "base_uri": "https://localhost:8080/"
        },
        "outputId": "4cfc1070-268b-47d8-f175-88bed8453378"
      },
      "source": [
        "bar_graph_dados.head()"
      ],
      "execution_count": null,
      "outputs": [
        {
          "output_type": "execute_result",
          "data": {
            "text/html": [
              "<div>\n",
              "<style scoped>\n",
              "    .dataframe tbody tr th:only-of-type {\n",
              "        vertical-align: middle;\n",
              "    }\n",
              "\n",
              "    .dataframe tbody tr th {\n",
              "        vertical-align: top;\n",
              "    }\n",
              "\n",
              "    .dataframe thead th {\n",
              "        text-align: right;\n",
              "    }\n",
              "</style>\n",
              "<table border=\"1\" class=\"dataframe\">\n",
              "  <thead>\n",
              "    <tr style=\"text-align: right;\">\n",
              "      <th></th>\n",
              "      <th>date</th>\n",
              "      <th>state</th>\n",
              "      <th>city</th>\n",
              "      <th>place_type</th>\n",
              "      <th>confirmed</th>\n",
              "      <th>deaths</th>\n",
              "      <th>is_last</th>\n",
              "      <th>estimated_population_2019</th>\n",
              "      <th>city_ibge_code</th>\n",
              "      <th>confirmed_per_100k_inhabitants</th>\n",
              "      <th>death_rate</th>\n",
              "    </tr>\n",
              "  </thead>\n",
              "  <tbody>\n",
              "    <tr>\n",
              "      <th>0</th>\n",
              "      <td>2020-09-17</td>\n",
              "      <td>GO</td>\n",
              "      <td>Goiânia</td>\n",
              "      <td>city</td>\n",
              "      <td>45662</td>\n",
              "      <td>1168</td>\n",
              "      <td>True</td>\n",
              "      <td>1516113</td>\n",
              "      <td>5208707</td>\n",
              "      <td>3011.78078</td>\n",
              "      <td>0.0256</td>\n",
              "    </tr>\n",
              "    <tr>\n",
              "      <th>1</th>\n",
              "      <td>2020-09-16</td>\n",
              "      <td>GO</td>\n",
              "      <td>Goiânia</td>\n",
              "      <td>city</td>\n",
              "      <td>44324</td>\n",
              "      <td>1135</td>\n",
              "      <td>False</td>\n",
              "      <td>1516113</td>\n",
              "      <td>5208707</td>\n",
              "      <td>2923.52879</td>\n",
              "      <td>0.0256</td>\n",
              "    </tr>\n",
              "    <tr>\n",
              "      <th>2</th>\n",
              "      <td>2020-09-15</td>\n",
              "      <td>GO</td>\n",
              "      <td>Goiânia</td>\n",
              "      <td>city</td>\n",
              "      <td>42978</td>\n",
              "      <td>1116</td>\n",
              "      <td>False</td>\n",
              "      <td>1516113</td>\n",
              "      <td>5208707</td>\n",
              "      <td>2834.74912</td>\n",
              "      <td>0.0260</td>\n",
              "    </tr>\n",
              "    <tr>\n",
              "      <th>3</th>\n",
              "      <td>2020-09-14</td>\n",
              "      <td>GO</td>\n",
              "      <td>Goiânia</td>\n",
              "      <td>city</td>\n",
              "      <td>41698</td>\n",
              "      <td>1098</td>\n",
              "      <td>False</td>\n",
              "      <td>1516113</td>\n",
              "      <td>5208707</td>\n",
              "      <td>2750.32270</td>\n",
              "      <td>0.0263</td>\n",
              "    </tr>\n",
              "    <tr>\n",
              "      <th>4</th>\n",
              "      <td>2020-09-13</td>\n",
              "      <td>GO</td>\n",
              "      <td>Goiânia</td>\n",
              "      <td>city</td>\n",
              "      <td>39797</td>\n",
              "      <td>1074</td>\n",
              "      <td>False</td>\n",
              "      <td>1516113</td>\n",
              "      <td>5208707</td>\n",
              "      <td>2624.93627</td>\n",
              "      <td>0.0270</td>\n",
              "    </tr>\n",
              "  </tbody>\n",
              "</table>\n",
              "</div>"
            ],
            "text/plain": [
              "         date state  ... confirmed_per_100k_inhabitants death_rate\n",
              "0  2020-09-17    GO  ...                     3011.78078     0.0256\n",
              "1  2020-09-16    GO  ...                     2923.52879     0.0256\n",
              "2  2020-09-15    GO  ...                     2834.74912     0.0260\n",
              "3  2020-09-14    GO  ...                     2750.32270     0.0263\n",
              "4  2020-09-13    GO  ...                     2624.93627     0.0270\n",
              "\n",
              "[5 rows x 11 columns]"
            ]
          },
          "metadata": {
            "tags": []
          },
          "execution_count": 486
        }
      ]
    },
    {
      "cell_type": "code",
      "metadata": {
        "id": "9QUb4s6SSshe",
        "colab_type": "code",
        "colab": {
          "base_uri": "https://localhost:8080/"
        },
        "outputId": "4bf1d362-b6b9-4c09-db27-e762072eba14"
      },
      "source": [
        "bar_graph_dados.columns"
      ],
      "execution_count": null,
      "outputs": [
        {
          "output_type": "execute_result",
          "data": {
            "text/plain": [
              "Index(['date', 'state', 'city', 'place_type', 'confirmed', 'deaths', 'is_last',\n",
              "       'estimated_population_2019', 'city_ibge_code',\n",
              "       'confirmed_per_100k_inhabitants', 'death_rate'],\n",
              "      dtype='object')"
            ]
          },
          "metadata": {
            "tags": []
          },
          "execution_count": 487
        }
      ]
    },
    {
      "cell_type": "code",
      "metadata": {
        "id": "f-3VF21NSJay",
        "colab_type": "code",
        "colab": {
          "base_uri": "https://localhost:8080/"
        },
        "outputId": "9973cad1-18d1-4b09-b2ec-5e6d414a55e2"
      },
      "source": [
        "bar_graph_dados.drop(columns=['is_last', 'estimated_population_2019', 'city_ibge_code', 'state',\n",
        "                                'confirmed_per_100k_inhabitants', 'death_rate','place_type'\n",
        "                            ], inplace=True)\n",
        "                     \n",
        "\n",
        "bar_graph_dados.head()"
      ],
      "execution_count": null,
      "outputs": [
        {
          "output_type": "execute_result",
          "data": {
            "text/html": [
              "<div>\n",
              "<style scoped>\n",
              "    .dataframe tbody tr th:only-of-type {\n",
              "        vertical-align: middle;\n",
              "    }\n",
              "\n",
              "    .dataframe tbody tr th {\n",
              "        vertical-align: top;\n",
              "    }\n",
              "\n",
              "    .dataframe thead th {\n",
              "        text-align: right;\n",
              "    }\n",
              "</style>\n",
              "<table border=\"1\" class=\"dataframe\">\n",
              "  <thead>\n",
              "    <tr style=\"text-align: right;\">\n",
              "      <th></th>\n",
              "      <th>date</th>\n",
              "      <th>city</th>\n",
              "      <th>confirmed</th>\n",
              "      <th>deaths</th>\n",
              "    </tr>\n",
              "  </thead>\n",
              "  <tbody>\n",
              "    <tr>\n",
              "      <th>0</th>\n",
              "      <td>2020-09-17</td>\n",
              "      <td>Goiânia</td>\n",
              "      <td>45662</td>\n",
              "      <td>1168</td>\n",
              "    </tr>\n",
              "    <tr>\n",
              "      <th>1</th>\n",
              "      <td>2020-09-16</td>\n",
              "      <td>Goiânia</td>\n",
              "      <td>44324</td>\n",
              "      <td>1135</td>\n",
              "    </tr>\n",
              "    <tr>\n",
              "      <th>2</th>\n",
              "      <td>2020-09-15</td>\n",
              "      <td>Goiânia</td>\n",
              "      <td>42978</td>\n",
              "      <td>1116</td>\n",
              "    </tr>\n",
              "    <tr>\n",
              "      <th>3</th>\n",
              "      <td>2020-09-14</td>\n",
              "      <td>Goiânia</td>\n",
              "      <td>41698</td>\n",
              "      <td>1098</td>\n",
              "    </tr>\n",
              "    <tr>\n",
              "      <th>4</th>\n",
              "      <td>2020-09-13</td>\n",
              "      <td>Goiânia</td>\n",
              "      <td>39797</td>\n",
              "      <td>1074</td>\n",
              "    </tr>\n",
              "  </tbody>\n",
              "</table>\n",
              "</div>"
            ],
            "text/plain": [
              "         date     city  confirmed  deaths\n",
              "0  2020-09-17  Goiânia      45662    1168\n",
              "1  2020-09-16  Goiânia      44324    1135\n",
              "2  2020-09-15  Goiânia      42978    1116\n",
              "3  2020-09-14  Goiânia      41698    1098\n",
              "4  2020-09-13  Goiânia      39797    1074"
            ]
          },
          "metadata": {
            "tags": []
          },
          "execution_count": 488
        }
      ]
    },
    {
      "cell_type": "code",
      "metadata": {
        "id": "r1vonxfwTPiS",
        "colab_type": "code",
        "colab": {
          "base_uri": "https://localhost:8080/"
        },
        "outputId": "52239a56-c79b-44b3-9356-6f861b441fde"
      },
      "source": [
        "bar_graph_dados.rename(columns={'date': 'Data', 'city': 'Cidade', 'confirmed': 'Casos confirmados', 'deaths': 'Óbitos'}, inplace=True)\n",
        "bar_graph_dados.head()"
      ],
      "execution_count": null,
      "outputs": [
        {
          "output_type": "execute_result",
          "data": {
            "text/html": [
              "<div>\n",
              "<style scoped>\n",
              "    .dataframe tbody tr th:only-of-type {\n",
              "        vertical-align: middle;\n",
              "    }\n",
              "\n",
              "    .dataframe tbody tr th {\n",
              "        vertical-align: top;\n",
              "    }\n",
              "\n",
              "    .dataframe thead th {\n",
              "        text-align: right;\n",
              "    }\n",
              "</style>\n",
              "<table border=\"1\" class=\"dataframe\">\n",
              "  <thead>\n",
              "    <tr style=\"text-align: right;\">\n",
              "      <th></th>\n",
              "      <th>Data</th>\n",
              "      <th>Cidade</th>\n",
              "      <th>Casos confirmados</th>\n",
              "      <th>Óbitos</th>\n",
              "    </tr>\n",
              "  </thead>\n",
              "  <tbody>\n",
              "    <tr>\n",
              "      <th>0</th>\n",
              "      <td>2020-09-17</td>\n",
              "      <td>Goiânia</td>\n",
              "      <td>45662</td>\n",
              "      <td>1168</td>\n",
              "    </tr>\n",
              "    <tr>\n",
              "      <th>1</th>\n",
              "      <td>2020-09-16</td>\n",
              "      <td>Goiânia</td>\n",
              "      <td>44324</td>\n",
              "      <td>1135</td>\n",
              "    </tr>\n",
              "    <tr>\n",
              "      <th>2</th>\n",
              "      <td>2020-09-15</td>\n",
              "      <td>Goiânia</td>\n",
              "      <td>42978</td>\n",
              "      <td>1116</td>\n",
              "    </tr>\n",
              "    <tr>\n",
              "      <th>3</th>\n",
              "      <td>2020-09-14</td>\n",
              "      <td>Goiânia</td>\n",
              "      <td>41698</td>\n",
              "      <td>1098</td>\n",
              "    </tr>\n",
              "    <tr>\n",
              "      <th>4</th>\n",
              "      <td>2020-09-13</td>\n",
              "      <td>Goiânia</td>\n",
              "      <td>39797</td>\n",
              "      <td>1074</td>\n",
              "    </tr>\n",
              "  </tbody>\n",
              "</table>\n",
              "</div>"
            ],
            "text/plain": [
              "         Data   Cidade  Casos confirmados  Óbitos\n",
              "0  2020-09-17  Goiânia              45662    1168\n",
              "1  2020-09-16  Goiânia              44324    1135\n",
              "2  2020-09-15  Goiânia              42978    1116\n",
              "3  2020-09-14  Goiânia              41698    1098\n",
              "4  2020-09-13  Goiânia              39797    1074"
            ]
          },
          "metadata": {
            "tags": []
          },
          "execution_count": 489
        }
      ]
    },
    {
      "cell_type": "code",
      "metadata": {
        "id": "bJE1S_swWgBH",
        "colab_type": "code",
        "colab": {
          "base_uri": "https://localhost:8080/"
        },
        "outputId": "cf28e238-68ec-4359-dd0f-a2339f9d93e1"
      },
      "source": [
        "fig = px.bar(bar_graph_dados, x='Data', y='Casos confirmados')\n",
        "fig.update_traces()"
      ],
      "execution_count": null,
      "outputs": [
        {
          "output_type": "display_data",
          "data": {
            "text/html": [
              "<html>\n",
              "<head><meta charset=\"utf-8\" /></head>\n",
              "<body>\n",
              "    <div>\n",
              "            <script src=\"https://cdnjs.cloudflare.com/ajax/libs/mathjax/2.7.5/MathJax.js?config=TeX-AMS-MML_SVG\"></script><script type=\"text/javascript\">if (window.MathJax) {MathJax.Hub.Config({SVG: {font: \"STIX-Web\"}});}</script>\n",
              "                <script type=\"text/javascript\">window.PlotlyConfig = {MathJaxConfig: 'local'};</script>\n",
              "        <script src=\"https://cdn.plot.ly/plotly-latest.min.js\"></script>    \n",
              "            <div id=\"119b29c0-e32d-46a8-ad5e-8b8307b5e159\" class=\"plotly-graph-div\" style=\"height:525px; width:100%;\"></div>\n",
              "            <script type=\"text/javascript\">\n",
              "                \n",
              "                    window.PLOTLYENV=window.PLOTLYENV || {};\n",
              "                    \n",
              "                if (document.getElementById(\"119b29c0-e32d-46a8-ad5e-8b8307b5e159\")) {\n",
              "                    Plotly.newPlot(\n",
              "                        '119b29c0-e32d-46a8-ad5e-8b8307b5e159',\n",
              "                        [{\"alignmentgroup\": \"True\", \"hoverlabel\": {\"namelength\": 0}, \"hovertemplate\": \"Data=%{x}<br>Casos confirmados=%{y}\", \"legendgroup\": \"\", \"marker\": {\"color\": \"#636efa\"}, \"name\": \"\", \"offsetgroup\": \"\", \"orientation\": \"v\", \"showlegend\": false, \"textposition\": \"auto\", \"type\": \"bar\", \"x\": [\"2020-09-17\", \"2020-09-16\", \"2020-09-15\", \"2020-09-14\", \"2020-09-13\", \"2020-09-12\", \"2020-09-11\", \"2020-09-10\", \"2020-09-09\", \"2020-09-08\", \"2020-09-07\", \"2020-09-06\", \"2020-09-05\", \"2020-09-04\", \"2020-09-03\", \"2020-09-02\", \"2020-09-01\", \"2020-08-31\", \"2020-08-30\", \"2020-08-29\", \"2020-08-28\", \"2020-08-27\", \"2020-08-26\", \"2020-08-25\", \"2020-08-24\", \"2020-08-23\", \"2020-08-22\", \"2020-08-21\", \"2020-08-20\", \"2020-08-19\", \"2020-08-18\", \"2020-08-17\", \"2020-08-16\", \"2020-08-15\", \"2020-08-14\", \"2020-08-13\", \"2020-08-12\", \"2020-08-11\", \"2020-08-10\", \"2020-08-09\", \"2020-08-08\", \"2020-08-07\", \"2020-08-06\", \"2020-08-05\", \"2020-08-04\", \"2020-08-03\", \"2020-08-02\", \"2020-08-01\", \"2020-07-31\", \"2020-07-30\", \"2020-07-29\", \"2020-07-28\", \"2020-07-27\", \"2020-07-26\", \"2020-07-25\", \"2020-07-24\", \"2020-07-23\", \"2020-07-22\", \"2020-07-21\", \"2020-07-20\", \"2020-07-19\", \"2020-07-18\", \"2020-07-17\", \"2020-07-16\", \"2020-07-15\", \"2020-07-14\", \"2020-07-13\", \"2020-07-12\", \"2020-07-11\", \"2020-07-10\", \"2020-07-09\", \"2020-07-08\", \"2020-07-07\", \"2020-07-06\", \"2020-07-05\", \"2020-07-04\", \"2020-07-03\", \"2020-07-02\", \"2020-07-01\", \"2020-06-30\", \"2020-06-29\", \"2020-06-28\", \"2020-06-27\", \"2020-06-26\", \"2020-06-25\", \"2020-06-24\", \"2020-06-23\", \"2020-06-22\", \"2020-06-21\", \"2020-06-20\", \"2020-06-19\", \"2020-06-18\", \"2020-06-17\", \"2020-06-16\", \"2020-06-15\", \"2020-06-14\", \"2020-06-13\", \"2020-06-12\", \"2020-06-11\", \"2020-06-10\", \"2020-06-09\", \"2020-06-08\", \"2020-06-07\", \"2020-06-06\", \"2020-06-05\", \"2020-06-04\", \"2020-06-03\", \"2020-06-02\", \"2020-06-01\", \"2020-05-31\", \"2020-05-30\", \"2020-05-29\", \"2020-05-28\", \"2020-05-27\", \"2020-05-26\", \"2020-05-25\", \"2020-05-24\", \"2020-05-23\", \"2020-05-22\", \"2020-05-21\", \"2020-05-20\", \"2020-05-19\", \"2020-05-18\", \"2020-05-17\", \"2020-05-16\", \"2020-05-15\", \"2020-05-14\", \"2020-05-13\", \"2020-05-12\", \"2020-05-11\", \"2020-05-08\", \"2020-05-07\", \"2020-05-05\", \"2020-05-04\", \"2020-05-03\", \"2020-05-02\", \"2020-05-01\", \"2020-04-30\", \"2020-04-29\", \"2020-04-28\", \"2020-04-27\", \"2020-04-26\", \"2020-04-25\", \"2020-04-24\", \"2020-04-23\", \"2020-04-22\", \"2020-04-21\", \"2020-04-20\", \"2020-04-19\", \"2020-04-18\", \"2020-04-17\", \"2020-04-16\", \"2020-04-15\", \"2020-04-14\", \"2020-04-13\", \"2020-04-12\", \"2020-04-11\", \"2020-04-10\", \"2020-04-09\", \"2020-04-08\", \"2020-04-07\", \"2020-04-06\", \"2020-04-05\", \"2020-04-04\", \"2020-04-03\", \"2020-04-02\", \"2020-04-01\", \"2020-03-31\", \"2020-03-30\", \"2020-03-29\", \"2020-03-28\", \"2020-03-27\", \"2020-03-26\", \"2020-03-25\", \"2020-03-24\", \"2020-03-23\", \"2020-03-22\", \"2020-03-20\", \"2020-03-19\", \"2020-03-18\", \"2020-03-17\", \"2020-03-16\", \"2020-03-15\", \"2020-03-14\", \"2020-03-13\", \"2020-03-12\"], \"xaxis\": \"x\", \"y\": [45662, 44324, 42978, 41698, 39797, 39608, 39565, 38388, 37439, 36746, 36387, 36282, 36182, 35493, 34998, 34301, 33455, 32923, 32514, 32386, 32231, 31836, 31674, 30676, 30114, 29412, 28979, 28788, 28219, 27879, 27362, 26216, 25664, 25412, 25241, 24550, 23693, 22764, 21974, 21387, 21334, 21201, 20608, 19405, 18366, 17358, 17326, 17321, 17285, 16624, 15874, 15200, 14435, 13520, 13516, 13352, 12605, 11902, 11080, 9884, 9790, 9793, 9804, 9763, 9634, 9422, 9229, 9361, 9188, 9194, 9058, 8906, 8640, 8290, 7825, 7825, 7474, 7119, 7065, 6956, 6655, 6126, 6122, 6111, 5958, 5728, 5359, 5159, 4774, 4717, 4679, 4442, 4150, 3849, 3220, 2856, 2851, 2842, 2818, 2775, 2616, 2428, 2345, 2329, 2291, 2028, 1847, 1809, 1730, 1661, 1581, 1556, 1473, 1393, 1307, 1200, 1206, 1184, 1163, 1049, 1028, 964, 935, 921, 890, 873, 758, 665, 585, 578, 550, 547, 545, 496, 487, 467, 457, 453, 404, 392, 364, 333, 273, 267, 257, 255, 240, 230, 231, 226, 188, 182, 176, 160, 130, 126, 114, 109, 102, 85, 76, 73, 73, 65, 50, 43, 42, 39, 35, 33, 33, 26, 21, 15, 15, 12, 11, 9, 7, 5, 5, 5, 3, 3, 2, 2], \"yaxis\": \"y\"}],\n",
              "                        {\"barmode\": \"relative\", \"legend\": {\"tracegroupgap\": 0}, \"margin\": {\"t\": 60}, \"template\": {\"data\": {\"bar\": [{\"error_x\": {\"color\": \"#2a3f5f\"}, \"error_y\": {\"color\": \"#2a3f5f\"}, \"marker\": {\"line\": {\"color\": \"#E5ECF6\", \"width\": 0.5}}, \"type\": \"bar\"}], \"barpolar\": [{\"marker\": {\"line\": {\"color\": \"#E5ECF6\", \"width\": 0.5}}, \"type\": \"barpolar\"}], \"carpet\": [{\"aaxis\": {\"endlinecolor\": \"#2a3f5f\", \"gridcolor\": \"white\", \"linecolor\": \"white\", \"minorgridcolor\": \"white\", \"startlinecolor\": \"#2a3f5f\"}, \"baxis\": {\"endlinecolor\": \"#2a3f5f\", \"gridcolor\": \"white\", \"linecolor\": \"white\", \"minorgridcolor\": \"white\", \"startlinecolor\": \"#2a3f5f\"}, \"type\": \"carpet\"}], \"choropleth\": [{\"colorbar\": {\"outlinewidth\": 0, \"ticks\": \"\"}, \"type\": \"choropleth\"}], \"contour\": [{\"colorbar\": {\"outlinewidth\": 0, \"ticks\": \"\"}, \"colorscale\": [[0.0, \"#0d0887\"], [0.1111111111111111, \"#46039f\"], [0.2222222222222222, \"#7201a8\"], [0.3333333333333333, \"#9c179e\"], [0.4444444444444444, \"#bd3786\"], [0.5555555555555556, \"#d8576b\"], [0.6666666666666666, \"#ed7953\"], [0.7777777777777778, \"#fb9f3a\"], [0.8888888888888888, \"#fdca26\"], [1.0, \"#f0f921\"]], \"type\": \"contour\"}], \"contourcarpet\": [{\"colorbar\": {\"outlinewidth\": 0, \"ticks\": \"\"}, \"type\": \"contourcarpet\"}], \"heatmap\": [{\"colorbar\": {\"outlinewidth\": 0, \"ticks\": \"\"}, \"colorscale\": [[0.0, \"#0d0887\"], [0.1111111111111111, \"#46039f\"], [0.2222222222222222, \"#7201a8\"], [0.3333333333333333, \"#9c179e\"], [0.4444444444444444, \"#bd3786\"], [0.5555555555555556, \"#d8576b\"], [0.6666666666666666, \"#ed7953\"], [0.7777777777777778, \"#fb9f3a\"], [0.8888888888888888, \"#fdca26\"], [1.0, \"#f0f921\"]], \"type\": \"heatmap\"}], \"heatmapgl\": [{\"colorbar\": {\"outlinewidth\": 0, \"ticks\": \"\"}, \"colorscale\": [[0.0, \"#0d0887\"], [0.1111111111111111, \"#46039f\"], [0.2222222222222222, \"#7201a8\"], [0.3333333333333333, \"#9c179e\"], [0.4444444444444444, \"#bd3786\"], [0.5555555555555556, \"#d8576b\"], [0.6666666666666666, \"#ed7953\"], [0.7777777777777778, \"#fb9f3a\"], [0.8888888888888888, \"#fdca26\"], [1.0, \"#f0f921\"]], \"type\": \"heatmapgl\"}], \"histogram\": [{\"marker\": {\"colorbar\": {\"outlinewidth\": 0, \"ticks\": \"\"}}, \"type\": \"histogram\"}], \"histogram2d\": [{\"colorbar\": {\"outlinewidth\": 0, \"ticks\": \"\"}, \"colorscale\": [[0.0, \"#0d0887\"], [0.1111111111111111, \"#46039f\"], [0.2222222222222222, \"#7201a8\"], [0.3333333333333333, \"#9c179e\"], [0.4444444444444444, \"#bd3786\"], [0.5555555555555556, \"#d8576b\"], [0.6666666666666666, \"#ed7953\"], [0.7777777777777778, \"#fb9f3a\"], [0.8888888888888888, \"#fdca26\"], [1.0, \"#f0f921\"]], \"type\": \"histogram2d\"}], \"histogram2dcontour\": [{\"colorbar\": {\"outlinewidth\": 0, \"ticks\": \"\"}, \"colorscale\": [[0.0, \"#0d0887\"], [0.1111111111111111, \"#46039f\"], [0.2222222222222222, \"#7201a8\"], [0.3333333333333333, \"#9c179e\"], [0.4444444444444444, \"#bd3786\"], [0.5555555555555556, \"#d8576b\"], [0.6666666666666666, \"#ed7953\"], [0.7777777777777778, \"#fb9f3a\"], [0.8888888888888888, \"#fdca26\"], [1.0, \"#f0f921\"]], \"type\": \"histogram2dcontour\"}], \"mesh3d\": [{\"colorbar\": {\"outlinewidth\": 0, \"ticks\": \"\"}, \"type\": \"mesh3d\"}], \"parcoords\": [{\"line\": {\"colorbar\": {\"outlinewidth\": 0, \"ticks\": \"\"}}, \"type\": \"parcoords\"}], \"pie\": [{\"automargin\": true, \"type\": \"pie\"}], \"scatter\": [{\"marker\": {\"colorbar\": {\"outlinewidth\": 0, \"ticks\": \"\"}}, \"type\": \"scatter\"}], \"scatter3d\": [{\"line\": {\"colorbar\": {\"outlinewidth\": 0, \"ticks\": \"\"}}, \"marker\": {\"colorbar\": {\"outlinewidth\": 0, \"ticks\": \"\"}}, \"type\": \"scatter3d\"}], \"scattercarpet\": [{\"marker\": {\"colorbar\": {\"outlinewidth\": 0, \"ticks\": \"\"}}, \"type\": \"scattercarpet\"}], \"scattergeo\": [{\"marker\": {\"colorbar\": {\"outlinewidth\": 0, \"ticks\": \"\"}}, \"type\": \"scattergeo\"}], \"scattergl\": [{\"marker\": {\"colorbar\": {\"outlinewidth\": 0, \"ticks\": \"\"}}, \"type\": \"scattergl\"}], \"scattermapbox\": [{\"marker\": {\"colorbar\": {\"outlinewidth\": 0, \"ticks\": \"\"}}, \"type\": \"scattermapbox\"}], \"scatterpolar\": [{\"marker\": {\"colorbar\": {\"outlinewidth\": 0, \"ticks\": \"\"}}, \"type\": \"scatterpolar\"}], \"scatterpolargl\": [{\"marker\": {\"colorbar\": {\"outlinewidth\": 0, \"ticks\": \"\"}}, \"type\": \"scatterpolargl\"}], \"scatterternary\": [{\"marker\": {\"colorbar\": {\"outlinewidth\": 0, \"ticks\": \"\"}}, \"type\": \"scatterternary\"}], \"surface\": [{\"colorbar\": {\"outlinewidth\": 0, \"ticks\": \"\"}, \"colorscale\": [[0.0, \"#0d0887\"], [0.1111111111111111, \"#46039f\"], [0.2222222222222222, \"#7201a8\"], [0.3333333333333333, \"#9c179e\"], [0.4444444444444444, \"#bd3786\"], [0.5555555555555556, \"#d8576b\"], [0.6666666666666666, \"#ed7953\"], [0.7777777777777778, \"#fb9f3a\"], [0.8888888888888888, \"#fdca26\"], [1.0, \"#f0f921\"]], \"type\": \"surface\"}], \"table\": [{\"cells\": {\"fill\": {\"color\": \"#EBF0F8\"}, \"line\": {\"color\": \"white\"}}, \"header\": {\"fill\": {\"color\": \"#C8D4E3\"}, \"line\": {\"color\": \"white\"}}, \"type\": \"table\"}]}, \"layout\": {\"annotationdefaults\": {\"arrowcolor\": \"#2a3f5f\", \"arrowhead\": 0, \"arrowwidth\": 1}, \"coloraxis\": {\"colorbar\": {\"outlinewidth\": 0, \"ticks\": \"\"}}, \"colorscale\": {\"diverging\": [[0, \"#8e0152\"], [0.1, \"#c51b7d\"], [0.2, \"#de77ae\"], [0.3, \"#f1b6da\"], [0.4, \"#fde0ef\"], [0.5, \"#f7f7f7\"], [0.6, \"#e6f5d0\"], [0.7, \"#b8e186\"], [0.8, \"#7fbc41\"], [0.9, \"#4d9221\"], [1, \"#276419\"]], \"sequential\": [[0.0, \"#0d0887\"], [0.1111111111111111, \"#46039f\"], [0.2222222222222222, \"#7201a8\"], [0.3333333333333333, \"#9c179e\"], [0.4444444444444444, \"#bd3786\"], [0.5555555555555556, \"#d8576b\"], [0.6666666666666666, \"#ed7953\"], [0.7777777777777778, \"#fb9f3a\"], [0.8888888888888888, \"#fdca26\"], [1.0, \"#f0f921\"]], \"sequentialminus\": [[0.0, \"#0d0887\"], [0.1111111111111111, \"#46039f\"], [0.2222222222222222, \"#7201a8\"], [0.3333333333333333, \"#9c179e\"], [0.4444444444444444, \"#bd3786\"], [0.5555555555555556, \"#d8576b\"], [0.6666666666666666, \"#ed7953\"], [0.7777777777777778, \"#fb9f3a\"], [0.8888888888888888, \"#fdca26\"], [1.0, \"#f0f921\"]]}, \"colorway\": [\"#636efa\", \"#EF553B\", \"#00cc96\", \"#ab63fa\", \"#FFA15A\", \"#19d3f3\", \"#FF6692\", \"#B6E880\", \"#FF97FF\", \"#FECB52\"], \"font\": {\"color\": \"#2a3f5f\"}, \"geo\": {\"bgcolor\": \"white\", \"lakecolor\": \"white\", \"landcolor\": \"#E5ECF6\", \"showlakes\": true, \"showland\": true, \"subunitcolor\": \"white\"}, \"hoverlabel\": {\"align\": \"left\"}, \"hovermode\": \"closest\", \"mapbox\": {\"style\": \"light\"}, \"paper_bgcolor\": \"white\", \"plot_bgcolor\": \"#E5ECF6\", \"polar\": {\"angularaxis\": {\"gridcolor\": \"white\", \"linecolor\": \"white\", \"ticks\": \"\"}, \"bgcolor\": \"#E5ECF6\", \"radialaxis\": {\"gridcolor\": \"white\", \"linecolor\": \"white\", \"ticks\": \"\"}}, \"scene\": {\"xaxis\": {\"backgroundcolor\": \"#E5ECF6\", \"gridcolor\": \"white\", \"gridwidth\": 2, \"linecolor\": \"white\", \"showbackground\": true, \"ticks\": \"\", \"zerolinecolor\": \"white\"}, \"yaxis\": {\"backgroundcolor\": \"#E5ECF6\", \"gridcolor\": \"white\", \"gridwidth\": 2, \"linecolor\": \"white\", \"showbackground\": true, \"ticks\": \"\", \"zerolinecolor\": \"white\"}, \"zaxis\": {\"backgroundcolor\": \"#E5ECF6\", \"gridcolor\": \"white\", \"gridwidth\": 2, \"linecolor\": \"white\", \"showbackground\": true, \"ticks\": \"\", \"zerolinecolor\": \"white\"}}, \"shapedefaults\": {\"line\": {\"color\": \"#2a3f5f\"}}, \"ternary\": {\"aaxis\": {\"gridcolor\": \"white\", \"linecolor\": \"white\", \"ticks\": \"\"}, \"baxis\": {\"gridcolor\": \"white\", \"linecolor\": \"white\", \"ticks\": \"\"}, \"bgcolor\": \"#E5ECF6\", \"caxis\": {\"gridcolor\": \"white\", \"linecolor\": \"white\", \"ticks\": \"\"}}, \"title\": {\"x\": 0.05}, \"xaxis\": {\"automargin\": true, \"gridcolor\": \"white\", \"linecolor\": \"white\", \"ticks\": \"\", \"title\": {\"standoff\": 15}, \"zerolinecolor\": \"white\", \"zerolinewidth\": 2}, \"yaxis\": {\"automargin\": true, \"gridcolor\": \"white\", \"linecolor\": \"white\", \"ticks\": \"\", \"title\": {\"standoff\": 15}, \"zerolinecolor\": \"white\", \"zerolinewidth\": 2}}}, \"xaxis\": {\"anchor\": \"y\", \"domain\": [0.0, 1.0], \"title\": {\"text\": \"Data\"}}, \"yaxis\": {\"anchor\": \"x\", \"domain\": [0.0, 1.0], \"title\": {\"text\": \"Casos confirmados\"}}},\n",
              "                        {\"responsive\": true}\n",
              "                    ).then(function(){\n",
              "                            \n",
              "var gd = document.getElementById('119b29c0-e32d-46a8-ad5e-8b8307b5e159');\n",
              "var x = new MutationObserver(function (mutations, observer) {{\n",
              "        var display = window.getComputedStyle(gd).display;\n",
              "        if (!display || display === 'none') {{\n",
              "            console.log([gd, 'removed!']);\n",
              "            Plotly.purge(gd);\n",
              "            observer.disconnect();\n",
              "        }}\n",
              "}});\n",
              "\n",
              "// Listen for the removal of the full notebook cells\n",
              "var notebookContainer = gd.closest('#notebook-container');\n",
              "if (notebookContainer) {{\n",
              "    x.observe(notebookContainer, {childList: true});\n",
              "}}\n",
              "\n",
              "// Listen for the clearing of the current output cell\n",
              "var outputEl = gd.closest('.output');\n",
              "if (outputEl) {{\n",
              "    x.observe(outputEl, {childList: true});\n",
              "}}\n",
              "\n",
              "                        })\n",
              "                };\n",
              "                \n",
              "            </script>\n",
              "        </div>\n",
              "</body>\n",
              "</html>"
            ]
          },
          "metadata": {
            "tags": []
          }
        }
      ]
    },
    {
      "cell_type": "code",
      "metadata": {
        "id": "g0ab0NW1XeMe",
        "colab_type": "code",
        "colab": {
          "base_uri": "https://localhost:8080/"
        },
        "outputId": "65f063d9-8a1e-47d7-d206-7a9679a67f2b"
      },
      "source": [
        "fig = px.bar(bar_graph_dados, x='Data', y='Óbitos')\n",
        "fig.update_traces()"
      ],
      "execution_count": null,
      "outputs": [
        {
          "output_type": "display_data",
          "data": {
            "text/html": [
              "<html>\n",
              "<head><meta charset=\"utf-8\" /></head>\n",
              "<body>\n",
              "    <div>\n",
              "            <script src=\"https://cdnjs.cloudflare.com/ajax/libs/mathjax/2.7.5/MathJax.js?config=TeX-AMS-MML_SVG\"></script><script type=\"text/javascript\">if (window.MathJax) {MathJax.Hub.Config({SVG: {font: \"STIX-Web\"}});}</script>\n",
              "                <script type=\"text/javascript\">window.PlotlyConfig = {MathJaxConfig: 'local'};</script>\n",
              "        <script src=\"https://cdn.plot.ly/plotly-latest.min.js\"></script>    \n",
              "            <div id=\"7c58ed92-ad98-4d62-8517-614812447a87\" class=\"plotly-graph-div\" style=\"height:525px; width:100%;\"></div>\n",
              "            <script type=\"text/javascript\">\n",
              "                \n",
              "                    window.PLOTLYENV=window.PLOTLYENV || {};\n",
              "                    \n",
              "                if (document.getElementById(\"7c58ed92-ad98-4d62-8517-614812447a87\")) {\n",
              "                    Plotly.newPlot(\n",
              "                        '7c58ed92-ad98-4d62-8517-614812447a87',\n",
              "                        [{\"alignmentgroup\": \"True\", \"hoverlabel\": {\"namelength\": 0}, \"hovertemplate\": \"Data=%{x}<br>\\u00d3bitos=%{y}\", \"legendgroup\": \"\", \"marker\": {\"color\": \"#636efa\"}, \"name\": \"\", \"offsetgroup\": \"\", \"orientation\": \"v\", \"showlegend\": false, \"textposition\": \"auto\", \"type\": \"bar\", \"x\": [\"2020-09-17\", \"2020-09-16\", \"2020-09-15\", \"2020-09-14\", \"2020-09-13\", \"2020-09-12\", \"2020-09-11\", \"2020-09-10\", \"2020-09-09\", \"2020-09-08\", \"2020-09-07\", \"2020-09-06\", \"2020-09-05\", \"2020-09-04\", \"2020-09-03\", \"2020-09-02\", \"2020-09-01\", \"2020-08-31\", \"2020-08-30\", \"2020-08-29\", \"2020-08-28\", \"2020-08-27\", \"2020-08-26\", \"2020-08-25\", \"2020-08-24\", \"2020-08-23\", \"2020-08-22\", \"2020-08-21\", \"2020-08-20\", \"2020-08-19\", \"2020-08-18\", \"2020-08-17\", \"2020-08-16\", \"2020-08-15\", \"2020-08-14\", \"2020-08-13\", \"2020-08-12\", \"2020-08-11\", \"2020-08-10\", \"2020-08-09\", \"2020-08-08\", \"2020-08-07\", \"2020-08-06\", \"2020-08-05\", \"2020-08-04\", \"2020-08-03\", \"2020-08-02\", \"2020-08-01\", \"2020-07-31\", \"2020-07-30\", \"2020-07-29\", \"2020-07-28\", \"2020-07-27\", \"2020-07-26\", \"2020-07-25\", \"2020-07-24\", \"2020-07-23\", \"2020-07-22\", \"2020-07-21\", \"2020-07-20\", \"2020-07-19\", \"2020-07-18\", \"2020-07-17\", \"2020-07-16\", \"2020-07-15\", \"2020-07-14\", \"2020-07-13\", \"2020-07-12\", \"2020-07-11\", \"2020-07-10\", \"2020-07-09\", \"2020-07-08\", \"2020-07-07\", \"2020-07-06\", \"2020-07-05\", \"2020-07-04\", \"2020-07-03\", \"2020-07-02\", \"2020-07-01\", \"2020-06-30\", \"2020-06-29\", \"2020-06-28\", \"2020-06-27\", \"2020-06-26\", \"2020-06-25\", \"2020-06-24\", \"2020-06-23\", \"2020-06-22\", \"2020-06-21\", \"2020-06-20\", \"2020-06-19\", \"2020-06-18\", \"2020-06-17\", \"2020-06-16\", \"2020-06-15\", \"2020-06-14\", \"2020-06-13\", \"2020-06-12\", \"2020-06-11\", \"2020-06-10\", \"2020-06-09\", \"2020-06-08\", \"2020-06-07\", \"2020-06-06\", \"2020-06-05\", \"2020-06-04\", \"2020-06-03\", \"2020-06-02\", \"2020-06-01\", \"2020-05-31\", \"2020-05-30\", \"2020-05-29\", \"2020-05-28\", \"2020-05-27\", \"2020-05-26\", \"2020-05-25\", \"2020-05-24\", \"2020-05-23\", \"2020-05-22\", \"2020-05-21\", \"2020-05-20\", \"2020-05-19\", \"2020-05-18\", \"2020-05-17\", \"2020-05-16\", \"2020-05-15\", \"2020-05-14\", \"2020-05-13\", \"2020-05-12\", \"2020-05-11\", \"2020-05-08\", \"2020-05-07\", \"2020-05-05\", \"2020-05-04\", \"2020-05-03\", \"2020-05-02\", \"2020-05-01\", \"2020-04-30\", \"2020-04-29\", \"2020-04-28\", \"2020-04-27\", \"2020-04-26\", \"2020-04-25\", \"2020-04-24\", \"2020-04-23\", \"2020-04-22\", \"2020-04-21\", \"2020-04-20\", \"2020-04-19\", \"2020-04-18\", \"2020-04-17\", \"2020-04-16\", \"2020-04-15\", \"2020-04-14\", \"2020-04-13\", \"2020-04-12\", \"2020-04-11\", \"2020-04-10\", \"2020-04-09\", \"2020-04-08\", \"2020-04-07\", \"2020-04-06\", \"2020-04-05\", \"2020-04-04\", \"2020-04-03\", \"2020-04-02\", \"2020-04-01\", \"2020-03-31\", \"2020-03-30\", \"2020-03-29\", \"2020-03-28\", \"2020-03-27\", \"2020-03-26\", \"2020-03-25\", \"2020-03-24\", \"2020-03-23\", \"2020-03-22\", \"2020-03-20\", \"2020-03-19\", \"2020-03-18\", \"2020-03-17\", \"2020-03-16\", \"2020-03-15\", \"2020-03-14\", \"2020-03-13\", \"2020-03-12\"], \"xaxis\": \"x\", \"y\": [1168, 1135, 1116, 1098, 1074, 1071, 1068, 1057, 1028, 986, 985, 983, 982, 979, 960, 943, 927, 908, 893, 893, 885, 871, 854, 820, 804, 795, 793, 780, 752, 690, 676, 645, 633, 633, 628, 610, 589, 575, 556, 544, 544, 541, 537, 533, 510, 488, 487, 487, 486, 449, 437, 430, 417, 413, 409, 399, 383, 354, 336, 325, 311, 309, 306, 297, 281, 273, 271, 266, 266, 264, 252, 240, 232, 202, 198, 198, 195, 186, 169, 167, 161, 153, 153, 150, 138, 137, 130, 122, 112, 110, 108, 99, 94, 95, 92, 89, 89, 87, 82, 82, 81, 75, 75, 75, 72, 71, 67, 65, 53, 52, 52, 49, 49, 44, 44, 41, 41, 41, 41, 36, 34, 30, 30, 30, 30, 30, 31, 27, 24, 23, 23, 21, 14, 12, 12, 12, 12, 12, 12, 12, 12, 11, 11, 11, 11, 10, 10, 10, 10, 10, 8, 8, 7, 7, 7, 7, 5, 5, 4, 4, 4, 4, 2, 1, 1, 0, 0, 0, 0, 0, 0, 0, 0, 0, 0, 0, 0, 0, 0, 0, 0, 0, 0, 0, 0, 0], \"yaxis\": \"y\"}],\n",
              "                        {\"barmode\": \"relative\", \"legend\": {\"tracegroupgap\": 0}, \"margin\": {\"t\": 60}, \"template\": {\"data\": {\"bar\": [{\"error_x\": {\"color\": \"#2a3f5f\"}, \"error_y\": {\"color\": \"#2a3f5f\"}, \"marker\": {\"line\": {\"color\": \"#E5ECF6\", \"width\": 0.5}}, \"type\": \"bar\"}], \"barpolar\": [{\"marker\": {\"line\": {\"color\": \"#E5ECF6\", \"width\": 0.5}}, \"type\": \"barpolar\"}], \"carpet\": [{\"aaxis\": {\"endlinecolor\": \"#2a3f5f\", \"gridcolor\": \"white\", \"linecolor\": \"white\", \"minorgridcolor\": \"white\", \"startlinecolor\": \"#2a3f5f\"}, \"baxis\": {\"endlinecolor\": \"#2a3f5f\", \"gridcolor\": \"white\", \"linecolor\": \"white\", \"minorgridcolor\": \"white\", \"startlinecolor\": \"#2a3f5f\"}, \"type\": \"carpet\"}], \"choropleth\": [{\"colorbar\": {\"outlinewidth\": 0, \"ticks\": \"\"}, \"type\": \"choropleth\"}], \"contour\": [{\"colorbar\": {\"outlinewidth\": 0, \"ticks\": \"\"}, \"colorscale\": [[0.0, \"#0d0887\"], [0.1111111111111111, \"#46039f\"], [0.2222222222222222, \"#7201a8\"], [0.3333333333333333, \"#9c179e\"], [0.4444444444444444, \"#bd3786\"], [0.5555555555555556, \"#d8576b\"], [0.6666666666666666, \"#ed7953\"], [0.7777777777777778, \"#fb9f3a\"], [0.8888888888888888, \"#fdca26\"], [1.0, \"#f0f921\"]], \"type\": \"contour\"}], \"contourcarpet\": [{\"colorbar\": {\"outlinewidth\": 0, \"ticks\": \"\"}, \"type\": \"contourcarpet\"}], \"heatmap\": [{\"colorbar\": {\"outlinewidth\": 0, \"ticks\": \"\"}, \"colorscale\": [[0.0, \"#0d0887\"], [0.1111111111111111, \"#46039f\"], [0.2222222222222222, \"#7201a8\"], [0.3333333333333333, \"#9c179e\"], [0.4444444444444444, \"#bd3786\"], [0.5555555555555556, \"#d8576b\"], [0.6666666666666666, \"#ed7953\"], [0.7777777777777778, \"#fb9f3a\"], [0.8888888888888888, \"#fdca26\"], [1.0, \"#f0f921\"]], \"type\": \"heatmap\"}], \"heatmapgl\": [{\"colorbar\": {\"outlinewidth\": 0, \"ticks\": \"\"}, \"colorscale\": [[0.0, \"#0d0887\"], [0.1111111111111111, \"#46039f\"], [0.2222222222222222, \"#7201a8\"], [0.3333333333333333, \"#9c179e\"], [0.4444444444444444, \"#bd3786\"], [0.5555555555555556, \"#d8576b\"], [0.6666666666666666, \"#ed7953\"], [0.7777777777777778, \"#fb9f3a\"], [0.8888888888888888, \"#fdca26\"], [1.0, \"#f0f921\"]], \"type\": \"heatmapgl\"}], \"histogram\": [{\"marker\": {\"colorbar\": {\"outlinewidth\": 0, \"ticks\": \"\"}}, \"type\": \"histogram\"}], \"histogram2d\": [{\"colorbar\": {\"outlinewidth\": 0, \"ticks\": \"\"}, \"colorscale\": [[0.0, \"#0d0887\"], [0.1111111111111111, \"#46039f\"], [0.2222222222222222, \"#7201a8\"], [0.3333333333333333, \"#9c179e\"], [0.4444444444444444, \"#bd3786\"], [0.5555555555555556, \"#d8576b\"], [0.6666666666666666, \"#ed7953\"], [0.7777777777777778, \"#fb9f3a\"], [0.8888888888888888, \"#fdca26\"], [1.0, \"#f0f921\"]], \"type\": \"histogram2d\"}], \"histogram2dcontour\": [{\"colorbar\": {\"outlinewidth\": 0, \"ticks\": \"\"}, \"colorscale\": [[0.0, \"#0d0887\"], [0.1111111111111111, \"#46039f\"], [0.2222222222222222, \"#7201a8\"], [0.3333333333333333, \"#9c179e\"], [0.4444444444444444, \"#bd3786\"], [0.5555555555555556, \"#d8576b\"], [0.6666666666666666, \"#ed7953\"], [0.7777777777777778, \"#fb9f3a\"], [0.8888888888888888, \"#fdca26\"], [1.0, \"#f0f921\"]], \"type\": \"histogram2dcontour\"}], \"mesh3d\": [{\"colorbar\": {\"outlinewidth\": 0, \"ticks\": \"\"}, \"type\": \"mesh3d\"}], \"parcoords\": [{\"line\": {\"colorbar\": {\"outlinewidth\": 0, \"ticks\": \"\"}}, \"type\": \"parcoords\"}], \"pie\": [{\"automargin\": true, \"type\": \"pie\"}], \"scatter\": [{\"marker\": {\"colorbar\": {\"outlinewidth\": 0, \"ticks\": \"\"}}, \"type\": \"scatter\"}], \"scatter3d\": [{\"line\": {\"colorbar\": {\"outlinewidth\": 0, \"ticks\": \"\"}}, \"marker\": {\"colorbar\": {\"outlinewidth\": 0, \"ticks\": \"\"}}, \"type\": \"scatter3d\"}], \"scattercarpet\": [{\"marker\": {\"colorbar\": {\"outlinewidth\": 0, \"ticks\": \"\"}}, \"type\": \"scattercarpet\"}], \"scattergeo\": [{\"marker\": {\"colorbar\": {\"outlinewidth\": 0, \"ticks\": \"\"}}, \"type\": \"scattergeo\"}], \"scattergl\": [{\"marker\": {\"colorbar\": {\"outlinewidth\": 0, \"ticks\": \"\"}}, \"type\": \"scattergl\"}], \"scattermapbox\": [{\"marker\": {\"colorbar\": {\"outlinewidth\": 0, \"ticks\": \"\"}}, \"type\": \"scattermapbox\"}], \"scatterpolar\": [{\"marker\": {\"colorbar\": {\"outlinewidth\": 0, \"ticks\": \"\"}}, \"type\": \"scatterpolar\"}], \"scatterpolargl\": [{\"marker\": {\"colorbar\": {\"outlinewidth\": 0, \"ticks\": \"\"}}, \"type\": \"scatterpolargl\"}], \"scatterternary\": [{\"marker\": {\"colorbar\": {\"outlinewidth\": 0, \"ticks\": \"\"}}, \"type\": \"scatterternary\"}], \"surface\": [{\"colorbar\": {\"outlinewidth\": 0, \"ticks\": \"\"}, \"colorscale\": [[0.0, \"#0d0887\"], [0.1111111111111111, \"#46039f\"], [0.2222222222222222, \"#7201a8\"], [0.3333333333333333, \"#9c179e\"], [0.4444444444444444, \"#bd3786\"], [0.5555555555555556, \"#d8576b\"], [0.6666666666666666, \"#ed7953\"], [0.7777777777777778, \"#fb9f3a\"], [0.8888888888888888, \"#fdca26\"], [1.0, \"#f0f921\"]], \"type\": \"surface\"}], \"table\": [{\"cells\": {\"fill\": {\"color\": \"#EBF0F8\"}, \"line\": {\"color\": \"white\"}}, \"header\": {\"fill\": {\"color\": \"#C8D4E3\"}, \"line\": {\"color\": \"white\"}}, \"type\": \"table\"}]}, \"layout\": {\"annotationdefaults\": {\"arrowcolor\": \"#2a3f5f\", \"arrowhead\": 0, \"arrowwidth\": 1}, \"coloraxis\": {\"colorbar\": {\"outlinewidth\": 0, \"ticks\": \"\"}}, \"colorscale\": {\"diverging\": [[0, \"#8e0152\"], [0.1, \"#c51b7d\"], [0.2, \"#de77ae\"], [0.3, \"#f1b6da\"], [0.4, \"#fde0ef\"], [0.5, \"#f7f7f7\"], [0.6, \"#e6f5d0\"], [0.7, \"#b8e186\"], [0.8, \"#7fbc41\"], [0.9, \"#4d9221\"], [1, \"#276419\"]], \"sequential\": [[0.0, \"#0d0887\"], [0.1111111111111111, \"#46039f\"], [0.2222222222222222, \"#7201a8\"], [0.3333333333333333, \"#9c179e\"], [0.4444444444444444, \"#bd3786\"], [0.5555555555555556, \"#d8576b\"], [0.6666666666666666, \"#ed7953\"], [0.7777777777777778, \"#fb9f3a\"], [0.8888888888888888, \"#fdca26\"], [1.0, \"#f0f921\"]], \"sequentialminus\": [[0.0, \"#0d0887\"], [0.1111111111111111, \"#46039f\"], [0.2222222222222222, \"#7201a8\"], [0.3333333333333333, \"#9c179e\"], [0.4444444444444444, \"#bd3786\"], [0.5555555555555556, \"#d8576b\"], [0.6666666666666666, \"#ed7953\"], [0.7777777777777778, \"#fb9f3a\"], [0.8888888888888888, \"#fdca26\"], [1.0, \"#f0f921\"]]}, \"colorway\": [\"#636efa\", \"#EF553B\", \"#00cc96\", \"#ab63fa\", \"#FFA15A\", \"#19d3f3\", \"#FF6692\", \"#B6E880\", \"#FF97FF\", \"#FECB52\"], \"font\": {\"color\": \"#2a3f5f\"}, \"geo\": {\"bgcolor\": \"white\", \"lakecolor\": \"white\", \"landcolor\": \"#E5ECF6\", \"showlakes\": true, \"showland\": true, \"subunitcolor\": \"white\"}, \"hoverlabel\": {\"align\": \"left\"}, \"hovermode\": \"closest\", \"mapbox\": {\"style\": \"light\"}, \"paper_bgcolor\": \"white\", \"plot_bgcolor\": \"#E5ECF6\", \"polar\": {\"angularaxis\": {\"gridcolor\": \"white\", \"linecolor\": \"white\", \"ticks\": \"\"}, \"bgcolor\": \"#E5ECF6\", \"radialaxis\": {\"gridcolor\": \"white\", \"linecolor\": \"white\", \"ticks\": \"\"}}, \"scene\": {\"xaxis\": {\"backgroundcolor\": \"#E5ECF6\", \"gridcolor\": \"white\", \"gridwidth\": 2, \"linecolor\": \"white\", \"showbackground\": true, \"ticks\": \"\", \"zerolinecolor\": \"white\"}, \"yaxis\": {\"backgroundcolor\": \"#E5ECF6\", \"gridcolor\": \"white\", \"gridwidth\": 2, \"linecolor\": \"white\", \"showbackground\": true, \"ticks\": \"\", \"zerolinecolor\": \"white\"}, \"zaxis\": {\"backgroundcolor\": \"#E5ECF6\", \"gridcolor\": \"white\", \"gridwidth\": 2, \"linecolor\": \"white\", \"showbackground\": true, \"ticks\": \"\", \"zerolinecolor\": \"white\"}}, \"shapedefaults\": {\"line\": {\"color\": \"#2a3f5f\"}}, \"ternary\": {\"aaxis\": {\"gridcolor\": \"white\", \"linecolor\": \"white\", \"ticks\": \"\"}, \"baxis\": {\"gridcolor\": \"white\", \"linecolor\": \"white\", \"ticks\": \"\"}, \"bgcolor\": \"#E5ECF6\", \"caxis\": {\"gridcolor\": \"white\", \"linecolor\": \"white\", \"ticks\": \"\"}}, \"title\": {\"x\": 0.05}, \"xaxis\": {\"automargin\": true, \"gridcolor\": \"white\", \"linecolor\": \"white\", \"ticks\": \"\", \"title\": {\"standoff\": 15}, \"zerolinecolor\": \"white\", \"zerolinewidth\": 2}, \"yaxis\": {\"automargin\": true, \"gridcolor\": \"white\", \"linecolor\": \"white\", \"ticks\": \"\", \"title\": {\"standoff\": 15}, \"zerolinecolor\": \"white\", \"zerolinewidth\": 2}}}, \"xaxis\": {\"anchor\": \"y\", \"domain\": [0.0, 1.0], \"title\": {\"text\": \"Data\"}}, \"yaxis\": {\"anchor\": \"x\", \"domain\": [0.0, 1.0], \"title\": {\"text\": \"\\u00d3bitos\"}}},\n",
              "                        {\"responsive\": true}\n",
              "                    ).then(function(){\n",
              "                            \n",
              "var gd = document.getElementById('7c58ed92-ad98-4d62-8517-614812447a87');\n",
              "var x = new MutationObserver(function (mutations, observer) {{\n",
              "        var display = window.getComputedStyle(gd).display;\n",
              "        if (!display || display === 'none') {{\n",
              "            console.log([gd, 'removed!']);\n",
              "            Plotly.purge(gd);\n",
              "            observer.disconnect();\n",
              "        }}\n",
              "}});\n",
              "\n",
              "// Listen for the removal of the full notebook cells\n",
              "var notebookContainer = gd.closest('#notebook-container');\n",
              "if (notebookContainer) {{\n",
              "    x.observe(notebookContainer, {childList: true});\n",
              "}}\n",
              "\n",
              "// Listen for the clearing of the current output cell\n",
              "var outputEl = gd.closest('.output');\n",
              "if (outputEl) {{\n",
              "    x.observe(outputEl, {childList: true});\n",
              "}}\n",
              "\n",
              "                        })\n",
              "                };\n",
              "                \n",
              "            </script>\n",
              "        </div>\n",
              "</body>\n",
              "</html>"
            ]
          },
          "metadata": {
            "tags": []
          }
        }
      ]
    },
    {
      "cell_type": "code",
      "metadata": {
        "id": "adbwCX5aaoXq",
        "colab_type": "code",
        "colab": {}
      },
      "source": [
        "# bar_graph_dados.to_csv('/content/drive/My Drive/Colab Notebooks/covid/brasil_io-goiania.csv', index=False)\n",
        "bar_graph_dados.to_csv('brasil_io-goiania.csv', index=False)"
      ],
      "execution_count": null,
      "outputs": []
    },
    {
      "cell_type": "markdown",
      "metadata": {
        "id": "eY8A5xtw4wzk",
        "colab_type": "text"
      },
      "source": [
        "# Etapas a partir dos dados da Secretária de Saúde do Estado de Goiás\n",
        "\n",
        "*   Gráfico de barras - casos ativos por data de notificação\n",
        "*   Gráfico de barras - casos confirmados por data de notificação\n",
        "*   Gráfico de barras - óbitos por data de notificação\n",
        "*   Média móvel em todos os gráficos\n",
        "\n",
        "\n"
      ]
    },
    {
      "cell_type": "markdown",
      "metadata": {
        "id": "vCLAoTTSBL8V",
        "colab_type": "text"
      },
      "source": [
        "## Dataset - casos\n",
        "\n",
        "```\n",
        "# casos_goiania_cidade\n",
        "```\n",
        "\n"
      ]
    },
    {
      "cell_type": "code",
      "metadata": {
        "id": "sJKTA8VG6xL0",
        "colab_type": "code",
        "colab": {
          "base_uri": "https://localhost:8080/",
          "height": 660
        },
        "outputId": "63b544c4-df5f-4c11-aec5-dd4d8cafa419"
      },
      "source": [
        "casos_goiania_cidade = pd.read_csv('http://datasets.saude.go.gov.br/coronavirus/casos_confirmados.csv', sep=';')\n",
        "casos_goiania_cidade"
      ],
      "execution_count": 2,
      "outputs": [
        {
          "output_type": "execute_result",
          "data": {
            "text/html": [
              "<div>\n",
              "<style scoped>\n",
              "    .dataframe tbody tr th:only-of-type {\n",
              "        vertical-align: middle;\n",
              "    }\n",
              "\n",
              "    .dataframe tbody tr th {\n",
              "        vertical-align: top;\n",
              "    }\n",
              "\n",
              "    .dataframe thead th {\n",
              "        text-align: right;\n",
              "    }\n",
              "</style>\n",
              "<table border=\"1\" class=\"dataframe\">\n",
              "  <thead>\n",
              "    <tr style=\"text-align: right;\">\n",
              "      <th></th>\n",
              "      <th>data_notificacao</th>\n",
              "      <th>data_inicio_sintomas</th>\n",
              "      <th>ano_epi</th>\n",
              "      <th>semana_epi</th>\n",
              "      <th>sexo</th>\n",
              "      <th>raca_cor</th>\n",
              "      <th>faixa_etaria</th>\n",
              "      <th>diabetes</th>\n",
              "      <th>doenca_cardiovascular</th>\n",
              "      <th>doenca_respiratoria</th>\n",
              "      <th>imunossupressao</th>\n",
              "      <th>codigo_ibge</th>\n",
              "      <th>municipio</th>\n",
              "      <th>regiao_saude</th>\n",
              "      <th>recuperado</th>\n",
              "    </tr>\n",
              "  </thead>\n",
              "  <tbody>\n",
              "    <tr>\n",
              "      <th>0</th>\n",
              "      <td>20200706</td>\n",
              "      <td>20200623</td>\n",
              "      <td>2020</td>\n",
              "      <td>26</td>\n",
              "      <td>FEMININO</td>\n",
              "      <td>PARDA</td>\n",
              "      <td>60 a 69 anos</td>\n",
              "      <td>NAO</td>\n",
              "      <td>NAO</td>\n",
              "      <td>NAO</td>\n",
              "      <td>NAO</td>\n",
              "      <td>520753</td>\n",
              "      <td>FAINA</td>\n",
              "      <td>RIO VERMELHO</td>\n",
              "      <td>SIM</td>\n",
              "    </tr>\n",
              "    <tr>\n",
              "      <th>1</th>\n",
              "      <td>20200619</td>\n",
              "      <td>20200613</td>\n",
              "      <td>2020</td>\n",
              "      <td>24</td>\n",
              "      <td>FEMININO</td>\n",
              "      <td>PARDA</td>\n",
              "      <td>60 a 69 anos</td>\n",
              "      <td>IGNORADO</td>\n",
              "      <td>IGNORADO</td>\n",
              "      <td>IGNORADO</td>\n",
              "      <td>IGNORADO</td>\n",
              "      <td>522140</td>\n",
              "      <td>TRINDADE</td>\n",
              "      <td>CENTRAL</td>\n",
              "      <td>SIM</td>\n",
              "    </tr>\n",
              "    <tr>\n",
              "      <th>2</th>\n",
              "      <td>20200709</td>\n",
              "      <td>20200706</td>\n",
              "      <td>2020</td>\n",
              "      <td>28</td>\n",
              "      <td>FEMININO</td>\n",
              "      <td>BRANCA</td>\n",
              "      <td>&gt;= 80 anos</td>\n",
              "      <td>SIM</td>\n",
              "      <td>SIM</td>\n",
              "      <td>NAO</td>\n",
              "      <td>NAO</td>\n",
              "      <td>520549</td>\n",
              "      <td>CIDADE OCIDENTAL</td>\n",
              "      <td>ENTORNO SUL</td>\n",
              "      <td>NAO</td>\n",
              "    </tr>\n",
              "    <tr>\n",
              "      <th>3</th>\n",
              "      <td>20200628</td>\n",
              "      <td>20200620</td>\n",
              "      <td>2020</td>\n",
              "      <td>25</td>\n",
              "      <td>FEMININO</td>\n",
              "      <td>AMARELA</td>\n",
              "      <td>60 a 69 anos</td>\n",
              "      <td>NAO</td>\n",
              "      <td>NAO</td>\n",
              "      <td>NAO</td>\n",
              "      <td>NAO</td>\n",
              "      <td>520140</td>\n",
              "      <td>APARECIDA DE GOIANIA</td>\n",
              "      <td>CENTRO SUL</td>\n",
              "      <td>SIM</td>\n",
              "    </tr>\n",
              "    <tr>\n",
              "      <th>4</th>\n",
              "      <td>20200715</td>\n",
              "      <td>20200712</td>\n",
              "      <td>2020</td>\n",
              "      <td>29</td>\n",
              "      <td>FEMININO</td>\n",
              "      <td>PARDA</td>\n",
              "      <td>50 a 59 anos</td>\n",
              "      <td>NAO</td>\n",
              "      <td>NAO</td>\n",
              "      <td>NAO</td>\n",
              "      <td>NAO</td>\n",
              "      <td>520140</td>\n",
              "      <td>APARECIDA DE GOIANIA</td>\n",
              "      <td>CENTRO SUL</td>\n",
              "      <td>SIM</td>\n",
              "    </tr>\n",
              "    <tr>\n",
              "      <th>...</th>\n",
              "      <td>...</td>\n",
              "      <td>...</td>\n",
              "      <td>...</td>\n",
              "      <td>...</td>\n",
              "      <td>...</td>\n",
              "      <td>...</td>\n",
              "      <td>...</td>\n",
              "      <td>...</td>\n",
              "      <td>...</td>\n",
              "      <td>...</td>\n",
              "      <td>...</td>\n",
              "      <td>...</td>\n",
              "      <td>...</td>\n",
              "      <td>...</td>\n",
              "      <td>...</td>\n",
              "    </tr>\n",
              "    <tr>\n",
              "      <th>183722</th>\n",
              "      <td>20200730</td>\n",
              "      <td>20200730</td>\n",
              "      <td>2020</td>\n",
              "      <td>31</td>\n",
              "      <td>MASCULINO</td>\n",
              "      <td>PARDA</td>\n",
              "      <td>30 a 39 anos</td>\n",
              "      <td>NAO</td>\n",
              "      <td>NAO</td>\n",
              "      <td>NAO</td>\n",
              "      <td>NAO</td>\n",
              "      <td>520140</td>\n",
              "      <td>APARECIDA DE GOIANIA</td>\n",
              "      <td>CENTRO SUL</td>\n",
              "      <td>SIM</td>\n",
              "    </tr>\n",
              "    <tr>\n",
              "      <th>183723</th>\n",
              "      <td>20200714</td>\n",
              "      <td>20200705</td>\n",
              "      <td>2020</td>\n",
              "      <td>28</td>\n",
              "      <td>MASCULINO</td>\n",
              "      <td>PARDA</td>\n",
              "      <td>&lt; 10 anos</td>\n",
              "      <td>NAO</td>\n",
              "      <td>NAO</td>\n",
              "      <td>NAO</td>\n",
              "      <td>NAO</td>\n",
              "      <td>520549</td>\n",
              "      <td>CIDADE OCIDENTAL</td>\n",
              "      <td>ENTORNO SUL</td>\n",
              "      <td>SIM</td>\n",
              "    </tr>\n",
              "    <tr>\n",
              "      <th>183724</th>\n",
              "      <td>20200727</td>\n",
              "      <td>20200711</td>\n",
              "      <td>2020</td>\n",
              "      <td>28</td>\n",
              "      <td>MASCULINO</td>\n",
              "      <td>BRANCA</td>\n",
              "      <td>20 a 29 anos</td>\n",
              "      <td>NAO</td>\n",
              "      <td>NAO</td>\n",
              "      <td>NAO</td>\n",
              "      <td>NAO</td>\n",
              "      <td>521930</td>\n",
              "      <td>SANTA HELENA DE GOIAS</td>\n",
              "      <td>SUDOESTE I</td>\n",
              "      <td>SIM</td>\n",
              "    </tr>\n",
              "    <tr>\n",
              "      <th>183725</th>\n",
              "      <td>20200909</td>\n",
              "      <td>20200907</td>\n",
              "      <td>2020</td>\n",
              "      <td>37</td>\n",
              "      <td>MASCULINO</td>\n",
              "      <td>IGNORADO</td>\n",
              "      <td>&lt; 10 anos</td>\n",
              "      <td>NAO</td>\n",
              "      <td>NAO</td>\n",
              "      <td>NAO</td>\n",
              "      <td>NAO</td>\n",
              "      <td>520870</td>\n",
              "      <td>GOIANIA</td>\n",
              "      <td>CENTRAL</td>\n",
              "      <td>NAO</td>\n",
              "    </tr>\n",
              "    <tr>\n",
              "      <th>183726</th>\n",
              "      <td>20200731</td>\n",
              "      <td>20200721</td>\n",
              "      <td>2020</td>\n",
              "      <td>30</td>\n",
              "      <td>MASCULINO</td>\n",
              "      <td>BRANCA</td>\n",
              "      <td>20 a 29 anos</td>\n",
              "      <td>NAO</td>\n",
              "      <td>NAO</td>\n",
              "      <td>NAO</td>\n",
              "      <td>NAO</td>\n",
              "      <td>520140</td>\n",
              "      <td>APARECIDA DE GOIANIA</td>\n",
              "      <td>CENTRO SUL</td>\n",
              "      <td>SIM</td>\n",
              "    </tr>\n",
              "  </tbody>\n",
              "</table>\n",
              "<p>183727 rows × 15 columns</p>\n",
              "</div>"
            ],
            "text/plain": [
              "        data_notificacao  data_inicio_sintomas  ...  regiao_saude  recuperado\n",
              "0               20200706              20200623  ...  RIO VERMELHO         SIM\n",
              "1               20200619              20200613  ...       CENTRAL         SIM\n",
              "2               20200709              20200706  ...   ENTORNO SUL         NAO\n",
              "3               20200628              20200620  ...    CENTRO SUL         SIM\n",
              "4               20200715              20200712  ...    CENTRO SUL         SIM\n",
              "...                  ...                   ...  ...           ...         ...\n",
              "183722          20200730              20200730  ...    CENTRO SUL         SIM\n",
              "183723          20200714              20200705  ...   ENTORNO SUL         SIM\n",
              "183724          20200727              20200711  ...    SUDOESTE I         SIM\n",
              "183725          20200909              20200907  ...       CENTRAL         NAO\n",
              "183726          20200731              20200721  ...    CENTRO SUL         SIM\n",
              "\n",
              "[183727 rows x 15 columns]"
            ]
          },
          "metadata": {
            "tags": []
          },
          "execution_count": 2
        }
      ]
    },
    {
      "cell_type": "markdown",
      "metadata": {
        "colab_type": "text",
        "id": "BmZ7Emi4eKBx"
      },
      "source": [
        "## Óbitos por dia\n",
        "\n",
        "*   Gráfico de barras com média móvel\n",
        "\n",
        "\n",
        "\n",
        "\n",
        "```\n",
        "dataframe: obitos_por_dia\n",
        "gera: obitos_por_dia_goiania.csv\n",
        "```\n"
      ]
    },
    {
      "cell_type": "code",
      "metadata": {
        "colab_type": "code",
        "id": "_Cy3DpjzeKBz",
        "colab": {
          "base_uri": "https://localhost:8080/",
          "height": 439
        },
        "outputId": "2ddef4a7-e67a-448a-f1e2-2516a99611f9"
      },
      "source": [
        "obitos_por_dia = pd.read_csv('http://datasets.saude.go.gov.br/coronavirus/obitos_confirmados.csv', sep=';')\n",
        "obitos_por_dia_remove = obitos_por_dia.loc[((obitos_por_dia['municipio'] != 'GOIANIA'))]\n",
        "\n",
        "obitos_por_dia = obitos_por_dia.drop(obitos_por_dia_remove.index)\n",
        "obitos_por_dia"
      ],
      "execution_count": 106,
      "outputs": [
        {
          "output_type": "execute_result",
          "data": {
            "text/html": [
              "<div>\n",
              "<style scoped>\n",
              "    .dataframe tbody tr th:only-of-type {\n",
              "        vertical-align: middle;\n",
              "    }\n",
              "\n",
              "    .dataframe tbody tr th {\n",
              "        vertical-align: top;\n",
              "    }\n",
              "\n",
              "    .dataframe thead th {\n",
              "        text-align: right;\n",
              "    }\n",
              "</style>\n",
              "<table border=\"1\" class=\"dataframe\">\n",
              "  <thead>\n",
              "    <tr style=\"text-align: right;\">\n",
              "      <th></th>\n",
              "      <th>data_notificacao</th>\n",
              "      <th>data_inicio_sintomas</th>\n",
              "      <th>ano_epi</th>\n",
              "      <th>semana_epi</th>\n",
              "      <th>sexo</th>\n",
              "      <th>raca_cor</th>\n",
              "      <th>faixa_etaria</th>\n",
              "      <th>diabetes</th>\n",
              "      <th>doenca_cardiovascular</th>\n",
              "      <th>doenca_respiratoria</th>\n",
              "      <th>imunossupressao</th>\n",
              "      <th>codigo_ibge</th>\n",
              "      <th>municipio</th>\n",
              "      <th>regiao_saude</th>\n",
              "      <th>data_obito</th>\n",
              "    </tr>\n",
              "  </thead>\n",
              "  <tbody>\n",
              "    <tr>\n",
              "      <th>8</th>\n",
              "      <td>20200901</td>\n",
              "      <td>20200801</td>\n",
              "      <td>2020</td>\n",
              "      <td>31</td>\n",
              "      <td>FEMININO</td>\n",
              "      <td>IGNORADO</td>\n",
              "      <td>60 a 69 anos</td>\n",
              "      <td>IGNORADO</td>\n",
              "      <td>IGNORADO</td>\n",
              "      <td>IGNORADO</td>\n",
              "      <td>IGNORADO</td>\n",
              "      <td>520870</td>\n",
              "      <td>GOIANIA</td>\n",
              "      <td>CENTRAL</td>\n",
              "      <td>20200905</td>\n",
              "    </tr>\n",
              "    <tr>\n",
              "      <th>28</th>\n",
              "      <td>20200629</td>\n",
              "      <td>20200618</td>\n",
              "      <td>2020</td>\n",
              "      <td>25</td>\n",
              "      <td>FEMININO</td>\n",
              "      <td>BRANCA</td>\n",
              "      <td>&gt;= 80 anos</td>\n",
              "      <td>NAO</td>\n",
              "      <td>SIM</td>\n",
              "      <td>SIM</td>\n",
              "      <td>NAO</td>\n",
              "      <td>520870</td>\n",
              "      <td>GOIANIA</td>\n",
              "      <td>CENTRAL</td>\n",
              "      <td>20200702</td>\n",
              "    </tr>\n",
              "    <tr>\n",
              "      <th>29</th>\n",
              "      <td>20200806</td>\n",
              "      <td>20200802</td>\n",
              "      <td>2020</td>\n",
              "      <td>32</td>\n",
              "      <td>FEMININO</td>\n",
              "      <td>IGNORADO</td>\n",
              "      <td>60 a 69 anos</td>\n",
              "      <td>IGNORADO</td>\n",
              "      <td>IGNORADO</td>\n",
              "      <td>IGNORADO</td>\n",
              "      <td>IGNORADO</td>\n",
              "      <td>520870</td>\n",
              "      <td>GOIANIA</td>\n",
              "      <td>CENTRAL</td>\n",
              "      <td>20200809</td>\n",
              "    </tr>\n",
              "    <tr>\n",
              "      <th>30</th>\n",
              "      <td>20200715</td>\n",
              "      <td>20200627</td>\n",
              "      <td>2020</td>\n",
              "      <td>26</td>\n",
              "      <td>FEMININO</td>\n",
              "      <td>PARDA</td>\n",
              "      <td>50 a 59 anos</td>\n",
              "      <td>NAO</td>\n",
              "      <td>SIM</td>\n",
              "      <td>SIM</td>\n",
              "      <td>NAO</td>\n",
              "      <td>520870</td>\n",
              "      <td>GOIANIA</td>\n",
              "      <td>CENTRAL</td>\n",
              "      <td>20200709</td>\n",
              "    </tr>\n",
              "    <tr>\n",
              "      <th>33</th>\n",
              "      <td>20200803</td>\n",
              "      <td>20200731</td>\n",
              "      <td>2020</td>\n",
              "      <td>31</td>\n",
              "      <td>FEMININO</td>\n",
              "      <td>IGNORADO</td>\n",
              "      <td>60 a 69 anos</td>\n",
              "      <td>IGNORADO</td>\n",
              "      <td>IGNORADO</td>\n",
              "      <td>IGNORADO</td>\n",
              "      <td>IGNORADO</td>\n",
              "      <td>520870</td>\n",
              "      <td>GOIANIA</td>\n",
              "      <td>CENTRAL</td>\n",
              "      <td>20200813</td>\n",
              "    </tr>\n",
              "    <tr>\n",
              "      <th>...</th>\n",
              "      <td>...</td>\n",
              "      <td>...</td>\n",
              "      <td>...</td>\n",
              "      <td>...</td>\n",
              "      <td>...</td>\n",
              "      <td>...</td>\n",
              "      <td>...</td>\n",
              "      <td>...</td>\n",
              "      <td>...</td>\n",
              "      <td>...</td>\n",
              "      <td>...</td>\n",
              "      <td>...</td>\n",
              "      <td>...</td>\n",
              "      <td>...</td>\n",
              "      <td>...</td>\n",
              "    </tr>\n",
              "    <tr>\n",
              "      <th>4131</th>\n",
              "      <td>20200720</td>\n",
              "      <td>20200717</td>\n",
              "      <td>2020</td>\n",
              "      <td>29</td>\n",
              "      <td>FEMININO</td>\n",
              "      <td>BRANCA</td>\n",
              "      <td>60 a 69 anos</td>\n",
              "      <td>IGNORADO</td>\n",
              "      <td>IGNORADO</td>\n",
              "      <td>IGNORADO</td>\n",
              "      <td>IGNORADO</td>\n",
              "      <td>520870</td>\n",
              "      <td>GOIANIA</td>\n",
              "      <td>CENTRAL</td>\n",
              "      <td>20200726</td>\n",
              "    </tr>\n",
              "    <tr>\n",
              "      <th>4138</th>\n",
              "      <td>20200810</td>\n",
              "      <td>20200727</td>\n",
              "      <td>2020</td>\n",
              "      <td>31</td>\n",
              "      <td>MASCULINO</td>\n",
              "      <td>IGNORADO</td>\n",
              "      <td>50 a 59 anos</td>\n",
              "      <td>IGNORADO</td>\n",
              "      <td>IGNORADO</td>\n",
              "      <td>IGNORADO</td>\n",
              "      <td>IGNORADO</td>\n",
              "      <td>520870</td>\n",
              "      <td>GOIANIA</td>\n",
              "      <td>CENTRAL</td>\n",
              "      <td>20200825</td>\n",
              "    </tr>\n",
              "    <tr>\n",
              "      <th>4146</th>\n",
              "      <td>20200701</td>\n",
              "      <td>20200622</td>\n",
              "      <td>2020</td>\n",
              "      <td>26</td>\n",
              "      <td>MASCULINO</td>\n",
              "      <td>BRANCA</td>\n",
              "      <td>50 a 59 anos</td>\n",
              "      <td>NAO</td>\n",
              "      <td>NAO</td>\n",
              "      <td>NAO</td>\n",
              "      <td>NAO</td>\n",
              "      <td>520870</td>\n",
              "      <td>GOIANIA</td>\n",
              "      <td>CENTRAL</td>\n",
              "      <td>20200712</td>\n",
              "    </tr>\n",
              "    <tr>\n",
              "      <th>4147</th>\n",
              "      <td>20200618</td>\n",
              "      <td>20200613</td>\n",
              "      <td>2020</td>\n",
              "      <td>24</td>\n",
              "      <td>MASCULINO</td>\n",
              "      <td>IGNORADO</td>\n",
              "      <td>50 a 59 anos</td>\n",
              "      <td>IGNORADO</td>\n",
              "      <td>SIM</td>\n",
              "      <td>IGNORADO</td>\n",
              "      <td>IGNORADO</td>\n",
              "      <td>520870</td>\n",
              "      <td>GOIANIA</td>\n",
              "      <td>CENTRAL</td>\n",
              "      <td>20200626</td>\n",
              "    </tr>\n",
              "    <tr>\n",
              "      <th>4151</th>\n",
              "      <td>20200815</td>\n",
              "      <td>20200802</td>\n",
              "      <td>2020</td>\n",
              "      <td>32</td>\n",
              "      <td>FEMININO</td>\n",
              "      <td>BRANCA</td>\n",
              "      <td>&gt;= 80 anos</td>\n",
              "      <td>IGNORADO</td>\n",
              "      <td>IGNORADO</td>\n",
              "      <td>IGNORADO</td>\n",
              "      <td>IGNORADO</td>\n",
              "      <td>520870</td>\n",
              "      <td>GOIANIA</td>\n",
              "      <td>CENTRAL</td>\n",
              "      <td>20200825</td>\n",
              "    </tr>\n",
              "  </tbody>\n",
              "</table>\n",
              "<p>1202 rows × 15 columns</p>\n",
              "</div>"
            ],
            "text/plain": [
              "      data_notificacao  data_inicio_sintomas  ...  regiao_saude  data_obito\n",
              "8             20200901              20200801  ...       CENTRAL    20200905\n",
              "28            20200629              20200618  ...       CENTRAL    20200702\n",
              "29            20200806              20200802  ...       CENTRAL    20200809\n",
              "30            20200715              20200627  ...       CENTRAL    20200709\n",
              "33            20200803              20200731  ...       CENTRAL    20200813\n",
              "...                ...                   ...  ...           ...         ...\n",
              "4131          20200720              20200717  ...       CENTRAL    20200726\n",
              "4138          20200810              20200727  ...       CENTRAL    20200825\n",
              "4146          20200701              20200622  ...       CENTRAL    20200712\n",
              "4147          20200618              20200613  ...       CENTRAL    20200626\n",
              "4151          20200815              20200802  ...       CENTRAL    20200825\n",
              "\n",
              "[1202 rows x 15 columns]"
            ]
          },
          "metadata": {
            "tags": []
          },
          "execution_count": 106
        }
      ]
    },
    {
      "cell_type": "code",
      "metadata": {
        "colab_type": "code",
        "id": "SnyDVWSkeKB2",
        "colab": {
          "base_uri": "https://localhost:8080/",
          "height": 419
        },
        "outputId": "dfdbb5bf-21f6-4198-a0d8-15fb190f2a53"
      },
      "source": [
        "obitos_por_dia = obitos_por_dia['data_notificacao'].value_counts() \n",
        "obitos_por_dia = obitos_por_dia.to_frame(name='num_casos')\n",
        "obitos_por_dia.reset_index(level=0, inplace=True)\n",
        "obitos_por_dia.rename(columns={'index': 'data_notificacao'}, inplace = True)\n",
        "obitos_por_dia"
      ],
      "execution_count": 107,
      "outputs": [
        {
          "output_type": "execute_result",
          "data": {
            "text/html": [
              "<div>\n",
              "<style scoped>\n",
              "    .dataframe tbody tr th:only-of-type {\n",
              "        vertical-align: middle;\n",
              "    }\n",
              "\n",
              "    .dataframe tbody tr th {\n",
              "        vertical-align: top;\n",
              "    }\n",
              "\n",
              "    .dataframe thead th {\n",
              "        text-align: right;\n",
              "    }\n",
              "</style>\n",
              "<table border=\"1\" class=\"dataframe\">\n",
              "  <thead>\n",
              "    <tr style=\"text-align: right;\">\n",
              "      <th></th>\n",
              "      <th>data_notificacao</th>\n",
              "      <th>num_casos</th>\n",
              "    </tr>\n",
              "  </thead>\n",
              "  <tbody>\n",
              "    <tr>\n",
              "      <th>0</th>\n",
              "      <td>20200731</td>\n",
              "      <td>33</td>\n",
              "    </tr>\n",
              "    <tr>\n",
              "      <th>1</th>\n",
              "      <td>20200805</td>\n",
              "      <td>25</td>\n",
              "    </tr>\n",
              "    <tr>\n",
              "      <th>2</th>\n",
              "      <td>20200803</td>\n",
              "      <td>24</td>\n",
              "    </tr>\n",
              "    <tr>\n",
              "      <th>3</th>\n",
              "      <td>20200901</td>\n",
              "      <td>22</td>\n",
              "    </tr>\n",
              "    <tr>\n",
              "      <th>4</th>\n",
              "      <td>20200701</td>\n",
              "      <td>21</td>\n",
              "    </tr>\n",
              "    <tr>\n",
              "      <th>...</th>\n",
              "      <td>...</td>\n",
              "      <td>...</td>\n",
              "    </tr>\n",
              "    <tr>\n",
              "      <th>142</th>\n",
              "      <td>20200514</td>\n",
              "      <td>1</td>\n",
              "    </tr>\n",
              "    <tr>\n",
              "      <th>143</th>\n",
              "      <td>20200516</td>\n",
              "      <td>1</td>\n",
              "    </tr>\n",
              "    <tr>\n",
              "      <th>144</th>\n",
              "      <td>20200609</td>\n",
              "      <td>1</td>\n",
              "    </tr>\n",
              "    <tr>\n",
              "      <th>145</th>\n",
              "      <td>20200913</td>\n",
              "      <td>1</td>\n",
              "    </tr>\n",
              "    <tr>\n",
              "      <th>146</th>\n",
              "      <td>20200401</td>\n",
              "      <td>1</td>\n",
              "    </tr>\n",
              "  </tbody>\n",
              "</table>\n",
              "<p>147 rows × 2 columns</p>\n",
              "</div>"
            ],
            "text/plain": [
              "     data_notificacao  num_casos\n",
              "0            20200731         33\n",
              "1            20200805         25\n",
              "2            20200803         24\n",
              "3            20200901         22\n",
              "4            20200701         21\n",
              "..                ...        ...\n",
              "142          20200514          1\n",
              "143          20200516          1\n",
              "144          20200609          1\n",
              "145          20200913          1\n",
              "146          20200401          1\n",
              "\n",
              "[147 rows x 2 columns]"
            ]
          },
          "metadata": {
            "tags": []
          },
          "execution_count": 107
        }
      ]
    },
    {
      "cell_type": "code",
      "metadata": {
        "colab_type": "code",
        "id": "hsb5pMYieKB7",
        "colab": {
          "base_uri": "https://localhost:8080/",
          "height": 419
        },
        "outputId": "b5a94635-c89d-4026-fcfe-b6bc920861ac"
      },
      "source": [
        "obitos_por_dia['data_notificacao'] = obitos_por_dia['data_notificacao'].apply(lambda x: datetime.strptime(str(x), '%Y%m%d').date())\n",
        "\n",
        "obitos_por_dia\n"
      ],
      "execution_count": 108,
      "outputs": [
        {
          "output_type": "execute_result",
          "data": {
            "text/html": [
              "<div>\n",
              "<style scoped>\n",
              "    .dataframe tbody tr th:only-of-type {\n",
              "        vertical-align: middle;\n",
              "    }\n",
              "\n",
              "    .dataframe tbody tr th {\n",
              "        vertical-align: top;\n",
              "    }\n",
              "\n",
              "    .dataframe thead th {\n",
              "        text-align: right;\n",
              "    }\n",
              "</style>\n",
              "<table border=\"1\" class=\"dataframe\">\n",
              "  <thead>\n",
              "    <tr style=\"text-align: right;\">\n",
              "      <th></th>\n",
              "      <th>data_notificacao</th>\n",
              "      <th>num_casos</th>\n",
              "    </tr>\n",
              "  </thead>\n",
              "  <tbody>\n",
              "    <tr>\n",
              "      <th>0</th>\n",
              "      <td>2020-07-31</td>\n",
              "      <td>33</td>\n",
              "    </tr>\n",
              "    <tr>\n",
              "      <th>1</th>\n",
              "      <td>2020-08-05</td>\n",
              "      <td>25</td>\n",
              "    </tr>\n",
              "    <tr>\n",
              "      <th>2</th>\n",
              "      <td>2020-08-03</td>\n",
              "      <td>24</td>\n",
              "    </tr>\n",
              "    <tr>\n",
              "      <th>3</th>\n",
              "      <td>2020-09-01</td>\n",
              "      <td>22</td>\n",
              "    </tr>\n",
              "    <tr>\n",
              "      <th>4</th>\n",
              "      <td>2020-07-01</td>\n",
              "      <td>21</td>\n",
              "    </tr>\n",
              "    <tr>\n",
              "      <th>...</th>\n",
              "      <td>...</td>\n",
              "      <td>...</td>\n",
              "    </tr>\n",
              "    <tr>\n",
              "      <th>142</th>\n",
              "      <td>2020-05-14</td>\n",
              "      <td>1</td>\n",
              "    </tr>\n",
              "    <tr>\n",
              "      <th>143</th>\n",
              "      <td>2020-05-16</td>\n",
              "      <td>1</td>\n",
              "    </tr>\n",
              "    <tr>\n",
              "      <th>144</th>\n",
              "      <td>2020-06-09</td>\n",
              "      <td>1</td>\n",
              "    </tr>\n",
              "    <tr>\n",
              "      <th>145</th>\n",
              "      <td>2020-09-13</td>\n",
              "      <td>1</td>\n",
              "    </tr>\n",
              "    <tr>\n",
              "      <th>146</th>\n",
              "      <td>2020-04-01</td>\n",
              "      <td>1</td>\n",
              "    </tr>\n",
              "  </tbody>\n",
              "</table>\n",
              "<p>147 rows × 2 columns</p>\n",
              "</div>"
            ],
            "text/plain": [
              "    data_notificacao  num_casos\n",
              "0         2020-07-31         33\n",
              "1         2020-08-05         25\n",
              "2         2020-08-03         24\n",
              "3         2020-09-01         22\n",
              "4         2020-07-01         21\n",
              "..               ...        ...\n",
              "142       2020-05-14          1\n",
              "143       2020-05-16          1\n",
              "144       2020-06-09          1\n",
              "145       2020-09-13          1\n",
              "146       2020-04-01          1\n",
              "\n",
              "[147 rows x 2 columns]"
            ]
          },
          "metadata": {
            "tags": []
          },
          "execution_count": 108
        }
      ]
    },
    {
      "cell_type": "code",
      "metadata": {
        "colab_type": "code",
        "id": "qZ2s8BozeKB9",
        "colab": {
          "base_uri": "https://localhost:8080/",
          "height": 419
        },
        "outputId": "515475d9-fc0f-438f-e768-e3306688ac1b"
      },
      "source": [
        "obitos_por_dia['data_notificacao'] = pd.to_datetime(obitos_por_dia['data_notificacao'])\n",
        "\n",
        "# Ordena pela data e salva em um novo DataFrame\n",
        "obitos_por_dia = obitos_por_dia.sort_values(by='data_notificacao')\n",
        "obitos_por_dia"
      ],
      "execution_count": 109,
      "outputs": [
        {
          "output_type": "execute_result",
          "data": {
            "text/html": [
              "<div>\n",
              "<style scoped>\n",
              "    .dataframe tbody tr th:only-of-type {\n",
              "        vertical-align: middle;\n",
              "    }\n",
              "\n",
              "    .dataframe tbody tr th {\n",
              "        vertical-align: top;\n",
              "    }\n",
              "\n",
              "    .dataframe thead th {\n",
              "        text-align: right;\n",
              "    }\n",
              "</style>\n",
              "<table border=\"1\" class=\"dataframe\">\n",
              "  <thead>\n",
              "    <tr style=\"text-align: right;\">\n",
              "      <th></th>\n",
              "      <th>data_notificacao</th>\n",
              "      <th>num_casos</th>\n",
              "    </tr>\n",
              "  </thead>\n",
              "  <tbody>\n",
              "    <tr>\n",
              "      <th>146</th>\n",
              "      <td>2020-04-01</td>\n",
              "      <td>1</td>\n",
              "    </tr>\n",
              "    <tr>\n",
              "      <th>128</th>\n",
              "      <td>2020-04-03</td>\n",
              "      <td>1</td>\n",
              "    </tr>\n",
              "    <tr>\n",
              "      <th>119</th>\n",
              "      <td>2020-04-04</td>\n",
              "      <td>2</td>\n",
              "    </tr>\n",
              "    <tr>\n",
              "      <th>116</th>\n",
              "      <td>2020-04-05</td>\n",
              "      <td>2</td>\n",
              "    </tr>\n",
              "    <tr>\n",
              "      <th>126</th>\n",
              "      <td>2020-04-10</td>\n",
              "      <td>1</td>\n",
              "    </tr>\n",
              "    <tr>\n",
              "      <th>...</th>\n",
              "      <td>...</td>\n",
              "      <td>...</td>\n",
              "    </tr>\n",
              "    <tr>\n",
              "      <th>145</th>\n",
              "      <td>2020-09-13</td>\n",
              "      <td>1</td>\n",
              "    </tr>\n",
              "    <tr>\n",
              "      <th>100</th>\n",
              "      <td>2020-09-14</td>\n",
              "      <td>4</td>\n",
              "    </tr>\n",
              "    <tr>\n",
              "      <th>113</th>\n",
              "      <td>2020-09-15</td>\n",
              "      <td>3</td>\n",
              "    </tr>\n",
              "    <tr>\n",
              "      <th>124</th>\n",
              "      <td>2020-09-16</td>\n",
              "      <td>2</td>\n",
              "    </tr>\n",
              "    <tr>\n",
              "      <th>135</th>\n",
              "      <td>2020-09-18</td>\n",
              "      <td>1</td>\n",
              "    </tr>\n",
              "  </tbody>\n",
              "</table>\n",
              "<p>147 rows × 2 columns</p>\n",
              "</div>"
            ],
            "text/plain": [
              "    data_notificacao  num_casos\n",
              "146       2020-04-01          1\n",
              "128       2020-04-03          1\n",
              "119       2020-04-04          2\n",
              "116       2020-04-05          2\n",
              "126       2020-04-10          1\n",
              "..               ...        ...\n",
              "145       2020-09-13          1\n",
              "100       2020-09-14          4\n",
              "113       2020-09-15          3\n",
              "124       2020-09-16          2\n",
              "135       2020-09-18          1\n",
              "\n",
              "[147 rows x 2 columns]"
            ]
          },
          "metadata": {
            "tags": []
          },
          "execution_count": 109
        }
      ]
    },
    {
      "cell_type": "code",
      "metadata": {
        "colab_type": "code",
        "id": "giT8Q_q_eKB_",
        "colab": {
          "base_uri": "https://localhost:8080/",
          "height": 419
        },
        "outputId": "71a3a4c2-cc77-47ca-870c-0e4e586ef7e2"
      },
      "source": [
        "obitos_por_dia.to_csv('obitos_por_dia_goiania.csv', index=False)\n",
        "obitos_por_dia"
      ],
      "execution_count": 110,
      "outputs": [
        {
          "output_type": "execute_result",
          "data": {
            "text/html": [
              "<div>\n",
              "<style scoped>\n",
              "    .dataframe tbody tr th:only-of-type {\n",
              "        vertical-align: middle;\n",
              "    }\n",
              "\n",
              "    .dataframe tbody tr th {\n",
              "        vertical-align: top;\n",
              "    }\n",
              "\n",
              "    .dataframe thead th {\n",
              "        text-align: right;\n",
              "    }\n",
              "</style>\n",
              "<table border=\"1\" class=\"dataframe\">\n",
              "  <thead>\n",
              "    <tr style=\"text-align: right;\">\n",
              "      <th></th>\n",
              "      <th>data_notificacao</th>\n",
              "      <th>num_casos</th>\n",
              "    </tr>\n",
              "  </thead>\n",
              "  <tbody>\n",
              "    <tr>\n",
              "      <th>146</th>\n",
              "      <td>2020-04-01</td>\n",
              "      <td>1</td>\n",
              "    </tr>\n",
              "    <tr>\n",
              "      <th>128</th>\n",
              "      <td>2020-04-03</td>\n",
              "      <td>1</td>\n",
              "    </tr>\n",
              "    <tr>\n",
              "      <th>119</th>\n",
              "      <td>2020-04-04</td>\n",
              "      <td>2</td>\n",
              "    </tr>\n",
              "    <tr>\n",
              "      <th>116</th>\n",
              "      <td>2020-04-05</td>\n",
              "      <td>2</td>\n",
              "    </tr>\n",
              "    <tr>\n",
              "      <th>126</th>\n",
              "      <td>2020-04-10</td>\n",
              "      <td>1</td>\n",
              "    </tr>\n",
              "    <tr>\n",
              "      <th>...</th>\n",
              "      <td>...</td>\n",
              "      <td>...</td>\n",
              "    </tr>\n",
              "    <tr>\n",
              "      <th>145</th>\n",
              "      <td>2020-09-13</td>\n",
              "      <td>1</td>\n",
              "    </tr>\n",
              "    <tr>\n",
              "      <th>100</th>\n",
              "      <td>2020-09-14</td>\n",
              "      <td>4</td>\n",
              "    </tr>\n",
              "    <tr>\n",
              "      <th>113</th>\n",
              "      <td>2020-09-15</td>\n",
              "      <td>3</td>\n",
              "    </tr>\n",
              "    <tr>\n",
              "      <th>124</th>\n",
              "      <td>2020-09-16</td>\n",
              "      <td>2</td>\n",
              "    </tr>\n",
              "    <tr>\n",
              "      <th>135</th>\n",
              "      <td>2020-09-18</td>\n",
              "      <td>1</td>\n",
              "    </tr>\n",
              "  </tbody>\n",
              "</table>\n",
              "<p>147 rows × 2 columns</p>\n",
              "</div>"
            ],
            "text/plain": [
              "    data_notificacao  num_casos\n",
              "146       2020-04-01          1\n",
              "128       2020-04-03          1\n",
              "119       2020-04-04          2\n",
              "116       2020-04-05          2\n",
              "126       2020-04-10          1\n",
              "..               ...        ...\n",
              "145       2020-09-13          1\n",
              "100       2020-09-14          4\n",
              "113       2020-09-15          3\n",
              "124       2020-09-16          2\n",
              "135       2020-09-18          1\n",
              "\n",
              "[147 rows x 2 columns]"
            ]
          },
          "metadata": {
            "tags": []
          },
          "execution_count": 110
        }
      ]
    },
    {
      "cell_type": "markdown",
      "metadata": {
        "colab_type": "text",
        "id": "55g4TmjJeKCB"
      },
      "source": [
        "### Média móvel - casos confirmados por dia"
      ]
    },
    {
      "cell_type": "code",
      "metadata": {
        "colab_type": "code",
        "id": "2Tv4W3xieKCC",
        "colab": {}
      },
      "source": [
        "# casos_ativos_goiania = pd.read_csv('casos_ativos_goiania.csv', sep=',')"
      ],
      "execution_count": 127,
      "outputs": []
    },
    {
      "cell_type": "code",
      "metadata": {
        "colab_type": "code",
        "id": "qJbePZCBeKCE",
        "colab": {
          "base_uri": "https://localhost:8080/",
          "height": 0
        },
        "outputId": "2a18e8d4-4e96-4f7a-a0d0-2c0094c0773e"
      },
      "source": [
        "df = obitos_por_dia\n",
        "for i in range(0,df.shape[0]-6):\n",
        "    df.loc[df.index[i+6],'MM_casos'] = np.round(((df.iloc[i,1]+\n",
        "                                                  df.iloc[i+1,1]+\n",
        "                                                  df.iloc[i+2,1]+\n",
        "                                                  df.iloc[i+3,1]+\n",
        "                                                  df.iloc[i+4,1]+\n",
        "                                                  df.iloc[i+5,1]+\n",
        "                                                  df.iloc[i+6,1])/7),1)           \n",
        "\n",
        "df.head(8)"
      ],
      "execution_count": 128,
      "outputs": [
        {
          "output_type": "execute_result",
          "data": {
            "text/html": [
              "<div>\n",
              "<style scoped>\n",
              "    .dataframe tbody tr th:only-of-type {\n",
              "        vertical-align: middle;\n",
              "    }\n",
              "\n",
              "    .dataframe tbody tr th {\n",
              "        vertical-align: top;\n",
              "    }\n",
              "\n",
              "    .dataframe thead th {\n",
              "        text-align: right;\n",
              "    }\n",
              "</style>\n",
              "<table border=\"1\" class=\"dataframe\">\n",
              "  <thead>\n",
              "    <tr style=\"text-align: right;\">\n",
              "      <th></th>\n",
              "      <th>data_notificacao</th>\n",
              "      <th>num_casos</th>\n",
              "      <th>MM_casos</th>\n",
              "    </tr>\n",
              "  </thead>\n",
              "  <tbody>\n",
              "    <tr>\n",
              "      <th>146</th>\n",
              "      <td>2020-04-01</td>\n",
              "      <td>1</td>\n",
              "      <td>NaN</td>\n",
              "    </tr>\n",
              "    <tr>\n",
              "      <th>128</th>\n",
              "      <td>2020-04-03</td>\n",
              "      <td>1</td>\n",
              "      <td>NaN</td>\n",
              "    </tr>\n",
              "    <tr>\n",
              "      <th>119</th>\n",
              "      <td>2020-04-04</td>\n",
              "      <td>2</td>\n",
              "      <td>NaN</td>\n",
              "    </tr>\n",
              "    <tr>\n",
              "      <th>116</th>\n",
              "      <td>2020-04-05</td>\n",
              "      <td>2</td>\n",
              "      <td>NaN</td>\n",
              "    </tr>\n",
              "    <tr>\n",
              "      <th>126</th>\n",
              "      <td>2020-04-10</td>\n",
              "      <td>1</td>\n",
              "      <td>NaN</td>\n",
              "    </tr>\n",
              "    <tr>\n",
              "      <th>127</th>\n",
              "      <td>2020-04-14</td>\n",
              "      <td>1</td>\n",
              "      <td>NaN</td>\n",
              "    </tr>\n",
              "    <tr>\n",
              "      <th>129</th>\n",
              "      <td>2020-04-15</td>\n",
              "      <td>1</td>\n",
              "      <td>1.3</td>\n",
              "    </tr>\n",
              "    <tr>\n",
              "      <th>130</th>\n",
              "      <td>2020-04-16</td>\n",
              "      <td>1</td>\n",
              "      <td>1.3</td>\n",
              "    </tr>\n",
              "  </tbody>\n",
              "</table>\n",
              "</div>"
            ],
            "text/plain": [
              "    data_notificacao  num_casos  MM_casos\n",
              "146       2020-04-01          1       NaN\n",
              "128       2020-04-03          1       NaN\n",
              "119       2020-04-04          2       NaN\n",
              "116       2020-04-05          2       NaN\n",
              "126       2020-04-10          1       NaN\n",
              "127       2020-04-14          1       NaN\n",
              "129       2020-04-15          1       1.3\n",
              "130       2020-04-16          1       1.3"
            ]
          },
          "metadata": {
            "tags": []
          },
          "execution_count": 128
        }
      ]
    },
    {
      "cell_type": "code",
      "metadata": {
        "colab_type": "code",
        "id": "TL8K99YSeKCG",
        "colab": {}
      },
      "source": [
        "obitos_por_dia.to_csv('obitos_por_dia_goiania.csv', index=False)"
      ],
      "execution_count": 129,
      "outputs": []
    },
    {
      "cell_type": "code",
      "metadata": {
        "colab_type": "code",
        "id": "Zu8g7QiKeKCJ",
        "colab": {
          "base_uri": "https://localhost:8080/",
          "height": 0
        },
        "outputId": "0c5b9014-a2e4-4e1c-d6c4-1c68b4504700"
      },
      "source": [
        "fig = px.bar(obitos_por_dia, x='data_notificacao', y='num_casos',  title=\"Óbitos por dia por data de notificação\", labels={'num_casos':'N° de óbitos', \n",
        "                                                                         'data_notificacao': 'Data de notificação',})\n",
        "\n",
        "fig.add_trace(\n",
        "    go.Scatter(\n",
        "        x=obitos_por_dia['data_notificacao'],\n",
        "        y=obitos_por_dia['MM_casos'],\n",
        "        name='Média Móvel<br>(7 dias)',        \n",
        "        hovertemplate= \"Média Móvel: %{x}<br>Data: %{y}<extra></extra>\",\n",
        "\n",
        "    ))\n",
        "\n",
        "fig.update_traces()"
      ],
      "execution_count": 130,
      "outputs": [
        {
          "output_type": "display_data",
          "data": {
            "text/html": [
              "<html>\n",
              "<head><meta charset=\"utf-8\" /></head>\n",
              "<body>\n",
              "    <div>\n",
              "            <script src=\"https://cdnjs.cloudflare.com/ajax/libs/mathjax/2.7.5/MathJax.js?config=TeX-AMS-MML_SVG\"></script><script type=\"text/javascript\">if (window.MathJax) {MathJax.Hub.Config({SVG: {font: \"STIX-Web\"}});}</script>\n",
              "                <script type=\"text/javascript\">window.PlotlyConfig = {MathJaxConfig: 'local'};</script>\n",
              "        <script src=\"https://cdn.plot.ly/plotly-latest.min.js\"></script>    \n",
              "            <div id=\"7b48a156-5a3a-490a-ba1b-a3cc14b20a8b\" class=\"plotly-graph-div\" style=\"height:525px; width:100%;\"></div>\n",
              "            <script type=\"text/javascript\">\n",
              "                \n",
              "                    window.PLOTLYENV=window.PLOTLYENV || {};\n",
              "                    \n",
              "                if (document.getElementById(\"7b48a156-5a3a-490a-ba1b-a3cc14b20a8b\")) {\n",
              "                    Plotly.newPlot(\n",
              "                        '7b48a156-5a3a-490a-ba1b-a3cc14b20a8b',\n",
              "                        [{\"alignmentgroup\": \"True\", \"hoverlabel\": {\"namelength\": 0}, \"hovertemplate\": \"Data de notifica\\u00e7\\u00e3o=%{x}<br>N\\u00b0 de \\u00f3bitos=%{y}\", \"legendgroup\": \"\", \"marker\": {\"color\": \"#636efa\"}, \"name\": \"\", \"offsetgroup\": \"\", \"orientation\": \"v\", \"showlegend\": false, \"textposition\": \"auto\", \"type\": \"bar\", \"x\": [\"2020-04-01T00:00:00\", \"2020-04-03T00:00:00\", \"2020-04-04T00:00:00\", \"2020-04-05T00:00:00\", \"2020-04-10T00:00:00\", \"2020-04-14T00:00:00\", \"2020-04-15T00:00:00\", \"2020-04-16T00:00:00\", \"2020-04-20T00:00:00\", \"2020-04-21T00:00:00\", \"2020-04-22T00:00:00\", \"2020-04-25T00:00:00\", \"2020-04-26T00:00:00\", \"2020-04-28T00:00:00\", \"2020-04-30T00:00:00\", \"2020-05-01T00:00:00\", \"2020-05-02T00:00:00\", \"2020-05-05T00:00:00\", \"2020-05-06T00:00:00\", \"2020-05-07T00:00:00\", \"2020-05-08T00:00:00\", \"2020-05-10T00:00:00\", \"2020-05-11T00:00:00\", \"2020-05-12T00:00:00\", \"2020-05-13T00:00:00\", \"2020-05-14T00:00:00\", \"2020-05-15T00:00:00\", \"2020-05-16T00:00:00\", \"2020-05-18T00:00:00\", \"2020-05-19T00:00:00\", \"2020-05-20T00:00:00\", \"2020-05-21T00:00:00\", \"2020-05-22T00:00:00\", \"2020-05-23T00:00:00\", \"2020-05-25T00:00:00\", \"2020-05-26T00:00:00\", \"2020-05-27T00:00:00\", \"2020-05-28T00:00:00\", \"2020-05-29T00:00:00\", \"2020-06-01T00:00:00\", \"2020-06-02T00:00:00\", \"2020-06-03T00:00:00\", \"2020-06-04T00:00:00\", \"2020-06-05T00:00:00\", \"2020-06-06T00:00:00\", \"2020-06-07T00:00:00\", \"2020-06-08T00:00:00\", \"2020-06-09T00:00:00\", \"2020-06-10T00:00:00\", \"2020-06-11T00:00:00\", \"2020-06-12T00:00:00\", \"2020-06-13T00:00:00\", \"2020-06-14T00:00:00\", \"2020-06-15T00:00:00\", \"2020-06-16T00:00:00\", \"2020-06-17T00:00:00\", \"2020-06-18T00:00:00\", \"2020-06-19T00:00:00\", \"2020-06-20T00:00:00\", \"2020-06-21T00:00:00\", \"2020-06-22T00:00:00\", \"2020-06-23T00:00:00\", \"2020-06-24T00:00:00\", \"2020-06-25T00:00:00\", \"2020-06-26T00:00:00\", \"2020-06-27T00:00:00\", \"2020-06-28T00:00:00\", \"2020-06-29T00:00:00\", \"2020-06-30T00:00:00\", \"2020-07-01T00:00:00\", \"2020-07-02T00:00:00\", \"2020-07-03T00:00:00\", \"2020-07-04T00:00:00\", \"2020-07-05T00:00:00\", \"2020-07-06T00:00:00\", \"2020-07-07T00:00:00\", \"2020-07-08T00:00:00\", \"2020-07-09T00:00:00\", \"2020-07-10T00:00:00\", \"2020-07-11T00:00:00\", \"2020-07-12T00:00:00\", \"2020-07-13T00:00:00\", \"2020-07-14T00:00:00\", \"2020-07-15T00:00:00\", \"2020-07-16T00:00:00\", \"2020-07-17T00:00:00\", \"2020-07-18T00:00:00\", \"2020-07-19T00:00:00\", \"2020-07-20T00:00:00\", \"2020-07-21T00:00:00\", \"2020-07-22T00:00:00\", \"2020-07-23T00:00:00\", \"2020-07-24T00:00:00\", \"2020-07-25T00:00:00\", \"2020-07-26T00:00:00\", \"2020-07-27T00:00:00\", \"2020-07-28T00:00:00\", \"2020-07-29T00:00:00\", \"2020-07-30T00:00:00\", \"2020-07-31T00:00:00\", \"2020-08-01T00:00:00\", \"2020-08-02T00:00:00\", \"2020-08-03T00:00:00\", \"2020-08-04T00:00:00\", \"2020-08-05T00:00:00\", \"2020-08-06T00:00:00\", \"2020-08-07T00:00:00\", \"2020-08-08T00:00:00\", \"2020-08-09T00:00:00\", \"2020-08-10T00:00:00\", \"2020-08-11T00:00:00\", \"2020-08-12T00:00:00\", \"2020-08-13T00:00:00\", \"2020-08-14T00:00:00\", \"2020-08-15T00:00:00\", \"2020-08-16T00:00:00\", \"2020-08-17T00:00:00\", \"2020-08-18T00:00:00\", \"2020-08-19T00:00:00\", \"2020-08-20T00:00:00\", \"2020-08-21T00:00:00\", \"2020-08-22T00:00:00\", \"2020-08-23T00:00:00\", \"2020-08-24T00:00:00\", \"2020-08-25T00:00:00\", \"2020-08-26T00:00:00\", \"2020-08-27T00:00:00\", \"2020-08-28T00:00:00\", \"2020-08-29T00:00:00\", \"2020-08-30T00:00:00\", \"2020-08-31T00:00:00\", \"2020-09-01T00:00:00\", \"2020-09-02T00:00:00\", \"2020-09-03T00:00:00\", \"2020-09-04T00:00:00\", \"2020-09-05T00:00:00\", \"2020-09-06T00:00:00\", \"2020-09-08T00:00:00\", \"2020-09-09T00:00:00\", \"2020-09-10T00:00:00\", \"2020-09-11T00:00:00\", \"2020-09-12T00:00:00\", \"2020-09-13T00:00:00\", \"2020-09-14T00:00:00\", \"2020-09-15T00:00:00\", \"2020-09-16T00:00:00\", \"2020-09-18T00:00:00\"], \"xaxis\": \"x\", \"y\": [1, 1, 2, 2, 1, 1, 1, 1, 1, 1, 1, 1, 2, 3, 1, 4, 1, 1, 2, 2, 1, 1, 4, 1, 4, 1, 2, 1, 6, 3, 3, 2, 6, 2, 4, 3, 6, 4, 5, 3, 5, 8, 7, 8, 4, 3, 4, 1, 8, 9, 7, 6, 6, 5, 12, 12, 10, 9, 5, 7, 14, 8, 14, 11, 13, 5, 5, 13, 12, 21, 10, 14, 12, 9, 10, 14, 13, 14, 16, 8, 5, 6, 9, 16, 20, 7, 3, 10, 15, 16, 16, 15, 14, 13, 9, 17, 19, 18, 12, 33, 3, 5, 24, 17, 25, 19, 16, 9, 7, 20, 15, 18, 10, 11, 6, 7, 16, 10, 8, 18, 13, 4, 5, 13, 10, 21, 8, 10, 6, 8, 16, 22, 6, 10, 5, 6, 2, 6, 6, 7, 4, 2, 1, 4, 3, 2, 1], \"yaxis\": \"y\"}, {\"hovertemplate\": \"M\\u00e9dia M\\u00f3vel: %{x}<br>Data: %{y}<extra></extra>\", \"name\": \"M\\u00e9dia M\\u00f3vel<br>(7 dias)\", \"type\": \"scatter\", \"x\": [\"2020-04-01T00:00:00\", \"2020-04-03T00:00:00\", \"2020-04-04T00:00:00\", \"2020-04-05T00:00:00\", \"2020-04-10T00:00:00\", \"2020-04-14T00:00:00\", \"2020-04-15T00:00:00\", \"2020-04-16T00:00:00\", \"2020-04-20T00:00:00\", \"2020-04-21T00:00:00\", \"2020-04-22T00:00:00\", \"2020-04-25T00:00:00\", \"2020-04-26T00:00:00\", \"2020-04-28T00:00:00\", \"2020-04-30T00:00:00\", \"2020-05-01T00:00:00\", \"2020-05-02T00:00:00\", \"2020-05-05T00:00:00\", \"2020-05-06T00:00:00\", \"2020-05-07T00:00:00\", \"2020-05-08T00:00:00\", \"2020-05-10T00:00:00\", \"2020-05-11T00:00:00\", \"2020-05-12T00:00:00\", \"2020-05-13T00:00:00\", \"2020-05-14T00:00:00\", \"2020-05-15T00:00:00\", \"2020-05-16T00:00:00\", \"2020-05-18T00:00:00\", \"2020-05-19T00:00:00\", \"2020-05-20T00:00:00\", \"2020-05-21T00:00:00\", \"2020-05-22T00:00:00\", \"2020-05-23T00:00:00\", \"2020-05-25T00:00:00\", \"2020-05-26T00:00:00\", \"2020-05-27T00:00:00\", \"2020-05-28T00:00:00\", \"2020-05-29T00:00:00\", \"2020-06-01T00:00:00\", \"2020-06-02T00:00:00\", \"2020-06-03T00:00:00\", \"2020-06-04T00:00:00\", \"2020-06-05T00:00:00\", \"2020-06-06T00:00:00\", \"2020-06-07T00:00:00\", \"2020-06-08T00:00:00\", \"2020-06-09T00:00:00\", \"2020-06-10T00:00:00\", \"2020-06-11T00:00:00\", \"2020-06-12T00:00:00\", \"2020-06-13T00:00:00\", \"2020-06-14T00:00:00\", \"2020-06-15T00:00:00\", \"2020-06-16T00:00:00\", \"2020-06-17T00:00:00\", \"2020-06-18T00:00:00\", \"2020-06-19T00:00:00\", \"2020-06-20T00:00:00\", \"2020-06-21T00:00:00\", \"2020-06-22T00:00:00\", \"2020-06-23T00:00:00\", \"2020-06-24T00:00:00\", \"2020-06-25T00:00:00\", \"2020-06-26T00:00:00\", \"2020-06-27T00:00:00\", \"2020-06-28T00:00:00\", \"2020-06-29T00:00:00\", \"2020-06-30T00:00:00\", \"2020-07-01T00:00:00\", \"2020-07-02T00:00:00\", \"2020-07-03T00:00:00\", \"2020-07-04T00:00:00\", \"2020-07-05T00:00:00\", \"2020-07-06T00:00:00\", \"2020-07-07T00:00:00\", \"2020-07-08T00:00:00\", \"2020-07-09T00:00:00\", \"2020-07-10T00:00:00\", \"2020-07-11T00:00:00\", \"2020-07-12T00:00:00\", \"2020-07-13T00:00:00\", \"2020-07-14T00:00:00\", \"2020-07-15T00:00:00\", \"2020-07-16T00:00:00\", \"2020-07-17T00:00:00\", \"2020-07-18T00:00:00\", \"2020-07-19T00:00:00\", \"2020-07-20T00:00:00\", \"2020-07-21T00:00:00\", \"2020-07-22T00:00:00\", \"2020-07-23T00:00:00\", \"2020-07-24T00:00:00\", \"2020-07-25T00:00:00\", \"2020-07-26T00:00:00\", \"2020-07-27T00:00:00\", \"2020-07-28T00:00:00\", \"2020-07-29T00:00:00\", \"2020-07-30T00:00:00\", \"2020-07-31T00:00:00\", \"2020-08-01T00:00:00\", \"2020-08-02T00:00:00\", \"2020-08-03T00:00:00\", \"2020-08-04T00:00:00\", \"2020-08-05T00:00:00\", \"2020-08-06T00:00:00\", \"2020-08-07T00:00:00\", \"2020-08-08T00:00:00\", \"2020-08-09T00:00:00\", \"2020-08-10T00:00:00\", \"2020-08-11T00:00:00\", \"2020-08-12T00:00:00\", \"2020-08-13T00:00:00\", \"2020-08-14T00:00:00\", \"2020-08-15T00:00:00\", \"2020-08-16T00:00:00\", \"2020-08-17T00:00:00\", \"2020-08-18T00:00:00\", \"2020-08-19T00:00:00\", \"2020-08-20T00:00:00\", \"2020-08-21T00:00:00\", \"2020-08-22T00:00:00\", \"2020-08-23T00:00:00\", \"2020-08-24T00:00:00\", \"2020-08-25T00:00:00\", \"2020-08-26T00:00:00\", \"2020-08-27T00:00:00\", \"2020-08-28T00:00:00\", \"2020-08-29T00:00:00\", \"2020-08-30T00:00:00\", \"2020-08-31T00:00:00\", \"2020-09-01T00:00:00\", \"2020-09-02T00:00:00\", \"2020-09-03T00:00:00\", \"2020-09-04T00:00:00\", \"2020-09-05T00:00:00\", \"2020-09-06T00:00:00\", \"2020-09-08T00:00:00\", \"2020-09-09T00:00:00\", \"2020-09-10T00:00:00\", \"2020-09-11T00:00:00\", \"2020-09-12T00:00:00\", \"2020-09-13T00:00:00\", \"2020-09-14T00:00:00\", \"2020-09-15T00:00:00\", \"2020-09-16T00:00:00\", \"2020-09-18T00:00:00\"], \"y\": [null, null, null, null, null, null, 1.3, 1.3, 1.3, 1.1, 1.0, 1.0, 1.1, 1.4, 1.4, 1.9, 1.9, 1.9, 2.0, 2.0, 1.7, 1.7, 1.7, 1.7, 2.1, 2.0, 2.0, 2.0, 2.7, 2.6, 2.9, 2.6, 3.3, 3.3, 3.7, 3.3, 3.7, 3.9, 4.3, 3.9, 4.3, 4.9, 5.4, 5.7, 5.7, 5.4, 5.6, 5.0, 5.0, 5.3, 5.1, 5.4, 5.9, 6.0, 7.6, 8.1, 8.3, 8.6, 8.4, 8.6, 9.9, 9.3, 9.6, 9.7, 10.3, 10.3, 10.0, 9.9, 10.4, 11.4, 11.3, 11.4, 12.4, 13.0, 12.6, 12.9, 11.7, 12.3, 12.6, 12.0, 11.4, 10.9, 10.1, 10.6, 11.4, 10.1, 9.4, 10.1, 11.4, 12.4, 12.4, 11.7, 12.7, 14.1, 14.0, 14.3, 14.7, 15.0, 14.6, 17.3, 15.9, 15.3, 16.3, 16.0, 17.0, 18.0, 15.6, 16.4, 16.7, 16.1, 15.9, 14.9, 13.6, 12.9, 12.4, 12.4, 11.9, 11.1, 9.7, 10.9, 11.1, 10.9, 10.6, 10.1, 10.1, 12.0, 10.6, 10.1, 10.4, 10.9, 11.3, 13.0, 10.9, 11.1, 10.4, 10.4, 9.6, 8.1, 5.9, 6.0, 5.1, 4.7, 4.0, 4.3, 3.9, 3.3, 2.4]}],\n",
              "                        {\"barmode\": \"relative\", \"legend\": {\"tracegroupgap\": 0}, \"template\": {\"data\": {\"bar\": [{\"error_x\": {\"color\": \"#2a3f5f\"}, \"error_y\": {\"color\": \"#2a3f5f\"}, \"marker\": {\"line\": {\"color\": \"#E5ECF6\", \"width\": 0.5}}, \"type\": \"bar\"}], \"barpolar\": [{\"marker\": {\"line\": {\"color\": \"#E5ECF6\", \"width\": 0.5}}, \"type\": \"barpolar\"}], \"carpet\": [{\"aaxis\": {\"endlinecolor\": \"#2a3f5f\", \"gridcolor\": \"white\", \"linecolor\": \"white\", \"minorgridcolor\": \"white\", \"startlinecolor\": \"#2a3f5f\"}, \"baxis\": {\"endlinecolor\": \"#2a3f5f\", \"gridcolor\": \"white\", \"linecolor\": \"white\", \"minorgridcolor\": \"white\", \"startlinecolor\": \"#2a3f5f\"}, \"type\": \"carpet\"}], \"choropleth\": [{\"colorbar\": {\"outlinewidth\": 0, \"ticks\": \"\"}, \"type\": \"choropleth\"}], \"contour\": [{\"colorbar\": {\"outlinewidth\": 0, \"ticks\": \"\"}, \"colorscale\": [[0.0, \"#0d0887\"], [0.1111111111111111, \"#46039f\"], [0.2222222222222222, \"#7201a8\"], [0.3333333333333333, \"#9c179e\"], [0.4444444444444444, \"#bd3786\"], [0.5555555555555556, \"#d8576b\"], [0.6666666666666666, \"#ed7953\"], [0.7777777777777778, \"#fb9f3a\"], [0.8888888888888888, \"#fdca26\"], [1.0, \"#f0f921\"]], \"type\": \"contour\"}], \"contourcarpet\": [{\"colorbar\": {\"outlinewidth\": 0, \"ticks\": \"\"}, \"type\": \"contourcarpet\"}], \"heatmap\": [{\"colorbar\": {\"outlinewidth\": 0, \"ticks\": \"\"}, \"colorscale\": [[0.0, \"#0d0887\"], [0.1111111111111111, \"#46039f\"], [0.2222222222222222, \"#7201a8\"], [0.3333333333333333, \"#9c179e\"], [0.4444444444444444, \"#bd3786\"], [0.5555555555555556, \"#d8576b\"], [0.6666666666666666, \"#ed7953\"], [0.7777777777777778, \"#fb9f3a\"], [0.8888888888888888, \"#fdca26\"], [1.0, \"#f0f921\"]], \"type\": \"heatmap\"}], \"heatmapgl\": [{\"colorbar\": {\"outlinewidth\": 0, \"ticks\": \"\"}, \"colorscale\": [[0.0, \"#0d0887\"], [0.1111111111111111, \"#46039f\"], [0.2222222222222222, \"#7201a8\"], [0.3333333333333333, \"#9c179e\"], [0.4444444444444444, \"#bd3786\"], [0.5555555555555556, \"#d8576b\"], [0.6666666666666666, \"#ed7953\"], [0.7777777777777778, \"#fb9f3a\"], [0.8888888888888888, \"#fdca26\"], [1.0, \"#f0f921\"]], \"type\": \"heatmapgl\"}], \"histogram\": [{\"marker\": {\"colorbar\": {\"outlinewidth\": 0, \"ticks\": \"\"}}, \"type\": \"histogram\"}], \"histogram2d\": [{\"colorbar\": {\"outlinewidth\": 0, \"ticks\": \"\"}, \"colorscale\": [[0.0, \"#0d0887\"], [0.1111111111111111, \"#46039f\"], [0.2222222222222222, \"#7201a8\"], [0.3333333333333333, \"#9c179e\"], [0.4444444444444444, \"#bd3786\"], [0.5555555555555556, \"#d8576b\"], [0.6666666666666666, \"#ed7953\"], [0.7777777777777778, \"#fb9f3a\"], [0.8888888888888888, \"#fdca26\"], [1.0, \"#f0f921\"]], \"type\": \"histogram2d\"}], \"histogram2dcontour\": [{\"colorbar\": {\"outlinewidth\": 0, \"ticks\": \"\"}, \"colorscale\": [[0.0, \"#0d0887\"], [0.1111111111111111, \"#46039f\"], [0.2222222222222222, \"#7201a8\"], [0.3333333333333333, \"#9c179e\"], [0.4444444444444444, \"#bd3786\"], [0.5555555555555556, \"#d8576b\"], [0.6666666666666666, \"#ed7953\"], [0.7777777777777778, \"#fb9f3a\"], [0.8888888888888888, \"#fdca26\"], [1.0, \"#f0f921\"]], \"type\": \"histogram2dcontour\"}], \"mesh3d\": [{\"colorbar\": {\"outlinewidth\": 0, \"ticks\": \"\"}, \"type\": \"mesh3d\"}], \"parcoords\": [{\"line\": {\"colorbar\": {\"outlinewidth\": 0, \"ticks\": \"\"}}, \"type\": \"parcoords\"}], \"pie\": [{\"automargin\": true, \"type\": \"pie\"}], \"scatter\": [{\"marker\": {\"colorbar\": {\"outlinewidth\": 0, \"ticks\": \"\"}}, \"type\": \"scatter\"}], \"scatter3d\": [{\"line\": {\"colorbar\": {\"outlinewidth\": 0, \"ticks\": \"\"}}, \"marker\": {\"colorbar\": {\"outlinewidth\": 0, \"ticks\": \"\"}}, \"type\": \"scatter3d\"}], \"scattercarpet\": [{\"marker\": {\"colorbar\": {\"outlinewidth\": 0, \"ticks\": \"\"}}, \"type\": \"scattercarpet\"}], \"scattergeo\": [{\"marker\": {\"colorbar\": {\"outlinewidth\": 0, \"ticks\": \"\"}}, \"type\": \"scattergeo\"}], \"scattergl\": [{\"marker\": {\"colorbar\": {\"outlinewidth\": 0, \"ticks\": \"\"}}, \"type\": \"scattergl\"}], \"scattermapbox\": [{\"marker\": {\"colorbar\": {\"outlinewidth\": 0, \"ticks\": \"\"}}, \"type\": \"scattermapbox\"}], \"scatterpolar\": [{\"marker\": {\"colorbar\": {\"outlinewidth\": 0, \"ticks\": \"\"}}, \"type\": \"scatterpolar\"}], \"scatterpolargl\": [{\"marker\": {\"colorbar\": {\"outlinewidth\": 0, \"ticks\": \"\"}}, \"type\": \"scatterpolargl\"}], \"scatterternary\": [{\"marker\": {\"colorbar\": {\"outlinewidth\": 0, \"ticks\": \"\"}}, \"type\": \"scatterternary\"}], \"surface\": [{\"colorbar\": {\"outlinewidth\": 0, \"ticks\": \"\"}, \"colorscale\": [[0.0, \"#0d0887\"], [0.1111111111111111, \"#46039f\"], [0.2222222222222222, \"#7201a8\"], [0.3333333333333333, \"#9c179e\"], [0.4444444444444444, \"#bd3786\"], [0.5555555555555556, \"#d8576b\"], [0.6666666666666666, \"#ed7953\"], [0.7777777777777778, \"#fb9f3a\"], [0.8888888888888888, \"#fdca26\"], [1.0, \"#f0f921\"]], \"type\": \"surface\"}], \"table\": [{\"cells\": {\"fill\": {\"color\": \"#EBF0F8\"}, \"line\": {\"color\": \"white\"}}, \"header\": {\"fill\": {\"color\": \"#C8D4E3\"}, \"line\": {\"color\": \"white\"}}, \"type\": \"table\"}]}, \"layout\": {\"annotationdefaults\": {\"arrowcolor\": \"#2a3f5f\", \"arrowhead\": 0, \"arrowwidth\": 1}, \"coloraxis\": {\"colorbar\": {\"outlinewidth\": 0, \"ticks\": \"\"}}, \"colorscale\": {\"diverging\": [[0, \"#8e0152\"], [0.1, \"#c51b7d\"], [0.2, \"#de77ae\"], [0.3, \"#f1b6da\"], [0.4, \"#fde0ef\"], [0.5, \"#f7f7f7\"], [0.6, \"#e6f5d0\"], [0.7, \"#b8e186\"], [0.8, \"#7fbc41\"], [0.9, \"#4d9221\"], [1, \"#276419\"]], \"sequential\": [[0.0, \"#0d0887\"], [0.1111111111111111, \"#46039f\"], [0.2222222222222222, \"#7201a8\"], [0.3333333333333333, \"#9c179e\"], [0.4444444444444444, \"#bd3786\"], [0.5555555555555556, \"#d8576b\"], [0.6666666666666666, \"#ed7953\"], [0.7777777777777778, \"#fb9f3a\"], [0.8888888888888888, \"#fdca26\"], [1.0, \"#f0f921\"]], \"sequentialminus\": [[0.0, \"#0d0887\"], [0.1111111111111111, \"#46039f\"], [0.2222222222222222, \"#7201a8\"], [0.3333333333333333, \"#9c179e\"], [0.4444444444444444, \"#bd3786\"], [0.5555555555555556, \"#d8576b\"], [0.6666666666666666, \"#ed7953\"], [0.7777777777777778, \"#fb9f3a\"], [0.8888888888888888, \"#fdca26\"], [1.0, \"#f0f921\"]]}, \"colorway\": [\"#636efa\", \"#EF553B\", \"#00cc96\", \"#ab63fa\", \"#FFA15A\", \"#19d3f3\", \"#FF6692\", \"#B6E880\", \"#FF97FF\", \"#FECB52\"], \"font\": {\"color\": \"#2a3f5f\"}, \"geo\": {\"bgcolor\": \"white\", \"lakecolor\": \"white\", \"landcolor\": \"#E5ECF6\", \"showlakes\": true, \"showland\": true, \"subunitcolor\": \"white\"}, \"hoverlabel\": {\"align\": \"left\"}, \"hovermode\": \"closest\", \"mapbox\": {\"style\": \"light\"}, \"paper_bgcolor\": \"white\", \"plot_bgcolor\": \"#E5ECF6\", \"polar\": {\"angularaxis\": {\"gridcolor\": \"white\", \"linecolor\": \"white\", \"ticks\": \"\"}, \"bgcolor\": \"#E5ECF6\", \"radialaxis\": {\"gridcolor\": \"white\", \"linecolor\": \"white\", \"ticks\": \"\"}}, \"scene\": {\"xaxis\": {\"backgroundcolor\": \"#E5ECF6\", \"gridcolor\": \"white\", \"gridwidth\": 2, \"linecolor\": \"white\", \"showbackground\": true, \"ticks\": \"\", \"zerolinecolor\": \"white\"}, \"yaxis\": {\"backgroundcolor\": \"#E5ECF6\", \"gridcolor\": \"white\", \"gridwidth\": 2, \"linecolor\": \"white\", \"showbackground\": true, \"ticks\": \"\", \"zerolinecolor\": \"white\"}, \"zaxis\": {\"backgroundcolor\": \"#E5ECF6\", \"gridcolor\": \"white\", \"gridwidth\": 2, \"linecolor\": \"white\", \"showbackground\": true, \"ticks\": \"\", \"zerolinecolor\": \"white\"}}, \"shapedefaults\": {\"line\": {\"color\": \"#2a3f5f\"}}, \"ternary\": {\"aaxis\": {\"gridcolor\": \"white\", \"linecolor\": \"white\", \"ticks\": \"\"}, \"baxis\": {\"gridcolor\": \"white\", \"linecolor\": \"white\", \"ticks\": \"\"}, \"bgcolor\": \"#E5ECF6\", \"caxis\": {\"gridcolor\": \"white\", \"linecolor\": \"white\", \"ticks\": \"\"}}, \"title\": {\"x\": 0.05}, \"xaxis\": {\"automargin\": true, \"gridcolor\": \"white\", \"linecolor\": \"white\", \"ticks\": \"\", \"title\": {\"standoff\": 15}, \"zerolinecolor\": \"white\", \"zerolinewidth\": 2}, \"yaxis\": {\"automargin\": true, \"gridcolor\": \"white\", \"linecolor\": \"white\", \"ticks\": \"\", \"title\": {\"standoff\": 15}, \"zerolinecolor\": \"white\", \"zerolinewidth\": 2}}}, \"title\": {\"text\": \"\\u00d3bitos por dia por data de notifica\\u00e7\\u00e3o\"}, \"xaxis\": {\"anchor\": \"y\", \"domain\": [0.0, 1.0], \"title\": {\"text\": \"Data de notifica\\u00e7\\u00e3o\"}}, \"yaxis\": {\"anchor\": \"x\", \"domain\": [0.0, 1.0], \"title\": {\"text\": \"N\\u00b0 de \\u00f3bitos\"}}},\n",
              "                        {\"responsive\": true}\n",
              "                    ).then(function(){\n",
              "                            \n",
              "var gd = document.getElementById('7b48a156-5a3a-490a-ba1b-a3cc14b20a8b');\n",
              "var x = new MutationObserver(function (mutations, observer) {{\n",
              "        var display = window.getComputedStyle(gd).display;\n",
              "        if (!display || display === 'none') {{\n",
              "            console.log([gd, 'removed!']);\n",
              "            Plotly.purge(gd);\n",
              "            observer.disconnect();\n",
              "        }}\n",
              "}});\n",
              "\n",
              "// Listen for the removal of the full notebook cells\n",
              "var notebookContainer = gd.closest('#notebook-container');\n",
              "if (notebookContainer) {{\n",
              "    x.observe(notebookContainer, {childList: true});\n",
              "}}\n",
              "\n",
              "// Listen for the clearing of the current output cell\n",
              "var outputEl = gd.closest('.output');\n",
              "if (outputEl) {{\n",
              "    x.observe(outputEl, {childList: true});\n",
              "}}\n",
              "\n",
              "                        })\n",
              "                };\n",
              "                \n",
              "            </script>\n",
              "        </div>\n",
              "</body>\n",
              "</html>"
            ]
          },
          "metadata": {
            "tags": []
          }
        }
      ]
    },
    {
      "cell_type": "code",
      "metadata": {
        "id": "39gZu5abv5vr",
        "colab_type": "code",
        "colab": {}
      },
      "source": [
        ""
      ],
      "execution_count": 130,
      "outputs": []
    },
    {
      "cell_type": "code",
      "metadata": {
        "colab_type": "code",
        "id": "GFcP9b2Jv55B",
        "colab": {
          "base_uri": "https://localhost:8080/",
          "height": 0
        },
        "outputId": "9aa6bb10-1d42-4b69-8625-702568f00178"
      },
      "source": [
        "import plotly.graph_objects as go\n",
        "fig.show()\n",
        "fig.write_image(\"obitos_por_dia.svg\")\n",
        "fig.write_image(\"obitos_por_dia.png\")"
      ],
      "execution_count": 131,
      "outputs": [
        {
          "output_type": "display_data",
          "data": {
            "text/html": [
              "<html>\n",
              "<head><meta charset=\"utf-8\" /></head>\n",
              "<body>\n",
              "    <div>\n",
              "            <script src=\"https://cdnjs.cloudflare.com/ajax/libs/mathjax/2.7.5/MathJax.js?config=TeX-AMS-MML_SVG\"></script><script type=\"text/javascript\">if (window.MathJax) {MathJax.Hub.Config({SVG: {font: \"STIX-Web\"}});}</script>\n",
              "                <script type=\"text/javascript\">window.PlotlyConfig = {MathJaxConfig: 'local'};</script>\n",
              "        <script src=\"https://cdn.plot.ly/plotly-latest.min.js\"></script>    \n",
              "            <div id=\"4690db55-800b-4291-8cbc-8601cd605a8a\" class=\"plotly-graph-div\" style=\"height:525px; width:100%;\"></div>\n",
              "            <script type=\"text/javascript\">\n",
              "                \n",
              "                    window.PLOTLYENV=window.PLOTLYENV || {};\n",
              "                    \n",
              "                if (document.getElementById(\"4690db55-800b-4291-8cbc-8601cd605a8a\")) {\n",
              "                    Plotly.newPlot(\n",
              "                        '4690db55-800b-4291-8cbc-8601cd605a8a',\n",
              "                        [{\"alignmentgroup\": \"True\", \"hoverlabel\": {\"namelength\": 0}, \"hovertemplate\": \"Data de notifica\\u00e7\\u00e3o=%{x}<br>N\\u00b0 de \\u00f3bitos=%{y}\", \"legendgroup\": \"\", \"marker\": {\"color\": \"#636efa\"}, \"name\": \"\", \"offsetgroup\": \"\", \"orientation\": \"v\", \"showlegend\": false, \"textposition\": \"auto\", \"type\": \"bar\", \"x\": [\"2020-04-01T00:00:00\", \"2020-04-03T00:00:00\", \"2020-04-04T00:00:00\", \"2020-04-05T00:00:00\", \"2020-04-10T00:00:00\", \"2020-04-14T00:00:00\", \"2020-04-15T00:00:00\", \"2020-04-16T00:00:00\", \"2020-04-20T00:00:00\", \"2020-04-21T00:00:00\", \"2020-04-22T00:00:00\", \"2020-04-25T00:00:00\", \"2020-04-26T00:00:00\", \"2020-04-28T00:00:00\", \"2020-04-30T00:00:00\", \"2020-05-01T00:00:00\", \"2020-05-02T00:00:00\", \"2020-05-05T00:00:00\", \"2020-05-06T00:00:00\", \"2020-05-07T00:00:00\", \"2020-05-08T00:00:00\", \"2020-05-10T00:00:00\", \"2020-05-11T00:00:00\", \"2020-05-12T00:00:00\", \"2020-05-13T00:00:00\", \"2020-05-14T00:00:00\", \"2020-05-15T00:00:00\", \"2020-05-16T00:00:00\", \"2020-05-18T00:00:00\", \"2020-05-19T00:00:00\", \"2020-05-20T00:00:00\", \"2020-05-21T00:00:00\", \"2020-05-22T00:00:00\", \"2020-05-23T00:00:00\", \"2020-05-25T00:00:00\", \"2020-05-26T00:00:00\", \"2020-05-27T00:00:00\", \"2020-05-28T00:00:00\", \"2020-05-29T00:00:00\", \"2020-06-01T00:00:00\", \"2020-06-02T00:00:00\", \"2020-06-03T00:00:00\", \"2020-06-04T00:00:00\", \"2020-06-05T00:00:00\", \"2020-06-06T00:00:00\", \"2020-06-07T00:00:00\", \"2020-06-08T00:00:00\", \"2020-06-09T00:00:00\", \"2020-06-10T00:00:00\", \"2020-06-11T00:00:00\", \"2020-06-12T00:00:00\", \"2020-06-13T00:00:00\", \"2020-06-14T00:00:00\", \"2020-06-15T00:00:00\", \"2020-06-16T00:00:00\", \"2020-06-17T00:00:00\", \"2020-06-18T00:00:00\", \"2020-06-19T00:00:00\", \"2020-06-20T00:00:00\", \"2020-06-21T00:00:00\", \"2020-06-22T00:00:00\", \"2020-06-23T00:00:00\", \"2020-06-24T00:00:00\", \"2020-06-25T00:00:00\", \"2020-06-26T00:00:00\", \"2020-06-27T00:00:00\", \"2020-06-28T00:00:00\", \"2020-06-29T00:00:00\", \"2020-06-30T00:00:00\", \"2020-07-01T00:00:00\", \"2020-07-02T00:00:00\", \"2020-07-03T00:00:00\", \"2020-07-04T00:00:00\", \"2020-07-05T00:00:00\", \"2020-07-06T00:00:00\", \"2020-07-07T00:00:00\", \"2020-07-08T00:00:00\", \"2020-07-09T00:00:00\", \"2020-07-10T00:00:00\", \"2020-07-11T00:00:00\", \"2020-07-12T00:00:00\", \"2020-07-13T00:00:00\", \"2020-07-14T00:00:00\", \"2020-07-15T00:00:00\", \"2020-07-16T00:00:00\", \"2020-07-17T00:00:00\", \"2020-07-18T00:00:00\", \"2020-07-19T00:00:00\", \"2020-07-20T00:00:00\", \"2020-07-21T00:00:00\", \"2020-07-22T00:00:00\", \"2020-07-23T00:00:00\", \"2020-07-24T00:00:00\", \"2020-07-25T00:00:00\", \"2020-07-26T00:00:00\", \"2020-07-27T00:00:00\", \"2020-07-28T00:00:00\", \"2020-07-29T00:00:00\", \"2020-07-30T00:00:00\", \"2020-07-31T00:00:00\", \"2020-08-01T00:00:00\", \"2020-08-02T00:00:00\", \"2020-08-03T00:00:00\", \"2020-08-04T00:00:00\", \"2020-08-05T00:00:00\", \"2020-08-06T00:00:00\", \"2020-08-07T00:00:00\", \"2020-08-08T00:00:00\", \"2020-08-09T00:00:00\", \"2020-08-10T00:00:00\", \"2020-08-11T00:00:00\", \"2020-08-12T00:00:00\", \"2020-08-13T00:00:00\", \"2020-08-14T00:00:00\", \"2020-08-15T00:00:00\", \"2020-08-16T00:00:00\", \"2020-08-17T00:00:00\", \"2020-08-18T00:00:00\", \"2020-08-19T00:00:00\", \"2020-08-20T00:00:00\", \"2020-08-21T00:00:00\", \"2020-08-22T00:00:00\", \"2020-08-23T00:00:00\", \"2020-08-24T00:00:00\", \"2020-08-25T00:00:00\", \"2020-08-26T00:00:00\", \"2020-08-27T00:00:00\", \"2020-08-28T00:00:00\", \"2020-08-29T00:00:00\", \"2020-08-30T00:00:00\", \"2020-08-31T00:00:00\", \"2020-09-01T00:00:00\", \"2020-09-02T00:00:00\", \"2020-09-03T00:00:00\", \"2020-09-04T00:00:00\", \"2020-09-05T00:00:00\", \"2020-09-06T00:00:00\", \"2020-09-08T00:00:00\", \"2020-09-09T00:00:00\", \"2020-09-10T00:00:00\", \"2020-09-11T00:00:00\", \"2020-09-12T00:00:00\", \"2020-09-13T00:00:00\", \"2020-09-14T00:00:00\", \"2020-09-15T00:00:00\", \"2020-09-16T00:00:00\", \"2020-09-18T00:00:00\"], \"xaxis\": \"x\", \"y\": [1, 1, 2, 2, 1, 1, 1, 1, 1, 1, 1, 1, 2, 3, 1, 4, 1, 1, 2, 2, 1, 1, 4, 1, 4, 1, 2, 1, 6, 3, 3, 2, 6, 2, 4, 3, 6, 4, 5, 3, 5, 8, 7, 8, 4, 3, 4, 1, 8, 9, 7, 6, 6, 5, 12, 12, 10, 9, 5, 7, 14, 8, 14, 11, 13, 5, 5, 13, 12, 21, 10, 14, 12, 9, 10, 14, 13, 14, 16, 8, 5, 6, 9, 16, 20, 7, 3, 10, 15, 16, 16, 15, 14, 13, 9, 17, 19, 18, 12, 33, 3, 5, 24, 17, 25, 19, 16, 9, 7, 20, 15, 18, 10, 11, 6, 7, 16, 10, 8, 18, 13, 4, 5, 13, 10, 21, 8, 10, 6, 8, 16, 22, 6, 10, 5, 6, 2, 6, 6, 7, 4, 2, 1, 4, 3, 2, 1], \"yaxis\": \"y\"}, {\"hovertemplate\": \"M\\u00e9dia M\\u00f3vel: %{x}<br>Data: %{y}<extra></extra>\", \"name\": \"M\\u00e9dia M\\u00f3vel<br>(7 dias)\", \"type\": \"scatter\", \"x\": [\"2020-04-01T00:00:00\", \"2020-04-03T00:00:00\", \"2020-04-04T00:00:00\", \"2020-04-05T00:00:00\", \"2020-04-10T00:00:00\", \"2020-04-14T00:00:00\", \"2020-04-15T00:00:00\", \"2020-04-16T00:00:00\", \"2020-04-20T00:00:00\", \"2020-04-21T00:00:00\", \"2020-04-22T00:00:00\", \"2020-04-25T00:00:00\", \"2020-04-26T00:00:00\", \"2020-04-28T00:00:00\", \"2020-04-30T00:00:00\", \"2020-05-01T00:00:00\", \"2020-05-02T00:00:00\", \"2020-05-05T00:00:00\", \"2020-05-06T00:00:00\", \"2020-05-07T00:00:00\", \"2020-05-08T00:00:00\", \"2020-05-10T00:00:00\", \"2020-05-11T00:00:00\", \"2020-05-12T00:00:00\", \"2020-05-13T00:00:00\", \"2020-05-14T00:00:00\", \"2020-05-15T00:00:00\", \"2020-05-16T00:00:00\", \"2020-05-18T00:00:00\", \"2020-05-19T00:00:00\", \"2020-05-20T00:00:00\", \"2020-05-21T00:00:00\", \"2020-05-22T00:00:00\", \"2020-05-23T00:00:00\", \"2020-05-25T00:00:00\", \"2020-05-26T00:00:00\", \"2020-05-27T00:00:00\", \"2020-05-28T00:00:00\", \"2020-05-29T00:00:00\", \"2020-06-01T00:00:00\", \"2020-06-02T00:00:00\", \"2020-06-03T00:00:00\", \"2020-06-04T00:00:00\", \"2020-06-05T00:00:00\", \"2020-06-06T00:00:00\", \"2020-06-07T00:00:00\", \"2020-06-08T00:00:00\", \"2020-06-09T00:00:00\", \"2020-06-10T00:00:00\", \"2020-06-11T00:00:00\", \"2020-06-12T00:00:00\", \"2020-06-13T00:00:00\", \"2020-06-14T00:00:00\", \"2020-06-15T00:00:00\", \"2020-06-16T00:00:00\", \"2020-06-17T00:00:00\", \"2020-06-18T00:00:00\", \"2020-06-19T00:00:00\", \"2020-06-20T00:00:00\", \"2020-06-21T00:00:00\", \"2020-06-22T00:00:00\", \"2020-06-23T00:00:00\", \"2020-06-24T00:00:00\", \"2020-06-25T00:00:00\", \"2020-06-26T00:00:00\", \"2020-06-27T00:00:00\", \"2020-06-28T00:00:00\", \"2020-06-29T00:00:00\", \"2020-06-30T00:00:00\", \"2020-07-01T00:00:00\", \"2020-07-02T00:00:00\", \"2020-07-03T00:00:00\", \"2020-07-04T00:00:00\", \"2020-07-05T00:00:00\", \"2020-07-06T00:00:00\", \"2020-07-07T00:00:00\", \"2020-07-08T00:00:00\", \"2020-07-09T00:00:00\", \"2020-07-10T00:00:00\", \"2020-07-11T00:00:00\", \"2020-07-12T00:00:00\", \"2020-07-13T00:00:00\", \"2020-07-14T00:00:00\", \"2020-07-15T00:00:00\", \"2020-07-16T00:00:00\", \"2020-07-17T00:00:00\", \"2020-07-18T00:00:00\", \"2020-07-19T00:00:00\", \"2020-07-20T00:00:00\", \"2020-07-21T00:00:00\", \"2020-07-22T00:00:00\", \"2020-07-23T00:00:00\", \"2020-07-24T00:00:00\", \"2020-07-25T00:00:00\", \"2020-07-26T00:00:00\", \"2020-07-27T00:00:00\", \"2020-07-28T00:00:00\", \"2020-07-29T00:00:00\", \"2020-07-30T00:00:00\", \"2020-07-31T00:00:00\", \"2020-08-01T00:00:00\", \"2020-08-02T00:00:00\", \"2020-08-03T00:00:00\", \"2020-08-04T00:00:00\", \"2020-08-05T00:00:00\", \"2020-08-06T00:00:00\", \"2020-08-07T00:00:00\", \"2020-08-08T00:00:00\", \"2020-08-09T00:00:00\", \"2020-08-10T00:00:00\", \"2020-08-11T00:00:00\", \"2020-08-12T00:00:00\", \"2020-08-13T00:00:00\", \"2020-08-14T00:00:00\", \"2020-08-15T00:00:00\", \"2020-08-16T00:00:00\", \"2020-08-17T00:00:00\", \"2020-08-18T00:00:00\", \"2020-08-19T00:00:00\", \"2020-08-20T00:00:00\", \"2020-08-21T00:00:00\", \"2020-08-22T00:00:00\", \"2020-08-23T00:00:00\", \"2020-08-24T00:00:00\", \"2020-08-25T00:00:00\", \"2020-08-26T00:00:00\", \"2020-08-27T00:00:00\", \"2020-08-28T00:00:00\", \"2020-08-29T00:00:00\", \"2020-08-30T00:00:00\", \"2020-08-31T00:00:00\", \"2020-09-01T00:00:00\", \"2020-09-02T00:00:00\", \"2020-09-03T00:00:00\", \"2020-09-04T00:00:00\", \"2020-09-05T00:00:00\", \"2020-09-06T00:00:00\", \"2020-09-08T00:00:00\", \"2020-09-09T00:00:00\", \"2020-09-10T00:00:00\", \"2020-09-11T00:00:00\", \"2020-09-12T00:00:00\", \"2020-09-13T00:00:00\", \"2020-09-14T00:00:00\", \"2020-09-15T00:00:00\", \"2020-09-16T00:00:00\", \"2020-09-18T00:00:00\"], \"y\": [null, null, null, null, null, null, 1.3, 1.3, 1.3, 1.1, 1.0, 1.0, 1.1, 1.4, 1.4, 1.9, 1.9, 1.9, 2.0, 2.0, 1.7, 1.7, 1.7, 1.7, 2.1, 2.0, 2.0, 2.0, 2.7, 2.6, 2.9, 2.6, 3.3, 3.3, 3.7, 3.3, 3.7, 3.9, 4.3, 3.9, 4.3, 4.9, 5.4, 5.7, 5.7, 5.4, 5.6, 5.0, 5.0, 5.3, 5.1, 5.4, 5.9, 6.0, 7.6, 8.1, 8.3, 8.6, 8.4, 8.6, 9.9, 9.3, 9.6, 9.7, 10.3, 10.3, 10.0, 9.9, 10.4, 11.4, 11.3, 11.4, 12.4, 13.0, 12.6, 12.9, 11.7, 12.3, 12.6, 12.0, 11.4, 10.9, 10.1, 10.6, 11.4, 10.1, 9.4, 10.1, 11.4, 12.4, 12.4, 11.7, 12.7, 14.1, 14.0, 14.3, 14.7, 15.0, 14.6, 17.3, 15.9, 15.3, 16.3, 16.0, 17.0, 18.0, 15.6, 16.4, 16.7, 16.1, 15.9, 14.9, 13.6, 12.9, 12.4, 12.4, 11.9, 11.1, 9.7, 10.9, 11.1, 10.9, 10.6, 10.1, 10.1, 12.0, 10.6, 10.1, 10.4, 10.9, 11.3, 13.0, 10.9, 11.1, 10.4, 10.4, 9.6, 8.1, 5.9, 6.0, 5.1, 4.7, 4.0, 4.3, 3.9, 3.3, 2.4]}],\n",
              "                        {\"barmode\": \"relative\", \"legend\": {\"tracegroupgap\": 0}, \"template\": {\"data\": {\"bar\": [{\"error_x\": {\"color\": \"#2a3f5f\"}, \"error_y\": {\"color\": \"#2a3f5f\"}, \"marker\": {\"line\": {\"color\": \"#E5ECF6\", \"width\": 0.5}}, \"type\": \"bar\"}], \"barpolar\": [{\"marker\": {\"line\": {\"color\": \"#E5ECF6\", \"width\": 0.5}}, \"type\": \"barpolar\"}], \"carpet\": [{\"aaxis\": {\"endlinecolor\": \"#2a3f5f\", \"gridcolor\": \"white\", \"linecolor\": \"white\", \"minorgridcolor\": \"white\", \"startlinecolor\": \"#2a3f5f\"}, \"baxis\": {\"endlinecolor\": \"#2a3f5f\", \"gridcolor\": \"white\", \"linecolor\": \"white\", \"minorgridcolor\": \"white\", \"startlinecolor\": \"#2a3f5f\"}, \"type\": \"carpet\"}], \"choropleth\": [{\"colorbar\": {\"outlinewidth\": 0, \"ticks\": \"\"}, \"type\": \"choropleth\"}], \"contour\": [{\"colorbar\": {\"outlinewidth\": 0, \"ticks\": \"\"}, \"colorscale\": [[0.0, \"#0d0887\"], [0.1111111111111111, \"#46039f\"], [0.2222222222222222, \"#7201a8\"], [0.3333333333333333, \"#9c179e\"], [0.4444444444444444, \"#bd3786\"], [0.5555555555555556, \"#d8576b\"], [0.6666666666666666, \"#ed7953\"], [0.7777777777777778, \"#fb9f3a\"], [0.8888888888888888, \"#fdca26\"], [1.0, \"#f0f921\"]], \"type\": \"contour\"}], \"contourcarpet\": [{\"colorbar\": {\"outlinewidth\": 0, \"ticks\": \"\"}, \"type\": \"contourcarpet\"}], \"heatmap\": [{\"colorbar\": {\"outlinewidth\": 0, \"ticks\": \"\"}, \"colorscale\": [[0.0, \"#0d0887\"], [0.1111111111111111, \"#46039f\"], [0.2222222222222222, \"#7201a8\"], [0.3333333333333333, \"#9c179e\"], [0.4444444444444444, \"#bd3786\"], [0.5555555555555556, \"#d8576b\"], [0.6666666666666666, \"#ed7953\"], [0.7777777777777778, \"#fb9f3a\"], [0.8888888888888888, \"#fdca26\"], [1.0, \"#f0f921\"]], \"type\": \"heatmap\"}], \"heatmapgl\": [{\"colorbar\": {\"outlinewidth\": 0, \"ticks\": \"\"}, \"colorscale\": [[0.0, \"#0d0887\"], [0.1111111111111111, \"#46039f\"], [0.2222222222222222, \"#7201a8\"], [0.3333333333333333, \"#9c179e\"], [0.4444444444444444, \"#bd3786\"], [0.5555555555555556, \"#d8576b\"], [0.6666666666666666, \"#ed7953\"], [0.7777777777777778, \"#fb9f3a\"], [0.8888888888888888, \"#fdca26\"], [1.0, \"#f0f921\"]], \"type\": \"heatmapgl\"}], \"histogram\": [{\"marker\": {\"colorbar\": {\"outlinewidth\": 0, \"ticks\": \"\"}}, \"type\": \"histogram\"}], \"histogram2d\": [{\"colorbar\": {\"outlinewidth\": 0, \"ticks\": \"\"}, \"colorscale\": [[0.0, \"#0d0887\"], [0.1111111111111111, \"#46039f\"], [0.2222222222222222, \"#7201a8\"], [0.3333333333333333, \"#9c179e\"], [0.4444444444444444, \"#bd3786\"], [0.5555555555555556, \"#d8576b\"], [0.6666666666666666, \"#ed7953\"], [0.7777777777777778, \"#fb9f3a\"], [0.8888888888888888, \"#fdca26\"], [1.0, \"#f0f921\"]], \"type\": \"histogram2d\"}], \"histogram2dcontour\": [{\"colorbar\": {\"outlinewidth\": 0, \"ticks\": \"\"}, \"colorscale\": [[0.0, \"#0d0887\"], [0.1111111111111111, \"#46039f\"], [0.2222222222222222, \"#7201a8\"], [0.3333333333333333, \"#9c179e\"], [0.4444444444444444, \"#bd3786\"], [0.5555555555555556, \"#d8576b\"], [0.6666666666666666, \"#ed7953\"], [0.7777777777777778, \"#fb9f3a\"], [0.8888888888888888, \"#fdca26\"], [1.0, \"#f0f921\"]], \"type\": \"histogram2dcontour\"}], \"mesh3d\": [{\"colorbar\": {\"outlinewidth\": 0, \"ticks\": \"\"}, \"type\": \"mesh3d\"}], \"parcoords\": [{\"line\": {\"colorbar\": {\"outlinewidth\": 0, \"ticks\": \"\"}}, \"type\": \"parcoords\"}], \"pie\": [{\"automargin\": true, \"type\": \"pie\"}], \"scatter\": [{\"marker\": {\"colorbar\": {\"outlinewidth\": 0, \"ticks\": \"\"}}, \"type\": \"scatter\"}], \"scatter3d\": [{\"line\": {\"colorbar\": {\"outlinewidth\": 0, \"ticks\": \"\"}}, \"marker\": {\"colorbar\": {\"outlinewidth\": 0, \"ticks\": \"\"}}, \"type\": \"scatter3d\"}], \"scattercarpet\": [{\"marker\": {\"colorbar\": {\"outlinewidth\": 0, \"ticks\": \"\"}}, \"type\": \"scattercarpet\"}], \"scattergeo\": [{\"marker\": {\"colorbar\": {\"outlinewidth\": 0, \"ticks\": \"\"}}, \"type\": \"scattergeo\"}], \"scattergl\": [{\"marker\": {\"colorbar\": {\"outlinewidth\": 0, \"ticks\": \"\"}}, \"type\": \"scattergl\"}], \"scattermapbox\": [{\"marker\": {\"colorbar\": {\"outlinewidth\": 0, \"ticks\": \"\"}}, \"type\": \"scattermapbox\"}], \"scatterpolar\": [{\"marker\": {\"colorbar\": {\"outlinewidth\": 0, \"ticks\": \"\"}}, \"type\": \"scatterpolar\"}], \"scatterpolargl\": [{\"marker\": {\"colorbar\": {\"outlinewidth\": 0, \"ticks\": \"\"}}, \"type\": \"scatterpolargl\"}], \"scatterternary\": [{\"marker\": {\"colorbar\": {\"outlinewidth\": 0, \"ticks\": \"\"}}, \"type\": \"scatterternary\"}], \"surface\": [{\"colorbar\": {\"outlinewidth\": 0, \"ticks\": \"\"}, \"colorscale\": [[0.0, \"#0d0887\"], [0.1111111111111111, \"#46039f\"], [0.2222222222222222, \"#7201a8\"], [0.3333333333333333, \"#9c179e\"], [0.4444444444444444, \"#bd3786\"], [0.5555555555555556, \"#d8576b\"], [0.6666666666666666, \"#ed7953\"], [0.7777777777777778, \"#fb9f3a\"], [0.8888888888888888, \"#fdca26\"], [1.0, \"#f0f921\"]], \"type\": \"surface\"}], \"table\": [{\"cells\": {\"fill\": {\"color\": \"#EBF0F8\"}, \"line\": {\"color\": \"white\"}}, \"header\": {\"fill\": {\"color\": \"#C8D4E3\"}, \"line\": {\"color\": \"white\"}}, \"type\": \"table\"}]}, \"layout\": {\"annotationdefaults\": {\"arrowcolor\": \"#2a3f5f\", \"arrowhead\": 0, \"arrowwidth\": 1}, \"coloraxis\": {\"colorbar\": {\"outlinewidth\": 0, \"ticks\": \"\"}}, \"colorscale\": {\"diverging\": [[0, \"#8e0152\"], [0.1, \"#c51b7d\"], [0.2, \"#de77ae\"], [0.3, \"#f1b6da\"], [0.4, \"#fde0ef\"], [0.5, \"#f7f7f7\"], [0.6, \"#e6f5d0\"], [0.7, \"#b8e186\"], [0.8, \"#7fbc41\"], [0.9, \"#4d9221\"], [1, \"#276419\"]], \"sequential\": [[0.0, \"#0d0887\"], [0.1111111111111111, \"#46039f\"], [0.2222222222222222, \"#7201a8\"], [0.3333333333333333, \"#9c179e\"], [0.4444444444444444, \"#bd3786\"], [0.5555555555555556, \"#d8576b\"], [0.6666666666666666, \"#ed7953\"], [0.7777777777777778, \"#fb9f3a\"], [0.8888888888888888, \"#fdca26\"], [1.0, \"#f0f921\"]], \"sequentialminus\": [[0.0, \"#0d0887\"], [0.1111111111111111, \"#46039f\"], [0.2222222222222222, \"#7201a8\"], [0.3333333333333333, \"#9c179e\"], [0.4444444444444444, \"#bd3786\"], [0.5555555555555556, \"#d8576b\"], [0.6666666666666666, \"#ed7953\"], [0.7777777777777778, \"#fb9f3a\"], [0.8888888888888888, \"#fdca26\"], [1.0, \"#f0f921\"]]}, \"colorway\": [\"#636efa\", \"#EF553B\", \"#00cc96\", \"#ab63fa\", \"#FFA15A\", \"#19d3f3\", \"#FF6692\", \"#B6E880\", \"#FF97FF\", \"#FECB52\"], \"font\": {\"color\": \"#2a3f5f\"}, \"geo\": {\"bgcolor\": \"white\", \"lakecolor\": \"white\", \"landcolor\": \"#E5ECF6\", \"showlakes\": true, \"showland\": true, \"subunitcolor\": \"white\"}, \"hoverlabel\": {\"align\": \"left\"}, \"hovermode\": \"closest\", \"mapbox\": {\"style\": \"light\"}, \"paper_bgcolor\": \"white\", \"plot_bgcolor\": \"#E5ECF6\", \"polar\": {\"angularaxis\": {\"gridcolor\": \"white\", \"linecolor\": \"white\", \"ticks\": \"\"}, \"bgcolor\": \"#E5ECF6\", \"radialaxis\": {\"gridcolor\": \"white\", \"linecolor\": \"white\", \"ticks\": \"\"}}, \"scene\": {\"xaxis\": {\"backgroundcolor\": \"#E5ECF6\", \"gridcolor\": \"white\", \"gridwidth\": 2, \"linecolor\": \"white\", \"showbackground\": true, \"ticks\": \"\", \"zerolinecolor\": \"white\"}, \"yaxis\": {\"backgroundcolor\": \"#E5ECF6\", \"gridcolor\": \"white\", \"gridwidth\": 2, \"linecolor\": \"white\", \"showbackground\": true, \"ticks\": \"\", \"zerolinecolor\": \"white\"}, \"zaxis\": {\"backgroundcolor\": \"#E5ECF6\", \"gridcolor\": \"white\", \"gridwidth\": 2, \"linecolor\": \"white\", \"showbackground\": true, \"ticks\": \"\", \"zerolinecolor\": \"white\"}}, \"shapedefaults\": {\"line\": {\"color\": \"#2a3f5f\"}}, \"ternary\": {\"aaxis\": {\"gridcolor\": \"white\", \"linecolor\": \"white\", \"ticks\": \"\"}, \"baxis\": {\"gridcolor\": \"white\", \"linecolor\": \"white\", \"ticks\": \"\"}, \"bgcolor\": \"#E5ECF6\", \"caxis\": {\"gridcolor\": \"white\", \"linecolor\": \"white\", \"ticks\": \"\"}}, \"title\": {\"x\": 0.05}, \"xaxis\": {\"automargin\": true, \"gridcolor\": \"white\", \"linecolor\": \"white\", \"ticks\": \"\", \"title\": {\"standoff\": 15}, \"zerolinecolor\": \"white\", \"zerolinewidth\": 2}, \"yaxis\": {\"automargin\": true, \"gridcolor\": \"white\", \"linecolor\": \"white\", \"ticks\": \"\", \"title\": {\"standoff\": 15}, \"zerolinecolor\": \"white\", \"zerolinewidth\": 2}}}, \"title\": {\"text\": \"\\u00d3bitos por dia por data de notifica\\u00e7\\u00e3o\"}, \"xaxis\": {\"anchor\": \"y\", \"domain\": [0.0, 1.0], \"title\": {\"text\": \"Data de notifica\\u00e7\\u00e3o\"}}, \"yaxis\": {\"anchor\": \"x\", \"domain\": [0.0, 1.0], \"title\": {\"text\": \"N\\u00b0 de \\u00f3bitos\"}}},\n",
              "                        {\"responsive\": true}\n",
              "                    ).then(function(){\n",
              "                            \n",
              "var gd = document.getElementById('4690db55-800b-4291-8cbc-8601cd605a8a');\n",
              "var x = new MutationObserver(function (mutations, observer) {{\n",
              "        var display = window.getComputedStyle(gd).display;\n",
              "        if (!display || display === 'none') {{\n",
              "            console.log([gd, 'removed!']);\n",
              "            Plotly.purge(gd);\n",
              "            observer.disconnect();\n",
              "        }}\n",
              "}});\n",
              "\n",
              "// Listen for the removal of the full notebook cells\n",
              "var notebookContainer = gd.closest('#notebook-container');\n",
              "if (notebookContainer) {{\n",
              "    x.observe(notebookContainer, {childList: true});\n",
              "}}\n",
              "\n",
              "// Listen for the clearing of the current output cell\n",
              "var outputEl = gd.closest('.output');\n",
              "if (outputEl) {{\n",
              "    x.observe(outputEl, {childList: true});\n",
              "}}\n",
              "\n",
              "                        })\n",
              "                };\n",
              "                \n",
              "            </script>\n",
              "        </div>\n",
              "</body>\n",
              "</html>"
            ]
          },
          "metadata": {
            "tags": []
          }
        }
      ]
    },
    {
      "cell_type": "code",
      "metadata": {
        "colab_type": "code",
        "id": "Hf3GJVDrv55E",
        "colab": {
          "base_uri": "https://localhost:8080/",
          "height": 0
        },
        "outputId": "2778ca20-b45c-4b73-9747-e5b424a3991f"
      },
      "source": [
        "from google.colab import files\n",
        "files.download('obitos_por_dia.svg')\n",
        "files.download('obitos_por_dia.png')"
      ],
      "execution_count": 132,
      "outputs": [
        {
          "output_type": "display_data",
          "data": {
            "application/javascript": [
              "\n",
              "    async function download(id, filename, size) {\n",
              "      if (!google.colab.kernel.accessAllowed) {\n",
              "        return;\n",
              "      }\n",
              "      const div = document.createElement('div');\n",
              "      const label = document.createElement('label');\n",
              "      label.textContent = `Downloading \"${filename}\": `;\n",
              "      div.appendChild(label);\n",
              "      const progress = document.createElement('progress');\n",
              "      progress.max = size;\n",
              "      div.appendChild(progress);\n",
              "      document.body.appendChild(div);\n",
              "\n",
              "      const buffers = [];\n",
              "      let downloaded = 0;\n",
              "\n",
              "      const channel = await google.colab.kernel.comms.open(id);\n",
              "      // Send a message to notify the kernel that we're ready.\n",
              "      channel.send({})\n",
              "\n",
              "      for await (const message of channel.messages) {\n",
              "        // Send a message to notify the kernel that we're ready.\n",
              "        channel.send({})\n",
              "        if (message.buffers) {\n",
              "          for (const buffer of message.buffers) {\n",
              "            buffers.push(buffer);\n",
              "            downloaded += buffer.byteLength;\n",
              "            progress.value = downloaded;\n",
              "          }\n",
              "        }\n",
              "      }\n",
              "      const blob = new Blob(buffers, {type: 'application/binary'});\n",
              "      const a = document.createElement('a');\n",
              "      a.href = window.URL.createObjectURL(blob);\n",
              "      a.download = filename;\n",
              "      div.appendChild(a);\n",
              "      a.click();\n",
              "      div.remove();\n",
              "    }\n",
              "  "
            ],
            "text/plain": [
              "<IPython.core.display.Javascript object>"
            ]
          },
          "metadata": {
            "tags": []
          }
        },
        {
          "output_type": "display_data",
          "data": {
            "application/javascript": [
              "download(\"download_95d7bcae-1974-44b0-99d0-9dcb85fb2651\", \"obitos_por_dia.svg\", 43702)"
            ],
            "text/plain": [
              "<IPython.core.display.Javascript object>"
            ]
          },
          "metadata": {
            "tags": []
          }
        },
        {
          "output_type": "display_data",
          "data": {
            "application/javascript": [
              "\n",
              "    async function download(id, filename, size) {\n",
              "      if (!google.colab.kernel.accessAllowed) {\n",
              "        return;\n",
              "      }\n",
              "      const div = document.createElement('div');\n",
              "      const label = document.createElement('label');\n",
              "      label.textContent = `Downloading \"${filename}\": `;\n",
              "      div.appendChild(label);\n",
              "      const progress = document.createElement('progress');\n",
              "      progress.max = size;\n",
              "      div.appendChild(progress);\n",
              "      document.body.appendChild(div);\n",
              "\n",
              "      const buffers = [];\n",
              "      let downloaded = 0;\n",
              "\n",
              "      const channel = await google.colab.kernel.comms.open(id);\n",
              "      // Send a message to notify the kernel that we're ready.\n",
              "      channel.send({})\n",
              "\n",
              "      for await (const message of channel.messages) {\n",
              "        // Send a message to notify the kernel that we're ready.\n",
              "        channel.send({})\n",
              "        if (message.buffers) {\n",
              "          for (const buffer of message.buffers) {\n",
              "            buffers.push(buffer);\n",
              "            downloaded += buffer.byteLength;\n",
              "            progress.value = downloaded;\n",
              "          }\n",
              "        }\n",
              "      }\n",
              "      const blob = new Blob(buffers, {type: 'application/binary'});\n",
              "      const a = document.createElement('a');\n",
              "      a.href = window.URL.createObjectURL(blob);\n",
              "      a.download = filename;\n",
              "      div.appendChild(a);\n",
              "      a.click();\n",
              "      div.remove();\n",
              "    }\n",
              "  "
            ],
            "text/plain": [
              "<IPython.core.display.Javascript object>"
            ]
          },
          "metadata": {
            "tags": []
          }
        },
        {
          "output_type": "display_data",
          "data": {
            "application/javascript": [
              "download(\"download_c4dd18ba-afef-4b23-973a-4cf6e49957f2\", \"obitos_por_dia.png\", 51870)"
            ],
            "text/plain": [
              "<IPython.core.display.Javascript object>"
            ]
          },
          "metadata": {
            "tags": []
          }
        }
      ]
    },
    {
      "cell_type": "markdown",
      "metadata": {
        "id": "E1pQtwQFBWUg",
        "colab_type": "text"
      },
      "source": [
        "## Casos ativos\n",
        "\n",
        "*   Gráfico de barras com média móvel\n",
        "\n",
        "\n",
        "\n",
        "\n",
        "```\n",
        "dataframe = classificacdos como \"nao recuperado\" - obtos_por_dia\n",
        "gera: casos_ativos_goiania.csv\n",
        "```\n",
        "\n"
      ]
    },
    {
      "cell_type": "code",
      "metadata": {
        "id": "dH9QM7O-8u7B",
        "colab_type": "code",
        "colab": {
          "base_uri": "https://localhost:8080/",
          "height": 439
        },
        "outputId": "5d92613b-c92c-4b9a-f157-f9a2f556bfda"
      },
      "source": [
        "nao_recuperados = casos_goiania_cidade\n",
        "nao_recuperados_remove = nao_recuperados.loc[((nao_recuperados['recuperado'] != 'NAO') | (nao_recuperados['municipio'] != 'GOIANIA'))]\n",
        "# df_remove = df.loc[(df['recuperado'] != 'NAO')]\n",
        "\n",
        "nao_recuperados = nao_recuperados.drop(nao_recuperados_remove.index)\n",
        "nao_recuperados.reset_index(level=0, inplace=True)\n",
        "nao_recuperados = nao_recuperados.drop(columns=['index'])\n",
        "nao_recuperados"
      ],
      "execution_count": 86,
      "outputs": [
        {
          "output_type": "execute_result",
          "data": {
            "text/html": [
              "<div>\n",
              "<style scoped>\n",
              "    .dataframe tbody tr th:only-of-type {\n",
              "        vertical-align: middle;\n",
              "    }\n",
              "\n",
              "    .dataframe tbody tr th {\n",
              "        vertical-align: top;\n",
              "    }\n",
              "\n",
              "    .dataframe thead th {\n",
              "        text-align: right;\n",
              "    }\n",
              "</style>\n",
              "<table border=\"1\" class=\"dataframe\">\n",
              "  <thead>\n",
              "    <tr style=\"text-align: right;\">\n",
              "      <th></th>\n",
              "      <th>data_notificacao</th>\n",
              "      <th>data_inicio_sintomas</th>\n",
              "      <th>ano_epi</th>\n",
              "      <th>semana_epi</th>\n",
              "      <th>sexo</th>\n",
              "      <th>raca_cor</th>\n",
              "      <th>faixa_etaria</th>\n",
              "      <th>diabetes</th>\n",
              "      <th>doenca_cardiovascular</th>\n",
              "      <th>doenca_respiratoria</th>\n",
              "      <th>imunossupressao</th>\n",
              "      <th>codigo_ibge</th>\n",
              "      <th>municipio</th>\n",
              "      <th>regiao_saude</th>\n",
              "      <th>recuperado</th>\n",
              "    </tr>\n",
              "  </thead>\n",
              "  <tbody>\n",
              "    <tr>\n",
              "      <th>0</th>\n",
              "      <td>20200805</td>\n",
              "      <td>20200728</td>\n",
              "      <td>2020</td>\n",
              "      <td>31</td>\n",
              "      <td>FEMININO</td>\n",
              "      <td>IGNORADO</td>\n",
              "      <td>&gt;= 80 anos</td>\n",
              "      <td>NAO</td>\n",
              "      <td>NAO</td>\n",
              "      <td>SIM</td>\n",
              "      <td>NAO</td>\n",
              "      <td>520870</td>\n",
              "      <td>GOIANIA</td>\n",
              "      <td>CENTRAL</td>\n",
              "      <td>NAO</td>\n",
              "    </tr>\n",
              "    <tr>\n",
              "      <th>1</th>\n",
              "      <td>20200804</td>\n",
              "      <td>20200729</td>\n",
              "      <td>2020</td>\n",
              "      <td>31</td>\n",
              "      <td>FEMININO</td>\n",
              "      <td>IGNORADO</td>\n",
              "      <td>&gt;= 80 anos</td>\n",
              "      <td>IGNORADO</td>\n",
              "      <td>IGNORADO</td>\n",
              "      <td>IGNORADO</td>\n",
              "      <td>IGNORADO</td>\n",
              "      <td>520870</td>\n",
              "      <td>GOIANIA</td>\n",
              "      <td>CENTRAL</td>\n",
              "      <td>NAO</td>\n",
              "    </tr>\n",
              "    <tr>\n",
              "      <th>2</th>\n",
              "      <td>20200811</td>\n",
              "      <td>20200806</td>\n",
              "      <td>2020</td>\n",
              "      <td>32</td>\n",
              "      <td>FEMININO</td>\n",
              "      <td>PARDA</td>\n",
              "      <td>&gt;= 80 anos</td>\n",
              "      <td>NAO</td>\n",
              "      <td>SIM</td>\n",
              "      <td>NAO</td>\n",
              "      <td>NAO</td>\n",
              "      <td>520870</td>\n",
              "      <td>GOIANIA</td>\n",
              "      <td>CENTRAL</td>\n",
              "      <td>NAO</td>\n",
              "    </tr>\n",
              "    <tr>\n",
              "      <th>3</th>\n",
              "      <td>20200731</td>\n",
              "      <td>20200728</td>\n",
              "      <td>2020</td>\n",
              "      <td>31</td>\n",
              "      <td>MASCULINO</td>\n",
              "      <td>PARDA</td>\n",
              "      <td>&gt;= 80 anos</td>\n",
              "      <td>IGNORADO</td>\n",
              "      <td>IGNORADO</td>\n",
              "      <td>IGNORADO</td>\n",
              "      <td>IGNORADO</td>\n",
              "      <td>520870</td>\n",
              "      <td>GOIANIA</td>\n",
              "      <td>CENTRAL</td>\n",
              "      <td>NAO</td>\n",
              "    </tr>\n",
              "    <tr>\n",
              "      <th>4</th>\n",
              "      <td>20200704</td>\n",
              "      <td>20200628</td>\n",
              "      <td>2020</td>\n",
              "      <td>27</td>\n",
              "      <td>MASCULINO</td>\n",
              "      <td>AMARELA</td>\n",
              "      <td>70 a 79  anos</td>\n",
              "      <td>IGNORADO</td>\n",
              "      <td>IGNORADO</td>\n",
              "      <td>IGNORADO</td>\n",
              "      <td>IGNORADO</td>\n",
              "      <td>520870</td>\n",
              "      <td>GOIANIA</td>\n",
              "      <td>CENTRAL</td>\n",
              "      <td>NAO</td>\n",
              "    </tr>\n",
              "    <tr>\n",
              "      <th>...</th>\n",
              "      <td>...</td>\n",
              "      <td>...</td>\n",
              "      <td>...</td>\n",
              "      <td>...</td>\n",
              "      <td>...</td>\n",
              "      <td>...</td>\n",
              "      <td>...</td>\n",
              "      <td>...</td>\n",
              "      <td>...</td>\n",
              "      <td>...</td>\n",
              "      <td>...</td>\n",
              "      <td>...</td>\n",
              "      <td>...</td>\n",
              "      <td>...</td>\n",
              "      <td>...</td>\n",
              "    </tr>\n",
              "    <tr>\n",
              "      <th>2797</th>\n",
              "      <td>20200829</td>\n",
              "      <td>20200825</td>\n",
              "      <td>2020</td>\n",
              "      <td>35</td>\n",
              "      <td>FEMININO</td>\n",
              "      <td>IGNORADO</td>\n",
              "      <td>&gt;= 80 anos</td>\n",
              "      <td>IGNORADO</td>\n",
              "      <td>IGNORADO</td>\n",
              "      <td>IGNORADO</td>\n",
              "      <td>IGNORADO</td>\n",
              "      <td>520870</td>\n",
              "      <td>GOIANIA</td>\n",
              "      <td>CENTRAL</td>\n",
              "      <td>NAO</td>\n",
              "    </tr>\n",
              "    <tr>\n",
              "      <th>2798</th>\n",
              "      <td>20200917</td>\n",
              "      <td>20200911</td>\n",
              "      <td>2020</td>\n",
              "      <td>37</td>\n",
              "      <td>FEMININO</td>\n",
              "      <td>IGNORADO</td>\n",
              "      <td>60 a 69 anos</td>\n",
              "      <td>NAO</td>\n",
              "      <td>NAO</td>\n",
              "      <td>NAO</td>\n",
              "      <td>NAO</td>\n",
              "      <td>520870</td>\n",
              "      <td>GOIANIA</td>\n",
              "      <td>CENTRAL</td>\n",
              "      <td>NAO</td>\n",
              "    </tr>\n",
              "    <tr>\n",
              "      <th>2799</th>\n",
              "      <td>20200909</td>\n",
              "      <td>20200907</td>\n",
              "      <td>2020</td>\n",
              "      <td>37</td>\n",
              "      <td>MASCULINO</td>\n",
              "      <td>BRANCA</td>\n",
              "      <td>20 a 29 anos</td>\n",
              "      <td>NAO</td>\n",
              "      <td>NAO</td>\n",
              "      <td>NAO</td>\n",
              "      <td>NAO</td>\n",
              "      <td>520870</td>\n",
              "      <td>GOIANIA</td>\n",
              "      <td>CENTRAL</td>\n",
              "      <td>NAO</td>\n",
              "    </tr>\n",
              "    <tr>\n",
              "      <th>2800</th>\n",
              "      <td>20200911</td>\n",
              "      <td>20200906</td>\n",
              "      <td>2020</td>\n",
              "      <td>37</td>\n",
              "      <td>MASCULINO</td>\n",
              "      <td>AMARELA</td>\n",
              "      <td>20 a 29 anos</td>\n",
              "      <td>NAO</td>\n",
              "      <td>NAO</td>\n",
              "      <td>NAO</td>\n",
              "      <td>NAO</td>\n",
              "      <td>520870</td>\n",
              "      <td>GOIANIA</td>\n",
              "      <td>CENTRAL</td>\n",
              "      <td>NAO</td>\n",
              "    </tr>\n",
              "    <tr>\n",
              "      <th>2801</th>\n",
              "      <td>20200909</td>\n",
              "      <td>20200907</td>\n",
              "      <td>2020</td>\n",
              "      <td>37</td>\n",
              "      <td>MASCULINO</td>\n",
              "      <td>IGNORADO</td>\n",
              "      <td>&lt; 10 anos</td>\n",
              "      <td>NAO</td>\n",
              "      <td>NAO</td>\n",
              "      <td>NAO</td>\n",
              "      <td>NAO</td>\n",
              "      <td>520870</td>\n",
              "      <td>GOIANIA</td>\n",
              "      <td>CENTRAL</td>\n",
              "      <td>NAO</td>\n",
              "    </tr>\n",
              "  </tbody>\n",
              "</table>\n",
              "<p>2802 rows × 15 columns</p>\n",
              "</div>"
            ],
            "text/plain": [
              "      data_notificacao  data_inicio_sintomas  ...  regiao_saude  recuperado\n",
              "0             20200805              20200728  ...       CENTRAL         NAO\n",
              "1             20200804              20200729  ...       CENTRAL         NAO\n",
              "2             20200811              20200806  ...       CENTRAL         NAO\n",
              "3             20200731              20200728  ...       CENTRAL         NAO\n",
              "4             20200704              20200628  ...       CENTRAL         NAO\n",
              "...                ...                   ...  ...           ...         ...\n",
              "2797          20200829              20200825  ...       CENTRAL         NAO\n",
              "2798          20200917              20200911  ...       CENTRAL         NAO\n",
              "2799          20200909              20200907  ...       CENTRAL         NAO\n",
              "2800          20200911              20200906  ...       CENTRAL         NAO\n",
              "2801          20200909              20200907  ...       CENTRAL         NAO\n",
              "\n",
              "[2802 rows x 15 columns]"
            ]
          },
          "metadata": {
            "tags": []
          },
          "execution_count": 86
        }
      ]
    },
    {
      "cell_type": "code",
      "metadata": {
        "colab_type": "code",
        "id": "tFsZFsuDU5L5",
        "colab": {
          "base_uri": "https://localhost:8080/",
          "height": 419
        },
        "outputId": "a5e485dd-212e-458f-ee0c-992c2208b169"
      },
      "source": [
        "nao_recuperados = nao_recuperados['data_notificacao'].value_counts() \n",
        "nao_recuperados = nao_recuperados.to_frame(name='num_casos')\n",
        "nao_recuperados.reset_index(level=0, inplace=True)\n",
        "nao_recuperados.rename(columns={'index': 'data_notificacao'}, inplace = True)\n",
        "nao_recuperados"
      ],
      "execution_count": 87,
      "outputs": [
        {
          "output_type": "execute_result",
          "data": {
            "text/html": [
              "<div>\n",
              "<style scoped>\n",
              "    .dataframe tbody tr th:only-of-type {\n",
              "        vertical-align: middle;\n",
              "    }\n",
              "\n",
              "    .dataframe tbody tr th {\n",
              "        vertical-align: top;\n",
              "    }\n",
              "\n",
              "    .dataframe thead th {\n",
              "        text-align: right;\n",
              "    }\n",
              "</style>\n",
              "<table border=\"1\" class=\"dataframe\">\n",
              "  <thead>\n",
              "    <tr style=\"text-align: right;\">\n",
              "      <th></th>\n",
              "      <th>data_notificacao</th>\n",
              "      <th>num_casos</th>\n",
              "    </tr>\n",
              "  </thead>\n",
              "  <tbody>\n",
              "    <tr>\n",
              "      <th>0</th>\n",
              "      <td>20200915</td>\n",
              "      <td>242</td>\n",
              "    </tr>\n",
              "    <tr>\n",
              "      <th>1</th>\n",
              "      <td>20200914</td>\n",
              "      <td>190</td>\n",
              "    </tr>\n",
              "    <tr>\n",
              "      <th>2</th>\n",
              "      <td>20200916</td>\n",
              "      <td>122</td>\n",
              "    </tr>\n",
              "    <tr>\n",
              "      <th>3</th>\n",
              "      <td>20200918</td>\n",
              "      <td>112</td>\n",
              "    </tr>\n",
              "    <tr>\n",
              "      <th>4</th>\n",
              "      <td>20200911</td>\n",
              "      <td>108</td>\n",
              "    </tr>\n",
              "    <tr>\n",
              "      <th>...</th>\n",
              "      <td>...</td>\n",
              "      <td>...</td>\n",
              "    </tr>\n",
              "    <tr>\n",
              "      <th>146</th>\n",
              "      <td>20200420</td>\n",
              "      <td>1</td>\n",
              "    </tr>\n",
              "    <tr>\n",
              "      <th>147</th>\n",
              "      <td>20200416</td>\n",
              "      <td>1</td>\n",
              "    </tr>\n",
              "    <tr>\n",
              "      <th>148</th>\n",
              "      <td>20200414</td>\n",
              "      <td>1</td>\n",
              "    </tr>\n",
              "    <tr>\n",
              "      <th>149</th>\n",
              "      <td>20200410</td>\n",
              "      <td>1</td>\n",
              "    </tr>\n",
              "    <tr>\n",
              "      <th>150</th>\n",
              "      <td>20200401</td>\n",
              "      <td>1</td>\n",
              "    </tr>\n",
              "  </tbody>\n",
              "</table>\n",
              "<p>151 rows × 2 columns</p>\n",
              "</div>"
            ],
            "text/plain": [
              "     data_notificacao  num_casos\n",
              "0            20200915        242\n",
              "1            20200914        190\n",
              "2            20200916        122\n",
              "3            20200918        112\n",
              "4            20200911        108\n",
              "..                ...        ...\n",
              "146          20200420          1\n",
              "147          20200416          1\n",
              "148          20200414          1\n",
              "149          20200410          1\n",
              "150          20200401          1\n",
              "\n",
              "[151 rows x 2 columns]"
            ]
          },
          "metadata": {
            "tags": []
          },
          "execution_count": 87
        }
      ]
    },
    {
      "cell_type": "code",
      "metadata": {
        "colab_type": "code",
        "id": "VqV3Zf-DU5MB",
        "colab": {
          "base_uri": "https://localhost:8080/",
          "height": 419
        },
        "outputId": "11fdfa01-33b0-42d2-e778-8aa534218256"
      },
      "source": [
        "nao_recuperados['data_notificacao'] = nao_recuperados['data_notificacao'].apply(lambda x: datetime.strptime(str(x), '%Y%m%d').date())\n",
        "\n",
        "nao_recuperados\n"
      ],
      "execution_count": 88,
      "outputs": [
        {
          "output_type": "execute_result",
          "data": {
            "text/html": [
              "<div>\n",
              "<style scoped>\n",
              "    .dataframe tbody tr th:only-of-type {\n",
              "        vertical-align: middle;\n",
              "    }\n",
              "\n",
              "    .dataframe tbody tr th {\n",
              "        vertical-align: top;\n",
              "    }\n",
              "\n",
              "    .dataframe thead th {\n",
              "        text-align: right;\n",
              "    }\n",
              "</style>\n",
              "<table border=\"1\" class=\"dataframe\">\n",
              "  <thead>\n",
              "    <tr style=\"text-align: right;\">\n",
              "      <th></th>\n",
              "      <th>data_notificacao</th>\n",
              "      <th>num_casos</th>\n",
              "    </tr>\n",
              "  </thead>\n",
              "  <tbody>\n",
              "    <tr>\n",
              "      <th>0</th>\n",
              "      <td>2020-09-15</td>\n",
              "      <td>242</td>\n",
              "    </tr>\n",
              "    <tr>\n",
              "      <th>1</th>\n",
              "      <td>2020-09-14</td>\n",
              "      <td>190</td>\n",
              "    </tr>\n",
              "    <tr>\n",
              "      <th>2</th>\n",
              "      <td>2020-09-16</td>\n",
              "      <td>122</td>\n",
              "    </tr>\n",
              "    <tr>\n",
              "      <th>3</th>\n",
              "      <td>2020-09-18</td>\n",
              "      <td>112</td>\n",
              "    </tr>\n",
              "    <tr>\n",
              "      <th>4</th>\n",
              "      <td>2020-09-11</td>\n",
              "      <td>108</td>\n",
              "    </tr>\n",
              "    <tr>\n",
              "      <th>...</th>\n",
              "      <td>...</td>\n",
              "      <td>...</td>\n",
              "    </tr>\n",
              "    <tr>\n",
              "      <th>146</th>\n",
              "      <td>2020-04-20</td>\n",
              "      <td>1</td>\n",
              "    </tr>\n",
              "    <tr>\n",
              "      <th>147</th>\n",
              "      <td>2020-04-16</td>\n",
              "      <td>1</td>\n",
              "    </tr>\n",
              "    <tr>\n",
              "      <th>148</th>\n",
              "      <td>2020-04-14</td>\n",
              "      <td>1</td>\n",
              "    </tr>\n",
              "    <tr>\n",
              "      <th>149</th>\n",
              "      <td>2020-04-10</td>\n",
              "      <td>1</td>\n",
              "    </tr>\n",
              "    <tr>\n",
              "      <th>150</th>\n",
              "      <td>2020-04-01</td>\n",
              "      <td>1</td>\n",
              "    </tr>\n",
              "  </tbody>\n",
              "</table>\n",
              "<p>151 rows × 2 columns</p>\n",
              "</div>"
            ],
            "text/plain": [
              "    data_notificacao  num_casos\n",
              "0         2020-09-15        242\n",
              "1         2020-09-14        190\n",
              "2         2020-09-16        122\n",
              "3         2020-09-18        112\n",
              "4         2020-09-11        108\n",
              "..               ...        ...\n",
              "146       2020-04-20          1\n",
              "147       2020-04-16          1\n",
              "148       2020-04-14          1\n",
              "149       2020-04-10          1\n",
              "150       2020-04-01          1\n",
              "\n",
              "[151 rows x 2 columns]"
            ]
          },
          "metadata": {
            "tags": []
          },
          "execution_count": 88
        }
      ]
    },
    {
      "cell_type": "code",
      "metadata": {
        "id": "6W-acXaAD09T",
        "colab_type": "code",
        "colab": {
          "base_uri": "https://localhost:8080/",
          "height": 439
        },
        "outputId": "a5aedef8-854f-41ba-ed58-1d229a834010"
      },
      "source": [
        "obitos_por_dia = pd.read_csv('http://datasets.saude.go.gov.br/coronavirus/obitos_confirmados.csv', sep=';')\n",
        "obitos_por_dia_remove = obitos_por_dia.loc[((obitos_por_dia['municipio'] != 'GOIANIA'))]\n",
        "\n",
        "obitos_por_dia = obitos_por_dia.drop(obitos_por_dia_remove.index)\n",
        "obitos_por_dia.reset_index(level=0, inplace=True)\n",
        "obitos_por_dia = obitos_por_dia.drop(columns=['index'])\n",
        "\n",
        "obitos_por_dia"
      ],
      "execution_count": 73,
      "outputs": [
        {
          "output_type": "execute_result",
          "data": {
            "text/html": [
              "<div>\n",
              "<style scoped>\n",
              "    .dataframe tbody tr th:only-of-type {\n",
              "        vertical-align: middle;\n",
              "    }\n",
              "\n",
              "    .dataframe tbody tr th {\n",
              "        vertical-align: top;\n",
              "    }\n",
              "\n",
              "    .dataframe thead th {\n",
              "        text-align: right;\n",
              "    }\n",
              "</style>\n",
              "<table border=\"1\" class=\"dataframe\">\n",
              "  <thead>\n",
              "    <tr style=\"text-align: right;\">\n",
              "      <th></th>\n",
              "      <th>data_notificacao</th>\n",
              "      <th>data_inicio_sintomas</th>\n",
              "      <th>ano_epi</th>\n",
              "      <th>semana_epi</th>\n",
              "      <th>sexo</th>\n",
              "      <th>raca_cor</th>\n",
              "      <th>faixa_etaria</th>\n",
              "      <th>diabetes</th>\n",
              "      <th>doenca_cardiovascular</th>\n",
              "      <th>doenca_respiratoria</th>\n",
              "      <th>imunossupressao</th>\n",
              "      <th>codigo_ibge</th>\n",
              "      <th>municipio</th>\n",
              "      <th>regiao_saude</th>\n",
              "      <th>data_obito</th>\n",
              "    </tr>\n",
              "  </thead>\n",
              "  <tbody>\n",
              "    <tr>\n",
              "      <th>0</th>\n",
              "      <td>20200901</td>\n",
              "      <td>20200801</td>\n",
              "      <td>2020</td>\n",
              "      <td>31</td>\n",
              "      <td>FEMININO</td>\n",
              "      <td>IGNORADO</td>\n",
              "      <td>60 a 69 anos</td>\n",
              "      <td>IGNORADO</td>\n",
              "      <td>IGNORADO</td>\n",
              "      <td>IGNORADO</td>\n",
              "      <td>IGNORADO</td>\n",
              "      <td>520870</td>\n",
              "      <td>GOIANIA</td>\n",
              "      <td>CENTRAL</td>\n",
              "      <td>20200905</td>\n",
              "    </tr>\n",
              "    <tr>\n",
              "      <th>1</th>\n",
              "      <td>20200629</td>\n",
              "      <td>20200618</td>\n",
              "      <td>2020</td>\n",
              "      <td>25</td>\n",
              "      <td>FEMININO</td>\n",
              "      <td>BRANCA</td>\n",
              "      <td>&gt;= 80 anos</td>\n",
              "      <td>NAO</td>\n",
              "      <td>SIM</td>\n",
              "      <td>SIM</td>\n",
              "      <td>NAO</td>\n",
              "      <td>520870</td>\n",
              "      <td>GOIANIA</td>\n",
              "      <td>CENTRAL</td>\n",
              "      <td>20200702</td>\n",
              "    </tr>\n",
              "    <tr>\n",
              "      <th>2</th>\n",
              "      <td>20200806</td>\n",
              "      <td>20200802</td>\n",
              "      <td>2020</td>\n",
              "      <td>32</td>\n",
              "      <td>FEMININO</td>\n",
              "      <td>IGNORADO</td>\n",
              "      <td>60 a 69 anos</td>\n",
              "      <td>IGNORADO</td>\n",
              "      <td>IGNORADO</td>\n",
              "      <td>IGNORADO</td>\n",
              "      <td>IGNORADO</td>\n",
              "      <td>520870</td>\n",
              "      <td>GOIANIA</td>\n",
              "      <td>CENTRAL</td>\n",
              "      <td>20200809</td>\n",
              "    </tr>\n",
              "    <tr>\n",
              "      <th>3</th>\n",
              "      <td>20200715</td>\n",
              "      <td>20200627</td>\n",
              "      <td>2020</td>\n",
              "      <td>26</td>\n",
              "      <td>FEMININO</td>\n",
              "      <td>PARDA</td>\n",
              "      <td>50 a 59 anos</td>\n",
              "      <td>NAO</td>\n",
              "      <td>SIM</td>\n",
              "      <td>SIM</td>\n",
              "      <td>NAO</td>\n",
              "      <td>520870</td>\n",
              "      <td>GOIANIA</td>\n",
              "      <td>CENTRAL</td>\n",
              "      <td>20200709</td>\n",
              "    </tr>\n",
              "    <tr>\n",
              "      <th>4</th>\n",
              "      <td>20200803</td>\n",
              "      <td>20200731</td>\n",
              "      <td>2020</td>\n",
              "      <td>31</td>\n",
              "      <td>FEMININO</td>\n",
              "      <td>IGNORADO</td>\n",
              "      <td>60 a 69 anos</td>\n",
              "      <td>IGNORADO</td>\n",
              "      <td>IGNORADO</td>\n",
              "      <td>IGNORADO</td>\n",
              "      <td>IGNORADO</td>\n",
              "      <td>520870</td>\n",
              "      <td>GOIANIA</td>\n",
              "      <td>CENTRAL</td>\n",
              "      <td>20200813</td>\n",
              "    </tr>\n",
              "    <tr>\n",
              "      <th>...</th>\n",
              "      <td>...</td>\n",
              "      <td>...</td>\n",
              "      <td>...</td>\n",
              "      <td>...</td>\n",
              "      <td>...</td>\n",
              "      <td>...</td>\n",
              "      <td>...</td>\n",
              "      <td>...</td>\n",
              "      <td>...</td>\n",
              "      <td>...</td>\n",
              "      <td>...</td>\n",
              "      <td>...</td>\n",
              "      <td>...</td>\n",
              "      <td>...</td>\n",
              "      <td>...</td>\n",
              "    </tr>\n",
              "    <tr>\n",
              "      <th>1197</th>\n",
              "      <td>20200720</td>\n",
              "      <td>20200717</td>\n",
              "      <td>2020</td>\n",
              "      <td>29</td>\n",
              "      <td>FEMININO</td>\n",
              "      <td>BRANCA</td>\n",
              "      <td>60 a 69 anos</td>\n",
              "      <td>IGNORADO</td>\n",
              "      <td>IGNORADO</td>\n",
              "      <td>IGNORADO</td>\n",
              "      <td>IGNORADO</td>\n",
              "      <td>520870</td>\n",
              "      <td>GOIANIA</td>\n",
              "      <td>CENTRAL</td>\n",
              "      <td>20200726</td>\n",
              "    </tr>\n",
              "    <tr>\n",
              "      <th>1198</th>\n",
              "      <td>20200810</td>\n",
              "      <td>20200727</td>\n",
              "      <td>2020</td>\n",
              "      <td>31</td>\n",
              "      <td>MASCULINO</td>\n",
              "      <td>IGNORADO</td>\n",
              "      <td>50 a 59 anos</td>\n",
              "      <td>IGNORADO</td>\n",
              "      <td>IGNORADO</td>\n",
              "      <td>IGNORADO</td>\n",
              "      <td>IGNORADO</td>\n",
              "      <td>520870</td>\n",
              "      <td>GOIANIA</td>\n",
              "      <td>CENTRAL</td>\n",
              "      <td>20200825</td>\n",
              "    </tr>\n",
              "    <tr>\n",
              "      <th>1199</th>\n",
              "      <td>20200701</td>\n",
              "      <td>20200622</td>\n",
              "      <td>2020</td>\n",
              "      <td>26</td>\n",
              "      <td>MASCULINO</td>\n",
              "      <td>BRANCA</td>\n",
              "      <td>50 a 59 anos</td>\n",
              "      <td>NAO</td>\n",
              "      <td>NAO</td>\n",
              "      <td>NAO</td>\n",
              "      <td>NAO</td>\n",
              "      <td>520870</td>\n",
              "      <td>GOIANIA</td>\n",
              "      <td>CENTRAL</td>\n",
              "      <td>20200712</td>\n",
              "    </tr>\n",
              "    <tr>\n",
              "      <th>1200</th>\n",
              "      <td>20200618</td>\n",
              "      <td>20200613</td>\n",
              "      <td>2020</td>\n",
              "      <td>24</td>\n",
              "      <td>MASCULINO</td>\n",
              "      <td>IGNORADO</td>\n",
              "      <td>50 a 59 anos</td>\n",
              "      <td>IGNORADO</td>\n",
              "      <td>SIM</td>\n",
              "      <td>IGNORADO</td>\n",
              "      <td>IGNORADO</td>\n",
              "      <td>520870</td>\n",
              "      <td>GOIANIA</td>\n",
              "      <td>CENTRAL</td>\n",
              "      <td>20200626</td>\n",
              "    </tr>\n",
              "    <tr>\n",
              "      <th>1201</th>\n",
              "      <td>20200815</td>\n",
              "      <td>20200802</td>\n",
              "      <td>2020</td>\n",
              "      <td>32</td>\n",
              "      <td>FEMININO</td>\n",
              "      <td>BRANCA</td>\n",
              "      <td>&gt;= 80 anos</td>\n",
              "      <td>IGNORADO</td>\n",
              "      <td>IGNORADO</td>\n",
              "      <td>IGNORADO</td>\n",
              "      <td>IGNORADO</td>\n",
              "      <td>520870</td>\n",
              "      <td>GOIANIA</td>\n",
              "      <td>CENTRAL</td>\n",
              "      <td>20200825</td>\n",
              "    </tr>\n",
              "  </tbody>\n",
              "</table>\n",
              "<p>1202 rows × 15 columns</p>\n",
              "</div>"
            ],
            "text/plain": [
              "      data_notificacao  data_inicio_sintomas  ...  regiao_saude  data_obito\n",
              "0             20200901              20200801  ...       CENTRAL    20200905\n",
              "1             20200629              20200618  ...       CENTRAL    20200702\n",
              "2             20200806              20200802  ...       CENTRAL    20200809\n",
              "3             20200715              20200627  ...       CENTRAL    20200709\n",
              "4             20200803              20200731  ...       CENTRAL    20200813\n",
              "...                ...                   ...  ...           ...         ...\n",
              "1197          20200720              20200717  ...       CENTRAL    20200726\n",
              "1198          20200810              20200727  ...       CENTRAL    20200825\n",
              "1199          20200701              20200622  ...       CENTRAL    20200712\n",
              "1200          20200618              20200613  ...       CENTRAL    20200626\n",
              "1201          20200815              20200802  ...       CENTRAL    20200825\n",
              "\n",
              "[1202 rows x 15 columns]"
            ]
          },
          "metadata": {
            "tags": []
          },
          "execution_count": 73
        }
      ]
    },
    {
      "cell_type": "code",
      "metadata": {
        "colab_type": "code",
        "id": "5u-wz5WAUMmv",
        "colab": {
          "base_uri": "https://localhost:8080/",
          "height": 419
        },
        "outputId": "656fefa4-ded7-4670-bca5-0716436507f2"
      },
      "source": [
        "obitos_por_dia = obitos_por_dia['data_notificacao'].value_counts() \n",
        "obitos_por_dia = obitos_por_dia.to_frame(name='num_casos')\n",
        "obitos_por_dia.reset_index(level=0, inplace=True)\n",
        "obitos_por_dia.rename(columns={'index': 'data_notificacao'}, inplace = True)\n",
        "obitos_por_dia"
      ],
      "execution_count": 74,
      "outputs": [
        {
          "output_type": "execute_result",
          "data": {
            "text/html": [
              "<div>\n",
              "<style scoped>\n",
              "    .dataframe tbody tr th:only-of-type {\n",
              "        vertical-align: middle;\n",
              "    }\n",
              "\n",
              "    .dataframe tbody tr th {\n",
              "        vertical-align: top;\n",
              "    }\n",
              "\n",
              "    .dataframe thead th {\n",
              "        text-align: right;\n",
              "    }\n",
              "</style>\n",
              "<table border=\"1\" class=\"dataframe\">\n",
              "  <thead>\n",
              "    <tr style=\"text-align: right;\">\n",
              "      <th></th>\n",
              "      <th>data_notificacao</th>\n",
              "      <th>num_casos</th>\n",
              "    </tr>\n",
              "  </thead>\n",
              "  <tbody>\n",
              "    <tr>\n",
              "      <th>0</th>\n",
              "      <td>20200731</td>\n",
              "      <td>33</td>\n",
              "    </tr>\n",
              "    <tr>\n",
              "      <th>1</th>\n",
              "      <td>20200805</td>\n",
              "      <td>25</td>\n",
              "    </tr>\n",
              "    <tr>\n",
              "      <th>2</th>\n",
              "      <td>20200803</td>\n",
              "      <td>24</td>\n",
              "    </tr>\n",
              "    <tr>\n",
              "      <th>3</th>\n",
              "      <td>20200901</td>\n",
              "      <td>22</td>\n",
              "    </tr>\n",
              "    <tr>\n",
              "      <th>4</th>\n",
              "      <td>20200701</td>\n",
              "      <td>21</td>\n",
              "    </tr>\n",
              "    <tr>\n",
              "      <th>...</th>\n",
              "      <td>...</td>\n",
              "      <td>...</td>\n",
              "    </tr>\n",
              "    <tr>\n",
              "      <th>142</th>\n",
              "      <td>20200514</td>\n",
              "      <td>1</td>\n",
              "    </tr>\n",
              "    <tr>\n",
              "      <th>143</th>\n",
              "      <td>20200516</td>\n",
              "      <td>1</td>\n",
              "    </tr>\n",
              "    <tr>\n",
              "      <th>144</th>\n",
              "      <td>20200609</td>\n",
              "      <td>1</td>\n",
              "    </tr>\n",
              "    <tr>\n",
              "      <th>145</th>\n",
              "      <td>20200913</td>\n",
              "      <td>1</td>\n",
              "    </tr>\n",
              "    <tr>\n",
              "      <th>146</th>\n",
              "      <td>20200401</td>\n",
              "      <td>1</td>\n",
              "    </tr>\n",
              "  </tbody>\n",
              "</table>\n",
              "<p>147 rows × 2 columns</p>\n",
              "</div>"
            ],
            "text/plain": [
              "     data_notificacao  num_casos\n",
              "0            20200731         33\n",
              "1            20200805         25\n",
              "2            20200803         24\n",
              "3            20200901         22\n",
              "4            20200701         21\n",
              "..                ...        ...\n",
              "142          20200514          1\n",
              "143          20200516          1\n",
              "144          20200609          1\n",
              "145          20200913          1\n",
              "146          20200401          1\n",
              "\n",
              "[147 rows x 2 columns]"
            ]
          },
          "metadata": {
            "tags": []
          },
          "execution_count": 74
        }
      ]
    },
    {
      "cell_type": "code",
      "metadata": {
        "colab_type": "code",
        "id": "EShsPmhsUMmz",
        "colab": {
          "base_uri": "https://localhost:8080/",
          "height": 419
        },
        "outputId": "9a60f655-8232-4744-c8bf-753352b91901"
      },
      "source": [
        "obitos_por_dia['data_notificacao'] = obitos_por_dia['data_notificacao'].apply(lambda x: datetime.strptime(str(x), '%Y%m%d').date())\n",
        "\n",
        "obitos_por_dia\n"
      ],
      "execution_count": 75,
      "outputs": [
        {
          "output_type": "execute_result",
          "data": {
            "text/html": [
              "<div>\n",
              "<style scoped>\n",
              "    .dataframe tbody tr th:only-of-type {\n",
              "        vertical-align: middle;\n",
              "    }\n",
              "\n",
              "    .dataframe tbody tr th {\n",
              "        vertical-align: top;\n",
              "    }\n",
              "\n",
              "    .dataframe thead th {\n",
              "        text-align: right;\n",
              "    }\n",
              "</style>\n",
              "<table border=\"1\" class=\"dataframe\">\n",
              "  <thead>\n",
              "    <tr style=\"text-align: right;\">\n",
              "      <th></th>\n",
              "      <th>data_notificacao</th>\n",
              "      <th>num_casos</th>\n",
              "    </tr>\n",
              "  </thead>\n",
              "  <tbody>\n",
              "    <tr>\n",
              "      <th>0</th>\n",
              "      <td>2020-07-31</td>\n",
              "      <td>33</td>\n",
              "    </tr>\n",
              "    <tr>\n",
              "      <th>1</th>\n",
              "      <td>2020-08-05</td>\n",
              "      <td>25</td>\n",
              "    </tr>\n",
              "    <tr>\n",
              "      <th>2</th>\n",
              "      <td>2020-08-03</td>\n",
              "      <td>24</td>\n",
              "    </tr>\n",
              "    <tr>\n",
              "      <th>3</th>\n",
              "      <td>2020-09-01</td>\n",
              "      <td>22</td>\n",
              "    </tr>\n",
              "    <tr>\n",
              "      <th>4</th>\n",
              "      <td>2020-07-01</td>\n",
              "      <td>21</td>\n",
              "    </tr>\n",
              "    <tr>\n",
              "      <th>...</th>\n",
              "      <td>...</td>\n",
              "      <td>...</td>\n",
              "    </tr>\n",
              "    <tr>\n",
              "      <th>142</th>\n",
              "      <td>2020-05-14</td>\n",
              "      <td>1</td>\n",
              "    </tr>\n",
              "    <tr>\n",
              "      <th>143</th>\n",
              "      <td>2020-05-16</td>\n",
              "      <td>1</td>\n",
              "    </tr>\n",
              "    <tr>\n",
              "      <th>144</th>\n",
              "      <td>2020-06-09</td>\n",
              "      <td>1</td>\n",
              "    </tr>\n",
              "    <tr>\n",
              "      <th>145</th>\n",
              "      <td>2020-09-13</td>\n",
              "      <td>1</td>\n",
              "    </tr>\n",
              "    <tr>\n",
              "      <th>146</th>\n",
              "      <td>2020-04-01</td>\n",
              "      <td>1</td>\n",
              "    </tr>\n",
              "  </tbody>\n",
              "</table>\n",
              "<p>147 rows × 2 columns</p>\n",
              "</div>"
            ],
            "text/plain": [
              "    data_notificacao  num_casos\n",
              "0         2020-07-31         33\n",
              "1         2020-08-05         25\n",
              "2         2020-08-03         24\n",
              "3         2020-09-01         22\n",
              "4         2020-07-01         21\n",
              "..               ...        ...\n",
              "142       2020-05-14          1\n",
              "143       2020-05-16          1\n",
              "144       2020-06-09          1\n",
              "145       2020-09-13          1\n",
              "146       2020-04-01          1\n",
              "\n",
              "[147 rows x 2 columns]"
            ]
          },
          "metadata": {
            "tags": []
          },
          "execution_count": 75
        }
      ]
    },
    {
      "cell_type": "code",
      "metadata": {
        "colab_type": "code",
        "id": "zdNG1O1aVJRT",
        "colab": {}
      },
      "source": [
        "faltantes = []\n",
        "casos_ativos = {}\n",
        "\n",
        "k = 0\n",
        "for i, linha_ob in obitos_por_dia.iterrows():\n",
        "    # print(linha_ob['data_notificacao'])\n",
        "    for j, linha_nao_rec in nao_recuperados.iterrows():\n",
        "        if linha_ob['data_notificacao'] == linha_nao_rec['data_notificacao']:\n",
        "            num= linha_nao_rec['num_casos'] - linha_ob['num_casos']\n",
        "            casos_ativos[k] = {'data': linha_nao_rec['data_notificacao'], 'num_casos': num}\n",
        "            faltantes.append(j)\n",
        "            k+=1\n",
        "            break\n"
      ],
      "execution_count": 89,
      "outputs": []
    },
    {
      "cell_type": "code",
      "metadata": {
        "colab_type": "code",
        "id": "OyrvJ49xVJRW",
        "colab": {
          "base_uri": "https://localhost:8080/",
          "height": 255
        },
        "outputId": "fb956f54-2179-4b11-a36b-1ddca818450d"
      },
      "source": [
        "casos_ativos=pd.DataFrame(data=casos_ativos)\n",
        "casos_ativos= casos_ativos.T\n",
        "casos_ativos.reset_index(level=0, inplace=True)\n",
        "casos_ativos.drop(columns=['index'], inplace = True)\n",
        "casos_ativos.head"
      ],
      "execution_count": 90,
      "outputs": [
        {
          "output_type": "execute_result",
          "data": {
            "text/plain": [
              "<bound method NDFrame.head of            data num_casos\n",
              "0    2020-07-31         5\n",
              "1    2020-08-05         3\n",
              "2    2020-08-03         9\n",
              "3    2020-09-01        13\n",
              "4    2020-07-01         2\n",
              "..          ...       ...\n",
              "142  2020-05-14         0\n",
              "143  2020-05-16         1\n",
              "144  2020-06-09         0\n",
              "145  2020-09-13        51\n",
              "146  2020-04-01         0\n",
              "\n",
              "[147 rows x 2 columns]>"
            ]
          },
          "metadata": {
            "tags": []
          },
          "execution_count": 90
        }
      ]
    },
    {
      "cell_type": "code",
      "metadata": {
        "id": "Kp4GCqVJVDZB",
        "colab_type": "code",
        "colab": {
          "base_uri": "https://localhost:8080/",
          "height": 173
        },
        "outputId": "e9904660-62ec-4322-cbfe-4eecb2b98e7b"
      },
      "source": [
        "nao_recuperados =nao_recuperados.drop(faltantes)\n",
        "nao_recuperados.reset_index(level=0, inplace=True)\n",
        "nao_recuperados.drop(columns=['index'], inplace = True)\n",
        "nao_recuperados"
      ],
      "execution_count": 92,
      "outputs": [
        {
          "output_type": "execute_result",
          "data": {
            "text/html": [
              "<div>\n",
              "<style scoped>\n",
              "    .dataframe tbody tr th:only-of-type {\n",
              "        vertical-align: middle;\n",
              "    }\n",
              "\n",
              "    .dataframe tbody tr th {\n",
              "        vertical-align: top;\n",
              "    }\n",
              "\n",
              "    .dataframe thead th {\n",
              "        text-align: right;\n",
              "    }\n",
              "</style>\n",
              "<table border=\"1\" class=\"dataframe\">\n",
              "  <thead>\n",
              "    <tr style=\"text-align: right;\">\n",
              "      <th></th>\n",
              "      <th>data_notificacao</th>\n",
              "      <th>num_casos</th>\n",
              "    </tr>\n",
              "  </thead>\n",
              "  <tbody>\n",
              "    <tr>\n",
              "      <th>0</th>\n",
              "      <td>2020-09-17</td>\n",
              "      <td>92</td>\n",
              "    </tr>\n",
              "    <tr>\n",
              "      <th>1</th>\n",
              "      <td>2020-09-07</td>\n",
              "      <td>8</td>\n",
              "    </tr>\n",
              "    <tr>\n",
              "      <th>2</th>\n",
              "      <td>2020-09-19</td>\n",
              "      <td>1</td>\n",
              "    </tr>\n",
              "    <tr>\n",
              "      <th>3</th>\n",
              "      <td>2020-04-24</td>\n",
              "      <td>1</td>\n",
              "    </tr>\n",
              "  </tbody>\n",
              "</table>\n",
              "</div>"
            ],
            "text/plain": [
              "  data_notificacao  num_casos\n",
              "0       2020-09-17         92\n",
              "1       2020-09-07          8\n",
              "2       2020-09-19          1\n",
              "3       2020-04-24          1"
            ]
          },
          "metadata": {
            "tags": []
          },
          "execution_count": 92
        }
      ]
    },
    {
      "cell_type": "code",
      "metadata": {
        "id": "tSCBtPwSVDP0",
        "colab_type": "code",
        "colab": {}
      },
      "source": [
        "casos_ativos = casos_ativos.to_dict('dict')\n",
        "nao_recuperados = nao_recuperados.to_dict('dict')"
      ],
      "execution_count": 93,
      "outputs": []
    },
    {
      "cell_type": "code",
      "metadata": {
        "id": "YzjvEzSvbsPN",
        "colab_type": "code",
        "colab": {}
      },
      "source": [
        "ativos = {}\n",
        "\n",
        "j= 0\n",
        "for i in range(len(casos_ativos['num_casos'])):\n",
        "    ativos[j] = {'data_notificacao': casos_ativos['data'][i], 'num_casos': casos_ativos['num_casos'][i]}\n",
        "    j+=1\n",
        "\n",
        "for i in range(len(nao_recuperados['num_casos'])):\n",
        "    ativos[j] = {'data_notificacao': nao_recuperados['data_notificacao'][i], 'num_casos': nao_recuperados['num_casos'][i]}\n",
        "    j+=1\n",
        "\n"
      ],
      "execution_count": 94,
      "outputs": []
    },
    {
      "cell_type": "code",
      "metadata": {
        "id": "vN87y_5Og8qO",
        "colab_type": "code",
        "colab": {
          "base_uri": "https://localhost:8080/",
          "height": 419
        },
        "outputId": "4bca3eec-1569-44d9-c9d5-25f7eab1d8b5"
      },
      "source": [
        "casos_ativos_goiania = pd.DataFrame(ativos)\n",
        "casos_ativos_goiania = casos_ativos_goiania.T\n",
        "casos_ativos_goiania"
      ],
      "execution_count": 95,
      "outputs": [
        {
          "output_type": "execute_result",
          "data": {
            "text/html": [
              "<div>\n",
              "<style scoped>\n",
              "    .dataframe tbody tr th:only-of-type {\n",
              "        vertical-align: middle;\n",
              "    }\n",
              "\n",
              "    .dataframe tbody tr th {\n",
              "        vertical-align: top;\n",
              "    }\n",
              "\n",
              "    .dataframe thead th {\n",
              "        text-align: right;\n",
              "    }\n",
              "</style>\n",
              "<table border=\"1\" class=\"dataframe\">\n",
              "  <thead>\n",
              "    <tr style=\"text-align: right;\">\n",
              "      <th></th>\n",
              "      <th>data_notificacao</th>\n",
              "      <th>num_casos</th>\n",
              "    </tr>\n",
              "  </thead>\n",
              "  <tbody>\n",
              "    <tr>\n",
              "      <th>0</th>\n",
              "      <td>2020-07-31</td>\n",
              "      <td>5</td>\n",
              "    </tr>\n",
              "    <tr>\n",
              "      <th>1</th>\n",
              "      <td>2020-08-05</td>\n",
              "      <td>3</td>\n",
              "    </tr>\n",
              "    <tr>\n",
              "      <th>2</th>\n",
              "      <td>2020-08-03</td>\n",
              "      <td>9</td>\n",
              "    </tr>\n",
              "    <tr>\n",
              "      <th>3</th>\n",
              "      <td>2020-09-01</td>\n",
              "      <td>13</td>\n",
              "    </tr>\n",
              "    <tr>\n",
              "      <th>4</th>\n",
              "      <td>2020-07-01</td>\n",
              "      <td>2</td>\n",
              "    </tr>\n",
              "    <tr>\n",
              "      <th>...</th>\n",
              "      <td>...</td>\n",
              "      <td>...</td>\n",
              "    </tr>\n",
              "    <tr>\n",
              "      <th>146</th>\n",
              "      <td>2020-04-01</td>\n",
              "      <td>0</td>\n",
              "    </tr>\n",
              "    <tr>\n",
              "      <th>147</th>\n",
              "      <td>2020-09-17</td>\n",
              "      <td>92</td>\n",
              "    </tr>\n",
              "    <tr>\n",
              "      <th>148</th>\n",
              "      <td>2020-09-07</td>\n",
              "      <td>8</td>\n",
              "    </tr>\n",
              "    <tr>\n",
              "      <th>149</th>\n",
              "      <td>2020-09-19</td>\n",
              "      <td>1</td>\n",
              "    </tr>\n",
              "    <tr>\n",
              "      <th>150</th>\n",
              "      <td>2020-04-24</td>\n",
              "      <td>1</td>\n",
              "    </tr>\n",
              "  </tbody>\n",
              "</table>\n",
              "<p>151 rows × 2 columns</p>\n",
              "</div>"
            ],
            "text/plain": [
              "    data_notificacao num_casos\n",
              "0         2020-07-31         5\n",
              "1         2020-08-05         3\n",
              "2         2020-08-03         9\n",
              "3         2020-09-01        13\n",
              "4         2020-07-01         2\n",
              "..               ...       ...\n",
              "146       2020-04-01         0\n",
              "147       2020-09-17        92\n",
              "148       2020-09-07         8\n",
              "149       2020-09-19         1\n",
              "150       2020-04-24         1\n",
              "\n",
              "[151 rows x 2 columns]"
            ]
          },
          "metadata": {
            "tags": []
          },
          "execution_count": 95
        }
      ]
    },
    {
      "cell_type": "code",
      "metadata": {
        "id": "lAV3OK_Kby2W",
        "colab_type": "code",
        "colab": {
          "base_uri": "https://localhost:8080/",
          "height": 34
        },
        "outputId": "f6e0f0c4-731f-4723-e525-d9d1743a088d"
      },
      "source": [
        "sum(casos_ativos_goiania['num_casos'])"
      ],
      "execution_count": 96,
      "outputs": [
        {
          "output_type": "execute_result",
          "data": {
            "text/plain": [
              "1600"
            ]
          },
          "metadata": {
            "tags": []
          },
          "execution_count": 96
        }
      ]
    },
    {
      "cell_type": "code",
      "metadata": {
        "colab_type": "code",
        "id": "gbOmA1IoUMm2",
        "colab": {
          "base_uri": "https://localhost:8080/",
          "height": 419
        },
        "outputId": "2c308151-8893-4ca5-a1ea-c18b2d633606"
      },
      "source": [
        "casos_ativos_goiania['data_notificacao'] = pd.to_datetime(casos_ativos_goiania['data_notificacao'])\n",
        "\n",
        "# Ordena pela data e salva em um novo DataFrame\n",
        "casos_ativos_goiania = casos_ativos_goiania.sort_values(by='data_notificacao')\n",
        "casos_ativos_goiania"
      ],
      "execution_count": 97,
      "outputs": [
        {
          "output_type": "execute_result",
          "data": {
            "text/html": [
              "<div>\n",
              "<style scoped>\n",
              "    .dataframe tbody tr th:only-of-type {\n",
              "        vertical-align: middle;\n",
              "    }\n",
              "\n",
              "    .dataframe tbody tr th {\n",
              "        vertical-align: top;\n",
              "    }\n",
              "\n",
              "    .dataframe thead th {\n",
              "        text-align: right;\n",
              "    }\n",
              "</style>\n",
              "<table border=\"1\" class=\"dataframe\">\n",
              "  <thead>\n",
              "    <tr style=\"text-align: right;\">\n",
              "      <th></th>\n",
              "      <th>data_notificacao</th>\n",
              "      <th>num_casos</th>\n",
              "    </tr>\n",
              "  </thead>\n",
              "  <tbody>\n",
              "    <tr>\n",
              "      <th>146</th>\n",
              "      <td>2020-04-01</td>\n",
              "      <td>0</td>\n",
              "    </tr>\n",
              "    <tr>\n",
              "      <th>128</th>\n",
              "      <td>2020-04-03</td>\n",
              "      <td>0</td>\n",
              "    </tr>\n",
              "    <tr>\n",
              "      <th>119</th>\n",
              "      <td>2020-04-04</td>\n",
              "      <td>0</td>\n",
              "    </tr>\n",
              "    <tr>\n",
              "      <th>116</th>\n",
              "      <td>2020-04-05</td>\n",
              "      <td>0</td>\n",
              "    </tr>\n",
              "    <tr>\n",
              "      <th>126</th>\n",
              "      <td>2020-04-10</td>\n",
              "      <td>0</td>\n",
              "    </tr>\n",
              "    <tr>\n",
              "      <th>...</th>\n",
              "      <td>...</td>\n",
              "      <td>...</td>\n",
              "    </tr>\n",
              "    <tr>\n",
              "      <th>113</th>\n",
              "      <td>2020-09-15</td>\n",
              "      <td>239</td>\n",
              "    </tr>\n",
              "    <tr>\n",
              "      <th>124</th>\n",
              "      <td>2020-09-16</td>\n",
              "      <td>120</td>\n",
              "    </tr>\n",
              "    <tr>\n",
              "      <th>147</th>\n",
              "      <td>2020-09-17</td>\n",
              "      <td>92</td>\n",
              "    </tr>\n",
              "    <tr>\n",
              "      <th>135</th>\n",
              "      <td>2020-09-18</td>\n",
              "      <td>111</td>\n",
              "    </tr>\n",
              "    <tr>\n",
              "      <th>149</th>\n",
              "      <td>2020-09-19</td>\n",
              "      <td>1</td>\n",
              "    </tr>\n",
              "  </tbody>\n",
              "</table>\n",
              "<p>151 rows × 2 columns</p>\n",
              "</div>"
            ],
            "text/plain": [
              "    data_notificacao num_casos\n",
              "146       2020-04-01         0\n",
              "128       2020-04-03         0\n",
              "119       2020-04-04         0\n",
              "116       2020-04-05         0\n",
              "126       2020-04-10         0\n",
              "..               ...       ...\n",
              "113       2020-09-15       239\n",
              "124       2020-09-16       120\n",
              "147       2020-09-17        92\n",
              "135       2020-09-18       111\n",
              "149       2020-09-19         1\n",
              "\n",
              "[151 rows x 2 columns]"
            ]
          },
          "metadata": {
            "tags": []
          },
          "execution_count": 97
        }
      ]
    },
    {
      "cell_type": "code",
      "metadata": {
        "id": "cBnLjx7PKyE_",
        "colab_type": "code",
        "colab": {
          "base_uri": "https://localhost:8080/",
          "height": 419
        },
        "outputId": "8e9c6517-6798-47ac-8d16-b2b11e08ce50"
      },
      "source": [
        "casos_ativos_goiania.to_csv('casos_ativos_goiania.csv', index=False)\n",
        "casos_ativos_goiania\n"
      ],
      "execution_count": 98,
      "outputs": [
        {
          "output_type": "execute_result",
          "data": {
            "text/html": [
              "<div>\n",
              "<style scoped>\n",
              "    .dataframe tbody tr th:only-of-type {\n",
              "        vertical-align: middle;\n",
              "    }\n",
              "\n",
              "    .dataframe tbody tr th {\n",
              "        vertical-align: top;\n",
              "    }\n",
              "\n",
              "    .dataframe thead th {\n",
              "        text-align: right;\n",
              "    }\n",
              "</style>\n",
              "<table border=\"1\" class=\"dataframe\">\n",
              "  <thead>\n",
              "    <tr style=\"text-align: right;\">\n",
              "      <th></th>\n",
              "      <th>data_notificacao</th>\n",
              "      <th>num_casos</th>\n",
              "    </tr>\n",
              "  </thead>\n",
              "  <tbody>\n",
              "    <tr>\n",
              "      <th>146</th>\n",
              "      <td>2020-04-01</td>\n",
              "      <td>0</td>\n",
              "    </tr>\n",
              "    <tr>\n",
              "      <th>128</th>\n",
              "      <td>2020-04-03</td>\n",
              "      <td>0</td>\n",
              "    </tr>\n",
              "    <tr>\n",
              "      <th>119</th>\n",
              "      <td>2020-04-04</td>\n",
              "      <td>0</td>\n",
              "    </tr>\n",
              "    <tr>\n",
              "      <th>116</th>\n",
              "      <td>2020-04-05</td>\n",
              "      <td>0</td>\n",
              "    </tr>\n",
              "    <tr>\n",
              "      <th>126</th>\n",
              "      <td>2020-04-10</td>\n",
              "      <td>0</td>\n",
              "    </tr>\n",
              "    <tr>\n",
              "      <th>...</th>\n",
              "      <td>...</td>\n",
              "      <td>...</td>\n",
              "    </tr>\n",
              "    <tr>\n",
              "      <th>113</th>\n",
              "      <td>2020-09-15</td>\n",
              "      <td>239</td>\n",
              "    </tr>\n",
              "    <tr>\n",
              "      <th>124</th>\n",
              "      <td>2020-09-16</td>\n",
              "      <td>120</td>\n",
              "    </tr>\n",
              "    <tr>\n",
              "      <th>147</th>\n",
              "      <td>2020-09-17</td>\n",
              "      <td>92</td>\n",
              "    </tr>\n",
              "    <tr>\n",
              "      <th>135</th>\n",
              "      <td>2020-09-18</td>\n",
              "      <td>111</td>\n",
              "    </tr>\n",
              "    <tr>\n",
              "      <th>149</th>\n",
              "      <td>2020-09-19</td>\n",
              "      <td>1</td>\n",
              "    </tr>\n",
              "  </tbody>\n",
              "</table>\n",
              "<p>151 rows × 2 columns</p>\n",
              "</div>"
            ],
            "text/plain": [
              "    data_notificacao num_casos\n",
              "146       2020-04-01         0\n",
              "128       2020-04-03         0\n",
              "119       2020-04-04         0\n",
              "116       2020-04-05         0\n",
              "126       2020-04-10         0\n",
              "..               ...       ...\n",
              "113       2020-09-15       239\n",
              "124       2020-09-16       120\n",
              "147       2020-09-17        92\n",
              "135       2020-09-18       111\n",
              "149       2020-09-19         1\n",
              "\n",
              "[151 rows x 2 columns]"
            ]
          },
          "metadata": {
            "tags": []
          },
          "execution_count": 98
        }
      ]
    },
    {
      "cell_type": "markdown",
      "metadata": {
        "id": "nfdlBVpgLF-w",
        "colab_type": "text"
      },
      "source": [
        "### Média móvel - ativos"
      ]
    },
    {
      "cell_type": "code",
      "metadata": {
        "id": "idWtiR-sLTvJ",
        "colab_type": "code",
        "colab": {}
      },
      "source": [
        "casos_ativos_goiania = pd.read_csv('casos_ativos_goiania.csv', sep=',')"
      ],
      "execution_count": 133,
      "outputs": []
    },
    {
      "cell_type": "code",
      "metadata": {
        "id": "MOUIInoiLIXm",
        "colab_type": "code",
        "colab": {
          "base_uri": "https://localhost:8080/",
          "height": 0
        },
        "outputId": "4d0ce002-aff7-43fe-a7b8-e80b8f6e6535"
      },
      "source": [
        "df = casos_ativos_goiania\n",
        "for i in range(0,df.shape[0]-6):\n",
        "    df.loc[df.index[i+6],'MM_casos'] = np.round(((df.iloc[i,1]+\n",
        "                                                  df.iloc[i+1,1]+\n",
        "                                                  df.iloc[i+2,1]+\n",
        "                                                  df.iloc[i+3,1]+\n",
        "                                                  df.iloc[i+4,1]+\n",
        "                                                  df.iloc[i+5,1]+\n",
        "                                                  df.iloc[i+6,1])/7),1)           \n",
        "\n",
        "df.head"
      ],
      "execution_count": 134,
      "outputs": [
        {
          "output_type": "execute_result",
          "data": {
            "text/plain": [
              "<bound method NDFrame.head of     data_notificacao  num_casos  MM_casos\n",
              "0         2020-04-01          0       NaN\n",
              "1         2020-04-03          0       NaN\n",
              "2         2020-04-04          0       NaN\n",
              "3         2020-04-05          0       NaN\n",
              "4         2020-04-10          0       NaN\n",
              "..               ...        ...       ...\n",
              "146       2020-09-15        239     118.6\n",
              "147       2020-09-16        120     121.3\n",
              "148       2020-09-17         92     121.1\n",
              "149       2020-09-18        111     122.1\n",
              "150       2020-09-19          1     114.3\n",
              "\n",
              "[151 rows x 3 columns]>"
            ]
          },
          "metadata": {
            "tags": []
          },
          "execution_count": 134
        }
      ]
    },
    {
      "cell_type": "code",
      "metadata": {
        "id": "6kVJnZDgTq9r",
        "colab_type": "code",
        "colab": {}
      },
      "source": [
        "casos_ativos_goiania.to_csv('casos_ativos_goiania.csv', index=False)"
      ],
      "execution_count": 135,
      "outputs": []
    },
    {
      "cell_type": "code",
      "metadata": {
        "id": "GJYBK1N7Tn8u",
        "colab_type": "code",
        "colab": {
          "base_uri": "https://localhost:8080/",
          "height": 0
        },
        "outputId": "9617ff4e-9c5c-4fce-ba20-c5beeca3e6ca"
      },
      "source": [
        "fig = px.bar(casos_ativos_goiania, x='data_notificacao', y='num_casos',  title=\"Casos ativos por data de notificação\", labels={'num_casos':'N° de casos ativos', 'data_notificacao': 'Data de notificação'})\n",
        "\n",
        "fig.add_trace(\n",
        "    go.Scatter(\n",
        "        x=casos_ativos_goiania['data_notificacao'],\n",
        "        y=casos_ativos_goiania['MM_casos'],\n",
        "        name='Média Móvel<br>(7 dias)',        \n",
        "        hovertemplate= \"Média Móvel: %{x}<br>Data: %{y}<extra></extra>\",\n",
        "\n",
        "    ))\n",
        "\n",
        "fig.update()"
      ],
      "execution_count": 136,
      "outputs": [
        {
          "output_type": "display_data",
          "data": {
            "text/html": [
              "<html>\n",
              "<head><meta charset=\"utf-8\" /></head>\n",
              "<body>\n",
              "    <div>\n",
              "            <script src=\"https://cdnjs.cloudflare.com/ajax/libs/mathjax/2.7.5/MathJax.js?config=TeX-AMS-MML_SVG\"></script><script type=\"text/javascript\">if (window.MathJax) {MathJax.Hub.Config({SVG: {font: \"STIX-Web\"}});}</script>\n",
              "                <script type=\"text/javascript\">window.PlotlyConfig = {MathJaxConfig: 'local'};</script>\n",
              "        <script src=\"https://cdn.plot.ly/plotly-latest.min.js\"></script>    \n",
              "            <div id=\"fb9a3474-faba-46d3-9dfd-31b495e0b222\" class=\"plotly-graph-div\" style=\"height:525px; width:100%;\"></div>\n",
              "            <script type=\"text/javascript\">\n",
              "                \n",
              "                    window.PLOTLYENV=window.PLOTLYENV || {};\n",
              "                    \n",
              "                if (document.getElementById(\"fb9a3474-faba-46d3-9dfd-31b495e0b222\")) {\n",
              "                    Plotly.newPlot(\n",
              "                        'fb9a3474-faba-46d3-9dfd-31b495e0b222',\n",
              "                        [{\"alignmentgroup\": \"True\", \"hoverlabel\": {\"namelength\": 0}, \"hovertemplate\": \"Data de notifica\\u00e7\\u00e3o=%{x}<br>N\\u00b0 de casos ativos=%{y}\", \"legendgroup\": \"\", \"marker\": {\"color\": \"#636efa\"}, \"name\": \"\", \"offsetgroup\": \"\", \"orientation\": \"v\", \"showlegend\": false, \"textposition\": \"auto\", \"type\": \"bar\", \"x\": [\"2020-04-01\", \"2020-04-03\", \"2020-04-04\", \"2020-04-05\", \"2020-04-10\", \"2020-04-14\", \"2020-04-15\", \"2020-04-16\", \"2020-04-20\", \"2020-04-21\", \"2020-04-22\", \"2020-04-24\", \"2020-04-25\", \"2020-04-26\", \"2020-04-28\", \"2020-04-30\", \"2020-05-01\", \"2020-05-02\", \"2020-05-05\", \"2020-05-06\", \"2020-05-07\", \"2020-05-08\", \"2020-05-10\", \"2020-05-11\", \"2020-05-12\", \"2020-05-13\", \"2020-05-14\", \"2020-05-15\", \"2020-05-16\", \"2020-05-18\", \"2020-05-19\", \"2020-05-20\", \"2020-05-21\", \"2020-05-22\", \"2020-05-23\", \"2020-05-25\", \"2020-05-26\", \"2020-05-27\", \"2020-05-28\", \"2020-05-29\", \"2020-06-01\", \"2020-06-02\", \"2020-06-03\", \"2020-06-04\", \"2020-06-05\", \"2020-06-06\", \"2020-06-07\", \"2020-06-08\", \"2020-06-09\", \"2020-06-10\", \"2020-06-11\", \"2020-06-12\", \"2020-06-13\", \"2020-06-14\", \"2020-06-15\", \"2020-06-16\", \"2020-06-17\", \"2020-06-18\", \"2020-06-19\", \"2020-06-20\", \"2020-06-21\", \"2020-06-22\", \"2020-06-23\", \"2020-06-24\", \"2020-06-25\", \"2020-06-26\", \"2020-06-27\", \"2020-06-28\", \"2020-06-29\", \"2020-06-30\", \"2020-07-01\", \"2020-07-02\", \"2020-07-03\", \"2020-07-04\", \"2020-07-05\", \"2020-07-06\", \"2020-07-07\", \"2020-07-08\", \"2020-07-09\", \"2020-07-10\", \"2020-07-11\", \"2020-07-12\", \"2020-07-13\", \"2020-07-14\", \"2020-07-15\", \"2020-07-16\", \"2020-07-17\", \"2020-07-18\", \"2020-07-19\", \"2020-07-20\", \"2020-07-21\", \"2020-07-22\", \"2020-07-23\", \"2020-07-24\", \"2020-07-25\", \"2020-07-26\", \"2020-07-27\", \"2020-07-28\", \"2020-07-29\", \"2020-07-30\", \"2020-07-31\", \"2020-08-01\", \"2020-08-02\", \"2020-08-03\", \"2020-08-04\", \"2020-08-05\", \"2020-08-06\", \"2020-08-07\", \"2020-08-08\", \"2020-08-09\", \"2020-08-10\", \"2020-08-11\", \"2020-08-12\", \"2020-08-13\", \"2020-08-14\", \"2020-08-15\", \"2020-08-16\", \"2020-08-17\", \"2020-08-18\", \"2020-08-19\", \"2020-08-20\", \"2020-08-21\", \"2020-08-22\", \"2020-08-23\", \"2020-08-24\", \"2020-08-25\", \"2020-08-26\", \"2020-08-27\", \"2020-08-28\", \"2020-08-29\", \"2020-08-30\", \"2020-08-31\", \"2020-09-01\", \"2020-09-02\", \"2020-09-03\", \"2020-09-04\", \"2020-09-05\", \"2020-09-06\", \"2020-09-07\", \"2020-09-08\", \"2020-09-09\", \"2020-09-10\", \"2020-09-11\", \"2020-09-12\", \"2020-09-13\", \"2020-09-14\", \"2020-09-15\", \"2020-09-16\", \"2020-09-17\", \"2020-09-18\", \"2020-09-19\"], \"xaxis\": \"x\", \"y\": [0, 0, 0, 0, 0, 0, 0, 0, 0, 0, 0, 1, 0, 0, 0, 0, 0, 0, 1, 1, 0, 0, 1, 0, 0, 0, 0, 0, 1, 0, 1, 0, 0, 1, 0, 1, 0, 0, 0, 0, 0, 0, 0, 0, 1, 0, 0, 1, 0, 0, 0, 1, 0, 1, 1, 1, 0, 4, 1, 0, 0, 1, 0, 5, 5, 2, 0, 2, 2, 2, 2, 2, 7, 2, 2, 4, 1, 2, 3, 3, 2, 1, 1, 5, 4, 2, 2, 0, 1, 1, 4, 3, 4, 3, 4, 1, 2, 7, 5, 8, 5, 3, 1, 9, 7, 3, 11, 6, 3, 8, 3, 2, 4, 5, 6, 2, 4, 8, 6, 2, 1, 9, 3, 0, 9, 12, 15, 10, 11, 10, 6, 11, 13, 12, 13, 15, 7, 12, 8, 45, 101, 93, 104, 56, 51, 186, 239, 120, 92, 111, 1], \"yaxis\": \"y\"}, {\"hovertemplate\": \"M\\u00e9dia M\\u00f3vel: %{x}<br>Data: %{y}<extra></extra>\", \"name\": \"M\\u00e9dia M\\u00f3vel<br>(7 dias)\", \"type\": \"scatter\", \"x\": [\"2020-04-01\", \"2020-04-03\", \"2020-04-04\", \"2020-04-05\", \"2020-04-10\", \"2020-04-14\", \"2020-04-15\", \"2020-04-16\", \"2020-04-20\", \"2020-04-21\", \"2020-04-22\", \"2020-04-24\", \"2020-04-25\", \"2020-04-26\", \"2020-04-28\", \"2020-04-30\", \"2020-05-01\", \"2020-05-02\", \"2020-05-05\", \"2020-05-06\", \"2020-05-07\", \"2020-05-08\", \"2020-05-10\", \"2020-05-11\", \"2020-05-12\", \"2020-05-13\", \"2020-05-14\", \"2020-05-15\", \"2020-05-16\", \"2020-05-18\", \"2020-05-19\", \"2020-05-20\", \"2020-05-21\", \"2020-05-22\", \"2020-05-23\", \"2020-05-25\", \"2020-05-26\", \"2020-05-27\", \"2020-05-28\", \"2020-05-29\", \"2020-06-01\", \"2020-06-02\", \"2020-06-03\", \"2020-06-04\", \"2020-06-05\", \"2020-06-06\", \"2020-06-07\", \"2020-06-08\", \"2020-06-09\", \"2020-06-10\", \"2020-06-11\", \"2020-06-12\", \"2020-06-13\", \"2020-06-14\", \"2020-06-15\", \"2020-06-16\", \"2020-06-17\", \"2020-06-18\", \"2020-06-19\", \"2020-06-20\", \"2020-06-21\", \"2020-06-22\", \"2020-06-23\", \"2020-06-24\", \"2020-06-25\", \"2020-06-26\", \"2020-06-27\", \"2020-06-28\", \"2020-06-29\", \"2020-06-30\", \"2020-07-01\", \"2020-07-02\", \"2020-07-03\", \"2020-07-04\", \"2020-07-05\", \"2020-07-06\", \"2020-07-07\", \"2020-07-08\", \"2020-07-09\", \"2020-07-10\", \"2020-07-11\", \"2020-07-12\", \"2020-07-13\", \"2020-07-14\", \"2020-07-15\", \"2020-07-16\", \"2020-07-17\", \"2020-07-18\", \"2020-07-19\", \"2020-07-20\", \"2020-07-21\", \"2020-07-22\", \"2020-07-23\", \"2020-07-24\", \"2020-07-25\", \"2020-07-26\", \"2020-07-27\", \"2020-07-28\", \"2020-07-29\", \"2020-07-30\", \"2020-07-31\", \"2020-08-01\", \"2020-08-02\", \"2020-08-03\", \"2020-08-04\", \"2020-08-05\", \"2020-08-06\", \"2020-08-07\", \"2020-08-08\", \"2020-08-09\", \"2020-08-10\", \"2020-08-11\", \"2020-08-12\", \"2020-08-13\", \"2020-08-14\", \"2020-08-15\", \"2020-08-16\", \"2020-08-17\", \"2020-08-18\", \"2020-08-19\", \"2020-08-20\", \"2020-08-21\", \"2020-08-22\", \"2020-08-23\", \"2020-08-24\", \"2020-08-25\", \"2020-08-26\", \"2020-08-27\", \"2020-08-28\", \"2020-08-29\", \"2020-08-30\", \"2020-08-31\", \"2020-09-01\", \"2020-09-02\", \"2020-09-03\", \"2020-09-04\", \"2020-09-05\", \"2020-09-06\", \"2020-09-07\", \"2020-09-08\", \"2020-09-09\", \"2020-09-10\", \"2020-09-11\", \"2020-09-12\", \"2020-09-13\", \"2020-09-14\", \"2020-09-15\", \"2020-09-16\", \"2020-09-17\", \"2020-09-18\", \"2020-09-19\"], \"y\": [null, null, null, null, null, null, 0.0, 0.0, 0.0, 0.0, 0.0, 0.1, 0.1, 0.1, 0.1, 0.1, 0.1, 0.1, 0.1, 0.3, 0.3, 0.3, 0.4, 0.4, 0.4, 0.3, 0.1, 0.1, 0.3, 0.1, 0.3, 0.3, 0.3, 0.4, 0.4, 0.4, 0.4, 0.3, 0.3, 0.3, 0.1, 0.1, 0.0, 0.0, 0.1, 0.1, 0.1, 0.3, 0.3, 0.3, 0.3, 0.3, 0.3, 0.4, 0.4, 0.6, 0.6, 1.1, 1.1, 1.1, 1.0, 1.0, 0.9, 1.6, 1.7, 1.9, 1.9, 2.1, 2.3, 2.6, 2.1, 1.7, 2.4, 2.7, 2.7, 3.0, 2.9, 2.9, 3.0, 2.4, 2.4, 2.3, 1.9, 2.4, 2.7, 2.6, 2.4, 2.1, 2.1, 2.1, 2.0, 1.9, 2.1, 2.3, 2.9, 2.9, 3.0, 3.4, 3.7, 4.3, 4.6, 4.4, 4.4, 5.4, 5.4, 5.1, 5.6, 5.7, 5.7, 6.7, 5.9, 5.1, 5.3, 4.4, 4.4, 4.3, 3.7, 4.4, 5.0, 4.7, 4.1, 4.6, 4.7, 4.1, 4.3, 5.1, 7.0, 8.3, 8.6, 9.6, 10.4, 10.7, 10.9, 10.4, 10.9, 11.4, 11.0, 11.9, 11.4, 16.0, 28.7, 40.1, 52.9, 59.9, 65.4, 90.9, 118.6, 121.3, 121.1, 122.1, 114.3]}],\n",
              "                        {\"barmode\": \"relative\", \"legend\": {\"tracegroupgap\": 0}, \"template\": {\"data\": {\"bar\": [{\"error_x\": {\"color\": \"#2a3f5f\"}, \"error_y\": {\"color\": \"#2a3f5f\"}, \"marker\": {\"line\": {\"color\": \"#E5ECF6\", \"width\": 0.5}}, \"type\": \"bar\"}], \"barpolar\": [{\"marker\": {\"line\": {\"color\": \"#E5ECF6\", \"width\": 0.5}}, \"type\": \"barpolar\"}], \"carpet\": [{\"aaxis\": {\"endlinecolor\": \"#2a3f5f\", \"gridcolor\": \"white\", \"linecolor\": \"white\", \"minorgridcolor\": \"white\", \"startlinecolor\": \"#2a3f5f\"}, \"baxis\": {\"endlinecolor\": \"#2a3f5f\", \"gridcolor\": \"white\", \"linecolor\": \"white\", \"minorgridcolor\": \"white\", \"startlinecolor\": \"#2a3f5f\"}, \"type\": \"carpet\"}], \"choropleth\": [{\"colorbar\": {\"outlinewidth\": 0, \"ticks\": \"\"}, \"type\": \"choropleth\"}], \"contour\": [{\"colorbar\": {\"outlinewidth\": 0, \"ticks\": \"\"}, \"colorscale\": [[0.0, \"#0d0887\"], [0.1111111111111111, \"#46039f\"], [0.2222222222222222, \"#7201a8\"], [0.3333333333333333, \"#9c179e\"], [0.4444444444444444, \"#bd3786\"], [0.5555555555555556, \"#d8576b\"], [0.6666666666666666, \"#ed7953\"], [0.7777777777777778, \"#fb9f3a\"], [0.8888888888888888, \"#fdca26\"], [1.0, \"#f0f921\"]], \"type\": \"contour\"}], \"contourcarpet\": [{\"colorbar\": {\"outlinewidth\": 0, \"ticks\": \"\"}, \"type\": \"contourcarpet\"}], \"heatmap\": [{\"colorbar\": {\"outlinewidth\": 0, \"ticks\": \"\"}, \"colorscale\": [[0.0, \"#0d0887\"], [0.1111111111111111, \"#46039f\"], [0.2222222222222222, \"#7201a8\"], [0.3333333333333333, \"#9c179e\"], [0.4444444444444444, \"#bd3786\"], [0.5555555555555556, \"#d8576b\"], [0.6666666666666666, \"#ed7953\"], [0.7777777777777778, \"#fb9f3a\"], [0.8888888888888888, \"#fdca26\"], [1.0, \"#f0f921\"]], \"type\": \"heatmap\"}], \"heatmapgl\": [{\"colorbar\": {\"outlinewidth\": 0, \"ticks\": \"\"}, \"colorscale\": [[0.0, \"#0d0887\"], [0.1111111111111111, \"#46039f\"], [0.2222222222222222, \"#7201a8\"], [0.3333333333333333, \"#9c179e\"], [0.4444444444444444, \"#bd3786\"], [0.5555555555555556, \"#d8576b\"], [0.6666666666666666, \"#ed7953\"], [0.7777777777777778, \"#fb9f3a\"], [0.8888888888888888, \"#fdca26\"], [1.0, \"#f0f921\"]], \"type\": \"heatmapgl\"}], \"histogram\": [{\"marker\": {\"colorbar\": {\"outlinewidth\": 0, \"ticks\": \"\"}}, \"type\": \"histogram\"}], \"histogram2d\": [{\"colorbar\": {\"outlinewidth\": 0, \"ticks\": \"\"}, \"colorscale\": [[0.0, \"#0d0887\"], [0.1111111111111111, \"#46039f\"], [0.2222222222222222, \"#7201a8\"], [0.3333333333333333, \"#9c179e\"], [0.4444444444444444, \"#bd3786\"], [0.5555555555555556, \"#d8576b\"], [0.6666666666666666, \"#ed7953\"], [0.7777777777777778, \"#fb9f3a\"], [0.8888888888888888, \"#fdca26\"], [1.0, \"#f0f921\"]], \"type\": \"histogram2d\"}], \"histogram2dcontour\": [{\"colorbar\": {\"outlinewidth\": 0, \"ticks\": \"\"}, \"colorscale\": [[0.0, \"#0d0887\"], [0.1111111111111111, \"#46039f\"], [0.2222222222222222, \"#7201a8\"], [0.3333333333333333, \"#9c179e\"], [0.4444444444444444, \"#bd3786\"], [0.5555555555555556, \"#d8576b\"], [0.6666666666666666, \"#ed7953\"], [0.7777777777777778, \"#fb9f3a\"], [0.8888888888888888, \"#fdca26\"], [1.0, \"#f0f921\"]], \"type\": \"histogram2dcontour\"}], \"mesh3d\": [{\"colorbar\": {\"outlinewidth\": 0, \"ticks\": \"\"}, \"type\": \"mesh3d\"}], \"parcoords\": [{\"line\": {\"colorbar\": {\"outlinewidth\": 0, \"ticks\": \"\"}}, \"type\": \"parcoords\"}], \"pie\": [{\"automargin\": true, \"type\": \"pie\"}], \"scatter\": [{\"marker\": {\"colorbar\": {\"outlinewidth\": 0, \"ticks\": \"\"}}, \"type\": \"scatter\"}], \"scatter3d\": [{\"line\": {\"colorbar\": {\"outlinewidth\": 0, \"ticks\": \"\"}}, \"marker\": {\"colorbar\": {\"outlinewidth\": 0, \"ticks\": \"\"}}, \"type\": \"scatter3d\"}], \"scattercarpet\": [{\"marker\": {\"colorbar\": {\"outlinewidth\": 0, \"ticks\": \"\"}}, \"type\": \"scattercarpet\"}], \"scattergeo\": [{\"marker\": {\"colorbar\": {\"outlinewidth\": 0, \"ticks\": \"\"}}, \"type\": \"scattergeo\"}], \"scattergl\": [{\"marker\": {\"colorbar\": {\"outlinewidth\": 0, \"ticks\": \"\"}}, \"type\": \"scattergl\"}], \"scattermapbox\": [{\"marker\": {\"colorbar\": {\"outlinewidth\": 0, \"ticks\": \"\"}}, \"type\": \"scattermapbox\"}], \"scatterpolar\": [{\"marker\": {\"colorbar\": {\"outlinewidth\": 0, \"ticks\": \"\"}}, \"type\": \"scatterpolar\"}], \"scatterpolargl\": [{\"marker\": {\"colorbar\": {\"outlinewidth\": 0, \"ticks\": \"\"}}, \"type\": \"scatterpolargl\"}], \"scatterternary\": [{\"marker\": {\"colorbar\": {\"outlinewidth\": 0, \"ticks\": \"\"}}, \"type\": \"scatterternary\"}], \"surface\": [{\"colorbar\": {\"outlinewidth\": 0, \"ticks\": \"\"}, \"colorscale\": [[0.0, \"#0d0887\"], [0.1111111111111111, \"#46039f\"], [0.2222222222222222, \"#7201a8\"], [0.3333333333333333, \"#9c179e\"], [0.4444444444444444, \"#bd3786\"], [0.5555555555555556, \"#d8576b\"], [0.6666666666666666, \"#ed7953\"], [0.7777777777777778, \"#fb9f3a\"], [0.8888888888888888, \"#fdca26\"], [1.0, \"#f0f921\"]], \"type\": \"surface\"}], \"table\": [{\"cells\": {\"fill\": {\"color\": \"#EBF0F8\"}, \"line\": {\"color\": \"white\"}}, \"header\": {\"fill\": {\"color\": \"#C8D4E3\"}, \"line\": {\"color\": \"white\"}}, \"type\": \"table\"}]}, \"layout\": {\"annotationdefaults\": {\"arrowcolor\": \"#2a3f5f\", \"arrowhead\": 0, \"arrowwidth\": 1}, \"coloraxis\": {\"colorbar\": {\"outlinewidth\": 0, \"ticks\": \"\"}}, \"colorscale\": {\"diverging\": [[0, \"#8e0152\"], [0.1, \"#c51b7d\"], [0.2, \"#de77ae\"], [0.3, \"#f1b6da\"], [0.4, \"#fde0ef\"], [0.5, \"#f7f7f7\"], [0.6, \"#e6f5d0\"], [0.7, \"#b8e186\"], [0.8, \"#7fbc41\"], [0.9, \"#4d9221\"], [1, \"#276419\"]], \"sequential\": [[0.0, \"#0d0887\"], [0.1111111111111111, \"#46039f\"], [0.2222222222222222, \"#7201a8\"], [0.3333333333333333, \"#9c179e\"], [0.4444444444444444, \"#bd3786\"], [0.5555555555555556, \"#d8576b\"], [0.6666666666666666, \"#ed7953\"], [0.7777777777777778, \"#fb9f3a\"], [0.8888888888888888, \"#fdca26\"], [1.0, \"#f0f921\"]], \"sequentialminus\": [[0.0, \"#0d0887\"], [0.1111111111111111, \"#46039f\"], [0.2222222222222222, \"#7201a8\"], [0.3333333333333333, \"#9c179e\"], [0.4444444444444444, \"#bd3786\"], [0.5555555555555556, \"#d8576b\"], [0.6666666666666666, \"#ed7953\"], [0.7777777777777778, \"#fb9f3a\"], [0.8888888888888888, \"#fdca26\"], [1.0, \"#f0f921\"]]}, \"colorway\": [\"#636efa\", \"#EF553B\", \"#00cc96\", \"#ab63fa\", \"#FFA15A\", \"#19d3f3\", \"#FF6692\", \"#B6E880\", \"#FF97FF\", \"#FECB52\"], \"font\": {\"color\": \"#2a3f5f\"}, \"geo\": {\"bgcolor\": \"white\", \"lakecolor\": \"white\", \"landcolor\": \"#E5ECF6\", \"showlakes\": true, \"showland\": true, \"subunitcolor\": \"white\"}, \"hoverlabel\": {\"align\": \"left\"}, \"hovermode\": \"closest\", \"mapbox\": {\"style\": \"light\"}, \"paper_bgcolor\": \"white\", \"plot_bgcolor\": \"#E5ECF6\", \"polar\": {\"angularaxis\": {\"gridcolor\": \"white\", \"linecolor\": \"white\", \"ticks\": \"\"}, \"bgcolor\": \"#E5ECF6\", \"radialaxis\": {\"gridcolor\": \"white\", \"linecolor\": \"white\", \"ticks\": \"\"}}, \"scene\": {\"xaxis\": {\"backgroundcolor\": \"#E5ECF6\", \"gridcolor\": \"white\", \"gridwidth\": 2, \"linecolor\": \"white\", \"showbackground\": true, \"ticks\": \"\", \"zerolinecolor\": \"white\"}, \"yaxis\": {\"backgroundcolor\": \"#E5ECF6\", \"gridcolor\": \"white\", \"gridwidth\": 2, \"linecolor\": \"white\", \"showbackground\": true, \"ticks\": \"\", \"zerolinecolor\": \"white\"}, \"zaxis\": {\"backgroundcolor\": \"#E5ECF6\", \"gridcolor\": \"white\", \"gridwidth\": 2, \"linecolor\": \"white\", \"showbackground\": true, \"ticks\": \"\", \"zerolinecolor\": \"white\"}}, \"shapedefaults\": {\"line\": {\"color\": \"#2a3f5f\"}}, \"ternary\": {\"aaxis\": {\"gridcolor\": \"white\", \"linecolor\": \"white\", \"ticks\": \"\"}, \"baxis\": {\"gridcolor\": \"white\", \"linecolor\": \"white\", \"ticks\": \"\"}, \"bgcolor\": \"#E5ECF6\", \"caxis\": {\"gridcolor\": \"white\", \"linecolor\": \"white\", \"ticks\": \"\"}}, \"title\": {\"x\": 0.05}, \"xaxis\": {\"automargin\": true, \"gridcolor\": \"white\", \"linecolor\": \"white\", \"ticks\": \"\", \"title\": {\"standoff\": 15}, \"zerolinecolor\": \"white\", \"zerolinewidth\": 2}, \"yaxis\": {\"automargin\": true, \"gridcolor\": \"white\", \"linecolor\": \"white\", \"ticks\": \"\", \"title\": {\"standoff\": 15}, \"zerolinecolor\": \"white\", \"zerolinewidth\": 2}}}, \"title\": {\"text\": \"Casos ativos por data de notifica\\u00e7\\u00e3o\"}, \"xaxis\": {\"anchor\": \"y\", \"domain\": [0.0, 1.0], \"title\": {\"text\": \"Data de notifica\\u00e7\\u00e3o\"}}, \"yaxis\": {\"anchor\": \"x\", \"domain\": [0.0, 1.0], \"title\": {\"text\": \"N\\u00b0 de casos ativos\"}}},\n",
              "                        {\"responsive\": true}\n",
              "                    ).then(function(){\n",
              "                            \n",
              "var gd = document.getElementById('fb9a3474-faba-46d3-9dfd-31b495e0b222');\n",
              "var x = new MutationObserver(function (mutations, observer) {{\n",
              "        var display = window.getComputedStyle(gd).display;\n",
              "        if (!display || display === 'none') {{\n",
              "            console.log([gd, 'removed!']);\n",
              "            Plotly.purge(gd);\n",
              "            observer.disconnect();\n",
              "        }}\n",
              "}});\n",
              "\n",
              "// Listen for the removal of the full notebook cells\n",
              "var notebookContainer = gd.closest('#notebook-container');\n",
              "if (notebookContainer) {{\n",
              "    x.observe(notebookContainer, {childList: true});\n",
              "}}\n",
              "\n",
              "// Listen for the clearing of the current output cell\n",
              "var outputEl = gd.closest('.output');\n",
              "if (outputEl) {{\n",
              "    x.observe(outputEl, {childList: true});\n",
              "}}\n",
              "\n",
              "                        })\n",
              "                };\n",
              "                \n",
              "            </script>\n",
              "        </div>\n",
              "</body>\n",
              "</html>"
            ]
          },
          "metadata": {
            "tags": []
          }
        }
      ]
    },
    {
      "cell_type": "code",
      "metadata": {
        "colab_type": "code",
        "id": "uoI37O88v2e7",
        "colab": {
          "base_uri": "https://localhost:8080/",
          "height": 0
        },
        "outputId": "a70bddae-ded4-406e-8fce-b802a70ba0e4"
      },
      "source": [
        "import plotly.graph_objects as go\n",
        "fig.show()\n",
        "fig.write_image(\"casos_ativos.svg\")\n",
        "fig.write_image(\"casos_ativos.png\")"
      ],
      "execution_count": 137,
      "outputs": [
        {
          "output_type": "display_data",
          "data": {
            "text/html": [
              "<html>\n",
              "<head><meta charset=\"utf-8\" /></head>\n",
              "<body>\n",
              "    <div>\n",
              "            <script src=\"https://cdnjs.cloudflare.com/ajax/libs/mathjax/2.7.5/MathJax.js?config=TeX-AMS-MML_SVG\"></script><script type=\"text/javascript\">if (window.MathJax) {MathJax.Hub.Config({SVG: {font: \"STIX-Web\"}});}</script>\n",
              "                <script type=\"text/javascript\">window.PlotlyConfig = {MathJaxConfig: 'local'};</script>\n",
              "        <script src=\"https://cdn.plot.ly/plotly-latest.min.js\"></script>    \n",
              "            <div id=\"fd28bd0c-f42d-49b0-b8f9-715f5cd95b5b\" class=\"plotly-graph-div\" style=\"height:525px; width:100%;\"></div>\n",
              "            <script type=\"text/javascript\">\n",
              "                \n",
              "                    window.PLOTLYENV=window.PLOTLYENV || {};\n",
              "                    \n",
              "                if (document.getElementById(\"fd28bd0c-f42d-49b0-b8f9-715f5cd95b5b\")) {\n",
              "                    Plotly.newPlot(\n",
              "                        'fd28bd0c-f42d-49b0-b8f9-715f5cd95b5b',\n",
              "                        [{\"alignmentgroup\": \"True\", \"hoverlabel\": {\"namelength\": 0}, \"hovertemplate\": \"Data de notifica\\u00e7\\u00e3o=%{x}<br>N\\u00b0 de casos ativos=%{y}\", \"legendgroup\": \"\", \"marker\": {\"color\": \"#636efa\"}, \"name\": \"\", \"offsetgroup\": \"\", \"orientation\": \"v\", \"showlegend\": false, \"textposition\": \"auto\", \"type\": \"bar\", \"x\": [\"2020-04-01\", \"2020-04-03\", \"2020-04-04\", \"2020-04-05\", \"2020-04-10\", \"2020-04-14\", \"2020-04-15\", \"2020-04-16\", \"2020-04-20\", \"2020-04-21\", \"2020-04-22\", \"2020-04-24\", \"2020-04-25\", \"2020-04-26\", \"2020-04-28\", \"2020-04-30\", \"2020-05-01\", \"2020-05-02\", \"2020-05-05\", \"2020-05-06\", \"2020-05-07\", \"2020-05-08\", \"2020-05-10\", \"2020-05-11\", \"2020-05-12\", \"2020-05-13\", \"2020-05-14\", \"2020-05-15\", \"2020-05-16\", \"2020-05-18\", \"2020-05-19\", \"2020-05-20\", \"2020-05-21\", \"2020-05-22\", \"2020-05-23\", \"2020-05-25\", \"2020-05-26\", \"2020-05-27\", \"2020-05-28\", \"2020-05-29\", \"2020-06-01\", \"2020-06-02\", \"2020-06-03\", \"2020-06-04\", \"2020-06-05\", \"2020-06-06\", \"2020-06-07\", \"2020-06-08\", \"2020-06-09\", \"2020-06-10\", \"2020-06-11\", \"2020-06-12\", \"2020-06-13\", \"2020-06-14\", \"2020-06-15\", \"2020-06-16\", \"2020-06-17\", \"2020-06-18\", \"2020-06-19\", \"2020-06-20\", \"2020-06-21\", \"2020-06-22\", \"2020-06-23\", \"2020-06-24\", \"2020-06-25\", \"2020-06-26\", \"2020-06-27\", \"2020-06-28\", \"2020-06-29\", \"2020-06-30\", \"2020-07-01\", \"2020-07-02\", \"2020-07-03\", \"2020-07-04\", \"2020-07-05\", \"2020-07-06\", \"2020-07-07\", \"2020-07-08\", \"2020-07-09\", \"2020-07-10\", \"2020-07-11\", \"2020-07-12\", \"2020-07-13\", \"2020-07-14\", \"2020-07-15\", \"2020-07-16\", \"2020-07-17\", \"2020-07-18\", \"2020-07-19\", \"2020-07-20\", \"2020-07-21\", \"2020-07-22\", \"2020-07-23\", \"2020-07-24\", \"2020-07-25\", \"2020-07-26\", \"2020-07-27\", \"2020-07-28\", \"2020-07-29\", \"2020-07-30\", \"2020-07-31\", \"2020-08-01\", \"2020-08-02\", \"2020-08-03\", \"2020-08-04\", \"2020-08-05\", \"2020-08-06\", \"2020-08-07\", \"2020-08-08\", \"2020-08-09\", \"2020-08-10\", \"2020-08-11\", \"2020-08-12\", \"2020-08-13\", \"2020-08-14\", \"2020-08-15\", \"2020-08-16\", \"2020-08-17\", \"2020-08-18\", \"2020-08-19\", \"2020-08-20\", \"2020-08-21\", \"2020-08-22\", \"2020-08-23\", \"2020-08-24\", \"2020-08-25\", \"2020-08-26\", \"2020-08-27\", \"2020-08-28\", \"2020-08-29\", \"2020-08-30\", \"2020-08-31\", \"2020-09-01\", \"2020-09-02\", \"2020-09-03\", \"2020-09-04\", \"2020-09-05\", \"2020-09-06\", \"2020-09-07\", \"2020-09-08\", \"2020-09-09\", \"2020-09-10\", \"2020-09-11\", \"2020-09-12\", \"2020-09-13\", \"2020-09-14\", \"2020-09-15\", \"2020-09-16\", \"2020-09-17\", \"2020-09-18\", \"2020-09-19\"], \"xaxis\": \"x\", \"y\": [0, 0, 0, 0, 0, 0, 0, 0, 0, 0, 0, 1, 0, 0, 0, 0, 0, 0, 1, 1, 0, 0, 1, 0, 0, 0, 0, 0, 1, 0, 1, 0, 0, 1, 0, 1, 0, 0, 0, 0, 0, 0, 0, 0, 1, 0, 0, 1, 0, 0, 0, 1, 0, 1, 1, 1, 0, 4, 1, 0, 0, 1, 0, 5, 5, 2, 0, 2, 2, 2, 2, 2, 7, 2, 2, 4, 1, 2, 3, 3, 2, 1, 1, 5, 4, 2, 2, 0, 1, 1, 4, 3, 4, 3, 4, 1, 2, 7, 5, 8, 5, 3, 1, 9, 7, 3, 11, 6, 3, 8, 3, 2, 4, 5, 6, 2, 4, 8, 6, 2, 1, 9, 3, 0, 9, 12, 15, 10, 11, 10, 6, 11, 13, 12, 13, 15, 7, 12, 8, 45, 101, 93, 104, 56, 51, 186, 239, 120, 92, 111, 1], \"yaxis\": \"y\"}, {\"hovertemplate\": \"M\\u00e9dia M\\u00f3vel: %{x}<br>Data: %{y}<extra></extra>\", \"name\": \"M\\u00e9dia M\\u00f3vel<br>(7 dias)\", \"type\": \"scatter\", \"x\": [\"2020-04-01\", \"2020-04-03\", \"2020-04-04\", \"2020-04-05\", \"2020-04-10\", \"2020-04-14\", \"2020-04-15\", \"2020-04-16\", \"2020-04-20\", \"2020-04-21\", \"2020-04-22\", \"2020-04-24\", \"2020-04-25\", \"2020-04-26\", \"2020-04-28\", \"2020-04-30\", \"2020-05-01\", \"2020-05-02\", \"2020-05-05\", \"2020-05-06\", \"2020-05-07\", \"2020-05-08\", \"2020-05-10\", \"2020-05-11\", \"2020-05-12\", \"2020-05-13\", \"2020-05-14\", \"2020-05-15\", \"2020-05-16\", \"2020-05-18\", \"2020-05-19\", \"2020-05-20\", \"2020-05-21\", \"2020-05-22\", \"2020-05-23\", \"2020-05-25\", \"2020-05-26\", \"2020-05-27\", \"2020-05-28\", \"2020-05-29\", \"2020-06-01\", \"2020-06-02\", \"2020-06-03\", \"2020-06-04\", \"2020-06-05\", \"2020-06-06\", \"2020-06-07\", \"2020-06-08\", \"2020-06-09\", \"2020-06-10\", \"2020-06-11\", \"2020-06-12\", \"2020-06-13\", \"2020-06-14\", \"2020-06-15\", \"2020-06-16\", \"2020-06-17\", \"2020-06-18\", \"2020-06-19\", \"2020-06-20\", \"2020-06-21\", \"2020-06-22\", \"2020-06-23\", \"2020-06-24\", \"2020-06-25\", \"2020-06-26\", \"2020-06-27\", \"2020-06-28\", \"2020-06-29\", \"2020-06-30\", \"2020-07-01\", \"2020-07-02\", \"2020-07-03\", \"2020-07-04\", \"2020-07-05\", \"2020-07-06\", \"2020-07-07\", \"2020-07-08\", \"2020-07-09\", \"2020-07-10\", \"2020-07-11\", \"2020-07-12\", \"2020-07-13\", \"2020-07-14\", \"2020-07-15\", \"2020-07-16\", \"2020-07-17\", \"2020-07-18\", \"2020-07-19\", \"2020-07-20\", \"2020-07-21\", \"2020-07-22\", \"2020-07-23\", \"2020-07-24\", \"2020-07-25\", \"2020-07-26\", \"2020-07-27\", \"2020-07-28\", \"2020-07-29\", \"2020-07-30\", \"2020-07-31\", \"2020-08-01\", \"2020-08-02\", \"2020-08-03\", \"2020-08-04\", \"2020-08-05\", \"2020-08-06\", \"2020-08-07\", \"2020-08-08\", \"2020-08-09\", \"2020-08-10\", \"2020-08-11\", \"2020-08-12\", \"2020-08-13\", \"2020-08-14\", \"2020-08-15\", \"2020-08-16\", \"2020-08-17\", \"2020-08-18\", \"2020-08-19\", \"2020-08-20\", \"2020-08-21\", \"2020-08-22\", \"2020-08-23\", \"2020-08-24\", \"2020-08-25\", \"2020-08-26\", \"2020-08-27\", \"2020-08-28\", \"2020-08-29\", \"2020-08-30\", \"2020-08-31\", \"2020-09-01\", \"2020-09-02\", \"2020-09-03\", \"2020-09-04\", \"2020-09-05\", \"2020-09-06\", \"2020-09-07\", \"2020-09-08\", \"2020-09-09\", \"2020-09-10\", \"2020-09-11\", \"2020-09-12\", \"2020-09-13\", \"2020-09-14\", \"2020-09-15\", \"2020-09-16\", \"2020-09-17\", \"2020-09-18\", \"2020-09-19\"], \"y\": [null, null, null, null, null, null, 0.0, 0.0, 0.0, 0.0, 0.0, 0.1, 0.1, 0.1, 0.1, 0.1, 0.1, 0.1, 0.1, 0.3, 0.3, 0.3, 0.4, 0.4, 0.4, 0.3, 0.1, 0.1, 0.3, 0.1, 0.3, 0.3, 0.3, 0.4, 0.4, 0.4, 0.4, 0.3, 0.3, 0.3, 0.1, 0.1, 0.0, 0.0, 0.1, 0.1, 0.1, 0.3, 0.3, 0.3, 0.3, 0.3, 0.3, 0.4, 0.4, 0.6, 0.6, 1.1, 1.1, 1.1, 1.0, 1.0, 0.9, 1.6, 1.7, 1.9, 1.9, 2.1, 2.3, 2.6, 2.1, 1.7, 2.4, 2.7, 2.7, 3.0, 2.9, 2.9, 3.0, 2.4, 2.4, 2.3, 1.9, 2.4, 2.7, 2.6, 2.4, 2.1, 2.1, 2.1, 2.0, 1.9, 2.1, 2.3, 2.9, 2.9, 3.0, 3.4, 3.7, 4.3, 4.6, 4.4, 4.4, 5.4, 5.4, 5.1, 5.6, 5.7, 5.7, 6.7, 5.9, 5.1, 5.3, 4.4, 4.4, 4.3, 3.7, 4.4, 5.0, 4.7, 4.1, 4.6, 4.7, 4.1, 4.3, 5.1, 7.0, 8.3, 8.6, 9.6, 10.4, 10.7, 10.9, 10.4, 10.9, 11.4, 11.0, 11.9, 11.4, 16.0, 28.7, 40.1, 52.9, 59.9, 65.4, 90.9, 118.6, 121.3, 121.1, 122.1, 114.3]}],\n",
              "                        {\"barmode\": \"relative\", \"legend\": {\"tracegroupgap\": 0}, \"template\": {\"data\": {\"bar\": [{\"error_x\": {\"color\": \"#2a3f5f\"}, \"error_y\": {\"color\": \"#2a3f5f\"}, \"marker\": {\"line\": {\"color\": \"#E5ECF6\", \"width\": 0.5}}, \"type\": \"bar\"}], \"barpolar\": [{\"marker\": {\"line\": {\"color\": \"#E5ECF6\", \"width\": 0.5}}, \"type\": \"barpolar\"}], \"carpet\": [{\"aaxis\": {\"endlinecolor\": \"#2a3f5f\", \"gridcolor\": \"white\", \"linecolor\": \"white\", \"minorgridcolor\": \"white\", \"startlinecolor\": \"#2a3f5f\"}, \"baxis\": {\"endlinecolor\": \"#2a3f5f\", \"gridcolor\": \"white\", \"linecolor\": \"white\", \"minorgridcolor\": \"white\", \"startlinecolor\": \"#2a3f5f\"}, \"type\": \"carpet\"}], \"choropleth\": [{\"colorbar\": {\"outlinewidth\": 0, \"ticks\": \"\"}, \"type\": \"choropleth\"}], \"contour\": [{\"colorbar\": {\"outlinewidth\": 0, \"ticks\": \"\"}, \"colorscale\": [[0.0, \"#0d0887\"], [0.1111111111111111, \"#46039f\"], [0.2222222222222222, \"#7201a8\"], [0.3333333333333333, \"#9c179e\"], [0.4444444444444444, \"#bd3786\"], [0.5555555555555556, \"#d8576b\"], [0.6666666666666666, \"#ed7953\"], [0.7777777777777778, \"#fb9f3a\"], [0.8888888888888888, \"#fdca26\"], [1.0, \"#f0f921\"]], \"type\": \"contour\"}], \"contourcarpet\": [{\"colorbar\": {\"outlinewidth\": 0, \"ticks\": \"\"}, \"type\": \"contourcarpet\"}], \"heatmap\": [{\"colorbar\": {\"outlinewidth\": 0, \"ticks\": \"\"}, \"colorscale\": [[0.0, \"#0d0887\"], [0.1111111111111111, \"#46039f\"], [0.2222222222222222, \"#7201a8\"], [0.3333333333333333, \"#9c179e\"], [0.4444444444444444, \"#bd3786\"], [0.5555555555555556, \"#d8576b\"], [0.6666666666666666, \"#ed7953\"], [0.7777777777777778, \"#fb9f3a\"], [0.8888888888888888, \"#fdca26\"], [1.0, \"#f0f921\"]], \"type\": \"heatmap\"}], \"heatmapgl\": [{\"colorbar\": {\"outlinewidth\": 0, \"ticks\": \"\"}, \"colorscale\": [[0.0, \"#0d0887\"], [0.1111111111111111, \"#46039f\"], [0.2222222222222222, \"#7201a8\"], [0.3333333333333333, \"#9c179e\"], [0.4444444444444444, \"#bd3786\"], [0.5555555555555556, \"#d8576b\"], [0.6666666666666666, \"#ed7953\"], [0.7777777777777778, \"#fb9f3a\"], [0.8888888888888888, \"#fdca26\"], [1.0, \"#f0f921\"]], \"type\": \"heatmapgl\"}], \"histogram\": [{\"marker\": {\"colorbar\": {\"outlinewidth\": 0, \"ticks\": \"\"}}, \"type\": \"histogram\"}], \"histogram2d\": [{\"colorbar\": {\"outlinewidth\": 0, \"ticks\": \"\"}, \"colorscale\": [[0.0, \"#0d0887\"], [0.1111111111111111, \"#46039f\"], [0.2222222222222222, \"#7201a8\"], [0.3333333333333333, \"#9c179e\"], [0.4444444444444444, \"#bd3786\"], [0.5555555555555556, \"#d8576b\"], [0.6666666666666666, \"#ed7953\"], [0.7777777777777778, \"#fb9f3a\"], [0.8888888888888888, \"#fdca26\"], [1.0, \"#f0f921\"]], \"type\": \"histogram2d\"}], \"histogram2dcontour\": [{\"colorbar\": {\"outlinewidth\": 0, \"ticks\": \"\"}, \"colorscale\": [[0.0, \"#0d0887\"], [0.1111111111111111, \"#46039f\"], [0.2222222222222222, \"#7201a8\"], [0.3333333333333333, \"#9c179e\"], [0.4444444444444444, \"#bd3786\"], [0.5555555555555556, \"#d8576b\"], [0.6666666666666666, \"#ed7953\"], [0.7777777777777778, \"#fb9f3a\"], [0.8888888888888888, \"#fdca26\"], [1.0, \"#f0f921\"]], \"type\": \"histogram2dcontour\"}], \"mesh3d\": [{\"colorbar\": {\"outlinewidth\": 0, \"ticks\": \"\"}, \"type\": \"mesh3d\"}], \"parcoords\": [{\"line\": {\"colorbar\": {\"outlinewidth\": 0, \"ticks\": \"\"}}, \"type\": \"parcoords\"}], \"pie\": [{\"automargin\": true, \"type\": \"pie\"}], \"scatter\": [{\"marker\": {\"colorbar\": {\"outlinewidth\": 0, \"ticks\": \"\"}}, \"type\": \"scatter\"}], \"scatter3d\": [{\"line\": {\"colorbar\": {\"outlinewidth\": 0, \"ticks\": \"\"}}, \"marker\": {\"colorbar\": {\"outlinewidth\": 0, \"ticks\": \"\"}}, \"type\": \"scatter3d\"}], \"scattercarpet\": [{\"marker\": {\"colorbar\": {\"outlinewidth\": 0, \"ticks\": \"\"}}, \"type\": \"scattercarpet\"}], \"scattergeo\": [{\"marker\": {\"colorbar\": {\"outlinewidth\": 0, \"ticks\": \"\"}}, \"type\": \"scattergeo\"}], \"scattergl\": [{\"marker\": {\"colorbar\": {\"outlinewidth\": 0, \"ticks\": \"\"}}, \"type\": \"scattergl\"}], \"scattermapbox\": [{\"marker\": {\"colorbar\": {\"outlinewidth\": 0, \"ticks\": \"\"}}, \"type\": \"scattermapbox\"}], \"scatterpolar\": [{\"marker\": {\"colorbar\": {\"outlinewidth\": 0, \"ticks\": \"\"}}, \"type\": \"scatterpolar\"}], \"scatterpolargl\": [{\"marker\": {\"colorbar\": {\"outlinewidth\": 0, \"ticks\": \"\"}}, \"type\": \"scatterpolargl\"}], \"scatterternary\": [{\"marker\": {\"colorbar\": {\"outlinewidth\": 0, \"ticks\": \"\"}}, \"type\": \"scatterternary\"}], \"surface\": [{\"colorbar\": {\"outlinewidth\": 0, \"ticks\": \"\"}, \"colorscale\": [[0.0, \"#0d0887\"], [0.1111111111111111, \"#46039f\"], [0.2222222222222222, \"#7201a8\"], [0.3333333333333333, \"#9c179e\"], [0.4444444444444444, \"#bd3786\"], [0.5555555555555556, \"#d8576b\"], [0.6666666666666666, \"#ed7953\"], [0.7777777777777778, \"#fb9f3a\"], [0.8888888888888888, \"#fdca26\"], [1.0, \"#f0f921\"]], \"type\": \"surface\"}], \"table\": [{\"cells\": {\"fill\": {\"color\": \"#EBF0F8\"}, \"line\": {\"color\": \"white\"}}, \"header\": {\"fill\": {\"color\": \"#C8D4E3\"}, \"line\": {\"color\": \"white\"}}, \"type\": \"table\"}]}, \"layout\": {\"annotationdefaults\": {\"arrowcolor\": \"#2a3f5f\", \"arrowhead\": 0, \"arrowwidth\": 1}, \"coloraxis\": {\"colorbar\": {\"outlinewidth\": 0, \"ticks\": \"\"}}, \"colorscale\": {\"diverging\": [[0, \"#8e0152\"], [0.1, \"#c51b7d\"], [0.2, \"#de77ae\"], [0.3, \"#f1b6da\"], [0.4, \"#fde0ef\"], [0.5, \"#f7f7f7\"], [0.6, \"#e6f5d0\"], [0.7, \"#b8e186\"], [0.8, \"#7fbc41\"], [0.9, \"#4d9221\"], [1, \"#276419\"]], \"sequential\": [[0.0, \"#0d0887\"], [0.1111111111111111, \"#46039f\"], [0.2222222222222222, \"#7201a8\"], [0.3333333333333333, \"#9c179e\"], [0.4444444444444444, \"#bd3786\"], [0.5555555555555556, \"#d8576b\"], [0.6666666666666666, \"#ed7953\"], [0.7777777777777778, \"#fb9f3a\"], [0.8888888888888888, \"#fdca26\"], [1.0, \"#f0f921\"]], \"sequentialminus\": [[0.0, \"#0d0887\"], [0.1111111111111111, \"#46039f\"], [0.2222222222222222, \"#7201a8\"], [0.3333333333333333, \"#9c179e\"], [0.4444444444444444, \"#bd3786\"], [0.5555555555555556, \"#d8576b\"], [0.6666666666666666, \"#ed7953\"], [0.7777777777777778, \"#fb9f3a\"], [0.8888888888888888, \"#fdca26\"], [1.0, \"#f0f921\"]]}, \"colorway\": [\"#636efa\", \"#EF553B\", \"#00cc96\", \"#ab63fa\", \"#FFA15A\", \"#19d3f3\", \"#FF6692\", \"#B6E880\", \"#FF97FF\", \"#FECB52\"], \"font\": {\"color\": \"#2a3f5f\"}, \"geo\": {\"bgcolor\": \"white\", \"lakecolor\": \"white\", \"landcolor\": \"#E5ECF6\", \"showlakes\": true, \"showland\": true, \"subunitcolor\": \"white\"}, \"hoverlabel\": {\"align\": \"left\"}, \"hovermode\": \"closest\", \"mapbox\": {\"style\": \"light\"}, \"paper_bgcolor\": \"white\", \"plot_bgcolor\": \"#E5ECF6\", \"polar\": {\"angularaxis\": {\"gridcolor\": \"white\", \"linecolor\": \"white\", \"ticks\": \"\"}, \"bgcolor\": \"#E5ECF6\", \"radialaxis\": {\"gridcolor\": \"white\", \"linecolor\": \"white\", \"ticks\": \"\"}}, \"scene\": {\"xaxis\": {\"backgroundcolor\": \"#E5ECF6\", \"gridcolor\": \"white\", \"gridwidth\": 2, \"linecolor\": \"white\", \"showbackground\": true, \"ticks\": \"\", \"zerolinecolor\": \"white\"}, \"yaxis\": {\"backgroundcolor\": \"#E5ECF6\", \"gridcolor\": \"white\", \"gridwidth\": 2, \"linecolor\": \"white\", \"showbackground\": true, \"ticks\": \"\", \"zerolinecolor\": \"white\"}, \"zaxis\": {\"backgroundcolor\": \"#E5ECF6\", \"gridcolor\": \"white\", \"gridwidth\": 2, \"linecolor\": \"white\", \"showbackground\": true, \"ticks\": \"\", \"zerolinecolor\": \"white\"}}, \"shapedefaults\": {\"line\": {\"color\": \"#2a3f5f\"}}, \"ternary\": {\"aaxis\": {\"gridcolor\": \"white\", \"linecolor\": \"white\", \"ticks\": \"\"}, \"baxis\": {\"gridcolor\": \"white\", \"linecolor\": \"white\", \"ticks\": \"\"}, \"bgcolor\": \"#E5ECF6\", \"caxis\": {\"gridcolor\": \"white\", \"linecolor\": \"white\", \"ticks\": \"\"}}, \"title\": {\"x\": 0.05}, \"xaxis\": {\"automargin\": true, \"gridcolor\": \"white\", \"linecolor\": \"white\", \"ticks\": \"\", \"title\": {\"standoff\": 15}, \"zerolinecolor\": \"white\", \"zerolinewidth\": 2}, \"yaxis\": {\"automargin\": true, \"gridcolor\": \"white\", \"linecolor\": \"white\", \"ticks\": \"\", \"title\": {\"standoff\": 15}, \"zerolinecolor\": \"white\", \"zerolinewidth\": 2}}}, \"title\": {\"text\": \"Casos ativos por data de notifica\\u00e7\\u00e3o\"}, \"xaxis\": {\"anchor\": \"y\", \"domain\": [0.0, 1.0], \"title\": {\"text\": \"Data de notifica\\u00e7\\u00e3o\"}}, \"yaxis\": {\"anchor\": \"x\", \"domain\": [0.0, 1.0], \"title\": {\"text\": \"N\\u00b0 de casos ativos\"}}},\n",
              "                        {\"responsive\": true}\n",
              "                    ).then(function(){\n",
              "                            \n",
              "var gd = document.getElementById('fd28bd0c-f42d-49b0-b8f9-715f5cd95b5b');\n",
              "var x = new MutationObserver(function (mutations, observer) {{\n",
              "        var display = window.getComputedStyle(gd).display;\n",
              "        if (!display || display === 'none') {{\n",
              "            console.log([gd, 'removed!']);\n",
              "            Plotly.purge(gd);\n",
              "            observer.disconnect();\n",
              "        }}\n",
              "}});\n",
              "\n",
              "// Listen for the removal of the full notebook cells\n",
              "var notebookContainer = gd.closest('#notebook-container');\n",
              "if (notebookContainer) {{\n",
              "    x.observe(notebookContainer, {childList: true});\n",
              "}}\n",
              "\n",
              "// Listen for the clearing of the current output cell\n",
              "var outputEl = gd.closest('.output');\n",
              "if (outputEl) {{\n",
              "    x.observe(outputEl, {childList: true});\n",
              "}}\n",
              "\n",
              "                        })\n",
              "                };\n",
              "                \n",
              "            </script>\n",
              "        </div>\n",
              "</body>\n",
              "</html>"
            ]
          },
          "metadata": {
            "tags": []
          }
        }
      ]
    },
    {
      "cell_type": "code",
      "metadata": {
        "colab_type": "code",
        "id": "6y9aqifnv2fB",
        "colab": {
          "base_uri": "https://localhost:8080/",
          "height": 0
        },
        "outputId": "c3a62b78-0d87-4c52-91d1-7a6b66b18cca"
      },
      "source": [
        "from google.colab import files\n",
        "files.download('casos_ativos.svg')\n",
        "files.download('casos_ativos.png')"
      ],
      "execution_count": 138,
      "outputs": [
        {
          "output_type": "display_data",
          "data": {
            "application/javascript": [
              "\n",
              "    async function download(id, filename, size) {\n",
              "      if (!google.colab.kernel.accessAllowed) {\n",
              "        return;\n",
              "      }\n",
              "      const div = document.createElement('div');\n",
              "      const label = document.createElement('label');\n",
              "      label.textContent = `Downloading \"${filename}\": `;\n",
              "      div.appendChild(label);\n",
              "      const progress = document.createElement('progress');\n",
              "      progress.max = size;\n",
              "      div.appendChild(progress);\n",
              "      document.body.appendChild(div);\n",
              "\n",
              "      const buffers = [];\n",
              "      let downloaded = 0;\n",
              "\n",
              "      const channel = await google.colab.kernel.comms.open(id);\n",
              "      // Send a message to notify the kernel that we're ready.\n",
              "      channel.send({})\n",
              "\n",
              "      for await (const message of channel.messages) {\n",
              "        // Send a message to notify the kernel that we're ready.\n",
              "        channel.send({})\n",
              "        if (message.buffers) {\n",
              "          for (const buffer of message.buffers) {\n",
              "            buffers.push(buffer);\n",
              "            downloaded += buffer.byteLength;\n",
              "            progress.value = downloaded;\n",
              "          }\n",
              "        }\n",
              "      }\n",
              "      const blob = new Blob(buffers, {type: 'application/binary'});\n",
              "      const a = document.createElement('a');\n",
              "      a.href = window.URL.createObjectURL(blob);\n",
              "      a.download = filename;\n",
              "      div.appendChild(a);\n",
              "      a.click();\n",
              "      div.remove();\n",
              "    }\n",
              "  "
            ],
            "text/plain": [
              "<IPython.core.display.Javascript object>"
            ]
          },
          "metadata": {
            "tags": []
          }
        },
        {
          "output_type": "display_data",
          "data": {
            "application/javascript": [
              "download(\"download_8815acff-f44e-4978-ab74-36e6af5bed04\", \"casos_ativos.svg\", 43710)"
            ],
            "text/plain": [
              "<IPython.core.display.Javascript object>"
            ]
          },
          "metadata": {
            "tags": []
          }
        },
        {
          "output_type": "display_data",
          "data": {
            "application/javascript": [
              "\n",
              "    async function download(id, filename, size) {\n",
              "      if (!google.colab.kernel.accessAllowed) {\n",
              "        return;\n",
              "      }\n",
              "      const div = document.createElement('div');\n",
              "      const label = document.createElement('label');\n",
              "      label.textContent = `Downloading \"${filename}\": `;\n",
              "      div.appendChild(label);\n",
              "      const progress = document.createElement('progress');\n",
              "      progress.max = size;\n",
              "      div.appendChild(progress);\n",
              "      document.body.appendChild(div);\n",
              "\n",
              "      const buffers = [];\n",
              "      let downloaded = 0;\n",
              "\n",
              "      const channel = await google.colab.kernel.comms.open(id);\n",
              "      // Send a message to notify the kernel that we're ready.\n",
              "      channel.send({})\n",
              "\n",
              "      for await (const message of channel.messages) {\n",
              "        // Send a message to notify the kernel that we're ready.\n",
              "        channel.send({})\n",
              "        if (message.buffers) {\n",
              "          for (const buffer of message.buffers) {\n",
              "            buffers.push(buffer);\n",
              "            downloaded += buffer.byteLength;\n",
              "            progress.value = downloaded;\n",
              "          }\n",
              "        }\n",
              "      }\n",
              "      const blob = new Blob(buffers, {type: 'application/binary'});\n",
              "      const a = document.createElement('a');\n",
              "      a.href = window.URL.createObjectURL(blob);\n",
              "      a.download = filename;\n",
              "      div.appendChild(a);\n",
              "      a.click();\n",
              "      div.remove();\n",
              "    }\n",
              "  "
            ],
            "text/plain": [
              "<IPython.core.display.Javascript object>"
            ]
          },
          "metadata": {
            "tags": []
          }
        },
        {
          "output_type": "display_data",
          "data": {
            "application/javascript": [
              "download(\"download_a9b46964-205c-4ef0-b6ae-9ec75516fad7\", \"casos_ativos.png\", 36421)"
            ],
            "text/plain": [
              "<IPython.core.display.Javascript object>"
            ]
          },
          "metadata": {
            "tags": []
          }
        }
      ]
    },
    {
      "cell_type": "markdown",
      "metadata": {
        "id": "jK8mDxwgCM0s",
        "colab_type": "text"
      },
      "source": [
        "## Casos por dia\n",
        "\n",
        "*   Gráfico de barras com média móvel\n",
        "\n",
        "\n",
        "\n",
        "\n",
        "```\n",
        "dataframe: casos_por_dia\n",
        "gera: casos_por_dia_goiania.csv\n",
        "```\n"
      ]
    },
    {
      "cell_type": "code",
      "metadata": {
        "id": "wIm6q9HtCMZq",
        "colab_type": "code",
        "colab": {
          "base_uri": "https://localhost:8080/",
          "height": 439
        },
        "outputId": "c57aedc7-2191-467f-b65d-48c83711e16e"
      },
      "source": [
        "casos_por_dia = casos_goiania_cidade\n",
        "casos_por_dia_remove = casos_por_dia.loc[((casos_por_dia['municipio'] != 'GOIANIA'))]\n",
        "# df_remove = df.loc[(df['recuperado'] != 'NAO')]\n",
        "\n",
        "casos_por_dia = casos_por_dia.drop(casos_por_dia_remove.index)\n",
        "casos_por_dia"
      ],
      "execution_count": 21,
      "outputs": [
        {
          "output_type": "execute_result",
          "data": {
            "text/html": [
              "<div>\n",
              "<style scoped>\n",
              "    .dataframe tbody tr th:only-of-type {\n",
              "        vertical-align: middle;\n",
              "    }\n",
              "\n",
              "    .dataframe tbody tr th {\n",
              "        vertical-align: top;\n",
              "    }\n",
              "\n",
              "    .dataframe thead th {\n",
              "        text-align: right;\n",
              "    }\n",
              "</style>\n",
              "<table border=\"1\" class=\"dataframe\">\n",
              "  <thead>\n",
              "    <tr style=\"text-align: right;\">\n",
              "      <th></th>\n",
              "      <th>data_notificacao</th>\n",
              "      <th>data_inicio_sintomas</th>\n",
              "      <th>ano_epi</th>\n",
              "      <th>semana_epi</th>\n",
              "      <th>sexo</th>\n",
              "      <th>raca_cor</th>\n",
              "      <th>faixa_etaria</th>\n",
              "      <th>diabetes</th>\n",
              "      <th>doenca_cardiovascular</th>\n",
              "      <th>doenca_respiratoria</th>\n",
              "      <th>imunossupressao</th>\n",
              "      <th>codigo_ibge</th>\n",
              "      <th>municipio</th>\n",
              "      <th>regiao_saude</th>\n",
              "      <th>recuperado</th>\n",
              "    </tr>\n",
              "  </thead>\n",
              "  <tbody>\n",
              "    <tr>\n",
              "      <th>10</th>\n",
              "      <td>20200805</td>\n",
              "      <td>20200728</td>\n",
              "      <td>2020</td>\n",
              "      <td>31</td>\n",
              "      <td>FEMININO</td>\n",
              "      <td>IGNORADO</td>\n",
              "      <td>&gt;= 80 anos</td>\n",
              "      <td>NAO</td>\n",
              "      <td>NAO</td>\n",
              "      <td>SIM</td>\n",
              "      <td>NAO</td>\n",
              "      <td>520870</td>\n",
              "      <td>GOIANIA</td>\n",
              "      <td>CENTRAL</td>\n",
              "      <td>NAO</td>\n",
              "    </tr>\n",
              "    <tr>\n",
              "      <th>16</th>\n",
              "      <td>20200722</td>\n",
              "      <td>20200715</td>\n",
              "      <td>2020</td>\n",
              "      <td>29</td>\n",
              "      <td>FEMININO</td>\n",
              "      <td>PARDA</td>\n",
              "      <td>40 a 49 anos</td>\n",
              "      <td>NAO</td>\n",
              "      <td>NAO</td>\n",
              "      <td>NAO</td>\n",
              "      <td>NAO</td>\n",
              "      <td>520870</td>\n",
              "      <td>GOIANIA</td>\n",
              "      <td>CENTRAL</td>\n",
              "      <td>SIM</td>\n",
              "    </tr>\n",
              "    <tr>\n",
              "      <th>17</th>\n",
              "      <td>20200613</td>\n",
              "      <td>20200612</td>\n",
              "      <td>2020</td>\n",
              "      <td>24</td>\n",
              "      <td>FEMININO</td>\n",
              "      <td>BRANCA</td>\n",
              "      <td>70 a 79  anos</td>\n",
              "      <td>NAO</td>\n",
              "      <td>SIM</td>\n",
              "      <td>SIM</td>\n",
              "      <td>NAO</td>\n",
              "      <td>520870</td>\n",
              "      <td>GOIANIA</td>\n",
              "      <td>CENTRAL</td>\n",
              "      <td>SIM</td>\n",
              "    </tr>\n",
              "    <tr>\n",
              "      <th>23</th>\n",
              "      <td>20200825</td>\n",
              "      <td>20200803</td>\n",
              "      <td>2020</td>\n",
              "      <td>32</td>\n",
              "      <td>FEMININO</td>\n",
              "      <td>PARDA</td>\n",
              "      <td>40 a 49 anos</td>\n",
              "      <td>NAO</td>\n",
              "      <td>NAO</td>\n",
              "      <td>NAO</td>\n",
              "      <td>NAO</td>\n",
              "      <td>520870</td>\n",
              "      <td>GOIANIA</td>\n",
              "      <td>CENTRAL</td>\n",
              "      <td>SIM</td>\n",
              "    </tr>\n",
              "    <tr>\n",
              "      <th>25</th>\n",
              "      <td>20200828</td>\n",
              "      <td>20200827</td>\n",
              "      <td>2020</td>\n",
              "      <td>35</td>\n",
              "      <td>FEMININO</td>\n",
              "      <td>PRETA</td>\n",
              "      <td>15 a 19 anos</td>\n",
              "      <td>NAO</td>\n",
              "      <td>NAO</td>\n",
              "      <td>NAO</td>\n",
              "      <td>NAO</td>\n",
              "      <td>520870</td>\n",
              "      <td>GOIANIA</td>\n",
              "      <td>CENTRAL</td>\n",
              "      <td>SIM</td>\n",
              "    </tr>\n",
              "    <tr>\n",
              "      <th>...</th>\n",
              "      <td>...</td>\n",
              "      <td>...</td>\n",
              "      <td>...</td>\n",
              "      <td>...</td>\n",
              "      <td>...</td>\n",
              "      <td>...</td>\n",
              "      <td>...</td>\n",
              "      <td>...</td>\n",
              "      <td>...</td>\n",
              "      <td>...</td>\n",
              "      <td>...</td>\n",
              "      <td>...</td>\n",
              "      <td>...</td>\n",
              "      <td>...</td>\n",
              "      <td>...</td>\n",
              "    </tr>\n",
              "    <tr>\n",
              "      <th>183710</th>\n",
              "      <td>20200916</td>\n",
              "      <td>20200818</td>\n",
              "      <td>2020</td>\n",
              "      <td>34</td>\n",
              "      <td>MASCULINO</td>\n",
              "      <td>PARDA</td>\n",
              "      <td>&lt; 10 anos</td>\n",
              "      <td>NAO</td>\n",
              "      <td>NAO</td>\n",
              "      <td>NAO</td>\n",
              "      <td>NAO</td>\n",
              "      <td>520870</td>\n",
              "      <td>GOIANIA</td>\n",
              "      <td>CENTRAL</td>\n",
              "      <td>SIM</td>\n",
              "    </tr>\n",
              "    <tr>\n",
              "      <th>183711</th>\n",
              "      <td>20200806</td>\n",
              "      <td>20200801</td>\n",
              "      <td>2020</td>\n",
              "      <td>31</td>\n",
              "      <td>MASCULINO</td>\n",
              "      <td>PARDA</td>\n",
              "      <td>20 a 29 anos</td>\n",
              "      <td>NAO</td>\n",
              "      <td>NAO</td>\n",
              "      <td>NAO</td>\n",
              "      <td>NAO</td>\n",
              "      <td>520870</td>\n",
              "      <td>GOIANIA</td>\n",
              "      <td>CENTRAL</td>\n",
              "      <td>SIM</td>\n",
              "    </tr>\n",
              "    <tr>\n",
              "      <th>183712</th>\n",
              "      <td>20200708</td>\n",
              "      <td>20200624</td>\n",
              "      <td>2020</td>\n",
              "      <td>26</td>\n",
              "      <td>MASCULINO</td>\n",
              "      <td>PARDA</td>\n",
              "      <td>20 a 29 anos</td>\n",
              "      <td>NAO</td>\n",
              "      <td>NAO</td>\n",
              "      <td>NAO</td>\n",
              "      <td>NAO</td>\n",
              "      <td>520870</td>\n",
              "      <td>GOIANIA</td>\n",
              "      <td>CENTRAL</td>\n",
              "      <td>SIM</td>\n",
              "    </tr>\n",
              "    <tr>\n",
              "      <th>183714</th>\n",
              "      <td>20200821</td>\n",
              "      <td>20200811</td>\n",
              "      <td>2020</td>\n",
              "      <td>33</td>\n",
              "      <td>MASCULINO</td>\n",
              "      <td>PARDA</td>\n",
              "      <td>20 a 29 anos</td>\n",
              "      <td>NAO</td>\n",
              "      <td>NAO</td>\n",
              "      <td>NAO</td>\n",
              "      <td>NAO</td>\n",
              "      <td>520870</td>\n",
              "      <td>GOIANIA</td>\n",
              "      <td>CENTRAL</td>\n",
              "      <td>SIM</td>\n",
              "    </tr>\n",
              "    <tr>\n",
              "      <th>183725</th>\n",
              "      <td>20200909</td>\n",
              "      <td>20200907</td>\n",
              "      <td>2020</td>\n",
              "      <td>37</td>\n",
              "      <td>MASCULINO</td>\n",
              "      <td>IGNORADO</td>\n",
              "      <td>&lt; 10 anos</td>\n",
              "      <td>NAO</td>\n",
              "      <td>NAO</td>\n",
              "      <td>NAO</td>\n",
              "      <td>NAO</td>\n",
              "      <td>520870</td>\n",
              "      <td>GOIANIA</td>\n",
              "      <td>CENTRAL</td>\n",
              "      <td>NAO</td>\n",
              "    </tr>\n",
              "  </tbody>\n",
              "</table>\n",
              "<p>47666 rows × 15 columns</p>\n",
              "</div>"
            ],
            "text/plain": [
              "        data_notificacao  data_inicio_sintomas  ...  regiao_saude  recuperado\n",
              "10              20200805              20200728  ...       CENTRAL         NAO\n",
              "16              20200722              20200715  ...       CENTRAL         SIM\n",
              "17              20200613              20200612  ...       CENTRAL         SIM\n",
              "23              20200825              20200803  ...       CENTRAL         SIM\n",
              "25              20200828              20200827  ...       CENTRAL         SIM\n",
              "...                  ...                   ...  ...           ...         ...\n",
              "183710          20200916              20200818  ...       CENTRAL         SIM\n",
              "183711          20200806              20200801  ...       CENTRAL         SIM\n",
              "183712          20200708              20200624  ...       CENTRAL         SIM\n",
              "183714          20200821              20200811  ...       CENTRAL         SIM\n",
              "183725          20200909              20200907  ...       CENTRAL         NAO\n",
              "\n",
              "[47666 rows x 15 columns]"
            ]
          },
          "metadata": {
            "tags": []
          },
          "execution_count": 21
        }
      ]
    },
    {
      "cell_type": "code",
      "metadata": {
        "id": "hA6oGq4CWORK",
        "colab_type": "code",
        "colab": {
          "base_uri": "https://localhost:8080/",
          "height": 419
        },
        "outputId": "7775aad1-f9b6-42c1-fad1-b6eb2303bdef"
      },
      "source": [
        "casos_por_dia = casos_por_dia['data_notificacao'].value_counts() \n",
        "casos_por_dia = casos_por_dia.to_frame(name='num_casos')\n",
        "casos_por_dia.reset_index(level=0, inplace=True)\n",
        "casos_por_dia.rename(columns={'index': 'data_notificacao'}, inplace = True)\n",
        "casos_por_dia"
      ],
      "execution_count": 22,
      "outputs": [
        {
          "output_type": "execute_result",
          "data": {
            "text/html": [
              "<div>\n",
              "<style scoped>\n",
              "    .dataframe tbody tr th:only-of-type {\n",
              "        vertical-align: middle;\n",
              "    }\n",
              "\n",
              "    .dataframe tbody tr th {\n",
              "        vertical-align: top;\n",
              "    }\n",
              "\n",
              "    .dataframe thead th {\n",
              "        text-align: right;\n",
              "    }\n",
              "</style>\n",
              "<table border=\"1\" class=\"dataframe\">\n",
              "  <thead>\n",
              "    <tr style=\"text-align: right;\">\n",
              "      <th></th>\n",
              "      <th>data_notificacao</th>\n",
              "      <th>num_casos</th>\n",
              "    </tr>\n",
              "  </thead>\n",
              "  <tbody>\n",
              "    <tr>\n",
              "      <th>0</th>\n",
              "      <td>20200812</td>\n",
              "      <td>1195</td>\n",
              "    </tr>\n",
              "    <tr>\n",
              "      <th>1</th>\n",
              "      <td>20200811</td>\n",
              "      <td>1074</td>\n",
              "    </tr>\n",
              "    <tr>\n",
              "      <th>2</th>\n",
              "      <td>20200817</td>\n",
              "      <td>1041</td>\n",
              "    </tr>\n",
              "    <tr>\n",
              "      <th>3</th>\n",
              "      <td>20200813</td>\n",
              "      <td>996</td>\n",
              "    </tr>\n",
              "    <tr>\n",
              "      <th>4</th>\n",
              "      <td>20200804</td>\n",
              "      <td>977</td>\n",
              "    </tr>\n",
              "    <tr>\n",
              "      <th>...</th>\n",
              "      <td>...</td>\n",
              "      <td>...</td>\n",
              "    </tr>\n",
              "    <tr>\n",
              "      <th>187</th>\n",
              "      <td>20200314</td>\n",
              "      <td>1</td>\n",
              "    </tr>\n",
              "    <tr>\n",
              "      <th>188</th>\n",
              "      <td>20200919</td>\n",
              "      <td>1</td>\n",
              "    </tr>\n",
              "    <tr>\n",
              "      <th>189</th>\n",
              "      <td>20200313</td>\n",
              "      <td>1</td>\n",
              "    </tr>\n",
              "    <tr>\n",
              "      <th>190</th>\n",
              "      <td>20200311</td>\n",
              "      <td>1</td>\n",
              "    </tr>\n",
              "    <tr>\n",
              "      <th>191</th>\n",
              "      <td>20200301</td>\n",
              "      <td>1</td>\n",
              "    </tr>\n",
              "  </tbody>\n",
              "</table>\n",
              "<p>192 rows × 2 columns</p>\n",
              "</div>"
            ],
            "text/plain": [
              "     data_notificacao  num_casos\n",
              "0            20200812       1195\n",
              "1            20200811       1074\n",
              "2            20200817       1041\n",
              "3            20200813        996\n",
              "4            20200804        977\n",
              "..                ...        ...\n",
              "187          20200314          1\n",
              "188          20200919          1\n",
              "189          20200313          1\n",
              "190          20200311          1\n",
              "191          20200301          1\n",
              "\n",
              "[192 rows x 2 columns]"
            ]
          },
          "metadata": {
            "tags": []
          },
          "execution_count": 22
        }
      ]
    },
    {
      "cell_type": "code",
      "metadata": {
        "id": "Vu0m24XpWc-x",
        "colab_type": "code",
        "colab": {
          "base_uri": "https://localhost:8080/",
          "height": 419
        },
        "outputId": "3237da7c-21b5-4b9b-e409-b9897ef48efb"
      },
      "source": [
        "casos_por_dia['data_notificacao'] = casos_por_dia['data_notificacao'].apply(lambda x: datetime.strptime(str(x), '%Y%m%d').date())\n",
        "\n",
        "casos_por_dia\n"
      ],
      "execution_count": 23,
      "outputs": [
        {
          "output_type": "execute_result",
          "data": {
            "text/html": [
              "<div>\n",
              "<style scoped>\n",
              "    .dataframe tbody tr th:only-of-type {\n",
              "        vertical-align: middle;\n",
              "    }\n",
              "\n",
              "    .dataframe tbody tr th {\n",
              "        vertical-align: top;\n",
              "    }\n",
              "\n",
              "    .dataframe thead th {\n",
              "        text-align: right;\n",
              "    }\n",
              "</style>\n",
              "<table border=\"1\" class=\"dataframe\">\n",
              "  <thead>\n",
              "    <tr style=\"text-align: right;\">\n",
              "      <th></th>\n",
              "      <th>data_notificacao</th>\n",
              "      <th>num_casos</th>\n",
              "    </tr>\n",
              "  </thead>\n",
              "  <tbody>\n",
              "    <tr>\n",
              "      <th>0</th>\n",
              "      <td>2020-08-12</td>\n",
              "      <td>1195</td>\n",
              "    </tr>\n",
              "    <tr>\n",
              "      <th>1</th>\n",
              "      <td>2020-08-11</td>\n",
              "      <td>1074</td>\n",
              "    </tr>\n",
              "    <tr>\n",
              "      <th>2</th>\n",
              "      <td>2020-08-17</td>\n",
              "      <td>1041</td>\n",
              "    </tr>\n",
              "    <tr>\n",
              "      <th>3</th>\n",
              "      <td>2020-08-13</td>\n",
              "      <td>996</td>\n",
              "    </tr>\n",
              "    <tr>\n",
              "      <th>4</th>\n",
              "      <td>2020-08-04</td>\n",
              "      <td>977</td>\n",
              "    </tr>\n",
              "    <tr>\n",
              "      <th>...</th>\n",
              "      <td>...</td>\n",
              "      <td>...</td>\n",
              "    </tr>\n",
              "    <tr>\n",
              "      <th>187</th>\n",
              "      <td>2020-03-14</td>\n",
              "      <td>1</td>\n",
              "    </tr>\n",
              "    <tr>\n",
              "      <th>188</th>\n",
              "      <td>2020-09-19</td>\n",
              "      <td>1</td>\n",
              "    </tr>\n",
              "    <tr>\n",
              "      <th>189</th>\n",
              "      <td>2020-03-13</td>\n",
              "      <td>1</td>\n",
              "    </tr>\n",
              "    <tr>\n",
              "      <th>190</th>\n",
              "      <td>2020-03-11</td>\n",
              "      <td>1</td>\n",
              "    </tr>\n",
              "    <tr>\n",
              "      <th>191</th>\n",
              "      <td>2020-03-01</td>\n",
              "      <td>1</td>\n",
              "    </tr>\n",
              "  </tbody>\n",
              "</table>\n",
              "<p>192 rows × 2 columns</p>\n",
              "</div>"
            ],
            "text/plain": [
              "    data_notificacao  num_casos\n",
              "0         2020-08-12       1195\n",
              "1         2020-08-11       1074\n",
              "2         2020-08-17       1041\n",
              "3         2020-08-13        996\n",
              "4         2020-08-04        977\n",
              "..               ...        ...\n",
              "187       2020-03-14          1\n",
              "188       2020-09-19          1\n",
              "189       2020-03-13          1\n",
              "190       2020-03-11          1\n",
              "191       2020-03-01          1\n",
              "\n",
              "[192 rows x 2 columns]"
            ]
          },
          "metadata": {
            "tags": []
          },
          "execution_count": 23
        }
      ]
    },
    {
      "cell_type": "code",
      "metadata": {
        "id": "q5wGx2adXsCt",
        "colab_type": "code",
        "colab": {
          "base_uri": "https://localhost:8080/",
          "height": 419
        },
        "outputId": "e2fb2816-d138-48c0-a6c7-e382b0b4eac8"
      },
      "source": [
        "casos_por_dia['data_notificacao'] = pd.to_datetime(casos_por_dia['data_notificacao'])\n",
        "\n",
        "# Ordena pela data e salva em um novo DataFrame\n",
        "casos_por_dia = casos_por_dia.sort_values(by='data_notificacao')\n",
        "casos_por_dia"
      ],
      "execution_count": 24,
      "outputs": [
        {
          "output_type": "execute_result",
          "data": {
            "text/html": [
              "<div>\n",
              "<style scoped>\n",
              "    .dataframe tbody tr th:only-of-type {\n",
              "        vertical-align: middle;\n",
              "    }\n",
              "\n",
              "    .dataframe tbody tr th {\n",
              "        vertical-align: top;\n",
              "    }\n",
              "\n",
              "    .dataframe thead th {\n",
              "        text-align: right;\n",
              "    }\n",
              "</style>\n",
              "<table border=\"1\" class=\"dataframe\">\n",
              "  <thead>\n",
              "    <tr style=\"text-align: right;\">\n",
              "      <th></th>\n",
              "      <th>data_notificacao</th>\n",
              "      <th>num_casos</th>\n",
              "    </tr>\n",
              "  </thead>\n",
              "  <tbody>\n",
              "    <tr>\n",
              "      <th>191</th>\n",
              "      <td>2020-03-01</td>\n",
              "      <td>1</td>\n",
              "    </tr>\n",
              "    <tr>\n",
              "      <th>186</th>\n",
              "      <td>2020-03-10</td>\n",
              "      <td>1</td>\n",
              "    </tr>\n",
              "    <tr>\n",
              "      <th>190</th>\n",
              "      <td>2020-03-11</td>\n",
              "      <td>1</td>\n",
              "    </tr>\n",
              "    <tr>\n",
              "      <th>189</th>\n",
              "      <td>2020-03-13</td>\n",
              "      <td>1</td>\n",
              "    </tr>\n",
              "    <tr>\n",
              "      <th>187</th>\n",
              "      <td>2020-03-14</td>\n",
              "      <td>1</td>\n",
              "    </tr>\n",
              "    <tr>\n",
              "      <th>...</th>\n",
              "      <td>...</td>\n",
              "      <td>...</td>\n",
              "    </tr>\n",
              "    <tr>\n",
              "      <th>6</th>\n",
              "      <td>2020-09-15</td>\n",
              "      <td>943</td>\n",
              "    </tr>\n",
              "    <tr>\n",
              "      <th>41</th>\n",
              "      <td>2020-09-16</td>\n",
              "      <td>467</td>\n",
              "    </tr>\n",
              "    <tr>\n",
              "      <th>53</th>\n",
              "      <td>2020-09-17</td>\n",
              "      <td>357</td>\n",
              "    </tr>\n",
              "    <tr>\n",
              "      <th>61</th>\n",
              "      <td>2020-09-18</td>\n",
              "      <td>294</td>\n",
              "    </tr>\n",
              "    <tr>\n",
              "      <th>188</th>\n",
              "      <td>2020-09-19</td>\n",
              "      <td>1</td>\n",
              "    </tr>\n",
              "  </tbody>\n",
              "</table>\n",
              "<p>192 rows × 2 columns</p>\n",
              "</div>"
            ],
            "text/plain": [
              "    data_notificacao  num_casos\n",
              "191       2020-03-01          1\n",
              "186       2020-03-10          1\n",
              "190       2020-03-11          1\n",
              "189       2020-03-13          1\n",
              "187       2020-03-14          1\n",
              "..               ...        ...\n",
              "6         2020-09-15        943\n",
              "41        2020-09-16        467\n",
              "53        2020-09-17        357\n",
              "61        2020-09-18        294\n",
              "188       2020-09-19          1\n",
              "\n",
              "[192 rows x 2 columns]"
            ]
          },
          "metadata": {
            "tags": []
          },
          "execution_count": 24
        }
      ]
    },
    {
      "cell_type": "code",
      "metadata": {
        "id": "bCfAO8klZrQx",
        "colab_type": "code",
        "colab": {
          "base_uri": "https://localhost:8080/",
          "height": 419
        },
        "outputId": "8670bb30-2daa-4bf7-da3c-c3d234ec11b7"
      },
      "source": [
        "casos_por_dia.to_csv('casos_por_dia_goiania.csv', index=False)\n",
        "casos_por_dia"
      ],
      "execution_count": 25,
      "outputs": [
        {
          "output_type": "execute_result",
          "data": {
            "text/html": [
              "<div>\n",
              "<style scoped>\n",
              "    .dataframe tbody tr th:only-of-type {\n",
              "        vertical-align: middle;\n",
              "    }\n",
              "\n",
              "    .dataframe tbody tr th {\n",
              "        vertical-align: top;\n",
              "    }\n",
              "\n",
              "    .dataframe thead th {\n",
              "        text-align: right;\n",
              "    }\n",
              "</style>\n",
              "<table border=\"1\" class=\"dataframe\">\n",
              "  <thead>\n",
              "    <tr style=\"text-align: right;\">\n",
              "      <th></th>\n",
              "      <th>data_notificacao</th>\n",
              "      <th>num_casos</th>\n",
              "    </tr>\n",
              "  </thead>\n",
              "  <tbody>\n",
              "    <tr>\n",
              "      <th>191</th>\n",
              "      <td>2020-03-01</td>\n",
              "      <td>1</td>\n",
              "    </tr>\n",
              "    <tr>\n",
              "      <th>186</th>\n",
              "      <td>2020-03-10</td>\n",
              "      <td>1</td>\n",
              "    </tr>\n",
              "    <tr>\n",
              "      <th>190</th>\n",
              "      <td>2020-03-11</td>\n",
              "      <td>1</td>\n",
              "    </tr>\n",
              "    <tr>\n",
              "      <th>189</th>\n",
              "      <td>2020-03-13</td>\n",
              "      <td>1</td>\n",
              "    </tr>\n",
              "    <tr>\n",
              "      <th>187</th>\n",
              "      <td>2020-03-14</td>\n",
              "      <td>1</td>\n",
              "    </tr>\n",
              "    <tr>\n",
              "      <th>...</th>\n",
              "      <td>...</td>\n",
              "      <td>...</td>\n",
              "    </tr>\n",
              "    <tr>\n",
              "      <th>6</th>\n",
              "      <td>2020-09-15</td>\n",
              "      <td>943</td>\n",
              "    </tr>\n",
              "    <tr>\n",
              "      <th>41</th>\n",
              "      <td>2020-09-16</td>\n",
              "      <td>467</td>\n",
              "    </tr>\n",
              "    <tr>\n",
              "      <th>53</th>\n",
              "      <td>2020-09-17</td>\n",
              "      <td>357</td>\n",
              "    </tr>\n",
              "    <tr>\n",
              "      <th>61</th>\n",
              "      <td>2020-09-18</td>\n",
              "      <td>294</td>\n",
              "    </tr>\n",
              "    <tr>\n",
              "      <th>188</th>\n",
              "      <td>2020-09-19</td>\n",
              "      <td>1</td>\n",
              "    </tr>\n",
              "  </tbody>\n",
              "</table>\n",
              "<p>192 rows × 2 columns</p>\n",
              "</div>"
            ],
            "text/plain": [
              "    data_notificacao  num_casos\n",
              "191       2020-03-01          1\n",
              "186       2020-03-10          1\n",
              "190       2020-03-11          1\n",
              "189       2020-03-13          1\n",
              "187       2020-03-14          1\n",
              "..               ...        ...\n",
              "6         2020-09-15        943\n",
              "41        2020-09-16        467\n",
              "53        2020-09-17        357\n",
              "61        2020-09-18        294\n",
              "188       2020-09-19          1\n",
              "\n",
              "[192 rows x 2 columns]"
            ]
          },
          "metadata": {
            "tags": []
          },
          "execution_count": 25
        }
      ]
    },
    {
      "cell_type": "markdown",
      "metadata": {
        "colab_type": "text",
        "id": "YZtIdV6TZlR5"
      },
      "source": [
        "### Média móvel - casos confirmados por dia"
      ]
    },
    {
      "cell_type": "code",
      "metadata": {
        "colab_type": "code",
        "id": "E6U-adpYZlR6",
        "colab": {}
      },
      "source": [
        "# casos_ativos_goiania = pd.read_csv('casos_ativos_goiania.csv', sep=',')"
      ],
      "execution_count": 26,
      "outputs": []
    },
    {
      "cell_type": "code",
      "metadata": {
        "colab_type": "code",
        "id": "Q4jJ6OwuZlR9",
        "colab": {
          "base_uri": "https://localhost:8080/",
          "height": 297
        },
        "outputId": "498743e3-6fae-459f-c23e-6701b813edae"
      },
      "source": [
        "df = casos_por_dia\n",
        "for i in range(0,df.shape[0]-6):\n",
        "    df.loc[df.index[i+6],'MM_casos'] = np.round(((df.iloc[i,1]+\n",
        "                                                  df.iloc[i+1,1]+\n",
        "                                                  df.iloc[i+2,1]+\n",
        "                                                  df.iloc[i+3,1]+\n",
        "                                                  df.iloc[i+4,1]+\n",
        "                                                  df.iloc[i+5,1]+\n",
        "                                                  df.iloc[i+6,1])/7),1)           \n",
        "\n",
        "df.head(8)"
      ],
      "execution_count": 27,
      "outputs": [
        {
          "output_type": "execute_result",
          "data": {
            "text/html": [
              "<div>\n",
              "<style scoped>\n",
              "    .dataframe tbody tr th:only-of-type {\n",
              "        vertical-align: middle;\n",
              "    }\n",
              "\n",
              "    .dataframe tbody tr th {\n",
              "        vertical-align: top;\n",
              "    }\n",
              "\n",
              "    .dataframe thead th {\n",
              "        text-align: right;\n",
              "    }\n",
              "</style>\n",
              "<table border=\"1\" class=\"dataframe\">\n",
              "  <thead>\n",
              "    <tr style=\"text-align: right;\">\n",
              "      <th></th>\n",
              "      <th>data_notificacao</th>\n",
              "      <th>num_casos</th>\n",
              "      <th>MM_casos</th>\n",
              "    </tr>\n",
              "  </thead>\n",
              "  <tbody>\n",
              "    <tr>\n",
              "      <th>191</th>\n",
              "      <td>2020-03-01</td>\n",
              "      <td>1</td>\n",
              "      <td>NaN</td>\n",
              "    </tr>\n",
              "    <tr>\n",
              "      <th>186</th>\n",
              "      <td>2020-03-10</td>\n",
              "      <td>1</td>\n",
              "      <td>NaN</td>\n",
              "    </tr>\n",
              "    <tr>\n",
              "      <th>190</th>\n",
              "      <td>2020-03-11</td>\n",
              "      <td>1</td>\n",
              "      <td>NaN</td>\n",
              "    </tr>\n",
              "    <tr>\n",
              "      <th>189</th>\n",
              "      <td>2020-03-13</td>\n",
              "      <td>1</td>\n",
              "      <td>NaN</td>\n",
              "    </tr>\n",
              "    <tr>\n",
              "      <th>187</th>\n",
              "      <td>2020-03-14</td>\n",
              "      <td>1</td>\n",
              "      <td>NaN</td>\n",
              "    </tr>\n",
              "    <tr>\n",
              "      <th>177</th>\n",
              "      <td>2020-03-15</td>\n",
              "      <td>2</td>\n",
              "      <td>NaN</td>\n",
              "    </tr>\n",
              "    <tr>\n",
              "      <th>176</th>\n",
              "      <td>2020-03-16</td>\n",
              "      <td>4</td>\n",
              "      <td>1.6</td>\n",
              "    </tr>\n",
              "    <tr>\n",
              "      <th>184</th>\n",
              "      <td>2020-03-17</td>\n",
              "      <td>1</td>\n",
              "      <td>1.6</td>\n",
              "    </tr>\n",
              "  </tbody>\n",
              "</table>\n",
              "</div>"
            ],
            "text/plain": [
              "    data_notificacao  num_casos  MM_casos\n",
              "191       2020-03-01          1       NaN\n",
              "186       2020-03-10          1       NaN\n",
              "190       2020-03-11          1       NaN\n",
              "189       2020-03-13          1       NaN\n",
              "187       2020-03-14          1       NaN\n",
              "177       2020-03-15          2       NaN\n",
              "176       2020-03-16          4       1.6\n",
              "184       2020-03-17          1       1.6"
            ]
          },
          "metadata": {
            "tags": []
          },
          "execution_count": 27
        }
      ]
    },
    {
      "cell_type": "code",
      "metadata": {
        "colab_type": "code",
        "id": "vYOSe4W1ZlSC",
        "colab": {}
      },
      "source": [
        "casos_por_dia.to_csv('casos_ativos_goiania.csv', index=False)"
      ],
      "execution_count": 28,
      "outputs": []
    },
    {
      "cell_type": "code",
      "metadata": {
        "colab_type": "code",
        "id": "yJTfvmiqZlSH",
        "colab": {
          "base_uri": "https://localhost:8080/",
          "height": 542
        },
        "outputId": "410f1e75-cc9e-4b59-ee46-34494731cd87"
      },
      "source": [
        "fig = px.bar(casos_por_dia, x='data_notificacao', y='num_casos',  title=\"Casos confirmados por data de notificação\", labels={'num_casos':'N° de casos confirmados', \n",
        "                                                                         'data_notificacao': 'Data de notificação',})\n",
        "\n",
        "fig.add_trace(\n",
        "    go.Scatter(\n",
        "        x=casos_por_dia['data_notificacao'],\n",
        "        y=casos_por_dia['MM_casos'],\n",
        "        name='Média Móvel<br>(7 dias)',        \n",
        "        hovertemplate= \"Média Móvel: %{x}<br>Data: %{y}<extra></extra>\",\n",
        "\n",
        "    ))\n",
        "\n",
        "fig.update_traces()"
      ],
      "execution_count": 124,
      "outputs": [
        {
          "output_type": "display_data",
          "data": {
            "text/html": [
              "<html>\n",
              "<head><meta charset=\"utf-8\" /></head>\n",
              "<body>\n",
              "    <div>\n",
              "            <script src=\"https://cdnjs.cloudflare.com/ajax/libs/mathjax/2.7.5/MathJax.js?config=TeX-AMS-MML_SVG\"></script><script type=\"text/javascript\">if (window.MathJax) {MathJax.Hub.Config({SVG: {font: \"STIX-Web\"}});}</script>\n",
              "                <script type=\"text/javascript\">window.PlotlyConfig = {MathJaxConfig: 'local'};</script>\n",
              "        <script src=\"https://cdn.plot.ly/plotly-latest.min.js\"></script>    \n",
              "            <div id=\"576cae8c-f3e1-4125-8068-6448a99ffdb2\" class=\"plotly-graph-div\" style=\"height:525px; width:100%;\"></div>\n",
              "            <script type=\"text/javascript\">\n",
              "                \n",
              "                    window.PLOTLYENV=window.PLOTLYENV || {};\n",
              "                    \n",
              "                if (document.getElementById(\"576cae8c-f3e1-4125-8068-6448a99ffdb2\")) {\n",
              "                    Plotly.newPlot(\n",
              "                        '576cae8c-f3e1-4125-8068-6448a99ffdb2',\n",
              "                        [{\"alignmentgroup\": \"True\", \"hoverlabel\": {\"namelength\": 0}, \"hovertemplate\": \"Data de notifica\\u00e7\\u00e3o=%{x}<br>N\\u00b0 de casos confirmados=%{y}\", \"legendgroup\": \"\", \"marker\": {\"color\": \"#636efa\"}, \"name\": \"\", \"offsetgroup\": \"\", \"orientation\": \"v\", \"showlegend\": false, \"textposition\": \"auto\", \"type\": \"bar\", \"x\": [\"2020-03-01T00:00:00\", \"2020-03-10T00:00:00\", \"2020-03-11T00:00:00\", \"2020-03-13T00:00:00\", \"2020-03-14T00:00:00\", \"2020-03-15T00:00:00\", \"2020-03-16T00:00:00\", \"2020-03-17T00:00:00\", \"2020-03-19T00:00:00\", \"2020-03-20T00:00:00\", \"2020-03-21T00:00:00\", \"2020-03-22T00:00:00\", \"2020-03-23T00:00:00\", \"2020-03-24T00:00:00\", \"2020-03-25T00:00:00\", \"2020-03-26T00:00:00\", \"2020-03-27T00:00:00\", \"2020-03-28T00:00:00\", \"2020-03-30T00:00:00\", \"2020-03-31T00:00:00\", \"2020-04-01T00:00:00\", \"2020-04-02T00:00:00\", \"2020-04-03T00:00:00\", \"2020-04-04T00:00:00\", \"2020-04-05T00:00:00\", \"2020-04-06T00:00:00\", \"2020-04-07T00:00:00\", \"2020-04-08T00:00:00\", \"2020-04-09T00:00:00\", \"2020-04-10T00:00:00\", \"2020-04-11T00:00:00\", \"2020-04-12T00:00:00\", \"2020-04-13T00:00:00\", \"2020-04-14T00:00:00\", \"2020-04-15T00:00:00\", \"2020-04-16T00:00:00\", \"2020-04-17T00:00:00\", \"2020-04-18T00:00:00\", \"2020-04-19T00:00:00\", \"2020-04-20T00:00:00\", \"2020-04-21T00:00:00\", \"2020-04-22T00:00:00\", \"2020-04-23T00:00:00\", \"2020-04-24T00:00:00\", \"2020-04-25T00:00:00\", \"2020-04-26T00:00:00\", \"2020-04-27T00:00:00\", \"2020-04-28T00:00:00\", \"2020-04-29T00:00:00\", \"2020-04-30T00:00:00\", \"2020-05-01T00:00:00\", \"2020-05-02T00:00:00\", \"2020-05-03T00:00:00\", \"2020-05-04T00:00:00\", \"2020-05-05T00:00:00\", \"2020-05-06T00:00:00\", \"2020-05-07T00:00:00\", \"2020-05-08T00:00:00\", \"2020-05-09T00:00:00\", \"2020-05-10T00:00:00\", \"2020-05-11T00:00:00\", \"2020-05-12T00:00:00\", \"2020-05-13T00:00:00\", \"2020-05-14T00:00:00\", \"2020-05-15T00:00:00\", \"2020-05-16T00:00:00\", \"2020-05-17T00:00:00\", \"2020-05-18T00:00:00\", \"2020-05-19T00:00:00\", \"2020-05-20T00:00:00\", \"2020-05-21T00:00:00\", \"2020-05-22T00:00:00\", \"2020-05-23T00:00:00\", \"2020-05-24T00:00:00\", \"2020-05-25T00:00:00\", \"2020-05-26T00:00:00\", \"2020-05-27T00:00:00\", \"2020-05-28T00:00:00\", \"2020-05-29T00:00:00\", \"2020-05-30T00:00:00\", \"2020-05-31T00:00:00\", \"2020-06-01T00:00:00\", \"2020-06-02T00:00:00\", \"2020-06-03T00:00:00\", \"2020-06-04T00:00:00\", \"2020-06-05T00:00:00\", \"2020-06-06T00:00:00\", \"2020-06-07T00:00:00\", \"2020-06-08T00:00:00\", \"2020-06-09T00:00:00\", \"2020-06-10T00:00:00\", \"2020-06-11T00:00:00\", \"2020-06-12T00:00:00\", \"2020-06-13T00:00:00\", \"2020-06-14T00:00:00\", \"2020-06-15T00:00:00\", \"2020-06-16T00:00:00\", \"2020-06-17T00:00:00\", \"2020-06-18T00:00:00\", \"2020-06-19T00:00:00\", \"2020-06-20T00:00:00\", \"2020-06-21T00:00:00\", \"2020-06-22T00:00:00\", \"2020-06-23T00:00:00\", \"2020-06-24T00:00:00\", \"2020-06-25T00:00:00\", \"2020-06-26T00:00:00\", \"2020-06-27T00:00:00\", \"2020-06-28T00:00:00\", \"2020-06-29T00:00:00\", \"2020-06-30T00:00:00\", \"2020-07-01T00:00:00\", \"2020-07-02T00:00:00\", \"2020-07-03T00:00:00\", \"2020-07-04T00:00:00\", \"2020-07-05T00:00:00\", \"2020-07-06T00:00:00\", \"2020-07-07T00:00:00\", \"2020-07-08T00:00:00\", \"2020-07-09T00:00:00\", \"2020-07-10T00:00:00\", \"2020-07-11T00:00:00\", \"2020-07-12T00:00:00\", \"2020-07-13T00:00:00\", \"2020-07-14T00:00:00\", \"2020-07-15T00:00:00\", \"2020-07-16T00:00:00\", \"2020-07-17T00:00:00\", \"2020-07-18T00:00:00\", \"2020-07-19T00:00:00\", \"2020-07-20T00:00:00\", \"2020-07-21T00:00:00\", \"2020-07-22T00:00:00\", \"2020-07-23T00:00:00\", \"2020-07-24T00:00:00\", \"2020-07-25T00:00:00\", \"2020-07-26T00:00:00\", \"2020-07-27T00:00:00\", \"2020-07-28T00:00:00\", \"2020-07-29T00:00:00\", \"2020-07-30T00:00:00\", \"2020-07-31T00:00:00\", \"2020-08-01T00:00:00\", \"2020-08-02T00:00:00\", \"2020-08-03T00:00:00\", \"2020-08-04T00:00:00\", \"2020-08-05T00:00:00\", \"2020-08-06T00:00:00\", \"2020-08-07T00:00:00\", \"2020-08-08T00:00:00\", \"2020-08-09T00:00:00\", \"2020-08-10T00:00:00\", \"2020-08-11T00:00:00\", \"2020-08-12T00:00:00\", \"2020-08-13T00:00:00\", \"2020-08-14T00:00:00\", \"2020-08-15T00:00:00\", \"2020-08-16T00:00:00\", \"2020-08-17T00:00:00\", \"2020-08-18T00:00:00\", \"2020-08-19T00:00:00\", \"2020-08-20T00:00:00\", \"2020-08-21T00:00:00\", \"2020-08-22T00:00:00\", \"2020-08-23T00:00:00\", \"2020-08-24T00:00:00\", \"2020-08-25T00:00:00\", \"2020-08-26T00:00:00\", \"2020-08-27T00:00:00\", \"2020-08-28T00:00:00\", \"2020-08-29T00:00:00\", \"2020-08-30T00:00:00\", \"2020-08-31T00:00:00\", \"2020-09-01T00:00:00\", \"2020-09-02T00:00:00\", \"2020-09-03T00:00:00\", \"2020-09-04T00:00:00\", \"2020-09-05T00:00:00\", \"2020-09-06T00:00:00\", \"2020-09-07T00:00:00\", \"2020-09-08T00:00:00\", \"2020-09-09T00:00:00\", \"2020-09-10T00:00:00\", \"2020-09-11T00:00:00\", \"2020-09-12T00:00:00\", \"2020-09-13T00:00:00\", \"2020-09-14T00:00:00\", \"2020-09-15T00:00:00\", \"2020-09-16T00:00:00\", \"2020-09-17T00:00:00\", \"2020-09-18T00:00:00\", \"2020-09-19T00:00:00\"], \"xaxis\": \"x\", \"y\": [1, 1, 1, 1, 1, 2, 4, 1, 4, 8, 2, 2, 8, 2, 12, 9, 2, 2, 5, 9, 16, 4, 12, 10, 10, 18, 5, 17, 6, 6, 10, 2, 14, 16, 19, 22, 21, 6, 1, 14, 7, 11, 24, 29, 40, 21, 38, 30, 21, 33, 11, 38, 8, 38, 45, 33, 39, 37, 20, 20, 37, 43, 80, 62, 72, 25, 48, 79, 78, 63, 79, 93, 60, 25, 78, 54, 126, 111, 138, 67, 65, 149, 206, 171, 207, 155, 171, 114, 215, 206, 197, 123, 150, 75, 117, 208, 210, 173, 163, 173, 143, 151, 196, 284, 238, 227, 242, 138, 106, 232, 350, 320, 356, 411, 248, 122, 461, 467, 588, 519, 402, 282, 155, 472, 402, 389, 380, 300, 135, 69, 315, 665, 514, 568, 454, 211, 174, 563, 519, 548, 659, 657, 311, 195, 877, 977, 821, 710, 788, 295, 146, 734, 1074, 1195, 996, 749, 194, 122, 1041, 735, 695, 527, 562, 277, 139, 840, 765, 698, 736, 735, 171, 130, 624, 600, 690, 612, 369, 261, 77, 200, 511, 524, 508, 524, 418, 359, 945, 943, 467, 357, 294, 1], \"yaxis\": \"y\"}, {\"hovertemplate\": \"M\\u00e9dia M\\u00f3vel: %{x}<br>Data: %{y}<extra></extra>\", \"name\": \"M\\u00e9dia M\\u00f3vel<br>(7 dias)\", \"type\": \"scatter\", \"x\": [\"2020-03-01T00:00:00\", \"2020-03-10T00:00:00\", \"2020-03-11T00:00:00\", \"2020-03-13T00:00:00\", \"2020-03-14T00:00:00\", \"2020-03-15T00:00:00\", \"2020-03-16T00:00:00\", \"2020-03-17T00:00:00\", \"2020-03-19T00:00:00\", \"2020-03-20T00:00:00\", \"2020-03-21T00:00:00\", \"2020-03-22T00:00:00\", \"2020-03-23T00:00:00\", \"2020-03-24T00:00:00\", \"2020-03-25T00:00:00\", \"2020-03-26T00:00:00\", \"2020-03-27T00:00:00\", \"2020-03-28T00:00:00\", \"2020-03-30T00:00:00\", \"2020-03-31T00:00:00\", \"2020-04-01T00:00:00\", \"2020-04-02T00:00:00\", \"2020-04-03T00:00:00\", \"2020-04-04T00:00:00\", \"2020-04-05T00:00:00\", \"2020-04-06T00:00:00\", \"2020-04-07T00:00:00\", \"2020-04-08T00:00:00\", \"2020-04-09T00:00:00\", \"2020-04-10T00:00:00\", \"2020-04-11T00:00:00\", \"2020-04-12T00:00:00\", \"2020-04-13T00:00:00\", \"2020-04-14T00:00:00\", \"2020-04-15T00:00:00\", \"2020-04-16T00:00:00\", \"2020-04-17T00:00:00\", \"2020-04-18T00:00:00\", \"2020-04-19T00:00:00\", \"2020-04-20T00:00:00\", \"2020-04-21T00:00:00\", \"2020-04-22T00:00:00\", \"2020-04-23T00:00:00\", \"2020-04-24T00:00:00\", \"2020-04-25T00:00:00\", \"2020-04-26T00:00:00\", \"2020-04-27T00:00:00\", \"2020-04-28T00:00:00\", \"2020-04-29T00:00:00\", \"2020-04-30T00:00:00\", \"2020-05-01T00:00:00\", \"2020-05-02T00:00:00\", \"2020-05-03T00:00:00\", \"2020-05-04T00:00:00\", \"2020-05-05T00:00:00\", \"2020-05-06T00:00:00\", \"2020-05-07T00:00:00\", \"2020-05-08T00:00:00\", \"2020-05-09T00:00:00\", \"2020-05-10T00:00:00\", \"2020-05-11T00:00:00\", \"2020-05-12T00:00:00\", \"2020-05-13T00:00:00\", \"2020-05-14T00:00:00\", \"2020-05-15T00:00:00\", \"2020-05-16T00:00:00\", \"2020-05-17T00:00:00\", \"2020-05-18T00:00:00\", \"2020-05-19T00:00:00\", \"2020-05-20T00:00:00\", \"2020-05-21T00:00:00\", \"2020-05-22T00:00:00\", \"2020-05-23T00:00:00\", \"2020-05-24T00:00:00\", \"2020-05-25T00:00:00\", \"2020-05-26T00:00:00\", \"2020-05-27T00:00:00\", \"2020-05-28T00:00:00\", \"2020-05-29T00:00:00\", \"2020-05-30T00:00:00\", \"2020-05-31T00:00:00\", \"2020-06-01T00:00:00\", \"2020-06-02T00:00:00\", \"2020-06-03T00:00:00\", \"2020-06-04T00:00:00\", \"2020-06-05T00:00:00\", \"2020-06-06T00:00:00\", \"2020-06-07T00:00:00\", \"2020-06-08T00:00:00\", \"2020-06-09T00:00:00\", \"2020-06-10T00:00:00\", \"2020-06-11T00:00:00\", \"2020-06-12T00:00:00\", \"2020-06-13T00:00:00\", \"2020-06-14T00:00:00\", \"2020-06-15T00:00:00\", \"2020-06-16T00:00:00\", \"2020-06-17T00:00:00\", \"2020-06-18T00:00:00\", \"2020-06-19T00:00:00\", \"2020-06-20T00:00:00\", \"2020-06-21T00:00:00\", \"2020-06-22T00:00:00\", \"2020-06-23T00:00:00\", \"2020-06-24T00:00:00\", \"2020-06-25T00:00:00\", \"2020-06-26T00:00:00\", \"2020-06-27T00:00:00\", \"2020-06-28T00:00:00\", \"2020-06-29T00:00:00\", \"2020-06-30T00:00:00\", \"2020-07-01T00:00:00\", \"2020-07-02T00:00:00\", \"2020-07-03T00:00:00\", \"2020-07-04T00:00:00\", \"2020-07-05T00:00:00\", \"2020-07-06T00:00:00\", \"2020-07-07T00:00:00\", \"2020-07-08T00:00:00\", \"2020-07-09T00:00:00\", \"2020-07-10T00:00:00\", \"2020-07-11T00:00:00\", \"2020-07-12T00:00:00\", \"2020-07-13T00:00:00\", \"2020-07-14T00:00:00\", \"2020-07-15T00:00:00\", \"2020-07-16T00:00:00\", \"2020-07-17T00:00:00\", \"2020-07-18T00:00:00\", \"2020-07-19T00:00:00\", \"2020-07-20T00:00:00\", \"2020-07-21T00:00:00\", \"2020-07-22T00:00:00\", \"2020-07-23T00:00:00\", \"2020-07-24T00:00:00\", \"2020-07-25T00:00:00\", \"2020-07-26T00:00:00\", \"2020-07-27T00:00:00\", \"2020-07-28T00:00:00\", \"2020-07-29T00:00:00\", \"2020-07-30T00:00:00\", \"2020-07-31T00:00:00\", \"2020-08-01T00:00:00\", \"2020-08-02T00:00:00\", \"2020-08-03T00:00:00\", \"2020-08-04T00:00:00\", \"2020-08-05T00:00:00\", \"2020-08-06T00:00:00\", \"2020-08-07T00:00:00\", \"2020-08-08T00:00:00\", \"2020-08-09T00:00:00\", \"2020-08-10T00:00:00\", \"2020-08-11T00:00:00\", \"2020-08-12T00:00:00\", \"2020-08-13T00:00:00\", \"2020-08-14T00:00:00\", \"2020-08-15T00:00:00\", \"2020-08-16T00:00:00\", \"2020-08-17T00:00:00\", \"2020-08-18T00:00:00\", \"2020-08-19T00:00:00\", \"2020-08-20T00:00:00\", \"2020-08-21T00:00:00\", \"2020-08-22T00:00:00\", \"2020-08-23T00:00:00\", \"2020-08-24T00:00:00\", \"2020-08-25T00:00:00\", \"2020-08-26T00:00:00\", \"2020-08-27T00:00:00\", \"2020-08-28T00:00:00\", \"2020-08-29T00:00:00\", \"2020-08-30T00:00:00\", \"2020-08-31T00:00:00\", \"2020-09-01T00:00:00\", \"2020-09-02T00:00:00\", \"2020-09-03T00:00:00\", \"2020-09-04T00:00:00\", \"2020-09-05T00:00:00\", \"2020-09-06T00:00:00\", \"2020-09-07T00:00:00\", \"2020-09-08T00:00:00\", \"2020-09-09T00:00:00\", \"2020-09-10T00:00:00\", \"2020-09-11T00:00:00\", \"2020-09-12T00:00:00\", \"2020-09-13T00:00:00\", \"2020-09-14T00:00:00\", \"2020-09-15T00:00:00\", \"2020-09-16T00:00:00\", \"2020-09-17T00:00:00\", \"2020-09-18T00:00:00\", \"2020-09-19T00:00:00\"], \"y\": [null, null, null, null, null, null, 1.6, 1.6, 2.0, 3.0, 3.1, 3.3, 4.1, 3.9, 5.4, 6.1, 5.3, 5.3, 5.7, 5.9, 7.9, 6.7, 7.1, 8.3, 9.4, 11.3, 10.7, 10.9, 11.1, 10.3, 10.3, 9.1, 8.6, 10.1, 10.4, 12.7, 14.9, 14.3, 14.1, 14.1, 12.9, 11.7, 12.0, 13.1, 18.0, 20.9, 24.3, 27.6, 29.0, 30.3, 27.7, 27.4, 25.6, 25.6, 27.7, 29.4, 30.3, 34.0, 31.4, 33.1, 33.0, 32.7, 39.4, 42.7, 47.7, 48.4, 52.4, 58.4, 63.4, 61.0, 63.4, 66.4, 71.4, 68.1, 68.0, 64.6, 73.6, 78.1, 84.6, 85.6, 91.3, 101.4, 123.1, 129.6, 143.3, 145.7, 160.6, 167.6, 177.0, 177.0, 180.7, 168.7, 168.0, 154.3, 154.7, 153.7, 154.3, 150.9, 156.6, 159.9, 169.6, 174.4, 172.7, 183.3, 192.6, 201.7, 211.6, 210.9, 204.4, 209.6, 219.0, 230.7, 249.1, 273.3, 289.0, 291.3, 324.0, 340.7, 379.0, 402.3, 401.0, 405.9, 410.6, 412.1, 402.9, 374.4, 354.6, 340.0, 319.0, 306.7, 284.3, 321.9, 339.7, 366.6, 388.6, 399.4, 414.4, 449.9, 429.0, 433.9, 446.9, 475.9, 490.1, 493.1, 538.0, 603.4, 642.4, 649.7, 668.4, 666.1, 659.1, 638.7, 652.6, 706.0, 746.9, 741.3, 726.9, 723.4, 767.3, 718.9, 647.4, 580.4, 553.7, 565.6, 568.0, 539.3, 543.6, 544.0, 573.9, 598.6, 583.4, 582.1, 551.3, 527.7, 526.6, 508.9, 456.6, 469.4, 461.9, 401.3, 388.6, 364.9, 350.0, 372.1, 394.6, 434.9, 541.3, 603.0, 594.9, 573.3, 540.4, 480.9]}],\n",
              "                        {\"barmode\": \"relative\", \"legend\": {\"tracegroupgap\": 0}, \"template\": {\"data\": {\"bar\": [{\"error_x\": {\"color\": \"#2a3f5f\"}, \"error_y\": {\"color\": \"#2a3f5f\"}, \"marker\": {\"line\": {\"color\": \"#E5ECF6\", \"width\": 0.5}}, \"type\": \"bar\"}], \"barpolar\": [{\"marker\": {\"line\": {\"color\": \"#E5ECF6\", \"width\": 0.5}}, \"type\": \"barpolar\"}], \"carpet\": [{\"aaxis\": {\"endlinecolor\": \"#2a3f5f\", \"gridcolor\": \"white\", \"linecolor\": \"white\", \"minorgridcolor\": \"white\", \"startlinecolor\": \"#2a3f5f\"}, \"baxis\": {\"endlinecolor\": \"#2a3f5f\", \"gridcolor\": \"white\", \"linecolor\": \"white\", \"minorgridcolor\": \"white\", \"startlinecolor\": \"#2a3f5f\"}, \"type\": \"carpet\"}], \"choropleth\": [{\"colorbar\": {\"outlinewidth\": 0, \"ticks\": \"\"}, \"type\": \"choropleth\"}], \"contour\": [{\"colorbar\": {\"outlinewidth\": 0, \"ticks\": \"\"}, \"colorscale\": [[0.0, \"#0d0887\"], [0.1111111111111111, \"#46039f\"], [0.2222222222222222, \"#7201a8\"], [0.3333333333333333, \"#9c179e\"], [0.4444444444444444, \"#bd3786\"], [0.5555555555555556, \"#d8576b\"], [0.6666666666666666, \"#ed7953\"], [0.7777777777777778, \"#fb9f3a\"], [0.8888888888888888, \"#fdca26\"], [1.0, \"#f0f921\"]], \"type\": \"contour\"}], \"contourcarpet\": [{\"colorbar\": {\"outlinewidth\": 0, \"ticks\": \"\"}, \"type\": \"contourcarpet\"}], \"heatmap\": [{\"colorbar\": {\"outlinewidth\": 0, \"ticks\": \"\"}, \"colorscale\": [[0.0, \"#0d0887\"], [0.1111111111111111, \"#46039f\"], [0.2222222222222222, \"#7201a8\"], [0.3333333333333333, \"#9c179e\"], [0.4444444444444444, \"#bd3786\"], [0.5555555555555556, \"#d8576b\"], [0.6666666666666666, \"#ed7953\"], [0.7777777777777778, \"#fb9f3a\"], [0.8888888888888888, \"#fdca26\"], [1.0, \"#f0f921\"]], \"type\": \"heatmap\"}], \"heatmapgl\": [{\"colorbar\": {\"outlinewidth\": 0, \"ticks\": \"\"}, \"colorscale\": [[0.0, \"#0d0887\"], [0.1111111111111111, \"#46039f\"], [0.2222222222222222, \"#7201a8\"], [0.3333333333333333, \"#9c179e\"], [0.4444444444444444, \"#bd3786\"], [0.5555555555555556, \"#d8576b\"], [0.6666666666666666, \"#ed7953\"], [0.7777777777777778, \"#fb9f3a\"], [0.8888888888888888, \"#fdca26\"], [1.0, \"#f0f921\"]], \"type\": \"heatmapgl\"}], \"histogram\": [{\"marker\": {\"colorbar\": {\"outlinewidth\": 0, \"ticks\": \"\"}}, \"type\": \"histogram\"}], \"histogram2d\": [{\"colorbar\": {\"outlinewidth\": 0, \"ticks\": \"\"}, \"colorscale\": [[0.0, \"#0d0887\"], [0.1111111111111111, \"#46039f\"], [0.2222222222222222, \"#7201a8\"], [0.3333333333333333, \"#9c179e\"], [0.4444444444444444, \"#bd3786\"], [0.5555555555555556, \"#d8576b\"], [0.6666666666666666, \"#ed7953\"], [0.7777777777777778, \"#fb9f3a\"], [0.8888888888888888, \"#fdca26\"], [1.0, \"#f0f921\"]], \"type\": \"histogram2d\"}], \"histogram2dcontour\": [{\"colorbar\": {\"outlinewidth\": 0, \"ticks\": \"\"}, \"colorscale\": [[0.0, \"#0d0887\"], [0.1111111111111111, \"#46039f\"], [0.2222222222222222, \"#7201a8\"], [0.3333333333333333, \"#9c179e\"], [0.4444444444444444, \"#bd3786\"], [0.5555555555555556, \"#d8576b\"], [0.6666666666666666, \"#ed7953\"], [0.7777777777777778, \"#fb9f3a\"], [0.8888888888888888, \"#fdca26\"], [1.0, \"#f0f921\"]], \"type\": \"histogram2dcontour\"}], \"mesh3d\": [{\"colorbar\": {\"outlinewidth\": 0, \"ticks\": \"\"}, \"type\": \"mesh3d\"}], \"parcoords\": [{\"line\": {\"colorbar\": {\"outlinewidth\": 0, \"ticks\": \"\"}}, \"type\": \"parcoords\"}], \"pie\": [{\"automargin\": true, \"type\": \"pie\"}], \"scatter\": [{\"marker\": {\"colorbar\": {\"outlinewidth\": 0, \"ticks\": \"\"}}, \"type\": \"scatter\"}], \"scatter3d\": [{\"line\": {\"colorbar\": {\"outlinewidth\": 0, \"ticks\": \"\"}}, \"marker\": {\"colorbar\": {\"outlinewidth\": 0, \"ticks\": \"\"}}, \"type\": \"scatter3d\"}], \"scattercarpet\": [{\"marker\": {\"colorbar\": {\"outlinewidth\": 0, \"ticks\": \"\"}}, \"type\": \"scattercarpet\"}], \"scattergeo\": [{\"marker\": {\"colorbar\": {\"outlinewidth\": 0, \"ticks\": \"\"}}, \"type\": \"scattergeo\"}], \"scattergl\": [{\"marker\": {\"colorbar\": {\"outlinewidth\": 0, \"ticks\": \"\"}}, \"type\": \"scattergl\"}], \"scattermapbox\": [{\"marker\": {\"colorbar\": {\"outlinewidth\": 0, \"ticks\": \"\"}}, \"type\": \"scattermapbox\"}], \"scatterpolar\": [{\"marker\": {\"colorbar\": {\"outlinewidth\": 0, \"ticks\": \"\"}}, \"type\": \"scatterpolar\"}], \"scatterpolargl\": [{\"marker\": {\"colorbar\": {\"outlinewidth\": 0, \"ticks\": \"\"}}, \"type\": \"scatterpolargl\"}], \"scatterternary\": [{\"marker\": {\"colorbar\": {\"outlinewidth\": 0, \"ticks\": \"\"}}, \"type\": \"scatterternary\"}], \"surface\": [{\"colorbar\": {\"outlinewidth\": 0, \"ticks\": \"\"}, \"colorscale\": [[0.0, \"#0d0887\"], [0.1111111111111111, \"#46039f\"], [0.2222222222222222, \"#7201a8\"], [0.3333333333333333, \"#9c179e\"], [0.4444444444444444, \"#bd3786\"], [0.5555555555555556, \"#d8576b\"], [0.6666666666666666, \"#ed7953\"], [0.7777777777777778, \"#fb9f3a\"], [0.8888888888888888, \"#fdca26\"], [1.0, \"#f0f921\"]], \"type\": \"surface\"}], \"table\": [{\"cells\": {\"fill\": {\"color\": \"#EBF0F8\"}, \"line\": {\"color\": \"white\"}}, \"header\": {\"fill\": {\"color\": \"#C8D4E3\"}, \"line\": {\"color\": \"white\"}}, \"type\": \"table\"}]}, \"layout\": {\"annotationdefaults\": {\"arrowcolor\": \"#2a3f5f\", \"arrowhead\": 0, \"arrowwidth\": 1}, \"coloraxis\": {\"colorbar\": {\"outlinewidth\": 0, \"ticks\": \"\"}}, \"colorscale\": {\"diverging\": [[0, \"#8e0152\"], [0.1, \"#c51b7d\"], [0.2, \"#de77ae\"], [0.3, \"#f1b6da\"], [0.4, \"#fde0ef\"], [0.5, \"#f7f7f7\"], [0.6, \"#e6f5d0\"], [0.7, \"#b8e186\"], [0.8, \"#7fbc41\"], [0.9, \"#4d9221\"], [1, \"#276419\"]], \"sequential\": [[0.0, \"#0d0887\"], [0.1111111111111111, \"#46039f\"], [0.2222222222222222, \"#7201a8\"], [0.3333333333333333, \"#9c179e\"], [0.4444444444444444, \"#bd3786\"], [0.5555555555555556, \"#d8576b\"], [0.6666666666666666, \"#ed7953\"], [0.7777777777777778, \"#fb9f3a\"], [0.8888888888888888, \"#fdca26\"], [1.0, \"#f0f921\"]], \"sequentialminus\": [[0.0, \"#0d0887\"], [0.1111111111111111, \"#46039f\"], [0.2222222222222222, \"#7201a8\"], [0.3333333333333333, \"#9c179e\"], [0.4444444444444444, \"#bd3786\"], [0.5555555555555556, \"#d8576b\"], [0.6666666666666666, \"#ed7953\"], [0.7777777777777778, \"#fb9f3a\"], [0.8888888888888888, \"#fdca26\"], [1.0, \"#f0f921\"]]}, \"colorway\": [\"#636efa\", \"#EF553B\", \"#00cc96\", \"#ab63fa\", \"#FFA15A\", \"#19d3f3\", \"#FF6692\", \"#B6E880\", \"#FF97FF\", \"#FECB52\"], \"font\": {\"color\": \"#2a3f5f\"}, \"geo\": {\"bgcolor\": \"white\", \"lakecolor\": \"white\", \"landcolor\": \"#E5ECF6\", \"showlakes\": true, \"showland\": true, \"subunitcolor\": \"white\"}, \"hoverlabel\": {\"align\": \"left\"}, \"hovermode\": \"closest\", \"mapbox\": {\"style\": \"light\"}, \"paper_bgcolor\": \"white\", \"plot_bgcolor\": \"#E5ECF6\", \"polar\": {\"angularaxis\": {\"gridcolor\": \"white\", \"linecolor\": \"white\", \"ticks\": \"\"}, \"bgcolor\": \"#E5ECF6\", \"radialaxis\": {\"gridcolor\": \"white\", \"linecolor\": \"white\", \"ticks\": \"\"}}, \"scene\": {\"xaxis\": {\"backgroundcolor\": \"#E5ECF6\", \"gridcolor\": \"white\", \"gridwidth\": 2, \"linecolor\": \"white\", \"showbackground\": true, \"ticks\": \"\", \"zerolinecolor\": \"white\"}, \"yaxis\": {\"backgroundcolor\": \"#E5ECF6\", \"gridcolor\": \"white\", \"gridwidth\": 2, \"linecolor\": \"white\", \"showbackground\": true, \"ticks\": \"\", \"zerolinecolor\": \"white\"}, \"zaxis\": {\"backgroundcolor\": \"#E5ECF6\", \"gridcolor\": \"white\", \"gridwidth\": 2, \"linecolor\": \"white\", \"showbackground\": true, \"ticks\": \"\", \"zerolinecolor\": \"white\"}}, \"shapedefaults\": {\"line\": {\"color\": \"#2a3f5f\"}}, \"ternary\": {\"aaxis\": {\"gridcolor\": \"white\", \"linecolor\": \"white\", \"ticks\": \"\"}, \"baxis\": {\"gridcolor\": \"white\", \"linecolor\": \"white\", \"ticks\": \"\"}, \"bgcolor\": \"#E5ECF6\", \"caxis\": {\"gridcolor\": \"white\", \"linecolor\": \"white\", \"ticks\": \"\"}}, \"title\": {\"x\": 0.05}, \"xaxis\": {\"automargin\": true, \"gridcolor\": \"white\", \"linecolor\": \"white\", \"ticks\": \"\", \"title\": {\"standoff\": 15}, \"zerolinecolor\": \"white\", \"zerolinewidth\": 2}, \"yaxis\": {\"automargin\": true, \"gridcolor\": \"white\", \"linecolor\": \"white\", \"ticks\": \"\", \"title\": {\"standoff\": 15}, \"zerolinecolor\": \"white\", \"zerolinewidth\": 2}}}, \"title\": {\"text\": \"Casos confirmados por data de notifica\\u00e7\\u00e3o\"}, \"xaxis\": {\"anchor\": \"y\", \"domain\": [0.0, 1.0], \"title\": {\"text\": \"Data de notifica\\u00e7\\u00e3o\"}}, \"yaxis\": {\"anchor\": \"x\", \"domain\": [0.0, 1.0], \"title\": {\"text\": \"N\\u00b0 de casos confirmados\"}}},\n",
              "                        {\"responsive\": true}\n",
              "                    ).then(function(){\n",
              "                            \n",
              "var gd = document.getElementById('576cae8c-f3e1-4125-8068-6448a99ffdb2');\n",
              "var x = new MutationObserver(function (mutations, observer) {{\n",
              "        var display = window.getComputedStyle(gd).display;\n",
              "        if (!display || display === 'none') {{\n",
              "            console.log([gd, 'removed!']);\n",
              "            Plotly.purge(gd);\n",
              "            observer.disconnect();\n",
              "        }}\n",
              "}});\n",
              "\n",
              "// Listen for the removal of the full notebook cells\n",
              "var notebookContainer = gd.closest('#notebook-container');\n",
              "if (notebookContainer) {{\n",
              "    x.observe(notebookContainer, {childList: true});\n",
              "}}\n",
              "\n",
              "// Listen for the clearing of the current output cell\n",
              "var outputEl = gd.closest('.output');\n",
              "if (outputEl) {{\n",
              "    x.observe(outputEl, {childList: true});\n",
              "}}\n",
              "\n",
              "                        })\n",
              "                };\n",
              "                \n",
              "            </script>\n",
              "        </div>\n",
              "</body>\n",
              "</html>"
            ]
          },
          "metadata": {
            "tags": []
          }
        }
      ]
    },
    {
      "cell_type": "code",
      "metadata": {
        "id": "CEbewuUPvao4",
        "colab_type": "code",
        "colab": {
          "base_uri": "https://localhost:8080/",
          "height": 542
        },
        "outputId": "4c9021fc-69ab-4d59-ea33-65d9a03648cc"
      },
      "source": [
        "import plotly.graph_objects as go\n",
        "fig.show()\n",
        "fig.write_image(\"casos_por_dia.svg\")\n",
        "fig.write_image(\"casos_por_dia.png\")"
      ],
      "execution_count": 125,
      "outputs": [
        {
          "output_type": "display_data",
          "data": {
            "text/html": [
              "<html>\n",
              "<head><meta charset=\"utf-8\" /></head>\n",
              "<body>\n",
              "    <div>\n",
              "            <script src=\"https://cdnjs.cloudflare.com/ajax/libs/mathjax/2.7.5/MathJax.js?config=TeX-AMS-MML_SVG\"></script><script type=\"text/javascript\">if (window.MathJax) {MathJax.Hub.Config({SVG: {font: \"STIX-Web\"}});}</script>\n",
              "                <script type=\"text/javascript\">window.PlotlyConfig = {MathJaxConfig: 'local'};</script>\n",
              "        <script src=\"https://cdn.plot.ly/plotly-latest.min.js\"></script>    \n",
              "            <div id=\"e31315bb-f1a6-44dd-9ac4-34503c2c8a19\" class=\"plotly-graph-div\" style=\"height:525px; width:100%;\"></div>\n",
              "            <script type=\"text/javascript\">\n",
              "                \n",
              "                    window.PLOTLYENV=window.PLOTLYENV || {};\n",
              "                    \n",
              "                if (document.getElementById(\"e31315bb-f1a6-44dd-9ac4-34503c2c8a19\")) {\n",
              "                    Plotly.newPlot(\n",
              "                        'e31315bb-f1a6-44dd-9ac4-34503c2c8a19',\n",
              "                        [{\"alignmentgroup\": \"True\", \"hoverlabel\": {\"namelength\": 0}, \"hovertemplate\": \"Data de notifica\\u00e7\\u00e3o=%{x}<br>N\\u00b0 de casos confirmados=%{y}\", \"legendgroup\": \"\", \"marker\": {\"color\": \"#636efa\"}, \"name\": \"\", \"offsetgroup\": \"\", \"orientation\": \"v\", \"showlegend\": false, \"textposition\": \"auto\", \"type\": \"bar\", \"x\": [\"2020-03-01T00:00:00\", \"2020-03-10T00:00:00\", \"2020-03-11T00:00:00\", \"2020-03-13T00:00:00\", \"2020-03-14T00:00:00\", \"2020-03-15T00:00:00\", \"2020-03-16T00:00:00\", \"2020-03-17T00:00:00\", \"2020-03-19T00:00:00\", \"2020-03-20T00:00:00\", \"2020-03-21T00:00:00\", \"2020-03-22T00:00:00\", \"2020-03-23T00:00:00\", \"2020-03-24T00:00:00\", \"2020-03-25T00:00:00\", \"2020-03-26T00:00:00\", \"2020-03-27T00:00:00\", \"2020-03-28T00:00:00\", \"2020-03-30T00:00:00\", \"2020-03-31T00:00:00\", \"2020-04-01T00:00:00\", \"2020-04-02T00:00:00\", \"2020-04-03T00:00:00\", \"2020-04-04T00:00:00\", \"2020-04-05T00:00:00\", \"2020-04-06T00:00:00\", \"2020-04-07T00:00:00\", \"2020-04-08T00:00:00\", \"2020-04-09T00:00:00\", \"2020-04-10T00:00:00\", \"2020-04-11T00:00:00\", \"2020-04-12T00:00:00\", \"2020-04-13T00:00:00\", \"2020-04-14T00:00:00\", \"2020-04-15T00:00:00\", \"2020-04-16T00:00:00\", \"2020-04-17T00:00:00\", \"2020-04-18T00:00:00\", \"2020-04-19T00:00:00\", \"2020-04-20T00:00:00\", \"2020-04-21T00:00:00\", \"2020-04-22T00:00:00\", \"2020-04-23T00:00:00\", \"2020-04-24T00:00:00\", \"2020-04-25T00:00:00\", \"2020-04-26T00:00:00\", \"2020-04-27T00:00:00\", \"2020-04-28T00:00:00\", \"2020-04-29T00:00:00\", \"2020-04-30T00:00:00\", \"2020-05-01T00:00:00\", \"2020-05-02T00:00:00\", \"2020-05-03T00:00:00\", \"2020-05-04T00:00:00\", \"2020-05-05T00:00:00\", \"2020-05-06T00:00:00\", \"2020-05-07T00:00:00\", \"2020-05-08T00:00:00\", \"2020-05-09T00:00:00\", \"2020-05-10T00:00:00\", \"2020-05-11T00:00:00\", \"2020-05-12T00:00:00\", \"2020-05-13T00:00:00\", \"2020-05-14T00:00:00\", \"2020-05-15T00:00:00\", \"2020-05-16T00:00:00\", \"2020-05-17T00:00:00\", \"2020-05-18T00:00:00\", \"2020-05-19T00:00:00\", \"2020-05-20T00:00:00\", \"2020-05-21T00:00:00\", \"2020-05-22T00:00:00\", \"2020-05-23T00:00:00\", \"2020-05-24T00:00:00\", \"2020-05-25T00:00:00\", \"2020-05-26T00:00:00\", \"2020-05-27T00:00:00\", \"2020-05-28T00:00:00\", \"2020-05-29T00:00:00\", \"2020-05-30T00:00:00\", \"2020-05-31T00:00:00\", \"2020-06-01T00:00:00\", \"2020-06-02T00:00:00\", \"2020-06-03T00:00:00\", \"2020-06-04T00:00:00\", \"2020-06-05T00:00:00\", \"2020-06-06T00:00:00\", \"2020-06-07T00:00:00\", \"2020-06-08T00:00:00\", \"2020-06-09T00:00:00\", \"2020-06-10T00:00:00\", \"2020-06-11T00:00:00\", \"2020-06-12T00:00:00\", \"2020-06-13T00:00:00\", \"2020-06-14T00:00:00\", \"2020-06-15T00:00:00\", \"2020-06-16T00:00:00\", \"2020-06-17T00:00:00\", \"2020-06-18T00:00:00\", \"2020-06-19T00:00:00\", \"2020-06-20T00:00:00\", \"2020-06-21T00:00:00\", \"2020-06-22T00:00:00\", \"2020-06-23T00:00:00\", \"2020-06-24T00:00:00\", \"2020-06-25T00:00:00\", \"2020-06-26T00:00:00\", \"2020-06-27T00:00:00\", \"2020-06-28T00:00:00\", \"2020-06-29T00:00:00\", \"2020-06-30T00:00:00\", \"2020-07-01T00:00:00\", \"2020-07-02T00:00:00\", \"2020-07-03T00:00:00\", \"2020-07-04T00:00:00\", \"2020-07-05T00:00:00\", \"2020-07-06T00:00:00\", \"2020-07-07T00:00:00\", \"2020-07-08T00:00:00\", \"2020-07-09T00:00:00\", \"2020-07-10T00:00:00\", \"2020-07-11T00:00:00\", \"2020-07-12T00:00:00\", \"2020-07-13T00:00:00\", \"2020-07-14T00:00:00\", \"2020-07-15T00:00:00\", \"2020-07-16T00:00:00\", \"2020-07-17T00:00:00\", \"2020-07-18T00:00:00\", \"2020-07-19T00:00:00\", \"2020-07-20T00:00:00\", \"2020-07-21T00:00:00\", \"2020-07-22T00:00:00\", \"2020-07-23T00:00:00\", \"2020-07-24T00:00:00\", \"2020-07-25T00:00:00\", \"2020-07-26T00:00:00\", \"2020-07-27T00:00:00\", \"2020-07-28T00:00:00\", \"2020-07-29T00:00:00\", \"2020-07-30T00:00:00\", \"2020-07-31T00:00:00\", \"2020-08-01T00:00:00\", \"2020-08-02T00:00:00\", \"2020-08-03T00:00:00\", \"2020-08-04T00:00:00\", \"2020-08-05T00:00:00\", \"2020-08-06T00:00:00\", \"2020-08-07T00:00:00\", \"2020-08-08T00:00:00\", \"2020-08-09T00:00:00\", \"2020-08-10T00:00:00\", \"2020-08-11T00:00:00\", \"2020-08-12T00:00:00\", \"2020-08-13T00:00:00\", \"2020-08-14T00:00:00\", \"2020-08-15T00:00:00\", \"2020-08-16T00:00:00\", \"2020-08-17T00:00:00\", \"2020-08-18T00:00:00\", \"2020-08-19T00:00:00\", \"2020-08-20T00:00:00\", \"2020-08-21T00:00:00\", \"2020-08-22T00:00:00\", \"2020-08-23T00:00:00\", \"2020-08-24T00:00:00\", \"2020-08-25T00:00:00\", \"2020-08-26T00:00:00\", \"2020-08-27T00:00:00\", \"2020-08-28T00:00:00\", \"2020-08-29T00:00:00\", \"2020-08-30T00:00:00\", \"2020-08-31T00:00:00\", \"2020-09-01T00:00:00\", \"2020-09-02T00:00:00\", \"2020-09-03T00:00:00\", \"2020-09-04T00:00:00\", \"2020-09-05T00:00:00\", \"2020-09-06T00:00:00\", \"2020-09-07T00:00:00\", \"2020-09-08T00:00:00\", \"2020-09-09T00:00:00\", \"2020-09-10T00:00:00\", \"2020-09-11T00:00:00\", \"2020-09-12T00:00:00\", \"2020-09-13T00:00:00\", \"2020-09-14T00:00:00\", \"2020-09-15T00:00:00\", \"2020-09-16T00:00:00\", \"2020-09-17T00:00:00\", \"2020-09-18T00:00:00\", \"2020-09-19T00:00:00\"], \"xaxis\": \"x\", \"y\": [1, 1, 1, 1, 1, 2, 4, 1, 4, 8, 2, 2, 8, 2, 12, 9, 2, 2, 5, 9, 16, 4, 12, 10, 10, 18, 5, 17, 6, 6, 10, 2, 14, 16, 19, 22, 21, 6, 1, 14, 7, 11, 24, 29, 40, 21, 38, 30, 21, 33, 11, 38, 8, 38, 45, 33, 39, 37, 20, 20, 37, 43, 80, 62, 72, 25, 48, 79, 78, 63, 79, 93, 60, 25, 78, 54, 126, 111, 138, 67, 65, 149, 206, 171, 207, 155, 171, 114, 215, 206, 197, 123, 150, 75, 117, 208, 210, 173, 163, 173, 143, 151, 196, 284, 238, 227, 242, 138, 106, 232, 350, 320, 356, 411, 248, 122, 461, 467, 588, 519, 402, 282, 155, 472, 402, 389, 380, 300, 135, 69, 315, 665, 514, 568, 454, 211, 174, 563, 519, 548, 659, 657, 311, 195, 877, 977, 821, 710, 788, 295, 146, 734, 1074, 1195, 996, 749, 194, 122, 1041, 735, 695, 527, 562, 277, 139, 840, 765, 698, 736, 735, 171, 130, 624, 600, 690, 612, 369, 261, 77, 200, 511, 524, 508, 524, 418, 359, 945, 943, 467, 357, 294, 1], \"yaxis\": \"y\"}, {\"hovertemplate\": \"M\\u00e9dia M\\u00f3vel: %{x}<br>Data: %{y}<extra></extra>\", \"name\": \"M\\u00e9dia M\\u00f3vel<br>(7 dias)\", \"type\": \"scatter\", \"x\": [\"2020-03-01T00:00:00\", \"2020-03-10T00:00:00\", \"2020-03-11T00:00:00\", \"2020-03-13T00:00:00\", \"2020-03-14T00:00:00\", \"2020-03-15T00:00:00\", \"2020-03-16T00:00:00\", \"2020-03-17T00:00:00\", \"2020-03-19T00:00:00\", \"2020-03-20T00:00:00\", \"2020-03-21T00:00:00\", \"2020-03-22T00:00:00\", \"2020-03-23T00:00:00\", \"2020-03-24T00:00:00\", \"2020-03-25T00:00:00\", \"2020-03-26T00:00:00\", \"2020-03-27T00:00:00\", \"2020-03-28T00:00:00\", \"2020-03-30T00:00:00\", \"2020-03-31T00:00:00\", \"2020-04-01T00:00:00\", \"2020-04-02T00:00:00\", \"2020-04-03T00:00:00\", \"2020-04-04T00:00:00\", \"2020-04-05T00:00:00\", \"2020-04-06T00:00:00\", \"2020-04-07T00:00:00\", \"2020-04-08T00:00:00\", \"2020-04-09T00:00:00\", \"2020-04-10T00:00:00\", \"2020-04-11T00:00:00\", \"2020-04-12T00:00:00\", \"2020-04-13T00:00:00\", \"2020-04-14T00:00:00\", \"2020-04-15T00:00:00\", \"2020-04-16T00:00:00\", \"2020-04-17T00:00:00\", \"2020-04-18T00:00:00\", \"2020-04-19T00:00:00\", \"2020-04-20T00:00:00\", \"2020-04-21T00:00:00\", \"2020-04-22T00:00:00\", \"2020-04-23T00:00:00\", \"2020-04-24T00:00:00\", \"2020-04-25T00:00:00\", \"2020-04-26T00:00:00\", \"2020-04-27T00:00:00\", \"2020-04-28T00:00:00\", \"2020-04-29T00:00:00\", \"2020-04-30T00:00:00\", \"2020-05-01T00:00:00\", \"2020-05-02T00:00:00\", \"2020-05-03T00:00:00\", \"2020-05-04T00:00:00\", \"2020-05-05T00:00:00\", \"2020-05-06T00:00:00\", \"2020-05-07T00:00:00\", \"2020-05-08T00:00:00\", \"2020-05-09T00:00:00\", \"2020-05-10T00:00:00\", \"2020-05-11T00:00:00\", \"2020-05-12T00:00:00\", \"2020-05-13T00:00:00\", \"2020-05-14T00:00:00\", \"2020-05-15T00:00:00\", \"2020-05-16T00:00:00\", \"2020-05-17T00:00:00\", \"2020-05-18T00:00:00\", \"2020-05-19T00:00:00\", \"2020-05-20T00:00:00\", \"2020-05-21T00:00:00\", \"2020-05-22T00:00:00\", \"2020-05-23T00:00:00\", \"2020-05-24T00:00:00\", \"2020-05-25T00:00:00\", \"2020-05-26T00:00:00\", \"2020-05-27T00:00:00\", \"2020-05-28T00:00:00\", \"2020-05-29T00:00:00\", \"2020-05-30T00:00:00\", \"2020-05-31T00:00:00\", \"2020-06-01T00:00:00\", \"2020-06-02T00:00:00\", \"2020-06-03T00:00:00\", \"2020-06-04T00:00:00\", \"2020-06-05T00:00:00\", \"2020-06-06T00:00:00\", \"2020-06-07T00:00:00\", \"2020-06-08T00:00:00\", \"2020-06-09T00:00:00\", \"2020-06-10T00:00:00\", \"2020-06-11T00:00:00\", \"2020-06-12T00:00:00\", \"2020-06-13T00:00:00\", \"2020-06-14T00:00:00\", \"2020-06-15T00:00:00\", \"2020-06-16T00:00:00\", \"2020-06-17T00:00:00\", \"2020-06-18T00:00:00\", \"2020-06-19T00:00:00\", \"2020-06-20T00:00:00\", \"2020-06-21T00:00:00\", \"2020-06-22T00:00:00\", \"2020-06-23T00:00:00\", \"2020-06-24T00:00:00\", \"2020-06-25T00:00:00\", \"2020-06-26T00:00:00\", \"2020-06-27T00:00:00\", \"2020-06-28T00:00:00\", \"2020-06-29T00:00:00\", \"2020-06-30T00:00:00\", \"2020-07-01T00:00:00\", \"2020-07-02T00:00:00\", \"2020-07-03T00:00:00\", \"2020-07-04T00:00:00\", \"2020-07-05T00:00:00\", \"2020-07-06T00:00:00\", \"2020-07-07T00:00:00\", \"2020-07-08T00:00:00\", \"2020-07-09T00:00:00\", \"2020-07-10T00:00:00\", \"2020-07-11T00:00:00\", \"2020-07-12T00:00:00\", \"2020-07-13T00:00:00\", \"2020-07-14T00:00:00\", \"2020-07-15T00:00:00\", \"2020-07-16T00:00:00\", \"2020-07-17T00:00:00\", \"2020-07-18T00:00:00\", \"2020-07-19T00:00:00\", \"2020-07-20T00:00:00\", \"2020-07-21T00:00:00\", \"2020-07-22T00:00:00\", \"2020-07-23T00:00:00\", \"2020-07-24T00:00:00\", \"2020-07-25T00:00:00\", \"2020-07-26T00:00:00\", \"2020-07-27T00:00:00\", \"2020-07-28T00:00:00\", \"2020-07-29T00:00:00\", \"2020-07-30T00:00:00\", \"2020-07-31T00:00:00\", \"2020-08-01T00:00:00\", \"2020-08-02T00:00:00\", \"2020-08-03T00:00:00\", \"2020-08-04T00:00:00\", \"2020-08-05T00:00:00\", \"2020-08-06T00:00:00\", \"2020-08-07T00:00:00\", \"2020-08-08T00:00:00\", \"2020-08-09T00:00:00\", \"2020-08-10T00:00:00\", \"2020-08-11T00:00:00\", \"2020-08-12T00:00:00\", \"2020-08-13T00:00:00\", \"2020-08-14T00:00:00\", \"2020-08-15T00:00:00\", \"2020-08-16T00:00:00\", \"2020-08-17T00:00:00\", \"2020-08-18T00:00:00\", \"2020-08-19T00:00:00\", \"2020-08-20T00:00:00\", \"2020-08-21T00:00:00\", \"2020-08-22T00:00:00\", \"2020-08-23T00:00:00\", \"2020-08-24T00:00:00\", \"2020-08-25T00:00:00\", \"2020-08-26T00:00:00\", \"2020-08-27T00:00:00\", \"2020-08-28T00:00:00\", \"2020-08-29T00:00:00\", \"2020-08-30T00:00:00\", \"2020-08-31T00:00:00\", \"2020-09-01T00:00:00\", \"2020-09-02T00:00:00\", \"2020-09-03T00:00:00\", \"2020-09-04T00:00:00\", \"2020-09-05T00:00:00\", \"2020-09-06T00:00:00\", \"2020-09-07T00:00:00\", \"2020-09-08T00:00:00\", \"2020-09-09T00:00:00\", \"2020-09-10T00:00:00\", \"2020-09-11T00:00:00\", \"2020-09-12T00:00:00\", \"2020-09-13T00:00:00\", \"2020-09-14T00:00:00\", \"2020-09-15T00:00:00\", \"2020-09-16T00:00:00\", \"2020-09-17T00:00:00\", \"2020-09-18T00:00:00\", \"2020-09-19T00:00:00\"], \"y\": [null, null, null, null, null, null, 1.6, 1.6, 2.0, 3.0, 3.1, 3.3, 4.1, 3.9, 5.4, 6.1, 5.3, 5.3, 5.7, 5.9, 7.9, 6.7, 7.1, 8.3, 9.4, 11.3, 10.7, 10.9, 11.1, 10.3, 10.3, 9.1, 8.6, 10.1, 10.4, 12.7, 14.9, 14.3, 14.1, 14.1, 12.9, 11.7, 12.0, 13.1, 18.0, 20.9, 24.3, 27.6, 29.0, 30.3, 27.7, 27.4, 25.6, 25.6, 27.7, 29.4, 30.3, 34.0, 31.4, 33.1, 33.0, 32.7, 39.4, 42.7, 47.7, 48.4, 52.4, 58.4, 63.4, 61.0, 63.4, 66.4, 71.4, 68.1, 68.0, 64.6, 73.6, 78.1, 84.6, 85.6, 91.3, 101.4, 123.1, 129.6, 143.3, 145.7, 160.6, 167.6, 177.0, 177.0, 180.7, 168.7, 168.0, 154.3, 154.7, 153.7, 154.3, 150.9, 156.6, 159.9, 169.6, 174.4, 172.7, 183.3, 192.6, 201.7, 211.6, 210.9, 204.4, 209.6, 219.0, 230.7, 249.1, 273.3, 289.0, 291.3, 324.0, 340.7, 379.0, 402.3, 401.0, 405.9, 410.6, 412.1, 402.9, 374.4, 354.6, 340.0, 319.0, 306.7, 284.3, 321.9, 339.7, 366.6, 388.6, 399.4, 414.4, 449.9, 429.0, 433.9, 446.9, 475.9, 490.1, 493.1, 538.0, 603.4, 642.4, 649.7, 668.4, 666.1, 659.1, 638.7, 652.6, 706.0, 746.9, 741.3, 726.9, 723.4, 767.3, 718.9, 647.4, 580.4, 553.7, 565.6, 568.0, 539.3, 543.6, 544.0, 573.9, 598.6, 583.4, 582.1, 551.3, 527.7, 526.6, 508.9, 456.6, 469.4, 461.9, 401.3, 388.6, 364.9, 350.0, 372.1, 394.6, 434.9, 541.3, 603.0, 594.9, 573.3, 540.4, 480.9]}],\n",
              "                        {\"barmode\": \"relative\", \"legend\": {\"tracegroupgap\": 0}, \"template\": {\"data\": {\"bar\": [{\"error_x\": {\"color\": \"#2a3f5f\"}, \"error_y\": {\"color\": \"#2a3f5f\"}, \"marker\": {\"line\": {\"color\": \"#E5ECF6\", \"width\": 0.5}}, \"type\": \"bar\"}], \"barpolar\": [{\"marker\": {\"line\": {\"color\": \"#E5ECF6\", \"width\": 0.5}}, \"type\": \"barpolar\"}], \"carpet\": [{\"aaxis\": {\"endlinecolor\": \"#2a3f5f\", \"gridcolor\": \"white\", \"linecolor\": \"white\", \"minorgridcolor\": \"white\", \"startlinecolor\": \"#2a3f5f\"}, \"baxis\": {\"endlinecolor\": \"#2a3f5f\", \"gridcolor\": \"white\", \"linecolor\": \"white\", \"minorgridcolor\": \"white\", \"startlinecolor\": \"#2a3f5f\"}, \"type\": \"carpet\"}], \"choropleth\": [{\"colorbar\": {\"outlinewidth\": 0, \"ticks\": \"\"}, \"type\": \"choropleth\"}], \"contour\": [{\"colorbar\": {\"outlinewidth\": 0, \"ticks\": \"\"}, \"colorscale\": [[0.0, \"#0d0887\"], [0.1111111111111111, \"#46039f\"], [0.2222222222222222, \"#7201a8\"], [0.3333333333333333, \"#9c179e\"], [0.4444444444444444, \"#bd3786\"], [0.5555555555555556, \"#d8576b\"], [0.6666666666666666, \"#ed7953\"], [0.7777777777777778, \"#fb9f3a\"], [0.8888888888888888, \"#fdca26\"], [1.0, \"#f0f921\"]], \"type\": \"contour\"}], \"contourcarpet\": [{\"colorbar\": {\"outlinewidth\": 0, \"ticks\": \"\"}, \"type\": \"contourcarpet\"}], \"heatmap\": [{\"colorbar\": {\"outlinewidth\": 0, \"ticks\": \"\"}, \"colorscale\": [[0.0, \"#0d0887\"], [0.1111111111111111, \"#46039f\"], [0.2222222222222222, \"#7201a8\"], [0.3333333333333333, \"#9c179e\"], [0.4444444444444444, \"#bd3786\"], [0.5555555555555556, \"#d8576b\"], [0.6666666666666666, \"#ed7953\"], [0.7777777777777778, \"#fb9f3a\"], [0.8888888888888888, \"#fdca26\"], [1.0, \"#f0f921\"]], \"type\": \"heatmap\"}], \"heatmapgl\": [{\"colorbar\": {\"outlinewidth\": 0, \"ticks\": \"\"}, \"colorscale\": [[0.0, \"#0d0887\"], [0.1111111111111111, \"#46039f\"], [0.2222222222222222, \"#7201a8\"], [0.3333333333333333, \"#9c179e\"], [0.4444444444444444, \"#bd3786\"], [0.5555555555555556, \"#d8576b\"], [0.6666666666666666, \"#ed7953\"], [0.7777777777777778, \"#fb9f3a\"], [0.8888888888888888, \"#fdca26\"], [1.0, \"#f0f921\"]], \"type\": \"heatmapgl\"}], \"histogram\": [{\"marker\": {\"colorbar\": {\"outlinewidth\": 0, \"ticks\": \"\"}}, \"type\": \"histogram\"}], \"histogram2d\": [{\"colorbar\": {\"outlinewidth\": 0, \"ticks\": \"\"}, \"colorscale\": [[0.0, \"#0d0887\"], [0.1111111111111111, \"#46039f\"], [0.2222222222222222, \"#7201a8\"], [0.3333333333333333, \"#9c179e\"], [0.4444444444444444, \"#bd3786\"], [0.5555555555555556, \"#d8576b\"], [0.6666666666666666, \"#ed7953\"], [0.7777777777777778, \"#fb9f3a\"], [0.8888888888888888, \"#fdca26\"], [1.0, \"#f0f921\"]], \"type\": \"histogram2d\"}], \"histogram2dcontour\": [{\"colorbar\": {\"outlinewidth\": 0, \"ticks\": \"\"}, \"colorscale\": [[0.0, \"#0d0887\"], [0.1111111111111111, \"#46039f\"], [0.2222222222222222, \"#7201a8\"], [0.3333333333333333, \"#9c179e\"], [0.4444444444444444, \"#bd3786\"], [0.5555555555555556, \"#d8576b\"], [0.6666666666666666, \"#ed7953\"], [0.7777777777777778, \"#fb9f3a\"], [0.8888888888888888, \"#fdca26\"], [1.0, \"#f0f921\"]], \"type\": \"histogram2dcontour\"}], \"mesh3d\": [{\"colorbar\": {\"outlinewidth\": 0, \"ticks\": \"\"}, \"type\": \"mesh3d\"}], \"parcoords\": [{\"line\": {\"colorbar\": {\"outlinewidth\": 0, \"ticks\": \"\"}}, \"type\": \"parcoords\"}], \"pie\": [{\"automargin\": true, \"type\": \"pie\"}], \"scatter\": [{\"marker\": {\"colorbar\": {\"outlinewidth\": 0, \"ticks\": \"\"}}, \"type\": \"scatter\"}], \"scatter3d\": [{\"line\": {\"colorbar\": {\"outlinewidth\": 0, \"ticks\": \"\"}}, \"marker\": {\"colorbar\": {\"outlinewidth\": 0, \"ticks\": \"\"}}, \"type\": \"scatter3d\"}], \"scattercarpet\": [{\"marker\": {\"colorbar\": {\"outlinewidth\": 0, \"ticks\": \"\"}}, \"type\": \"scattercarpet\"}], \"scattergeo\": [{\"marker\": {\"colorbar\": {\"outlinewidth\": 0, \"ticks\": \"\"}}, \"type\": \"scattergeo\"}], \"scattergl\": [{\"marker\": {\"colorbar\": {\"outlinewidth\": 0, \"ticks\": \"\"}}, \"type\": \"scattergl\"}], \"scattermapbox\": [{\"marker\": {\"colorbar\": {\"outlinewidth\": 0, \"ticks\": \"\"}}, \"type\": \"scattermapbox\"}], \"scatterpolar\": [{\"marker\": {\"colorbar\": {\"outlinewidth\": 0, \"ticks\": \"\"}}, \"type\": \"scatterpolar\"}], \"scatterpolargl\": [{\"marker\": {\"colorbar\": {\"outlinewidth\": 0, \"ticks\": \"\"}}, \"type\": \"scatterpolargl\"}], \"scatterternary\": [{\"marker\": {\"colorbar\": {\"outlinewidth\": 0, \"ticks\": \"\"}}, \"type\": \"scatterternary\"}], \"surface\": [{\"colorbar\": {\"outlinewidth\": 0, \"ticks\": \"\"}, \"colorscale\": [[0.0, \"#0d0887\"], [0.1111111111111111, \"#46039f\"], [0.2222222222222222, \"#7201a8\"], [0.3333333333333333, \"#9c179e\"], [0.4444444444444444, \"#bd3786\"], [0.5555555555555556, \"#d8576b\"], [0.6666666666666666, \"#ed7953\"], [0.7777777777777778, \"#fb9f3a\"], [0.8888888888888888, \"#fdca26\"], [1.0, \"#f0f921\"]], \"type\": \"surface\"}], \"table\": [{\"cells\": {\"fill\": {\"color\": \"#EBF0F8\"}, \"line\": {\"color\": \"white\"}}, \"header\": {\"fill\": {\"color\": \"#C8D4E3\"}, \"line\": {\"color\": \"white\"}}, \"type\": \"table\"}]}, \"layout\": {\"annotationdefaults\": {\"arrowcolor\": \"#2a3f5f\", \"arrowhead\": 0, \"arrowwidth\": 1}, \"coloraxis\": {\"colorbar\": {\"outlinewidth\": 0, \"ticks\": \"\"}}, \"colorscale\": {\"diverging\": [[0, \"#8e0152\"], [0.1, \"#c51b7d\"], [0.2, \"#de77ae\"], [0.3, \"#f1b6da\"], [0.4, \"#fde0ef\"], [0.5, \"#f7f7f7\"], [0.6, \"#e6f5d0\"], [0.7, \"#b8e186\"], [0.8, \"#7fbc41\"], [0.9, \"#4d9221\"], [1, \"#276419\"]], \"sequential\": [[0.0, \"#0d0887\"], [0.1111111111111111, \"#46039f\"], [0.2222222222222222, \"#7201a8\"], [0.3333333333333333, \"#9c179e\"], [0.4444444444444444, \"#bd3786\"], [0.5555555555555556, \"#d8576b\"], [0.6666666666666666, \"#ed7953\"], [0.7777777777777778, \"#fb9f3a\"], [0.8888888888888888, \"#fdca26\"], [1.0, \"#f0f921\"]], \"sequentialminus\": [[0.0, \"#0d0887\"], [0.1111111111111111, \"#46039f\"], [0.2222222222222222, \"#7201a8\"], [0.3333333333333333, \"#9c179e\"], [0.4444444444444444, \"#bd3786\"], [0.5555555555555556, \"#d8576b\"], [0.6666666666666666, \"#ed7953\"], [0.7777777777777778, \"#fb9f3a\"], [0.8888888888888888, \"#fdca26\"], [1.0, \"#f0f921\"]]}, \"colorway\": [\"#636efa\", \"#EF553B\", \"#00cc96\", \"#ab63fa\", \"#FFA15A\", \"#19d3f3\", \"#FF6692\", \"#B6E880\", \"#FF97FF\", \"#FECB52\"], \"font\": {\"color\": \"#2a3f5f\"}, \"geo\": {\"bgcolor\": \"white\", \"lakecolor\": \"white\", \"landcolor\": \"#E5ECF6\", \"showlakes\": true, \"showland\": true, \"subunitcolor\": \"white\"}, \"hoverlabel\": {\"align\": \"left\"}, \"hovermode\": \"closest\", \"mapbox\": {\"style\": \"light\"}, \"paper_bgcolor\": \"white\", \"plot_bgcolor\": \"#E5ECF6\", \"polar\": {\"angularaxis\": {\"gridcolor\": \"white\", \"linecolor\": \"white\", \"ticks\": \"\"}, \"bgcolor\": \"#E5ECF6\", \"radialaxis\": {\"gridcolor\": \"white\", \"linecolor\": \"white\", \"ticks\": \"\"}}, \"scene\": {\"xaxis\": {\"backgroundcolor\": \"#E5ECF6\", \"gridcolor\": \"white\", \"gridwidth\": 2, \"linecolor\": \"white\", \"showbackground\": true, \"ticks\": \"\", \"zerolinecolor\": \"white\"}, \"yaxis\": {\"backgroundcolor\": \"#E5ECF6\", \"gridcolor\": \"white\", \"gridwidth\": 2, \"linecolor\": \"white\", \"showbackground\": true, \"ticks\": \"\", \"zerolinecolor\": \"white\"}, \"zaxis\": {\"backgroundcolor\": \"#E5ECF6\", \"gridcolor\": \"white\", \"gridwidth\": 2, \"linecolor\": \"white\", \"showbackground\": true, \"ticks\": \"\", \"zerolinecolor\": \"white\"}}, \"shapedefaults\": {\"line\": {\"color\": \"#2a3f5f\"}}, \"ternary\": {\"aaxis\": {\"gridcolor\": \"white\", \"linecolor\": \"white\", \"ticks\": \"\"}, \"baxis\": {\"gridcolor\": \"white\", \"linecolor\": \"white\", \"ticks\": \"\"}, \"bgcolor\": \"#E5ECF6\", \"caxis\": {\"gridcolor\": \"white\", \"linecolor\": \"white\", \"ticks\": \"\"}}, \"title\": {\"x\": 0.05}, \"xaxis\": {\"automargin\": true, \"gridcolor\": \"white\", \"linecolor\": \"white\", \"ticks\": \"\", \"title\": {\"standoff\": 15}, \"zerolinecolor\": \"white\", \"zerolinewidth\": 2}, \"yaxis\": {\"automargin\": true, \"gridcolor\": \"white\", \"linecolor\": \"white\", \"ticks\": \"\", \"title\": {\"standoff\": 15}, \"zerolinecolor\": \"white\", \"zerolinewidth\": 2}}}, \"title\": {\"text\": \"Casos confirmados por data de notifica\\u00e7\\u00e3o\"}, \"xaxis\": {\"anchor\": \"y\", \"domain\": [0.0, 1.0], \"title\": {\"text\": \"Data de notifica\\u00e7\\u00e3o\"}}, \"yaxis\": {\"anchor\": \"x\", \"domain\": [0.0, 1.0], \"title\": {\"text\": \"N\\u00b0 de casos confirmados\"}}},\n",
              "                        {\"responsive\": true}\n",
              "                    ).then(function(){\n",
              "                            \n",
              "var gd = document.getElementById('e31315bb-f1a6-44dd-9ac4-34503c2c8a19');\n",
              "var x = new MutationObserver(function (mutations, observer) {{\n",
              "        var display = window.getComputedStyle(gd).display;\n",
              "        if (!display || display === 'none') {{\n",
              "            console.log([gd, 'removed!']);\n",
              "            Plotly.purge(gd);\n",
              "            observer.disconnect();\n",
              "        }}\n",
              "}});\n",
              "\n",
              "// Listen for the removal of the full notebook cells\n",
              "var notebookContainer = gd.closest('#notebook-container');\n",
              "if (notebookContainer) {{\n",
              "    x.observe(notebookContainer, {childList: true});\n",
              "}}\n",
              "\n",
              "// Listen for the clearing of the current output cell\n",
              "var outputEl = gd.closest('.output');\n",
              "if (outputEl) {{\n",
              "    x.observe(outputEl, {childList: true});\n",
              "}}\n",
              "\n",
              "                        })\n",
              "                };\n",
              "                \n",
              "            </script>\n",
              "        </div>\n",
              "</body>\n",
              "</html>"
            ]
          },
          "metadata": {
            "tags": []
          }
        }
      ]
    },
    {
      "cell_type": "code",
      "metadata": {
        "id": "CUH-dHYUvc6A",
        "colab_type": "code",
        "colab": {
          "base_uri": "https://localhost:8080/",
          "height": 17
        },
        "outputId": "b059d4e5-a3cf-42a6-a6b9-cd26ede35a87"
      },
      "source": [
        "from google.colab import files\n",
        "files.download('casos_por_dia.svg')\n",
        "files.download('casos_por_dia.png')"
      ],
      "execution_count": 126,
      "outputs": [
        {
          "output_type": "display_data",
          "data": {
            "application/javascript": [
              "\n",
              "    async function download(id, filename, size) {\n",
              "      if (!google.colab.kernel.accessAllowed) {\n",
              "        return;\n",
              "      }\n",
              "      const div = document.createElement('div');\n",
              "      const label = document.createElement('label');\n",
              "      label.textContent = `Downloading \"${filename}\": `;\n",
              "      div.appendChild(label);\n",
              "      const progress = document.createElement('progress');\n",
              "      progress.max = size;\n",
              "      div.appendChild(progress);\n",
              "      document.body.appendChild(div);\n",
              "\n",
              "      const buffers = [];\n",
              "      let downloaded = 0;\n",
              "\n",
              "      const channel = await google.colab.kernel.comms.open(id);\n",
              "      // Send a message to notify the kernel that we're ready.\n",
              "      channel.send({})\n",
              "\n",
              "      for await (const message of channel.messages) {\n",
              "        // Send a message to notify the kernel that we're ready.\n",
              "        channel.send({})\n",
              "        if (message.buffers) {\n",
              "          for (const buffer of message.buffers) {\n",
              "            buffers.push(buffer);\n",
              "            downloaded += buffer.byteLength;\n",
              "            progress.value = downloaded;\n",
              "          }\n",
              "        }\n",
              "      }\n",
              "      const blob = new Blob(buffers, {type: 'application/binary'});\n",
              "      const a = document.createElement('a');\n",
              "      a.href = window.URL.createObjectURL(blob);\n",
              "      a.download = filename;\n",
              "      div.appendChild(a);\n",
              "      a.click();\n",
              "      div.remove();\n",
              "    }\n",
              "  "
            ],
            "text/plain": [
              "<IPython.core.display.Javascript object>"
            ]
          },
          "metadata": {
            "tags": []
          }
        },
        {
          "output_type": "display_data",
          "data": {
            "application/javascript": [
              "download(\"download_d94ee71e-e32f-4002-94de-f457c090230f\", \"casos_por_dia.svg\", 56049)"
            ],
            "text/plain": [
              "<IPython.core.display.Javascript object>"
            ]
          },
          "metadata": {
            "tags": []
          }
        },
        {
          "output_type": "display_data",
          "data": {
            "application/javascript": [
              "\n",
              "    async function download(id, filename, size) {\n",
              "      if (!google.colab.kernel.accessAllowed) {\n",
              "        return;\n",
              "      }\n",
              "      const div = document.createElement('div');\n",
              "      const label = document.createElement('label');\n",
              "      label.textContent = `Downloading \"${filename}\": `;\n",
              "      div.appendChild(label);\n",
              "      const progress = document.createElement('progress');\n",
              "      progress.max = size;\n",
              "      div.appendChild(progress);\n",
              "      document.body.appendChild(div);\n",
              "\n",
              "      const buffers = [];\n",
              "      let downloaded = 0;\n",
              "\n",
              "      const channel = await google.colab.kernel.comms.open(id);\n",
              "      // Send a message to notify the kernel that we're ready.\n",
              "      channel.send({})\n",
              "\n",
              "      for await (const message of channel.messages) {\n",
              "        // Send a message to notify the kernel that we're ready.\n",
              "        channel.send({})\n",
              "        if (message.buffers) {\n",
              "          for (const buffer of message.buffers) {\n",
              "            buffers.push(buffer);\n",
              "            downloaded += buffer.byteLength;\n",
              "            progress.value = downloaded;\n",
              "          }\n",
              "        }\n",
              "      }\n",
              "      const blob = new Blob(buffers, {type: 'application/binary'});\n",
              "      const a = document.createElement('a');\n",
              "      a.href = window.URL.createObjectURL(blob);\n",
              "      a.download = filename;\n",
              "      div.appendChild(a);\n",
              "      a.click();\n",
              "      div.remove();\n",
              "    }\n",
              "  "
            ],
            "text/plain": [
              "<IPython.core.display.Javascript object>"
            ]
          },
          "metadata": {
            "tags": []
          }
        },
        {
          "output_type": "display_data",
          "data": {
            "application/javascript": [
              "download(\"download_e6416fc7-6eca-4a8f-a03b-4e1422240743\", \"casos_por_dia.png\", 55015)"
            ],
            "text/plain": [
              "<IPython.core.display.Javascript object>"
            ]
          },
          "metadata": {
            "tags": []
          }
        }
      ]
    },
    {
      "cell_type": "markdown",
      "metadata": {
        "colab_type": "text",
        "id": "RGXRmikKuuxr"
      },
      "source": [
        "## Casos acumulados por dia\n",
        "\n",
        "*   Gráfico de barras com média móvel\n",
        "\n",
        "\n",
        "\n",
        "\n",
        "```\n",
        "dataframe: casos_goiania_cidade\n",
        "gera: casos_acumulados_por_dia_goiania.csv\n",
        "```\n"
      ]
    },
    {
      "cell_type": "code",
      "metadata": {
        "colab_type": "code",
        "id": "NMVVnOIauuxs",
        "colab": {
          "base_uri": "https://localhost:8080/",
          "height": 341
        },
        "outputId": "e82be774-d5cf-4546-e900-cf235b5adb52"
      },
      "source": [
        "casos_acumulados = pd.read_csv('casos_por_dia_goiania.csv', sep=',')\n",
        "casos_acumulados = casos_acumulados.drop(columns=['MM_casos'])\n",
        "casos_acumulados"
      ],
      "execution_count": 30,
      "outputs": [
        {
          "output_type": "error",
          "ename": "KeyError",
          "evalue": "ignored",
          "traceback": [
            "\u001b[0;31m---------------------------------------------------------------------------\u001b[0m",
            "\u001b[0;31mKeyError\u001b[0m                                  Traceback (most recent call last)",
            "\u001b[0;32m<ipython-input-30-66931d5e5fc4>\u001b[0m in \u001b[0;36m<module>\u001b[0;34m()\u001b[0m\n\u001b[1;32m      1\u001b[0m \u001b[0mcasos_acumulados\u001b[0m \u001b[0;34m=\u001b[0m \u001b[0mpd\u001b[0m\u001b[0;34m.\u001b[0m\u001b[0mread_csv\u001b[0m\u001b[0;34m(\u001b[0m\u001b[0;34m'casos_por_dia_goiania.csv'\u001b[0m\u001b[0;34m,\u001b[0m \u001b[0msep\u001b[0m\u001b[0;34m=\u001b[0m\u001b[0;34m','\u001b[0m\u001b[0;34m)\u001b[0m\u001b[0;34m\u001b[0m\u001b[0;34m\u001b[0m\u001b[0m\n\u001b[0;32m----> 2\u001b[0;31m \u001b[0mcasos_acumulados\u001b[0m \u001b[0;34m=\u001b[0m \u001b[0mcasos_acumulados\u001b[0m\u001b[0;34m.\u001b[0m\u001b[0mdrop\u001b[0m\u001b[0;34m(\u001b[0m\u001b[0mcolumns\u001b[0m\u001b[0;34m=\u001b[0m\u001b[0;34m[\u001b[0m\u001b[0;34m'MM_casos'\u001b[0m\u001b[0;34m]\u001b[0m\u001b[0;34m)\u001b[0m\u001b[0;34m\u001b[0m\u001b[0;34m\u001b[0m\u001b[0m\n\u001b[0m\u001b[1;32m      3\u001b[0m \u001b[0mcasos_acumulados\u001b[0m\u001b[0;34m\u001b[0m\u001b[0;34m\u001b[0m\u001b[0m\n",
            "\u001b[0;32m/usr/local/lib/python3.6/dist-packages/pandas/core/frame.py\u001b[0m in \u001b[0;36mdrop\u001b[0;34m(self, labels, axis, index, columns, level, inplace, errors)\u001b[0m\n\u001b[1;32m   3995\u001b[0m             \u001b[0mlevel\u001b[0m\u001b[0;34m=\u001b[0m\u001b[0mlevel\u001b[0m\u001b[0;34m,\u001b[0m\u001b[0;34m\u001b[0m\u001b[0;34m\u001b[0m\u001b[0m\n\u001b[1;32m   3996\u001b[0m             \u001b[0minplace\u001b[0m\u001b[0;34m=\u001b[0m\u001b[0minplace\u001b[0m\u001b[0;34m,\u001b[0m\u001b[0;34m\u001b[0m\u001b[0;34m\u001b[0m\u001b[0m\n\u001b[0;32m-> 3997\u001b[0;31m             \u001b[0merrors\u001b[0m\u001b[0;34m=\u001b[0m\u001b[0merrors\u001b[0m\u001b[0;34m,\u001b[0m\u001b[0;34m\u001b[0m\u001b[0;34m\u001b[0m\u001b[0m\n\u001b[0m\u001b[1;32m   3998\u001b[0m         )\n\u001b[1;32m   3999\u001b[0m \u001b[0;34m\u001b[0m\u001b[0m\n",
            "\u001b[0;32m/usr/local/lib/python3.6/dist-packages/pandas/core/generic.py\u001b[0m in \u001b[0;36mdrop\u001b[0;34m(self, labels, axis, index, columns, level, inplace, errors)\u001b[0m\n\u001b[1;32m   3934\u001b[0m         \u001b[0;32mfor\u001b[0m \u001b[0maxis\u001b[0m\u001b[0;34m,\u001b[0m \u001b[0mlabels\u001b[0m \u001b[0;32min\u001b[0m \u001b[0maxes\u001b[0m\u001b[0;34m.\u001b[0m\u001b[0mitems\u001b[0m\u001b[0;34m(\u001b[0m\u001b[0;34m)\u001b[0m\u001b[0;34m:\u001b[0m\u001b[0;34m\u001b[0m\u001b[0;34m\u001b[0m\u001b[0m\n\u001b[1;32m   3935\u001b[0m             \u001b[0;32mif\u001b[0m \u001b[0mlabels\u001b[0m \u001b[0;32mis\u001b[0m \u001b[0;32mnot\u001b[0m \u001b[0;32mNone\u001b[0m\u001b[0;34m:\u001b[0m\u001b[0;34m\u001b[0m\u001b[0;34m\u001b[0m\u001b[0m\n\u001b[0;32m-> 3936\u001b[0;31m                 \u001b[0mobj\u001b[0m \u001b[0;34m=\u001b[0m \u001b[0mobj\u001b[0m\u001b[0;34m.\u001b[0m\u001b[0m_drop_axis\u001b[0m\u001b[0;34m(\u001b[0m\u001b[0mlabels\u001b[0m\u001b[0;34m,\u001b[0m \u001b[0maxis\u001b[0m\u001b[0;34m,\u001b[0m \u001b[0mlevel\u001b[0m\u001b[0;34m=\u001b[0m\u001b[0mlevel\u001b[0m\u001b[0;34m,\u001b[0m \u001b[0merrors\u001b[0m\u001b[0;34m=\u001b[0m\u001b[0merrors\u001b[0m\u001b[0;34m)\u001b[0m\u001b[0;34m\u001b[0m\u001b[0;34m\u001b[0m\u001b[0m\n\u001b[0m\u001b[1;32m   3937\u001b[0m \u001b[0;34m\u001b[0m\u001b[0m\n\u001b[1;32m   3938\u001b[0m         \u001b[0;32mif\u001b[0m \u001b[0minplace\u001b[0m\u001b[0;34m:\u001b[0m\u001b[0;34m\u001b[0m\u001b[0;34m\u001b[0m\u001b[0m\n",
            "\u001b[0;32m/usr/local/lib/python3.6/dist-packages/pandas/core/generic.py\u001b[0m in \u001b[0;36m_drop_axis\u001b[0;34m(self, labels, axis, level, errors)\u001b[0m\n\u001b[1;32m   3968\u001b[0m                 \u001b[0mnew_axis\u001b[0m \u001b[0;34m=\u001b[0m \u001b[0maxis\u001b[0m\u001b[0;34m.\u001b[0m\u001b[0mdrop\u001b[0m\u001b[0;34m(\u001b[0m\u001b[0mlabels\u001b[0m\u001b[0;34m,\u001b[0m \u001b[0mlevel\u001b[0m\u001b[0;34m=\u001b[0m\u001b[0mlevel\u001b[0m\u001b[0;34m,\u001b[0m \u001b[0merrors\u001b[0m\u001b[0;34m=\u001b[0m\u001b[0merrors\u001b[0m\u001b[0;34m)\u001b[0m\u001b[0;34m\u001b[0m\u001b[0;34m\u001b[0m\u001b[0m\n\u001b[1;32m   3969\u001b[0m             \u001b[0;32melse\u001b[0m\u001b[0;34m:\u001b[0m\u001b[0;34m\u001b[0m\u001b[0;34m\u001b[0m\u001b[0m\n\u001b[0;32m-> 3970\u001b[0;31m                 \u001b[0mnew_axis\u001b[0m \u001b[0;34m=\u001b[0m \u001b[0maxis\u001b[0m\u001b[0;34m.\u001b[0m\u001b[0mdrop\u001b[0m\u001b[0;34m(\u001b[0m\u001b[0mlabels\u001b[0m\u001b[0;34m,\u001b[0m \u001b[0merrors\u001b[0m\u001b[0;34m=\u001b[0m\u001b[0merrors\u001b[0m\u001b[0;34m)\u001b[0m\u001b[0;34m\u001b[0m\u001b[0;34m\u001b[0m\u001b[0m\n\u001b[0m\u001b[1;32m   3971\u001b[0m             \u001b[0mresult\u001b[0m \u001b[0;34m=\u001b[0m \u001b[0mself\u001b[0m\u001b[0;34m.\u001b[0m\u001b[0mreindex\u001b[0m\u001b[0;34m(\u001b[0m\u001b[0;34m**\u001b[0m\u001b[0;34m{\u001b[0m\u001b[0maxis_name\u001b[0m\u001b[0;34m:\u001b[0m \u001b[0mnew_axis\u001b[0m\u001b[0;34m}\u001b[0m\u001b[0;34m)\u001b[0m\u001b[0;34m\u001b[0m\u001b[0;34m\u001b[0m\u001b[0m\n\u001b[1;32m   3972\u001b[0m \u001b[0;34m\u001b[0m\u001b[0m\n",
            "\u001b[0;32m/usr/local/lib/python3.6/dist-packages/pandas/core/indexes/base.py\u001b[0m in \u001b[0;36mdrop\u001b[0;34m(self, labels, errors)\u001b[0m\n\u001b[1;32m   5016\u001b[0m         \u001b[0;32mif\u001b[0m \u001b[0mmask\u001b[0m\u001b[0;34m.\u001b[0m\u001b[0many\u001b[0m\u001b[0;34m(\u001b[0m\u001b[0;34m)\u001b[0m\u001b[0;34m:\u001b[0m\u001b[0;34m\u001b[0m\u001b[0;34m\u001b[0m\u001b[0m\n\u001b[1;32m   5017\u001b[0m             \u001b[0;32mif\u001b[0m \u001b[0merrors\u001b[0m \u001b[0;34m!=\u001b[0m \u001b[0;34m\"ignore\"\u001b[0m\u001b[0;34m:\u001b[0m\u001b[0;34m\u001b[0m\u001b[0;34m\u001b[0m\u001b[0m\n\u001b[0;32m-> 5018\u001b[0;31m                 \u001b[0;32mraise\u001b[0m \u001b[0mKeyError\u001b[0m\u001b[0;34m(\u001b[0m\u001b[0;34mf\"{labels[mask]} not found in axis\"\u001b[0m\u001b[0;34m)\u001b[0m\u001b[0;34m\u001b[0m\u001b[0;34m\u001b[0m\u001b[0m\n\u001b[0m\u001b[1;32m   5019\u001b[0m             \u001b[0mindexer\u001b[0m \u001b[0;34m=\u001b[0m \u001b[0mindexer\u001b[0m\u001b[0;34m[\u001b[0m\u001b[0;34m~\u001b[0m\u001b[0mmask\u001b[0m\u001b[0;34m]\u001b[0m\u001b[0;34m\u001b[0m\u001b[0;34m\u001b[0m\u001b[0m\n\u001b[1;32m   5020\u001b[0m         \u001b[0;32mreturn\u001b[0m \u001b[0mself\u001b[0m\u001b[0;34m.\u001b[0m\u001b[0mdelete\u001b[0m\u001b[0;34m(\u001b[0m\u001b[0mindexer\u001b[0m\u001b[0;34m)\u001b[0m\u001b[0;34m\u001b[0m\u001b[0;34m\u001b[0m\u001b[0m\n",
            "\u001b[0;31mKeyError\u001b[0m: \"['MM_casos'] not found in axis\""
          ]
        }
      ]
    },
    {
      "cell_type": "code",
      "metadata": {
        "id": "XuLO9LgSyQaf",
        "colab_type": "code",
        "colab": {
          "base_uri": "https://localhost:8080/",
          "height": 419
        },
        "outputId": "f83734a6-3218-4d03-df7f-ee47b81d42f9"
      },
      "source": [
        "casos_acumulados['acumulado'] = casos_acumulados['num_casos'].cumsum()\n",
        "casos_acumulados"
      ],
      "execution_count": 31,
      "outputs": [
        {
          "output_type": "execute_result",
          "data": {
            "text/html": [
              "<div>\n",
              "<style scoped>\n",
              "    .dataframe tbody tr th:only-of-type {\n",
              "        vertical-align: middle;\n",
              "    }\n",
              "\n",
              "    .dataframe tbody tr th {\n",
              "        vertical-align: top;\n",
              "    }\n",
              "\n",
              "    .dataframe thead th {\n",
              "        text-align: right;\n",
              "    }\n",
              "</style>\n",
              "<table border=\"1\" class=\"dataframe\">\n",
              "  <thead>\n",
              "    <tr style=\"text-align: right;\">\n",
              "      <th></th>\n",
              "      <th>data_notificacao</th>\n",
              "      <th>num_casos</th>\n",
              "      <th>acumulado</th>\n",
              "    </tr>\n",
              "  </thead>\n",
              "  <tbody>\n",
              "    <tr>\n",
              "      <th>0</th>\n",
              "      <td>2020-03-01</td>\n",
              "      <td>1</td>\n",
              "      <td>1</td>\n",
              "    </tr>\n",
              "    <tr>\n",
              "      <th>1</th>\n",
              "      <td>2020-03-10</td>\n",
              "      <td>1</td>\n",
              "      <td>2</td>\n",
              "    </tr>\n",
              "    <tr>\n",
              "      <th>2</th>\n",
              "      <td>2020-03-11</td>\n",
              "      <td>1</td>\n",
              "      <td>3</td>\n",
              "    </tr>\n",
              "    <tr>\n",
              "      <th>3</th>\n",
              "      <td>2020-03-13</td>\n",
              "      <td>1</td>\n",
              "      <td>4</td>\n",
              "    </tr>\n",
              "    <tr>\n",
              "      <th>4</th>\n",
              "      <td>2020-03-14</td>\n",
              "      <td>1</td>\n",
              "      <td>5</td>\n",
              "    </tr>\n",
              "    <tr>\n",
              "      <th>...</th>\n",
              "      <td>...</td>\n",
              "      <td>...</td>\n",
              "      <td>...</td>\n",
              "    </tr>\n",
              "    <tr>\n",
              "      <th>187</th>\n",
              "      <td>2020-09-15</td>\n",
              "      <td>943</td>\n",
              "      <td>46547</td>\n",
              "    </tr>\n",
              "    <tr>\n",
              "      <th>188</th>\n",
              "      <td>2020-09-16</td>\n",
              "      <td>467</td>\n",
              "      <td>47014</td>\n",
              "    </tr>\n",
              "    <tr>\n",
              "      <th>189</th>\n",
              "      <td>2020-09-17</td>\n",
              "      <td>357</td>\n",
              "      <td>47371</td>\n",
              "    </tr>\n",
              "    <tr>\n",
              "      <th>190</th>\n",
              "      <td>2020-09-18</td>\n",
              "      <td>294</td>\n",
              "      <td>47665</td>\n",
              "    </tr>\n",
              "    <tr>\n",
              "      <th>191</th>\n",
              "      <td>2020-09-19</td>\n",
              "      <td>1</td>\n",
              "      <td>47666</td>\n",
              "    </tr>\n",
              "  </tbody>\n",
              "</table>\n",
              "<p>192 rows × 3 columns</p>\n",
              "</div>"
            ],
            "text/plain": [
              "    data_notificacao  num_casos  acumulado\n",
              "0         2020-03-01          1          1\n",
              "1         2020-03-10          1          2\n",
              "2         2020-03-11          1          3\n",
              "3         2020-03-13          1          4\n",
              "4         2020-03-14          1          5\n",
              "..               ...        ...        ...\n",
              "187       2020-09-15        943      46547\n",
              "188       2020-09-16        467      47014\n",
              "189       2020-09-17        357      47371\n",
              "190       2020-09-18        294      47665\n",
              "191       2020-09-19          1      47666\n",
              "\n",
              "[192 rows x 3 columns]"
            ]
          },
          "metadata": {
            "tags": []
          },
          "execution_count": 31
        }
      ]
    },
    {
      "cell_type": "code",
      "metadata": {
        "colab_type": "code",
        "id": "VvmF6Ij2uux3",
        "colab": {}
      },
      "source": [
        "casos_acumulados.to_csv('casos_acumulados_por_dia_goiania.csv', index=False)\n"
      ],
      "execution_count": 32,
      "outputs": []
    },
    {
      "cell_type": "markdown",
      "metadata": {
        "colab_type": "text",
        "id": "BQMK3wqmuux6"
      },
      "source": [
        "### Média móvel - casos confirmados por dia"
      ]
    },
    {
      "cell_type": "code",
      "metadata": {
        "colab_type": "code",
        "id": "B_L0Bpckuux6",
        "colab": {}
      },
      "source": [
        "# casos_ativos_goiania = pd.read_csv('casos_ativos_goiania.csv', sep=',')"
      ],
      "execution_count": 33,
      "outputs": []
    },
    {
      "cell_type": "code",
      "metadata": {
        "colab_type": "code",
        "id": "e4Mas1YvuuyJ",
        "colab": {
          "base_uri": "https://localhost:8080/",
          "height": 542
        },
        "outputId": "3dab2249-6127-4cab-f7a9-f68aee5d0302"
      },
      "source": [
        "fig = px.bar(casos_acumulados, x='data_notificacao', y='acumulado', labels={'acumulado':'N° de casos confirmados', \n",
        "                                                                         'data_notificacao': 'Data de notificação',})\n",
        "\n",
        "\n",
        "fig.update_traces()"
      ],
      "execution_count": 34,
      "outputs": [
        {
          "output_type": "display_data",
          "data": {
            "text/html": [
              "<html>\n",
              "<head><meta charset=\"utf-8\" /></head>\n",
              "<body>\n",
              "    <div>\n",
              "            <script src=\"https://cdnjs.cloudflare.com/ajax/libs/mathjax/2.7.5/MathJax.js?config=TeX-AMS-MML_SVG\"></script><script type=\"text/javascript\">if (window.MathJax) {MathJax.Hub.Config({SVG: {font: \"STIX-Web\"}});}</script>\n",
              "                <script type=\"text/javascript\">window.PlotlyConfig = {MathJaxConfig: 'local'};</script>\n",
              "        <script src=\"https://cdn.plot.ly/plotly-latest.min.js\"></script>    \n",
              "            <div id=\"ee238b2a-582c-4119-ba19-6762724bbde5\" class=\"plotly-graph-div\" style=\"height:525px; width:100%;\"></div>\n",
              "            <script type=\"text/javascript\">\n",
              "                \n",
              "                    window.PLOTLYENV=window.PLOTLYENV || {};\n",
              "                    \n",
              "                if (document.getElementById(\"ee238b2a-582c-4119-ba19-6762724bbde5\")) {\n",
              "                    Plotly.newPlot(\n",
              "                        'ee238b2a-582c-4119-ba19-6762724bbde5',\n",
              "                        [{\"alignmentgroup\": \"True\", \"hoverlabel\": {\"namelength\": 0}, \"hovertemplate\": \"Data de notifica\\u00e7\\u00e3o=%{x}<br>N\\u00b0 de casos confirmados=%{y}\", \"legendgroup\": \"\", \"marker\": {\"color\": \"#636efa\"}, \"name\": \"\", \"offsetgroup\": \"\", \"orientation\": \"v\", \"showlegend\": false, \"textposition\": \"auto\", \"type\": \"bar\", \"x\": [\"2020-03-01\", \"2020-03-10\", \"2020-03-11\", \"2020-03-13\", \"2020-03-14\", \"2020-03-15\", \"2020-03-16\", \"2020-03-17\", \"2020-03-19\", \"2020-03-20\", \"2020-03-21\", \"2020-03-22\", \"2020-03-23\", \"2020-03-24\", \"2020-03-25\", \"2020-03-26\", \"2020-03-27\", \"2020-03-28\", \"2020-03-30\", \"2020-03-31\", \"2020-04-01\", \"2020-04-02\", \"2020-04-03\", \"2020-04-04\", \"2020-04-05\", \"2020-04-06\", \"2020-04-07\", \"2020-04-08\", \"2020-04-09\", \"2020-04-10\", \"2020-04-11\", \"2020-04-12\", \"2020-04-13\", \"2020-04-14\", \"2020-04-15\", \"2020-04-16\", \"2020-04-17\", \"2020-04-18\", \"2020-04-19\", \"2020-04-20\", \"2020-04-21\", \"2020-04-22\", \"2020-04-23\", \"2020-04-24\", \"2020-04-25\", \"2020-04-26\", \"2020-04-27\", \"2020-04-28\", \"2020-04-29\", \"2020-04-30\", \"2020-05-01\", \"2020-05-02\", \"2020-05-03\", \"2020-05-04\", \"2020-05-05\", \"2020-05-06\", \"2020-05-07\", \"2020-05-08\", \"2020-05-09\", \"2020-05-10\", \"2020-05-11\", \"2020-05-12\", \"2020-05-13\", \"2020-05-14\", \"2020-05-15\", \"2020-05-16\", \"2020-05-17\", \"2020-05-18\", \"2020-05-19\", \"2020-05-20\", \"2020-05-21\", \"2020-05-22\", \"2020-05-23\", \"2020-05-24\", \"2020-05-25\", \"2020-05-26\", \"2020-05-27\", \"2020-05-28\", \"2020-05-29\", \"2020-05-30\", \"2020-05-31\", \"2020-06-01\", \"2020-06-02\", \"2020-06-03\", \"2020-06-04\", \"2020-06-05\", \"2020-06-06\", \"2020-06-07\", \"2020-06-08\", \"2020-06-09\", \"2020-06-10\", \"2020-06-11\", \"2020-06-12\", \"2020-06-13\", \"2020-06-14\", \"2020-06-15\", \"2020-06-16\", \"2020-06-17\", \"2020-06-18\", \"2020-06-19\", \"2020-06-20\", \"2020-06-21\", \"2020-06-22\", \"2020-06-23\", \"2020-06-24\", \"2020-06-25\", \"2020-06-26\", \"2020-06-27\", \"2020-06-28\", \"2020-06-29\", \"2020-06-30\", \"2020-07-01\", \"2020-07-02\", \"2020-07-03\", \"2020-07-04\", \"2020-07-05\", \"2020-07-06\", \"2020-07-07\", \"2020-07-08\", \"2020-07-09\", \"2020-07-10\", \"2020-07-11\", \"2020-07-12\", \"2020-07-13\", \"2020-07-14\", \"2020-07-15\", \"2020-07-16\", \"2020-07-17\", \"2020-07-18\", \"2020-07-19\", \"2020-07-20\", \"2020-07-21\", \"2020-07-22\", \"2020-07-23\", \"2020-07-24\", \"2020-07-25\", \"2020-07-26\", \"2020-07-27\", \"2020-07-28\", \"2020-07-29\", \"2020-07-30\", \"2020-07-31\", \"2020-08-01\", \"2020-08-02\", \"2020-08-03\", \"2020-08-04\", \"2020-08-05\", \"2020-08-06\", \"2020-08-07\", \"2020-08-08\", \"2020-08-09\", \"2020-08-10\", \"2020-08-11\", \"2020-08-12\", \"2020-08-13\", \"2020-08-14\", \"2020-08-15\", \"2020-08-16\", \"2020-08-17\", \"2020-08-18\", \"2020-08-19\", \"2020-08-20\", \"2020-08-21\", \"2020-08-22\", \"2020-08-23\", \"2020-08-24\", \"2020-08-25\", \"2020-08-26\", \"2020-08-27\", \"2020-08-28\", \"2020-08-29\", \"2020-08-30\", \"2020-08-31\", \"2020-09-01\", \"2020-09-02\", \"2020-09-03\", \"2020-09-04\", \"2020-09-05\", \"2020-09-06\", \"2020-09-07\", \"2020-09-08\", \"2020-09-09\", \"2020-09-10\", \"2020-09-11\", \"2020-09-12\", \"2020-09-13\", \"2020-09-14\", \"2020-09-15\", \"2020-09-16\", \"2020-09-17\", \"2020-09-18\", \"2020-09-19\"], \"xaxis\": \"x\", \"y\": [1, 2, 3, 4, 5, 7, 11, 12, 16, 24, 26, 28, 36, 38, 50, 59, 61, 63, 68, 77, 93, 97, 109, 119, 129, 147, 152, 169, 175, 181, 191, 193, 207, 223, 242, 264, 285, 291, 292, 306, 313, 324, 348, 377, 417, 438, 476, 506, 527, 560, 571, 609, 617, 655, 700, 733, 772, 809, 829, 849, 886, 929, 1009, 1071, 1143, 1168, 1216, 1295, 1373, 1436, 1515, 1608, 1668, 1693, 1771, 1825, 1951, 2062, 2200, 2267, 2332, 2481, 2687, 2858, 3065, 3220, 3391, 3505, 3720, 3926, 4123, 4246, 4396, 4471, 4588, 4796, 5006, 5179, 5342, 5515, 5658, 5809, 6005, 6289, 6527, 6754, 6996, 7134, 7240, 7472, 7822, 8142, 8498, 8909, 9157, 9279, 9740, 10207, 10795, 11314, 11716, 11998, 12153, 12625, 13027, 13416, 13796, 14096, 14231, 14300, 14615, 15280, 15794, 16362, 16816, 17027, 17201, 17764, 18283, 18831, 19490, 20147, 20458, 20653, 21530, 22507, 23328, 24038, 24826, 25121, 25267, 26001, 27075, 28270, 29266, 30015, 30209, 30331, 31372, 32107, 32802, 33329, 33891, 34168, 34307, 35147, 35912, 36610, 37346, 38081, 38252, 38382, 39006, 39606, 40296, 40908, 41277, 41538, 41615, 41815, 42326, 42850, 43358, 43882, 44300, 44659, 45604, 46547, 47014, 47371, 47665, 47666], \"yaxis\": \"y\"}],\n",
              "                        {\"barmode\": \"relative\", \"legend\": {\"tracegroupgap\": 0}, \"margin\": {\"t\": 60}, \"template\": {\"data\": {\"bar\": [{\"error_x\": {\"color\": \"#2a3f5f\"}, \"error_y\": {\"color\": \"#2a3f5f\"}, \"marker\": {\"line\": {\"color\": \"#E5ECF6\", \"width\": 0.5}}, \"type\": \"bar\"}], \"barpolar\": [{\"marker\": {\"line\": {\"color\": \"#E5ECF6\", \"width\": 0.5}}, \"type\": \"barpolar\"}], \"carpet\": [{\"aaxis\": {\"endlinecolor\": \"#2a3f5f\", \"gridcolor\": \"white\", \"linecolor\": \"white\", \"minorgridcolor\": \"white\", \"startlinecolor\": \"#2a3f5f\"}, \"baxis\": {\"endlinecolor\": \"#2a3f5f\", \"gridcolor\": \"white\", \"linecolor\": \"white\", \"minorgridcolor\": \"white\", \"startlinecolor\": \"#2a3f5f\"}, \"type\": \"carpet\"}], \"choropleth\": [{\"colorbar\": {\"outlinewidth\": 0, \"ticks\": \"\"}, \"type\": \"choropleth\"}], \"contour\": [{\"colorbar\": {\"outlinewidth\": 0, \"ticks\": \"\"}, \"colorscale\": [[0.0, \"#0d0887\"], [0.1111111111111111, \"#46039f\"], [0.2222222222222222, \"#7201a8\"], [0.3333333333333333, \"#9c179e\"], [0.4444444444444444, \"#bd3786\"], [0.5555555555555556, \"#d8576b\"], [0.6666666666666666, \"#ed7953\"], [0.7777777777777778, \"#fb9f3a\"], [0.8888888888888888, \"#fdca26\"], [1.0, \"#f0f921\"]], \"type\": \"contour\"}], \"contourcarpet\": [{\"colorbar\": {\"outlinewidth\": 0, \"ticks\": \"\"}, \"type\": \"contourcarpet\"}], \"heatmap\": [{\"colorbar\": {\"outlinewidth\": 0, \"ticks\": \"\"}, \"colorscale\": [[0.0, \"#0d0887\"], [0.1111111111111111, \"#46039f\"], [0.2222222222222222, \"#7201a8\"], [0.3333333333333333, \"#9c179e\"], [0.4444444444444444, \"#bd3786\"], [0.5555555555555556, \"#d8576b\"], [0.6666666666666666, \"#ed7953\"], [0.7777777777777778, \"#fb9f3a\"], [0.8888888888888888, \"#fdca26\"], [1.0, \"#f0f921\"]], \"type\": \"heatmap\"}], \"heatmapgl\": [{\"colorbar\": {\"outlinewidth\": 0, \"ticks\": \"\"}, \"colorscale\": [[0.0, \"#0d0887\"], [0.1111111111111111, \"#46039f\"], [0.2222222222222222, \"#7201a8\"], [0.3333333333333333, \"#9c179e\"], [0.4444444444444444, \"#bd3786\"], [0.5555555555555556, \"#d8576b\"], [0.6666666666666666, \"#ed7953\"], [0.7777777777777778, \"#fb9f3a\"], [0.8888888888888888, \"#fdca26\"], [1.0, \"#f0f921\"]], \"type\": \"heatmapgl\"}], \"histogram\": [{\"marker\": {\"colorbar\": {\"outlinewidth\": 0, \"ticks\": \"\"}}, \"type\": \"histogram\"}], \"histogram2d\": [{\"colorbar\": {\"outlinewidth\": 0, \"ticks\": \"\"}, \"colorscale\": [[0.0, \"#0d0887\"], [0.1111111111111111, \"#46039f\"], [0.2222222222222222, \"#7201a8\"], [0.3333333333333333, \"#9c179e\"], [0.4444444444444444, \"#bd3786\"], [0.5555555555555556, \"#d8576b\"], [0.6666666666666666, \"#ed7953\"], [0.7777777777777778, \"#fb9f3a\"], [0.8888888888888888, \"#fdca26\"], [1.0, \"#f0f921\"]], \"type\": \"histogram2d\"}], \"histogram2dcontour\": [{\"colorbar\": {\"outlinewidth\": 0, \"ticks\": \"\"}, \"colorscale\": [[0.0, \"#0d0887\"], [0.1111111111111111, \"#46039f\"], [0.2222222222222222, \"#7201a8\"], [0.3333333333333333, \"#9c179e\"], [0.4444444444444444, \"#bd3786\"], [0.5555555555555556, \"#d8576b\"], [0.6666666666666666, \"#ed7953\"], [0.7777777777777778, \"#fb9f3a\"], [0.8888888888888888, \"#fdca26\"], [1.0, \"#f0f921\"]], \"type\": \"histogram2dcontour\"}], \"mesh3d\": [{\"colorbar\": {\"outlinewidth\": 0, \"ticks\": \"\"}, \"type\": \"mesh3d\"}], \"parcoords\": [{\"line\": {\"colorbar\": {\"outlinewidth\": 0, \"ticks\": \"\"}}, \"type\": \"parcoords\"}], \"pie\": [{\"automargin\": true, \"type\": \"pie\"}], \"scatter\": [{\"marker\": {\"colorbar\": {\"outlinewidth\": 0, \"ticks\": \"\"}}, \"type\": \"scatter\"}], \"scatter3d\": [{\"line\": {\"colorbar\": {\"outlinewidth\": 0, \"ticks\": \"\"}}, \"marker\": {\"colorbar\": {\"outlinewidth\": 0, \"ticks\": \"\"}}, \"type\": \"scatter3d\"}], \"scattercarpet\": [{\"marker\": {\"colorbar\": {\"outlinewidth\": 0, \"ticks\": \"\"}}, \"type\": \"scattercarpet\"}], \"scattergeo\": [{\"marker\": {\"colorbar\": {\"outlinewidth\": 0, \"ticks\": \"\"}}, \"type\": \"scattergeo\"}], \"scattergl\": [{\"marker\": {\"colorbar\": {\"outlinewidth\": 0, \"ticks\": \"\"}}, \"type\": \"scattergl\"}], \"scattermapbox\": [{\"marker\": {\"colorbar\": {\"outlinewidth\": 0, \"ticks\": \"\"}}, \"type\": \"scattermapbox\"}], \"scatterpolar\": [{\"marker\": {\"colorbar\": {\"outlinewidth\": 0, \"ticks\": \"\"}}, \"type\": \"scatterpolar\"}], \"scatterpolargl\": [{\"marker\": {\"colorbar\": {\"outlinewidth\": 0, \"ticks\": \"\"}}, \"type\": \"scatterpolargl\"}], \"scatterternary\": [{\"marker\": {\"colorbar\": {\"outlinewidth\": 0, \"ticks\": \"\"}}, \"type\": \"scatterternary\"}], \"surface\": [{\"colorbar\": {\"outlinewidth\": 0, \"ticks\": \"\"}, \"colorscale\": [[0.0, \"#0d0887\"], [0.1111111111111111, \"#46039f\"], [0.2222222222222222, \"#7201a8\"], [0.3333333333333333, \"#9c179e\"], [0.4444444444444444, \"#bd3786\"], [0.5555555555555556, \"#d8576b\"], [0.6666666666666666, \"#ed7953\"], [0.7777777777777778, \"#fb9f3a\"], [0.8888888888888888, \"#fdca26\"], [1.0, \"#f0f921\"]], \"type\": \"surface\"}], \"table\": [{\"cells\": {\"fill\": {\"color\": \"#EBF0F8\"}, \"line\": {\"color\": \"white\"}}, \"header\": {\"fill\": {\"color\": \"#C8D4E3\"}, \"line\": {\"color\": \"white\"}}, \"type\": \"table\"}]}, \"layout\": {\"annotationdefaults\": {\"arrowcolor\": \"#2a3f5f\", \"arrowhead\": 0, \"arrowwidth\": 1}, \"coloraxis\": {\"colorbar\": {\"outlinewidth\": 0, \"ticks\": \"\"}}, \"colorscale\": {\"diverging\": [[0, \"#8e0152\"], [0.1, \"#c51b7d\"], [0.2, \"#de77ae\"], [0.3, \"#f1b6da\"], [0.4, \"#fde0ef\"], [0.5, \"#f7f7f7\"], [0.6, \"#e6f5d0\"], [0.7, \"#b8e186\"], [0.8, \"#7fbc41\"], [0.9, \"#4d9221\"], [1, \"#276419\"]], \"sequential\": [[0.0, \"#0d0887\"], [0.1111111111111111, \"#46039f\"], [0.2222222222222222, \"#7201a8\"], [0.3333333333333333, \"#9c179e\"], [0.4444444444444444, \"#bd3786\"], [0.5555555555555556, \"#d8576b\"], [0.6666666666666666, \"#ed7953\"], [0.7777777777777778, \"#fb9f3a\"], [0.8888888888888888, \"#fdca26\"], [1.0, \"#f0f921\"]], \"sequentialminus\": [[0.0, \"#0d0887\"], [0.1111111111111111, \"#46039f\"], [0.2222222222222222, \"#7201a8\"], [0.3333333333333333, \"#9c179e\"], [0.4444444444444444, \"#bd3786\"], [0.5555555555555556, \"#d8576b\"], [0.6666666666666666, \"#ed7953\"], [0.7777777777777778, \"#fb9f3a\"], [0.8888888888888888, \"#fdca26\"], [1.0, \"#f0f921\"]]}, \"colorway\": [\"#636efa\", \"#EF553B\", \"#00cc96\", \"#ab63fa\", \"#FFA15A\", \"#19d3f3\", \"#FF6692\", \"#B6E880\", \"#FF97FF\", \"#FECB52\"], \"font\": {\"color\": \"#2a3f5f\"}, \"geo\": {\"bgcolor\": \"white\", \"lakecolor\": \"white\", \"landcolor\": \"#E5ECF6\", \"showlakes\": true, \"showland\": true, \"subunitcolor\": \"white\"}, \"hoverlabel\": {\"align\": \"left\"}, \"hovermode\": \"closest\", \"mapbox\": {\"style\": \"light\"}, \"paper_bgcolor\": \"white\", \"plot_bgcolor\": \"#E5ECF6\", \"polar\": {\"angularaxis\": {\"gridcolor\": \"white\", \"linecolor\": \"white\", \"ticks\": \"\"}, \"bgcolor\": \"#E5ECF6\", \"radialaxis\": {\"gridcolor\": \"white\", \"linecolor\": \"white\", \"ticks\": \"\"}}, \"scene\": {\"xaxis\": {\"backgroundcolor\": \"#E5ECF6\", \"gridcolor\": \"white\", \"gridwidth\": 2, \"linecolor\": \"white\", \"showbackground\": true, \"ticks\": \"\", \"zerolinecolor\": \"white\"}, \"yaxis\": {\"backgroundcolor\": \"#E5ECF6\", \"gridcolor\": \"white\", \"gridwidth\": 2, \"linecolor\": \"white\", \"showbackground\": true, \"ticks\": \"\", \"zerolinecolor\": \"white\"}, \"zaxis\": {\"backgroundcolor\": \"#E5ECF6\", \"gridcolor\": \"white\", \"gridwidth\": 2, \"linecolor\": \"white\", \"showbackground\": true, \"ticks\": \"\", \"zerolinecolor\": \"white\"}}, \"shapedefaults\": {\"line\": {\"color\": \"#2a3f5f\"}}, \"ternary\": {\"aaxis\": {\"gridcolor\": \"white\", \"linecolor\": \"white\", \"ticks\": \"\"}, \"baxis\": {\"gridcolor\": \"white\", \"linecolor\": \"white\", \"ticks\": \"\"}, \"bgcolor\": \"#E5ECF6\", \"caxis\": {\"gridcolor\": \"white\", \"linecolor\": \"white\", \"ticks\": \"\"}}, \"title\": {\"x\": 0.05}, \"xaxis\": {\"automargin\": true, \"gridcolor\": \"white\", \"linecolor\": \"white\", \"ticks\": \"\", \"title\": {\"standoff\": 15}, \"zerolinecolor\": \"white\", \"zerolinewidth\": 2}, \"yaxis\": {\"automargin\": true, \"gridcolor\": \"white\", \"linecolor\": \"white\", \"ticks\": \"\", \"title\": {\"standoff\": 15}, \"zerolinecolor\": \"white\", \"zerolinewidth\": 2}}}, \"xaxis\": {\"anchor\": \"y\", \"domain\": [0.0, 1.0], \"title\": {\"text\": \"Data de notifica\\u00e7\\u00e3o\"}}, \"yaxis\": {\"anchor\": \"x\", \"domain\": [0.0, 1.0], \"title\": {\"text\": \"N\\u00b0 de casos confirmados\"}}},\n",
              "                        {\"responsive\": true}\n",
              "                    ).then(function(){\n",
              "                            \n",
              "var gd = document.getElementById('ee238b2a-582c-4119-ba19-6762724bbde5');\n",
              "var x = new MutationObserver(function (mutations, observer) {{\n",
              "        var display = window.getComputedStyle(gd).display;\n",
              "        if (!display || display === 'none') {{\n",
              "            console.log([gd, 'removed!']);\n",
              "            Plotly.purge(gd);\n",
              "            observer.disconnect();\n",
              "        }}\n",
              "}});\n",
              "\n",
              "// Listen for the removal of the full notebook cells\n",
              "var notebookContainer = gd.closest('#notebook-container');\n",
              "if (notebookContainer) {{\n",
              "    x.observe(notebookContainer, {childList: true});\n",
              "}}\n",
              "\n",
              "// Listen for the clearing of the current output cell\n",
              "var outputEl = gd.closest('.output');\n",
              "if (outputEl) {{\n",
              "    x.observe(outputEl, {childList: true});\n",
              "}}\n",
              "\n",
              "                        })\n",
              "                };\n",
              "                \n",
              "            </script>\n",
              "        </div>\n",
              "</body>\n",
              "</html>"
            ]
          },
          "metadata": {
            "tags": []
          }
        }
      ]
    },
    {
      "cell_type": "code",
      "metadata": {
        "id": "wgvExVepTxov",
        "colab_type": "code",
        "colab": {}
      },
      "source": [
        ""
      ],
      "execution_count": 34,
      "outputs": []
    }
  ]
}